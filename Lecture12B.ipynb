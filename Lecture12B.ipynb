{
 "cells": [
  {
   "cell_type": "markdown",
   "metadata": {
    "id": "XfbhxkCzhLbV"
   },
   "source": [
    "# **Applicatons of RNNs - Natural Language Prediction**\n",
    " * # We now build a  Recurrent Neural Network in Keras  to predict next work in the Arthur Conan Doyle's book \"The Adventures of Sherlock Holmes\"\n",
    "\n",
    " * # First we download data (data can be found [here](https://drive.google.com/file/d/1GeUzNVqiixXHnTl8oNiQ2W3CynX_lsu2/view?usp=sharing))"
   ]
  },
  {
   "cell_type": "code",
   "execution_count": 2,
   "metadata": {
    "executionInfo": {
     "elapsed": 3386,
     "status": "ok",
     "timestamp": 1745668986140,
     "user": {
      "displayName": "LINDA STALIDZANE",
      "userId": "15461164945673796910"
     },
     "user_tz": -120
    },
    "id": "5AfHHoBOWElf"
   },
   "outputs": [],
   "source": [
    "import numpy as np\n",
    "\n",
    "from keras.models import Sequential, load_model\n",
    "from keras.layers import LSTM, Embedding\n",
    "from keras.layers import Dense, Activation\n",
    "import tensorflow as tf\n"
   ]
  },
  {
   "cell_type": "code",
   "execution_count": 3,
   "metadata": {
    "colab": {
     "base_uri": "https://localhost:8080/"
    },
    "executionInfo": {
     "elapsed": 2687,
     "status": "ok",
     "timestamp": 1745668988830,
     "user": {
      "displayName": "LINDA STALIDZANE",
      "userId": "15461164945673796910"
     },
     "user_tz": -120
    },
    "id": "D77HHmEt9zno",
    "outputId": "ea1bf516-dd70-41ed-8c24-fc9799dcbc05"
   },
   "outputs": [
    {
     "name": "stdout",
     "output_type": "stream",
     "text": [
      "Mounted at /content/gdrive\n"
     ]
    }
   ],
   "source": [
    "from google.colab import drive\n",
    "drive.mount('/content/gdrive', force_remount=True)"
   ]
  },
  {
   "cell_type": "code",
   "execution_count": 4,
   "metadata": {
    "colab": {
     "base_uri": "https://localhost:8080/"
    },
    "executionInfo": {
     "elapsed": 6,
     "status": "ok",
     "timestamp": 1745668989897,
     "user": {
      "displayName": "LINDA STALIDZANE",
      "userId": "15461164945673796910"
     },
     "user_tz": -120
    },
    "id": "Sr26JeSS3tgT",
    "outputId": "b05c9bf2-3e18-475b-8143-bdbff1204a80"
   },
   "outputs": [
    {
     "name": "stdout",
     "output_type": "stream",
     "text": [
      "/content/gdrive/MyDrive/Colab Notebooks\n"
     ]
    }
   ],
   "source": [
    "%cd gdrive/MyDrive/Colab Notebooks"
   ]
  },
  {
   "cell_type": "code",
   "execution_count": 5,
   "metadata": {
    "colab": {
     "base_uri": "https://localhost:8080/"
    },
    "executionInfo": {
     "elapsed": 107,
     "status": "ok",
     "timestamp": 1745668991742,
     "user": {
      "displayName": "LINDA STALIDZANE",
      "userId": "15461164945673796910"
     },
     "user_tz": -120
    },
    "id": "e2RukhcR3vxy",
    "outputId": "66fc112c-2561-43b7-c36c-3151c65222e7"
   },
   "outputs": [
    {
     "name": "stdout",
     "output_type": "stream",
     "text": [
      "1661-0.txt                       Lecture1_init.ipynb  Lecture8_25_ini.ipynb\n",
      "Lecture10_lab.ipynb              Lecture2_init.ipynb  NWP_model_10.weights.h5\n",
      "Lecture12_2025.ipynb             Lecture4_ini.ipynb   NWP_model_16.weights.h5\n",
      "Lecture12_2025_rnn_w_init.ipynb  Lecture6_ini.ipynb\n"
     ]
    }
   ],
   "source": [
    "%ls"
   ]
  },
  {
   "cell_type": "markdown",
   "metadata": {
    "id": "4dPnUK5TLeUd"
   },
   "source": [
    "# **Reading the file content**"
   ]
  },
  {
   "cell_type": "code",
   "execution_count": 6,
   "metadata": {
    "colab": {
     "base_uri": "https://localhost:8080/"
    },
    "executionInfo": {
     "elapsed": 32,
     "status": "ok",
     "timestamp": 1745668993782,
     "user": {
      "displayName": "LINDA STALIDZANE",
      "userId": "15461164945673796910"
     },
     "user_tz": -120
    },
    "id": "KmKWkLlJcPOV",
    "outputId": "59278d2a-9adf-40fb-c7ee-4c27a10c10d9"
   },
   "outputs": [
    {
     "name": "stdout",
     "output_type": "stream",
     "text": [
      "corpus length, number of characters: 581888\n",
      "text[:100]:﻿\n",
      "project gutenberg's the adventures of sherlock holmes, by arthur conan doyle\n",
      "\n",
      "this ebook is for th\n",
      "selected length, number of characters: 100000\n"
     ]
    }
   ],
   "source": [
    "path = '1661-0.txt'\n",
    "text = open(path).read().lower()\n",
    "print('corpus length, number of characters:', len(text))\n",
    "print(f\"text[:100]:{text[:100]}\")\n",
    "max_size=100000\n",
    "# cutting text due to memory size limitations\n",
    "text = text[:max_size]\n",
    "print('selected length, number of characters:', len(text))"
   ]
  },
  {
   "cell_type": "markdown",
   "metadata": {
    "id": "Wi1AS2_Ju3h9"
   },
   "source": [
    "# **First we need to split and clean the text**\n",
    "> * # using the function `get_words`\n",
    " * # Replace ‘–‘ with a white space so we can split words better\n",
    " * # Split words based on white space\n",
    " * # Remove all punctuation from words to reduce the vocabulary size (e.g. ‘What?’ becomes ‘What’)\n",
    " * # Remove all words that are not alphabetic to remove standalone punctuation tokens\n",
    " * # Normalize all words to lowercase to reduce the vocabulary size"
   ]
  },
  {
   "cell_type": "code",
   "execution_count": 7,
   "metadata": {
    "colab": {
     "base_uri": "https://localhost:8080/"
    },
    "executionInfo": {
     "elapsed": 9,
     "status": "ok",
     "timestamp": 1745668996012,
     "user": {
      "displayName": "LINDA STALIDZANE",
      "userId": "15461164945673796910"
     },
     "user_tz": -120
    },
    "id": "z-u5D_wUcLKu",
    "outputId": "79cf37e5-b244-4ac5-92c5-3aa39e21aaa6"
   },
   "outputs": [
    {
     "name": "stdout",
     "output_type": "stream",
     "text": [
      "['project', 'gutenbergs', 'the', 'adventures', 'of', 'sherlock', 'holmes', 'by', 'arthur', 'conan', 'doyle', 'this', 'ebook', 'is', 'for', 'the', 'use', 'of', 'anyone', 'anywhere', 'at', 'no', 'cost', 'and', 'with', 'almost', 'no', 'restrictions', 'whatsoever', 'you', 'may', 'copy', 'it', 'give', 'it', 'away', 'or', 'reuse', 'it', 'under', 'the', 'terms', 'of', 'the', 'project', 'gutenberg', 'license', 'included', 'with', 'this', 'ebook', 'or', 'online', 'at', 'wwwgutenbergnet', 'title', 'the', 'adventures', 'of', 'sherlock', 'holmes', 'author', 'arthur', 'conan', 'doyle', 'release', 'date', 'november', 'ebook', 'last', 'updated', 'may', 'language', 'english', 'character', 'set', 'encoding', 'start', 'of', 'this', 'project', 'gutenberg', 'ebook', 'the', 'adventures', 'of', 'sherlock', 'holmes', 'produced', 'by', 'an', 'anonymous', 'project', 'gutenberg', 'volunteer', 'and', 'jose', 'menendez', 'cover', 'the', 'adventures', 'of', 'sherlock', 'holmes', 'by', 'arthur', 'conan', 'doyle', 'contents', 'i', 'a', 'scandal', 'in', 'bohemia', 'ii', 'the', 'redheaded', 'league', 'iii', 'a', 'case', 'of', 'identity', 'iv', 'the', 'boscombe', 'valley', 'mystery', 'v', 'the', 'five', 'orange', 'pips', 'vi', 'the', 'man', 'with', 'the', 'twisted', 'lip', 'vii', 'the', 'adventure', 'of', 'the', 'blue', 'carbuncle', 'viii', 'the', 'adventure', 'of', 'the', 'speckled', 'band', 'ix', 'the', 'adventure', 'of', 'the', 'thumb', 'x', 'the', 'adventure', 'of', 'the', 'noble', 'bachelor', 'xi', 'the', 'adventure', 'of', 'the', 'beryl', 'coronet', 'xii', 'the', 'adventure', 'of', 'the', 'copper', 'beeches', 'i', 'a', 'scandal', 'in', 'bohemia', 'i', 'to', 'sherlock', 'holmes', 'she', 'is', 'always', 'the', 'woman', 'i', 'have', 'seldom', 'heard', 'him']\n",
      "Total words: 17104\n",
      "Unique words: 3021\n"
     ]
    }
   ],
   "source": [
    "import string\n",
    "def get_words(text):\n",
    "  text = text.replace('--', ' ')\n",
    "  # split into tokens by white space\n",
    "  words = text.split()\n",
    "  # remove punctuation from each token\n",
    "  table = str.maketrans('', '', string.punctuation)\n",
    "  words = [w.translate(table) for w in words]\n",
    "  # remove remaining tokens that are not alphabetic\n",
    "  words = [word for word in words if word.isalpha()]\n",
    "  # make lower case\n",
    "  words = [word.lower() for word in words]\n",
    "  return words\n",
    "\n",
    "words = get_words(text)\n",
    "tot_uniq_words =  len(set(words))\n",
    "print(words[:200])\n",
    "print(f\"Total words: {len(words)}\")\n",
    "print(f\"Unique words: {tot_uniq_words}\")"
   ]
  },
  {
   "cell_type": "markdown",
   "metadata": {
    "id": "zzgsUXAOpMwD"
   },
   "source": [
    "# **Once extracted the unique words, we also make a dictionary for them**\n",
    " * # each unique string is associated with a unique integer, starting from ```0``` to ```len(unique_words) - 1```\n",
    "\n",
    "\n"
   ]
  },
  {
   "cell_type": "code",
   "execution_count": 8,
   "metadata": {
    "colab": {
     "base_uri": "https://localhost:8080/"
    },
    "executionInfo": {
     "elapsed": 13,
     "status": "ok",
     "timestamp": 1745668997501,
     "user": {
      "displayName": "LINDA STALIDZANE",
      "userId": "15461164945673796910"
     },
     "user_tz": -120
    },
    "id": "F-3qNmN4pg95",
    "outputId": "fccfcf6a-4983-40c2-d64e-fcb44c3940d0"
   },
   "outputs": [
    {
     "name": "stdout",
     "output_type": "stream",
     "text": [
      "3021\n",
      "Unique words:['a', 'abandoned', 'abbots', 'abhorrent', 'able', 'about', 'above', 'abruptly', 'absence', 'absolute', 'absolutely', 'absorb', 'abutted', 'accent', 'accomplice', 'accomplished', 'account', 'accountant', 'accustomed', 'acid']\n",
      "[('a', 0), ('abandoned', 1), ('abbots', 2), ('abhorrent', 3), ('able', 4), ('about', 5), ('above', 6), ('abruptly', 7), ('absence', 8), ('absolute', 9), ('absolutely', 10), ('absorb', 11), ('abutted', 12), ('accent', 13), ('accomplice', 14), ('accomplished', 15), ('account', 16), ('accountant', 17), ('accustomed', 18), ('acid', 19)]\n"
     ]
    }
   ],
   "source": [
    "unique_words = [str(w) for w in np.unique(words)]\n",
    "unique_word_index = dict((c, i) for i, c in enumerate(unique_words))\n",
    "print(len(unique_words))\n",
    "print(f\"Unique words:{unique_words[:20]}\")\n",
    "print(list(unique_word_index.items())[:20])"
   ]
  },
  {
   "cell_type": "markdown",
   "metadata": {
    "id": "KyncOE3nC1iB"
   },
   "source": [
    "# **Then we need to create sequences of training data**\n",
    " * # we take ```NPREV_WORDS``` words and **predict the next one**\n"
   ]
  },
  {
   "cell_type": "code",
   "execution_count": 9,
   "metadata": {
    "colab": {
     "base_uri": "https://localhost:8080/"
    },
    "executionInfo": {
     "elapsed": 9,
     "status": "ok",
     "timestamp": 1745669002204,
     "user": {
      "displayName": "LINDA STALIDZANE",
      "userId": "15461164945673796910"
     },
     "user_tz": -120
    },
    "id": "5QZ0RHcawdRl",
    "outputId": "9c8825f7-730c-4d2c-f3f6-420ac2a6f878"
   },
   "outputs": [
    {
     "name": "stdout",
     "output_type": "stream",
     "text": [
      "[['project', 'gutenbergs', 'the', 'adventures', 'of'], ['gutenbergs', 'the', 'adventures', 'of', 'sherlock'], ['the', 'adventures', 'of', 'sherlock', 'holmes']]\n",
      "['sherlock', 'holmes', 'by']\n"
     ]
    }
   ],
   "source": [
    "NPREV_WORDS = 5\n",
    "prev_words = []\n",
    "next_word = []\n",
    "for i in range(len(words) - NPREV_WORDS):\n",
    "    seq = words[i:i + NPREV_WORDS]\n",
    "    if len(seq)!= NPREV_WORDS:\n",
    "      print(len(seq))\n",
    "    else:\n",
    "      prev_words.append(seq)\n",
    "      # the label\n",
    "      next_word.append(words[i + NPREV_WORDS])\n",
    "print(prev_words[0:3])\n",
    "print(next_word[0:3])"
   ]
  },
  {
   "cell_type": "markdown",
   "metadata": {
    "id": "Lbx5-Oc4FDAt"
   },
   "source": [
    " # **Words must be represented as numerical format (integers or vectors)**\n",
    "  * # We create now numpy array containing the sequences and their targets\n",
    "* # we use **one-hot encoding**\n",
    "  * # the position where to put a 1 is given by the integer encoding defined in the dictionary above\n",
    "* # Note that other more efficient word embebddings can be defined, here we do not focus on the performance   \n",
    "  * # even **labels are one-hot encoded**"
   ]
  },
  {
   "cell_type": "code",
   "execution_count": 10,
   "metadata": {
    "executionInfo": {
     "elapsed": 156,
     "status": "ok",
     "timestamp": 1745669005142,
     "user": {
      "displayName": "LINDA STALIDZANE",
      "userId": "15461164945673796910"
     },
     "user_tz": -120
    },
    "id": "CRuMg9Kwr_2y"
   },
   "outputs": [],
   "source": [
    "X = np.zeros((len(prev_words), NPREV_WORDS, tot_uniq_words), dtype=bool)\n",
    "Y = np.zeros((len(next_word), tot_uniq_words), dtype=bool)\n",
    "for i, each_words in enumerate(prev_words):\n",
    "    for j, each_word in enumerate(each_words):\n",
    "        X[i, j, unique_word_index[each_word]] = 1 # position for the one-hot\n",
    "    Y[i, unique_word_index[next_word[i]]] = 1"
   ]
  },
  {
   "cell_type": "code",
   "execution_count": 11,
   "metadata": {
    "colab": {
     "base_uri": "https://localhost:8080/"
    },
    "executionInfo": {
     "elapsed": 7,
     "status": "ok",
     "timestamp": 1745669006457,
     "user": {
      "displayName": "LINDA STALIDZANE",
      "userId": "15461164945673796910"
     },
     "user_tz": -120
    },
    "id": "CooG9nB4xSFI",
    "outputId": "4dbaf590-a758-4a2e-81d9-9c4c122b4f21"
   },
   "outputs": [
    {
     "name": "stdout",
     "output_type": "stream",
     "text": [
      "X[0][0]:[False False False ... False False False]\n",
      "Y[0][0]:[False False False ... False False False]\n",
      "(17099, 5, 3021)\n"
     ]
    }
   ],
   "source": [
    "print(f\"X[0][0]:{X[0][0]}\")\n",
    "print(f\"Y[0][0]:{Y[0]}\")\n",
    "print(X.shape)"
   ]
  },
  {
   "cell_type": "markdown",
   "metadata": {
    "id": "rnepJrhS1HHf"
   },
   "source": [
    "# **Creating the model**\n",
    " * # In Keras to create a LSTM cell the class  ```LSTM``` is to be invoked. [docs](https://keras.io/api/layers/recurrent_layers/lstm/)\n",
    " ![LSTM.png](data:image/png;base64,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)\n"
   ]
  },
  {
   "cell_type": "markdown",
   "metadata": {
    "id": "SIXjfgpunkLF"
   },
   "source": [
    "# **ARGUMENTS**\n",
    "* ## All arguments contaning the substring *recurrent* refer to the hidden state ***h***\n",
    " * ## **units** is the dimension of the hidden state. So, any weight matrix in the cell ***W*** will have dimension $units\\times d$, where *d* is the size of the input dimension\n",
    " * ## **return_sequences**: Boolean. Whether to return only the last output in the output sequence, or the full sequence.\n",
    " * ## **return_state**: Boolean. Whether to return the last hidden state in addition to the output\n",
    " * ## Since our problem became a **multi-class classification**, we use **cross entropy as loss**, and **softmax activation** as output with a number of units equal to the number of distinct words"
   ]
  },
  {
   "cell_type": "code",
   "execution_count": 12,
   "metadata": {
    "colab": {
     "base_uri": "https://localhost:8080/",
     "height": 281
    },
    "executionInfo": {
     "elapsed": 984,
     "status": "ok",
     "timestamp": 1745669013843,
     "user": {
      "displayName": "LINDA STALIDZANE",
      "userId": "15461164945673796910"
     },
     "user_tz": -120
    },
    "id": "jqwMg8jl0EBP",
    "outputId": "fd334564-39f2-4325-f5d1-34a4b428bd26"
   },
   "outputs": [
    {
     "name": "stderr",
     "output_type": "stream",
     "text": [
      "/usr/local/lib/python3.11/dist-packages/keras/src/layers/rnn/rnn.py:200: UserWarning: Do not pass an `input_shape`/`input_dim` argument to a layer. When using Sequential models, prefer using an `Input(shape)` object as the first layer in the model instead.\n",
      "  super().__init__(**kwargs)\n"
     ]
    },
    {
     "data": {
      "text/html": [
       "<pre style=\"white-space:pre;overflow-x:auto;line-height:normal;font-family:Menlo,'DejaVu Sans Mono',consolas,'Courier New',monospace\"><span style=\"font-weight: bold\">Model: \"sequential\"</span>\n",
       "</pre>\n"
      ],
      "text/plain": [
       "\u001b[1mModel: \"sequential\"\u001b[0m\n"
      ]
     },
     "metadata": {},
     "output_type": "display_data"
    },
    {
     "data": {
      "text/html": [
       "<pre style=\"white-space:pre;overflow-x:auto;line-height:normal;font-family:Menlo,'DejaVu Sans Mono',consolas,'Courier New',monospace\">┏━━━━━━━━━━━━━━━━━━━━━━━━━━━━━━━━━┳━━━━━━━━━━━━━━━━━━━━━━━━┳━━━━━━━━━━━━━━━┓\n",
       "┃<span style=\"font-weight: bold\"> Layer (type)                    </span>┃<span style=\"font-weight: bold\"> Output Shape           </span>┃<span style=\"font-weight: bold\">       Param # </span>┃\n",
       "┡━━━━━━━━━━━━━━━━━━━━━━━━━━━━━━━━━╇━━━━━━━━━━━━━━━━━━━━━━━━╇━━━━━━━━━━━━━━━┩\n",
       "│ lstm (<span style=\"color: #0087ff; text-decoration-color: #0087ff\">LSTM</span>)                     │ (<span style=\"color: #00d7ff; text-decoration-color: #00d7ff\">None</span>, <span style=\"color: #00af00; text-decoration-color: #00af00\">16</span>)             │       <span style=\"color: #00af00; text-decoration-color: #00af00\">194,432</span> │\n",
       "├─────────────────────────────────┼────────────────────────┼───────────────┤\n",
       "│ dense (<span style=\"color: #0087ff; text-decoration-color: #0087ff\">Dense</span>)                   │ (<span style=\"color: #00d7ff; text-decoration-color: #00d7ff\">None</span>, <span style=\"color: #00af00; text-decoration-color: #00af00\">3021</span>)           │        <span style=\"color: #00af00; text-decoration-color: #00af00\">51,357</span> │\n",
       "└─────────────────────────────────┴────────────────────────┴───────────────┘\n",
       "</pre>\n"
      ],
      "text/plain": [
       "┏━━━━━━━━━━━━━━━━━━━━━━━━━━━━━━━━━┳━━━━━━━━━━━━━━━━━━━━━━━━┳━━━━━━━━━━━━━━━┓\n",
       "┃\u001b[1m \u001b[0m\u001b[1mLayer (type)                   \u001b[0m\u001b[1m \u001b[0m┃\u001b[1m \u001b[0m\u001b[1mOutput Shape          \u001b[0m\u001b[1m \u001b[0m┃\u001b[1m \u001b[0m\u001b[1m      Param #\u001b[0m\u001b[1m \u001b[0m┃\n",
       "┡━━━━━━━━━━━━━━━━━━━━━━━━━━━━━━━━━╇━━━━━━━━━━━━━━━━━━━━━━━━╇━━━━━━━━━━━━━━━┩\n",
       "│ lstm (\u001b[38;5;33mLSTM\u001b[0m)                     │ (\u001b[38;5;45mNone\u001b[0m, \u001b[38;5;34m16\u001b[0m)             │       \u001b[38;5;34m194,432\u001b[0m │\n",
       "├─────────────────────────────────┼────────────────────────┼───────────────┤\n",
       "│ dense (\u001b[38;5;33mDense\u001b[0m)                   │ (\u001b[38;5;45mNone\u001b[0m, \u001b[38;5;34m3021\u001b[0m)           │        \u001b[38;5;34m51,357\u001b[0m │\n",
       "└─────────────────────────────────┴────────────────────────┴───────────────┘\n"
      ]
     },
     "metadata": {},
     "output_type": "display_data"
    },
    {
     "data": {
      "text/html": [
       "<pre style=\"white-space:pre;overflow-x:auto;line-height:normal;font-family:Menlo,'DejaVu Sans Mono',consolas,'Courier New',monospace\"><span style=\"font-weight: bold\"> Total params: </span><span style=\"color: #00af00; text-decoration-color: #00af00\">245,789</span> (960.11 KB)\n",
       "</pre>\n"
      ],
      "text/plain": [
       "\u001b[1m Total params: \u001b[0m\u001b[38;5;34m245,789\u001b[0m (960.11 KB)\n"
      ]
     },
     "metadata": {},
     "output_type": "display_data"
    },
    {
     "data": {
      "text/html": [
       "<pre style=\"white-space:pre;overflow-x:auto;line-height:normal;font-family:Menlo,'DejaVu Sans Mono',consolas,'Courier New',monospace\"><span style=\"font-weight: bold\"> Trainable params: </span><span style=\"color: #00af00; text-decoration-color: #00af00\">245,789</span> (960.11 KB)\n",
       "</pre>\n"
      ],
      "text/plain": [
       "\u001b[1m Trainable params: \u001b[0m\u001b[38;5;34m245,789\u001b[0m (960.11 KB)\n"
      ]
     },
     "metadata": {},
     "output_type": "display_data"
    },
    {
     "data": {
      "text/html": [
       "<pre style=\"white-space:pre;overflow-x:auto;line-height:normal;font-family:Menlo,'DejaVu Sans Mono',consolas,'Courier New',monospace\"><span style=\"font-weight: bold\"> Non-trainable params: </span><span style=\"color: #00af00; text-decoration-color: #00af00\">0</span> (0.00 B)\n",
       "</pre>\n"
      ],
      "text/plain": [
       "\u001b[1m Non-trainable params: \u001b[0m\u001b[38;5;34m0\u001b[0m (0.00 B)\n"
      ]
     },
     "metadata": {},
     "output_type": "display_data"
    },
    {
     "name": "stdout",
     "output_type": "stream",
     "text": [
      "None\n",
      "file exists, loading\n"
     ]
    }
   ],
   "source": [
    "# remind, the NPREV_WORDS we used now represent the\n",
    "#   number of time steps considered in the LSTM recurrence\n",
    "#   so automatically by the LSTM implementation,\n",
    "#   the NPREV_WORDS words are fed to the cell one by one\n",
    "model = Sequential()\n",
    "model.add(LSTM(units=16, input_shape=(NPREV_WORDS, tot_uniq_words)))\n",
    "# dense layer stacked atop to classify with softmax\n",
    "model.add(Dense(tot_uniq_words, activation='softmax'))\n",
    "print(model.summary())\n",
    "# model_file = 'NWP_model_10.weights.h5'\n",
    "model_file = 'NWP_model_16.weights.h5'\n",
    "import os\n",
    "if os.path.isfile(model_file):\n",
    "  model.load_weights(model_file)\n",
    "  print(\"file exists, loading\")\n",
    "model.compile(optimizer=tf.keras.optimizers.Adam(learning_rate=5*10**-4),\n",
    "                loss='categorical_crossentropy',\n",
    "                metrics=['accuracy'])"
   ]
  },
  {
   "cell_type": "code",
   "execution_count": 29,
   "metadata": {
    "colab": {
     "base_uri": "https://localhost:8080/",
     "height": 1000
    },
    "executionInfo": {
     "elapsed": 1560709,
     "status": "error",
     "timestamp": 1745667700456,
     "user": {
      "displayName": "LINDA STALIDZANE",
      "userId": "15461164945673796910"
     },
     "user_tz": -120
    },
    "id": "VaUJjNlbmlK5",
    "outputId": "7b1e8a01-cd20-4c1b-b33c-55c19e94ce7b"
   },
   "outputs": [
    {
     "name": "stdout",
     "output_type": "stream",
     "text": [
      "Epoch 1/750\n",
      "\u001b[1m268/268\u001b[0m \u001b[32m━━━━━━━━━━━━━━━━━━━━\u001b[0m\u001b[37m\u001b[0m \u001b[1m3s\u001b[0m 7ms/step - accuracy: 0.0388 - loss: 7.8076\n",
      "Epoch 2/750\n",
      "\u001b[1m268/268\u001b[0m \u001b[32m━━━━━━━━━━━━━━━━━━━━\u001b[0m\u001b[37m\u001b[0m \u001b[1m2s\u001b[0m 5ms/step - accuracy: 0.0551 - loss: 6.2466\n",
      "Epoch 3/750\n",
      "\u001b[1m268/268\u001b[0m \u001b[32m━━━━━━━━━━━━━━━━━━━━\u001b[0m\u001b[37m\u001b[0m \u001b[1m3s\u001b[0m 6ms/step - accuracy: 0.0566 - loss: 6.1770\n",
      "Epoch 4/750\n",
      "\u001b[1m268/268\u001b[0m \u001b[32m━━━━━━━━━━━━━━━━━━━━\u001b[0m\u001b[37m\u001b[0m \u001b[1m2s\u001b[0m 6ms/step - accuracy: 0.0554 - loss: 6.1874\n",
      "Epoch 5/750\n",
      "\u001b[1m268/268\u001b[0m \u001b[32m━━━━━━━━━━━━━━━━━━━━\u001b[0m\u001b[37m\u001b[0m \u001b[1m1s\u001b[0m 5ms/step - accuracy: 0.0555 - loss: 6.1665\n",
      "Epoch 6/750\n",
      "\u001b[1m268/268\u001b[0m \u001b[32m━━━━━━━━━━━━━━━━━━━━\u001b[0m\u001b[37m\u001b[0m \u001b[1m3s\u001b[0m 7ms/step - accuracy: 0.0536 - loss: 6.1468\n",
      "Epoch 7/750\n",
      "\u001b[1m268/268\u001b[0m \u001b[32m━━━━━━━━━━━━━━━━━━━━\u001b[0m\u001b[37m\u001b[0m \u001b[1m3s\u001b[0m 7ms/step - accuracy: 0.0558 - loss: 6.1487\n",
      "Epoch 8/750\n",
      "\u001b[1m268/268\u001b[0m \u001b[32m━━━━━━━━━━━━━━━━━━━━\u001b[0m\u001b[37m\u001b[0m \u001b[1m2s\u001b[0m 5ms/step - accuracy: 0.0554 - loss: 6.1534\n",
      "Epoch 9/750\n",
      "\u001b[1m268/268\u001b[0m \u001b[32m━━━━━━━━━━━━━━━━━━━━\u001b[0m\u001b[37m\u001b[0m \u001b[1m1s\u001b[0m 5ms/step - accuracy: 0.0549 - loss: 6.1486\n",
      "Epoch 10/750\n",
      "\u001b[1m268/268\u001b[0m \u001b[32m━━━━━━━━━━━━━━━━━━━━\u001b[0m\u001b[37m\u001b[0m \u001b[1m1s\u001b[0m 5ms/step - accuracy: 0.0554 - loss: 6.0733\n",
      "Epoch 11/750\n",
      "\u001b[1m268/268\u001b[0m \u001b[32m━━━━━━━━━━━━━━━━━━━━\u001b[0m\u001b[37m\u001b[0m \u001b[1m3s\u001b[0m 5ms/step - accuracy: 0.0539 - loss: 6.0725\n",
      "Epoch 12/750\n",
      "\u001b[1m268/268\u001b[0m \u001b[32m━━━━━━━━━━━━━━━━━━━━\u001b[0m\u001b[37m\u001b[0m \u001b[1m3s\u001b[0m 7ms/step - accuracy: 0.0556 - loss: 6.0380\n",
      "Epoch 13/750\n",
      "\u001b[1m268/268\u001b[0m \u001b[32m━━━━━━━━━━━━━━━━━━━━\u001b[0m\u001b[37m\u001b[0m \u001b[1m2s\u001b[0m 7ms/step - accuracy: 0.0552 - loss: 6.0366\n",
      "Epoch 14/750\n",
      "\u001b[1m268/268\u001b[0m \u001b[32m━━━━━━━━━━━━━━━━━━━━\u001b[0m\u001b[37m\u001b[0m \u001b[1m1s\u001b[0m 5ms/step - accuracy: 0.0540 - loss: 6.0572\n",
      "Epoch 15/750\n",
      "\u001b[1m268/268\u001b[0m \u001b[32m━━━━━━━━━━━━━━━━━━━━\u001b[0m\u001b[37m\u001b[0m \u001b[1m1s\u001b[0m 5ms/step - accuracy: 0.0528 - loss: 6.0133\n",
      "Epoch 16/750\n",
      "\u001b[1m268/268\u001b[0m \u001b[32m━━━━━━━━━━━━━━━━━━━━\u001b[0m\u001b[37m\u001b[0m \u001b[1m1s\u001b[0m 5ms/step - accuracy: 0.0541 - loss: 5.9881\n",
      "Epoch 17/750\n",
      "\u001b[1m268/268\u001b[0m \u001b[32m━━━━━━━━━━━━━━━━━━━━\u001b[0m\u001b[37m\u001b[0m \u001b[1m1s\u001b[0m 5ms/step - accuracy: 0.0582 - loss: 5.9774\n",
      "Epoch 18/750\n",
      "\u001b[1m268/268\u001b[0m \u001b[32m━━━━━━━━━━━━━━━━━━━━\u001b[0m\u001b[37m\u001b[0m \u001b[1m3s\u001b[0m 5ms/step - accuracy: 0.0533 - loss: 6.0288\n",
      "Epoch 19/750\n",
      "\u001b[1m268/268\u001b[0m \u001b[32m━━━━━━━━━━━━━━━━━━━━\u001b[0m\u001b[37m\u001b[0m \u001b[1m1s\u001b[0m 5ms/step - accuracy: 0.0566 - loss: 5.9826\n",
      "Epoch 20/750\n",
      "\u001b[1m268/268\u001b[0m \u001b[32m━━━━━━━━━━━━━━━━━━━━\u001b[0m\u001b[37m\u001b[0m \u001b[1m3s\u001b[0m 7ms/step - accuracy: 0.0566 - loss: 5.9754\n",
      "Epoch 21/750\n",
      "\u001b[1m268/268\u001b[0m \u001b[32m━━━━━━━━━━━━━━━━━━━━\u001b[0m\u001b[37m\u001b[0m \u001b[1m2s\u001b[0m 6ms/step - accuracy: 0.0534 - loss: 5.9666\n",
      "Epoch 22/750\n",
      "\u001b[1m268/268\u001b[0m \u001b[32m━━━━━━━━━━━━━━━━━━━━\u001b[0m\u001b[37m\u001b[0m \u001b[1m2s\u001b[0m 5ms/step - accuracy: 0.0533 - loss: 5.9386\n",
      "Epoch 23/750\n",
      "\u001b[1m268/268\u001b[0m \u001b[32m━━━━━━━━━━━━━━━━━━━━\u001b[0m\u001b[37m\u001b[0m \u001b[1m3s\u001b[0m 5ms/step - accuracy: 0.0575 - loss: 5.9512\n",
      "Epoch 24/750\n",
      "\u001b[1m268/268\u001b[0m \u001b[32m━━━━━━━━━━━━━━━━━━━━\u001b[0m\u001b[37m\u001b[0m \u001b[1m1s\u001b[0m 5ms/step - accuracy: 0.0551 - loss: 5.9326\n",
      "Epoch 25/750\n",
      "\u001b[1m268/268\u001b[0m \u001b[32m━━━━━━━━━━━━━━━━━━━━\u001b[0m\u001b[37m\u001b[0m \u001b[1m1s\u001b[0m 5ms/step - accuracy: 0.0559 - loss: 5.9289\n",
      "Epoch 26/750\n",
      "\u001b[1m268/268\u001b[0m \u001b[32m━━━━━━━━━━━━━━━━━━━━\u001b[0m\u001b[37m\u001b[0m \u001b[1m1s\u001b[0m 5ms/step - accuracy: 0.0567 - loss: 5.9053\n",
      "Epoch 27/750\n",
      "\u001b[1m268/268\u001b[0m \u001b[32m━━━━━━━━━━━━━━━━━━━━\u001b[0m\u001b[37m\u001b[0m \u001b[1m3s\u001b[0m 7ms/step - accuracy: 0.0530 - loss: 5.9121\n",
      "Epoch 28/750\n",
      "\u001b[1m268/268\u001b[0m \u001b[32m━━━━━━━━━━━━━━━━━━━━\u001b[0m\u001b[37m\u001b[0m \u001b[1m2s\u001b[0m 5ms/step - accuracy: 0.0545 - loss: 5.9074\n",
      "Epoch 29/750\n",
      "\u001b[1m268/268\u001b[0m \u001b[32m━━━━━━━━━━━━━━━━━━━━\u001b[0m\u001b[37m\u001b[0m \u001b[1m1s\u001b[0m 5ms/step - accuracy: 0.0535 - loss: 5.9032\n",
      "Epoch 30/750\n",
      "\u001b[1m268/268\u001b[0m \u001b[32m━━━━━━━━━━━━━━━━━━━━\u001b[0m\u001b[37m\u001b[0m \u001b[1m1s\u001b[0m 5ms/step - accuracy: 0.0554 - loss: 5.8723\n",
      "Epoch 31/750\n",
      "\u001b[1m268/268\u001b[0m \u001b[32m━━━━━━━━━━━━━━━━━━━━\u001b[0m\u001b[37m\u001b[0m \u001b[1m3s\u001b[0m 5ms/step - accuracy: 0.0568 - loss: 5.8647\n",
      "Epoch 32/750\n",
      "\u001b[1m268/268\u001b[0m \u001b[32m━━━━━━━━━━━━━━━━━━━━\u001b[0m\u001b[37m\u001b[0m \u001b[1m3s\u001b[0m 5ms/step - accuracy: 0.0544 - loss: 5.8777\n",
      "Epoch 33/750\n",
      "\u001b[1m268/268\u001b[0m \u001b[32m━━━━━━━━━━━━━━━━━━━━\u001b[0m\u001b[37m\u001b[0m \u001b[1m3s\u001b[0m 6ms/step - accuracy: 0.0548 - loss: 5.8717\n",
      "Epoch 34/750\n",
      "\u001b[1m268/268\u001b[0m \u001b[32m━━━━━━━━━━━━━━━━━━━━\u001b[0m\u001b[37m\u001b[0m \u001b[1m2s\u001b[0m 5ms/step - accuracy: 0.0562 - loss: 5.8620\n",
      "Epoch 35/750\n",
      "\u001b[1m268/268\u001b[0m \u001b[32m━━━━━━━━━━━━━━━━━━━━\u001b[0m\u001b[37m\u001b[0m \u001b[1m3s\u001b[0m 5ms/step - accuracy: 0.0537 - loss: 5.8316\n",
      "Epoch 36/750\n",
      "\u001b[1m268/268\u001b[0m \u001b[32m━━━━━━━━━━━━━━━━━━━━\u001b[0m\u001b[37m\u001b[0m \u001b[1m1s\u001b[0m 5ms/step - accuracy: 0.0586 - loss: 5.8336\n",
      "Epoch 37/750\n",
      "\u001b[1m268/268\u001b[0m \u001b[32m━━━━━━━━━━━━━━━━━━━━\u001b[0m\u001b[37m\u001b[0m \u001b[1m1s\u001b[0m 5ms/step - accuracy: 0.0571 - loss: 5.8237\n",
      "Epoch 38/750\n",
      "\u001b[1m268/268\u001b[0m \u001b[32m━━━━━━━━━━━━━━━━━━━━\u001b[0m\u001b[37m\u001b[0m \u001b[1m1s\u001b[0m 5ms/step - accuracy: 0.0536 - loss: 5.8264\n",
      "Epoch 39/750\n",
      "\u001b[1m268/268\u001b[0m \u001b[32m━━━━━━━━━━━━━━━━━━━━\u001b[0m\u001b[37m\u001b[0m \u001b[1m2s\u001b[0m 6ms/step - accuracy: 0.0579 - loss: 5.7816\n",
      "Epoch 40/750\n",
      "\u001b[1m268/268\u001b[0m \u001b[32m━━━━━━━━━━━━━━━━━━━━\u001b[0m\u001b[37m\u001b[0m \u001b[1m2s\u001b[0m 6ms/step - accuracy: 0.0555 - loss: 5.8011\n",
      "Epoch 41/750\n",
      "\u001b[1m268/268\u001b[0m \u001b[32m━━━━━━━━━━━━━━━━━━━━\u001b[0m\u001b[37m\u001b[0m \u001b[1m1s\u001b[0m 5ms/step - accuracy: 0.0545 - loss: 5.7775\n",
      "Epoch 42/750\n",
      "\u001b[1m268/268\u001b[0m \u001b[32m━━━━━━━━━━━━━━━━━━━━\u001b[0m\u001b[37m\u001b[0m \u001b[1m1s\u001b[0m 5ms/step - accuracy: 0.0539 - loss: 5.7900\n",
      "Epoch 43/750\n",
      "\u001b[1m268/268\u001b[0m \u001b[32m━━━━━━━━━━━━━━━━━━━━\u001b[0m\u001b[37m\u001b[0m \u001b[1m1s\u001b[0m 5ms/step - accuracy: 0.0555 - loss: 5.7554\n",
      "Epoch 44/750\n",
      "\u001b[1m268/268\u001b[0m \u001b[32m━━━━━━━━━━━━━━━━━━━━\u001b[0m\u001b[37m\u001b[0m \u001b[1m3s\u001b[0m 5ms/step - accuracy: 0.0545 - loss: 5.7416\n",
      "Epoch 45/750\n",
      "\u001b[1m268/268\u001b[0m \u001b[32m━━━━━━━━━━━━━━━━━━━━\u001b[0m\u001b[37m\u001b[0m \u001b[1m3s\u001b[0m 5ms/step - accuracy: 0.0565 - loss: 5.7416\n",
      "Epoch 46/750\n",
      "\u001b[1m268/268\u001b[0m \u001b[32m━━━━━━━━━━━━━━━━━━━━\u001b[0m\u001b[37m\u001b[0m \u001b[1m3s\u001b[0m 7ms/step - accuracy: 0.0561 - loss: 5.7525\n",
      "Epoch 47/750\n",
      "\u001b[1m268/268\u001b[0m \u001b[32m━━━━━━━━━━━━━━━━━━━━\u001b[0m\u001b[37m\u001b[0m \u001b[1m1s\u001b[0m 5ms/step - accuracy: 0.0579 - loss: 5.7127\n",
      "Epoch 48/750\n",
      "\u001b[1m268/268\u001b[0m \u001b[32m━━━━━━━━━━━━━━━━━━━━\u001b[0m\u001b[37m\u001b[0m \u001b[1m3s\u001b[0m 6ms/step - accuracy: 0.0620 - loss: 5.7012\n",
      "Epoch 49/750\n",
      "\u001b[1m268/268\u001b[0m \u001b[32m━━━━━━━━━━━━━━━━━━━━\u001b[0m\u001b[37m\u001b[0m \u001b[1m2s\u001b[0m 5ms/step - accuracy: 0.0631 - loss: 5.6821\n",
      "Epoch 50/750\n",
      "\u001b[1m268/268\u001b[0m \u001b[32m━━━━━━━━━━━━━━━━━━━━\u001b[0m\u001b[37m\u001b[0m \u001b[1m1s\u001b[0m 5ms/step - accuracy: 0.0695 - loss: 5.6986\n",
      "Epoch 51/750\n",
      "\u001b[1m268/268\u001b[0m \u001b[32m━━━━━━━━━━━━━━━━━━━━\u001b[0m\u001b[37m\u001b[0m \u001b[1m2s\u001b[0m 9ms/step - accuracy: 0.0664 - loss: 5.6882\n",
      "Epoch 52/750\n",
      "\u001b[1m268/268\u001b[0m \u001b[32m━━━━━━━━━━━━━━━━━━━━\u001b[0m\u001b[37m\u001b[0m \u001b[1m3s\u001b[0m 12ms/step - accuracy: 0.0722 - loss: 5.6339\n",
      "Epoch 53/750\n",
      "\u001b[1m268/268\u001b[0m \u001b[32m━━━━━━━━━━━━━━━━━━━━\u001b[0m\u001b[37m\u001b[0m \u001b[1m3s\u001b[0m 5ms/step - accuracy: 0.0698 - loss: 5.6334\n",
      "Epoch 54/750\n",
      "\u001b[1m268/268\u001b[0m \u001b[32m━━━━━━━━━━━━━━━━━━━━\u001b[0m\u001b[37m\u001b[0m \u001b[1m2s\u001b[0m 5ms/step - accuracy: 0.0712 - loss: 5.6396\n",
      "Epoch 55/750\n",
      "\u001b[1m268/268\u001b[0m \u001b[32m━━━━━━━━━━━━━━━━━━━━\u001b[0m\u001b[37m\u001b[0m \u001b[1m1s\u001b[0m 5ms/step - accuracy: 0.0747 - loss: 5.5788\n",
      "Epoch 56/750\n",
      "\u001b[1m268/268\u001b[0m \u001b[32m━━━━━━━━━━━━━━━━━━━━\u001b[0m\u001b[37m\u001b[0m \u001b[1m2s\u001b[0m 7ms/step - accuracy: 0.0707 - loss: 5.6057\n",
      "Epoch 57/750\n",
      "\u001b[1m268/268\u001b[0m \u001b[32m━━━━━━━━━━━━━━━━━━━━\u001b[0m\u001b[37m\u001b[0m \u001b[1m2s\u001b[0m 6ms/step - accuracy: 0.0755 - loss: 5.5985\n",
      "Epoch 58/750\n",
      "\u001b[1m268/268\u001b[0m \u001b[32m━━━━━━━━━━━━━━━━━━━━\u001b[0m\u001b[37m\u001b[0m \u001b[1m3s\u001b[0m 9ms/step - accuracy: 0.0749 - loss: 5.5529\n",
      "Epoch 59/750\n",
      "\u001b[1m268/268\u001b[0m \u001b[32m━━━━━━━━━━━━━━━━━━━━\u001b[0m\u001b[37m\u001b[0m \u001b[1m1s\u001b[0m 5ms/step - accuracy: 0.0766 - loss: 5.5460\n",
      "Epoch 60/750\n",
      "\u001b[1m268/268\u001b[0m \u001b[32m━━━━━━━━━━━━━━━━━━━━\u001b[0m\u001b[37m\u001b[0m \u001b[1m3s\u001b[0m 8ms/step - accuracy: 0.0767 - loss: 5.5371\n",
      "Epoch 61/750\n",
      "\u001b[1m268/268\u001b[0m \u001b[32m━━━━━━━━━━━━━━━━━━━━\u001b[0m\u001b[37m\u001b[0m \u001b[1m2s\u001b[0m 5ms/step - accuracy: 0.0778 - loss: 5.5037\n",
      "Epoch 62/750\n",
      "\u001b[1m268/268\u001b[0m \u001b[32m━━━━━━━━━━━━━━━━━━━━\u001b[0m\u001b[37m\u001b[0m \u001b[1m1s\u001b[0m 5ms/step - accuracy: 0.0808 - loss: 5.5003\n",
      "Epoch 63/750\n",
      "\u001b[1m268/268\u001b[0m \u001b[32m━━━━━━━━━━━━━━━━━━━━\u001b[0m\u001b[37m\u001b[0m \u001b[1m3s\u001b[0m 7ms/step - accuracy: 0.0822 - loss: 5.4986\n",
      "Epoch 64/750\n",
      "\u001b[1m268/268\u001b[0m \u001b[32m━━━━━━━━━━━━━━━━━━━━\u001b[0m\u001b[37m\u001b[0m \u001b[1m1s\u001b[0m 5ms/step - accuracy: 0.0837 - loss: 5.4412\n",
      "Epoch 65/750\n",
      "\u001b[1m268/268\u001b[0m \u001b[32m━━━━━━━━━━━━━━━━━━━━\u001b[0m\u001b[37m\u001b[0m \u001b[1m3s\u001b[0m 6ms/step - accuracy: 0.0897 - loss: 5.4392\n",
      "Epoch 66/750\n",
      "\u001b[1m268/268\u001b[0m \u001b[32m━━━━━━━━━━━━━━━━━━━━\u001b[0m\u001b[37m\u001b[0m \u001b[1m2s\u001b[0m 5ms/step - accuracy: 0.0909 - loss: 5.4295\n",
      "Epoch 67/750\n",
      "\u001b[1m268/268\u001b[0m \u001b[32m━━━━━━━━━━━━━━━━━━━━\u001b[0m\u001b[37m\u001b[0m \u001b[1m3s\u001b[0m 5ms/step - accuracy: 0.0909 - loss: 5.4264\n",
      "Epoch 68/750\n",
      "\u001b[1m268/268\u001b[0m \u001b[32m━━━━━━━━━━━━━━━━━━━━\u001b[0m\u001b[37m\u001b[0m \u001b[1m3s\u001b[0m 7ms/step - accuracy: 0.0903 - loss: 5.3969\n",
      "Epoch 69/750\n",
      "\u001b[1m268/268\u001b[0m \u001b[32m━━━━━━━━━━━━━━━━━━━━\u001b[0m\u001b[37m\u001b[0m \u001b[1m2s\u001b[0m 6ms/step - accuracy: 0.0908 - loss: 5.3866\n",
      "Epoch 70/750\n",
      "\u001b[1m268/268\u001b[0m \u001b[32m━━━━━━━━━━━━━━━━━━━━\u001b[0m\u001b[37m\u001b[0m \u001b[1m2s\u001b[0m 5ms/step - accuracy: 0.0935 - loss: 5.3501\n",
      "Epoch 71/750\n",
      "\u001b[1m268/268\u001b[0m \u001b[32m━━━━━━━━━━━━━━━━━━━━\u001b[0m\u001b[37m\u001b[0m \u001b[1m2s\u001b[0m 6ms/step - accuracy: 0.0933 - loss: 5.3478\n",
      "Epoch 72/750\n",
      "\u001b[1m268/268\u001b[0m \u001b[32m━━━━━━━━━━━━━━━━━━━━\u001b[0m\u001b[37m\u001b[0m \u001b[1m2s\u001b[0m 6ms/step - accuracy: 0.0972 - loss: 5.3233\n",
      "Epoch 73/750\n",
      "\u001b[1m268/268\u001b[0m \u001b[32m━━━━━━━━━━━━━━━━━━━━\u001b[0m\u001b[37m\u001b[0m \u001b[1m2s\u001b[0m 6ms/step - accuracy: 0.0999 - loss: 5.3222\n",
      "Epoch 74/750\n",
      "\u001b[1m268/268\u001b[0m \u001b[32m━━━━━━━━━━━━━━━━━━━━\u001b[0m\u001b[37m\u001b[0m \u001b[1m3s\u001b[0m 6ms/step - accuracy: 0.0986 - loss: 5.2931\n",
      "Epoch 75/750\n",
      "\u001b[1m268/268\u001b[0m \u001b[32m━━━━━━━━━━━━━━━━━━━━\u001b[0m\u001b[37m\u001b[0m \u001b[1m3s\u001b[0m 7ms/step - accuracy: 0.1013 - loss: 5.2822\n",
      "Epoch 76/750\n",
      "\u001b[1m268/268\u001b[0m \u001b[32m━━━━━━━━━━━━━━━━━━━━\u001b[0m\u001b[37m\u001b[0m \u001b[1m1s\u001b[0m 5ms/step - accuracy: 0.1026 - loss: 5.2794\n",
      "Epoch 77/750\n",
      "\u001b[1m268/268\u001b[0m \u001b[32m━━━━━━━━━━━━━━━━━━━━\u001b[0m\u001b[37m\u001b[0m \u001b[1m3s\u001b[0m 5ms/step - accuracy: 0.1061 - loss: 5.2367\n",
      "Epoch 78/750\n",
      "\u001b[1m268/268\u001b[0m \u001b[32m━━━━━━━━━━━━━━━━━━━━\u001b[0m\u001b[37m\u001b[0m \u001b[1m3s\u001b[0m 5ms/step - accuracy: 0.1037 - loss: 5.2637\n",
      "Epoch 79/750\n",
      "\u001b[1m268/268\u001b[0m \u001b[32m━━━━━━━━━━━━━━━━━━━━\u001b[0m\u001b[37m\u001b[0m \u001b[1m3s\u001b[0m 5ms/step - accuracy: 0.1075 - loss: 5.1975\n",
      "Epoch 80/750\n",
      "\u001b[1m268/268\u001b[0m \u001b[32m━━━━━━━━━━━━━━━━━━━━\u001b[0m\u001b[37m\u001b[0m \u001b[1m2s\u001b[0m 6ms/step - accuracy: 0.1124 - loss: 5.1998\n",
      "Epoch 81/750\n",
      "\u001b[1m268/268\u001b[0m \u001b[32m━━━━━━━━━━━━━━━━━━━━\u001b[0m\u001b[37m\u001b[0m \u001b[1m2s\u001b[0m 6ms/step - accuracy: 0.1084 - loss: 5.1779\n",
      "Epoch 82/750\n",
      "\u001b[1m268/268\u001b[0m \u001b[32m━━━━━━━━━━━━━━━━━━━━\u001b[0m\u001b[37m\u001b[0m \u001b[1m2s\u001b[0m 5ms/step - accuracy: 0.1049 - loss: 5.1779\n",
      "Epoch 83/750\n",
      "\u001b[1m268/268\u001b[0m \u001b[32m━━━━━━━━━━━━━━━━━━━━\u001b[0m\u001b[37m\u001b[0m \u001b[1m1s\u001b[0m 5ms/step - accuracy: 0.1144 - loss: 5.1629\n",
      "Epoch 84/750\n",
      "\u001b[1m268/268\u001b[0m \u001b[32m━━━━━━━━━━━━━━━━━━━━\u001b[0m\u001b[37m\u001b[0m \u001b[1m3s\u001b[0m 5ms/step - accuracy: 0.1125 - loss: 5.1047\n",
      "Epoch 85/750\n",
      "\u001b[1m268/268\u001b[0m \u001b[32m━━━━━━━━━━━━━━━━━━━━\u001b[0m\u001b[37m\u001b[0m \u001b[1m2s\u001b[0m 6ms/step - accuracy: 0.1068 - loss: 5.1402\n",
      "Epoch 86/750\n",
      "\u001b[1m268/268\u001b[0m \u001b[32m━━━━━━━━━━━━━━━━━━━━\u001b[0m\u001b[37m\u001b[0m \u001b[1m2s\u001b[0m 8ms/step - accuracy: 0.1145 - loss: 5.1054\n",
      "Epoch 87/750\n",
      "\u001b[1m268/268\u001b[0m \u001b[32m━━━━━━━━━━━━━━━━━━━━\u001b[0m\u001b[37m\u001b[0m \u001b[1m2s\u001b[0m 7ms/step - accuracy: 0.1162 - loss: 5.0908\n",
      "Epoch 88/750\n",
      "\u001b[1m268/268\u001b[0m \u001b[32m━━━━━━━━━━━━━━━━━━━━\u001b[0m\u001b[37m\u001b[0m \u001b[1m2s\u001b[0m 5ms/step - accuracy: 0.1186 - loss: 5.0515\n",
      "Epoch 89/750\n",
      "\u001b[1m268/268\u001b[0m \u001b[32m━━━━━━━━━━━━━━━━━━━━\u001b[0m\u001b[37m\u001b[0m \u001b[1m2s\u001b[0m 5ms/step - accuracy: 0.1186 - loss: 5.0485\n",
      "Epoch 90/750\n",
      "\u001b[1m268/268\u001b[0m \u001b[32m━━━━━━━━━━━━━━━━━━━━\u001b[0m\u001b[37m\u001b[0m \u001b[1m1s\u001b[0m 5ms/step - accuracy: 0.1181 - loss: 5.0153\n",
      "Epoch 91/750\n",
      "\u001b[1m268/268\u001b[0m \u001b[32m━━━━━━━━━━━━━━━━━━━━\u001b[0m\u001b[37m\u001b[0m \u001b[1m3s\u001b[0m 5ms/step - accuracy: 0.1191 - loss: 5.0328\n",
      "Epoch 92/750\n",
      "\u001b[1m268/268\u001b[0m \u001b[32m━━━━━━━━━━━━━━━━━━━━\u001b[0m\u001b[37m\u001b[0m \u001b[1m1s\u001b[0m 5ms/step - accuracy: 0.1228 - loss: 4.9894\n",
      "Epoch 93/750\n",
      "\u001b[1m268/268\u001b[0m \u001b[32m━━━━━━━━━━━━━━━━━━━━\u001b[0m\u001b[37m\u001b[0m \u001b[1m2s\u001b[0m 6ms/step - accuracy: 0.1276 - loss: 4.9523\n",
      "Epoch 94/750\n",
      "\u001b[1m268/268\u001b[0m \u001b[32m━━━━━━━━━━━━━━━━━━━━\u001b[0m\u001b[37m\u001b[0m \u001b[1m2s\u001b[0m 6ms/step - accuracy: 0.1216 - loss: 4.9899\n",
      "Epoch 95/750\n",
      "\u001b[1m268/268\u001b[0m \u001b[32m━━━━━━━━━━━━━━━━━━━━\u001b[0m\u001b[37m\u001b[0m \u001b[1m2s\u001b[0m 5ms/step - accuracy: 0.1229 - loss: 4.9732\n",
      "Epoch 96/750\n",
      "\u001b[1m268/268\u001b[0m \u001b[32m━━━━━━━━━━━━━━━━━━━━\u001b[0m\u001b[37m\u001b[0m \u001b[1m1s\u001b[0m 5ms/step - accuracy: 0.1234 - loss: 4.9542\n",
      "Epoch 97/750\n",
      "\u001b[1m268/268\u001b[0m \u001b[32m━━━━━━━━━━━━━━━━━━━━\u001b[0m\u001b[37m\u001b[0m \u001b[1m3s\u001b[0m 5ms/step - accuracy: 0.1236 - loss: 4.9571\n",
      "Epoch 98/750\n",
      "\u001b[1m268/268\u001b[0m \u001b[32m━━━━━━━━━━━━━━━━━━━━\u001b[0m\u001b[37m\u001b[0m \u001b[1m2s\u001b[0m 5ms/step - accuracy: 0.1231 - loss: 4.9303\n",
      "Epoch 99/750\n",
      "\u001b[1m268/268\u001b[0m \u001b[32m━━━━━━━━━━━━━━━━━━━━\u001b[0m\u001b[37m\u001b[0m \u001b[1m2s\u001b[0m 6ms/step - accuracy: 0.1350 - loss: 4.8986\n",
      "Epoch 100/750\n",
      "\u001b[1m268/268\u001b[0m \u001b[32m━━━━━━━━━━━━━━━━━━━━\u001b[0m\u001b[37m\u001b[0m \u001b[1m2s\u001b[0m 7ms/step - accuracy: 0.1276 - loss: 4.9094\n",
      "Epoch 101/750\n",
      "\u001b[1m268/268\u001b[0m \u001b[32m━━━━━━━━━━━━━━━━━━━━\u001b[0m\u001b[37m\u001b[0m \u001b[1m1s\u001b[0m 5ms/step - accuracy: 0.1311 - loss: 4.8625\n",
      "Epoch 102/750\n",
      "\u001b[1m268/268\u001b[0m \u001b[32m━━━━━━━━━━━━━━━━━━━━\u001b[0m\u001b[37m\u001b[0m \u001b[1m1s\u001b[0m 5ms/step - accuracy: 0.1332 - loss: 4.8609\n",
      "Epoch 103/750\n",
      "\u001b[1m268/268\u001b[0m \u001b[32m━━━━━━━━━━━━━━━━━━━━\u001b[0m\u001b[37m\u001b[0m \u001b[1m3s\u001b[0m 5ms/step - accuracy: 0.1320 - loss: 4.8378\n",
      "Epoch 104/750\n",
      "\u001b[1m268/268\u001b[0m \u001b[32m━━━━━━━━━━━━━━━━━━━━\u001b[0m\u001b[37m\u001b[0m \u001b[1m1s\u001b[0m 5ms/step - accuracy: 0.1380 - loss: 4.8346\n",
      "Epoch 105/750\n",
      "\u001b[1m268/268\u001b[0m \u001b[32m━━━━━━━━━━━━━━━━━━━━\u001b[0m\u001b[37m\u001b[0m \u001b[1m3s\u001b[0m 5ms/step - accuracy: 0.1390 - loss: 4.7917\n",
      "Epoch 106/750\n",
      "\u001b[1m268/268\u001b[0m \u001b[32m━━━━━━━━━━━━━━━━━━━━\u001b[0m\u001b[37m\u001b[0m \u001b[1m3s\u001b[0m 7ms/step - accuracy: 0.1378 - loss: 4.8108\n",
      "Epoch 107/750\n",
      "\u001b[1m268/268\u001b[0m \u001b[32m━━━━━━━━━━━━━━━━━━━━\u001b[0m\u001b[37m\u001b[0m \u001b[1m2s\u001b[0m 5ms/step - accuracy: 0.1356 - loss: 4.7927\n",
      "Epoch 108/750\n",
      "\u001b[1m268/268\u001b[0m \u001b[32m━━━━━━━━━━━━━━━━━━━━\u001b[0m\u001b[37m\u001b[0m \u001b[1m1s\u001b[0m 5ms/step - accuracy: 0.1389 - loss: 4.7476\n",
      "Epoch 109/750\n",
      "\u001b[1m268/268\u001b[0m \u001b[32m━━━━━━━━━━━━━━━━━━━━\u001b[0m\u001b[37m\u001b[0m \u001b[1m1s\u001b[0m 5ms/step - accuracy: 0.1430 - loss: 4.7290\n",
      "Epoch 110/750\n",
      "\u001b[1m268/268\u001b[0m \u001b[32m━━━━━━━━━━━━━━━━━━━━\u001b[0m\u001b[37m\u001b[0m \u001b[1m3s\u001b[0m 5ms/step - accuracy: 0.1358 - loss: 4.7519\n",
      "Epoch 111/750\n",
      "\u001b[1m268/268\u001b[0m \u001b[32m━━━━━━━━━━━━━━━━━━━━\u001b[0m\u001b[37m\u001b[0m \u001b[1m1s\u001b[0m 5ms/step - accuracy: 0.1393 - loss: 4.7300\n",
      "Epoch 112/750\n",
      "\u001b[1m268/268\u001b[0m \u001b[32m━━━━━━━━━━━━━━━━━━━━\u001b[0m\u001b[37m\u001b[0m \u001b[1m3s\u001b[0m 7ms/step - accuracy: 0.1497 - loss: 4.6892\n",
      "Epoch 113/750\n",
      "\u001b[1m268/268\u001b[0m \u001b[32m━━━━━━━━━━━━━━━━━━━━\u001b[0m\u001b[37m\u001b[0m \u001b[1m2s\u001b[0m 6ms/step - accuracy: 0.1465 - loss: 4.6918\n",
      "Epoch 114/750\n",
      "\u001b[1m268/268\u001b[0m \u001b[32m━━━━━━━━━━━━━━━━━━━━\u001b[0m\u001b[37m\u001b[0m \u001b[1m1s\u001b[0m 5ms/step - accuracy: 0.1493 - loss: 4.6439\n",
      "Epoch 115/750\n",
      "\u001b[1m268/268\u001b[0m \u001b[32m━━━━━━━━━━━━━━━━━━━━\u001b[0m\u001b[37m\u001b[0m \u001b[1m1s\u001b[0m 5ms/step - accuracy: 0.1490 - loss: 4.6580\n",
      "Epoch 116/750\n",
      "\u001b[1m268/268\u001b[0m \u001b[32m━━━━━━━━━━━━━━━━━━━━\u001b[0m\u001b[37m\u001b[0m \u001b[1m3s\u001b[0m 5ms/step - accuracy: 0.1528 - loss: 4.6335\n",
      "Epoch 117/750\n",
      "\u001b[1m268/268\u001b[0m \u001b[32m━━━━━━━━━━━━━━━━━━━━\u001b[0m\u001b[37m\u001b[0m \u001b[1m1s\u001b[0m 5ms/step - accuracy: 0.1538 - loss: 4.5977\n",
      "Epoch 118/750\n",
      "\u001b[1m268/268\u001b[0m \u001b[32m━━━━━━━━━━━━━━━━━━━━\u001b[0m\u001b[37m\u001b[0m \u001b[1m3s\u001b[0m 5ms/step - accuracy: 0.1556 - loss: 4.6234\n",
      "Epoch 119/750\n",
      "\u001b[1m268/268\u001b[0m \u001b[32m━━━━━━━━━━━━━━━━━━━━\u001b[0m\u001b[37m\u001b[0m \u001b[1m2s\u001b[0m 7ms/step - accuracy: 0.1534 - loss: 4.6152\n",
      "Epoch 120/750\n",
      "\u001b[1m268/268\u001b[0m \u001b[32m━━━━━━━━━━━━━━━━━━━━\u001b[0m\u001b[37m\u001b[0m \u001b[1m2s\u001b[0m 5ms/step - accuracy: 0.1567 - loss: 4.5612\n",
      "Epoch 121/750\n",
      "\u001b[1m268/268\u001b[0m \u001b[32m━━━━━━━━━━━━━━━━━━━━\u001b[0m\u001b[37m\u001b[0m \u001b[1m2s\u001b[0m 5ms/step - accuracy: 0.1599 - loss: 4.5692\n",
      "Epoch 122/750\n",
      "\u001b[1m268/268\u001b[0m \u001b[32m━━━━━━━━━━━━━━━━━━━━\u001b[0m\u001b[37m\u001b[0m \u001b[1m3s\u001b[0m 5ms/step - accuracy: 0.1612 - loss: 4.5406\n",
      "Epoch 123/750\n",
      "\u001b[1m268/268\u001b[0m \u001b[32m━━━━━━━━━━━━━━━━━━━━\u001b[0m\u001b[37m\u001b[0m \u001b[1m1s\u001b[0m 5ms/step - accuracy: 0.1622 - loss: 4.5452\n",
      "Epoch 124/750\n",
      "\u001b[1m268/268\u001b[0m \u001b[32m━━━━━━━━━━━━━━━━━━━━\u001b[0m\u001b[37m\u001b[0m \u001b[1m1s\u001b[0m 5ms/step - accuracy: 0.1648 - loss: 4.5152\n",
      "Epoch 125/750\n",
      "\u001b[1m268/268\u001b[0m \u001b[32m━━━━━━━━━━━━━━━━━━━━\u001b[0m\u001b[37m\u001b[0m \u001b[1m3s\u001b[0m 7ms/step - accuracy: 0.1633 - loss: 4.5207\n",
      "Epoch 126/750\n",
      "\u001b[1m268/268\u001b[0m \u001b[32m━━━━━━━━━━━━━━━━━━━━\u001b[0m\u001b[37m\u001b[0m \u001b[1m2s\u001b[0m 5ms/step - accuracy: 0.1646 - loss: 4.5253\n",
      "Epoch 127/750\n",
      "\u001b[1m268/268\u001b[0m \u001b[32m━━━━━━━━━━━━━━━━━━━━\u001b[0m\u001b[37m\u001b[0m \u001b[1m1s\u001b[0m 5ms/step - accuracy: 0.1724 - loss: 4.4646\n",
      "Epoch 128/750\n",
      "\u001b[1m268/268\u001b[0m \u001b[32m━━━━━━━━━━━━━━━━━━━━\u001b[0m\u001b[37m\u001b[0m \u001b[1m3s\u001b[0m 5ms/step - accuracy: 0.1685 - loss: 4.4788\n",
      "Epoch 129/750\n",
      "\u001b[1m268/268\u001b[0m \u001b[32m━━━━━━━━━━━━━━━━━━━━\u001b[0m\u001b[37m\u001b[0m \u001b[1m2s\u001b[0m 5ms/step - accuracy: 0.1711 - loss: 4.4459\n",
      "Epoch 130/750\n",
      "\u001b[1m268/268\u001b[0m \u001b[32m━━━━━━━━━━━━━━━━━━━━\u001b[0m\u001b[37m\u001b[0m \u001b[1m1s\u001b[0m 5ms/step - accuracy: 0.1719 - loss: 4.4091\n",
      "Epoch 131/750\n",
      "\u001b[1m268/268\u001b[0m \u001b[32m━━━━━━━━━━━━━━━━━━━━\u001b[0m\u001b[37m\u001b[0m \u001b[1m2s\u001b[0m 6ms/step - accuracy: 0.1703 - loss: 4.4330\n",
      "Epoch 132/750\n",
      "\u001b[1m268/268\u001b[0m \u001b[32m━━━━━━━━━━━━━━━━━━━━\u001b[0m\u001b[37m\u001b[0m \u001b[1m2s\u001b[0m 6ms/step - accuracy: 0.1692 - loss: 4.4332\n",
      "Epoch 133/750\n",
      "\u001b[1m268/268\u001b[0m \u001b[32m━━━━━━━━━━━━━━━━━━━━\u001b[0m\u001b[37m\u001b[0m \u001b[1m1s\u001b[0m 5ms/step - accuracy: 0.1787 - loss: 4.3978\n",
      "Epoch 134/750\n",
      "\u001b[1m268/268\u001b[0m \u001b[32m━━━━━━━━━━━━━━━━━━━━\u001b[0m\u001b[37m\u001b[0m \u001b[1m3s\u001b[0m 5ms/step - accuracy: 0.1790 - loss: 4.3912\n",
      "Epoch 135/750\n",
      "\u001b[1m268/268\u001b[0m \u001b[32m━━━━━━━━━━━━━━━━━━━━\u001b[0m\u001b[37m\u001b[0m \u001b[1m1s\u001b[0m 5ms/step - accuracy: 0.1840 - loss: 4.3545\n",
      "Epoch 136/750\n",
      "\u001b[1m268/268\u001b[0m \u001b[32m━━━━━━━━━━━━━━━━━━━━\u001b[0m\u001b[37m\u001b[0m \u001b[1m3s\u001b[0m 5ms/step - accuracy: 0.1852 - loss: 4.3400\n",
      "Epoch 137/750\n",
      "\u001b[1m268/268\u001b[0m \u001b[32m━━━━━━━━━━━━━━━━━━━━\u001b[0m\u001b[37m\u001b[0m \u001b[1m3s\u001b[0m 7ms/step - accuracy: 0.1816 - loss: 4.3606\n",
      "Epoch 138/750\n",
      "\u001b[1m268/268\u001b[0m \u001b[32m━━━━━━━━━━━━━━━━━━━━\u001b[0m\u001b[37m\u001b[0m \u001b[1m2s\u001b[0m 7ms/step - accuracy: 0.1810 - loss: 4.3468\n",
      "Epoch 139/750\n",
      "\u001b[1m268/268\u001b[0m \u001b[32m━━━━━━━━━━━━━━━━━━━━\u001b[0m\u001b[37m\u001b[0m \u001b[1m1s\u001b[0m 5ms/step - accuracy: 0.1814 - loss: 4.3550\n",
      "Epoch 140/750\n",
      "\u001b[1m268/268\u001b[0m \u001b[32m━━━━━━━━━━━━━━━━━━━━\u001b[0m\u001b[37m\u001b[0m \u001b[1m1s\u001b[0m 5ms/step - accuracy: 0.1928 - loss: 4.2839\n",
      "Epoch 141/750\n",
      "\u001b[1m268/268\u001b[0m \u001b[32m━━━━━━━━━━━━━━━━━━━━\u001b[0m\u001b[37m\u001b[0m \u001b[1m3s\u001b[0m 5ms/step - accuracy: 0.1924 - loss: 4.2837\n",
      "Epoch 142/750\n",
      "\u001b[1m268/268\u001b[0m \u001b[32m━━━━━━━━━━━━━━━━━━━━\u001b[0m\u001b[37m\u001b[0m \u001b[1m1s\u001b[0m 5ms/step - accuracy: 0.1916 - loss: 4.2809\n",
      "Epoch 143/750\n",
      "\u001b[1m268/268\u001b[0m \u001b[32m━━━━━━━━━━━━━━━━━━━━\u001b[0m\u001b[37m\u001b[0m \u001b[1m3s\u001b[0m 5ms/step - accuracy: 0.1905 - loss: 4.2762\n",
      "Epoch 144/750\n",
      "\u001b[1m268/268\u001b[0m \u001b[32m━━━━━━━━━━━━━━━━━━━━\u001b[0m\u001b[37m\u001b[0m \u001b[1m2s\u001b[0m 6ms/step - accuracy: 0.1959 - loss: 4.2425\n",
      "Epoch 145/750\n",
      "\u001b[1m268/268\u001b[0m \u001b[32m━━━━━━━━━━━━━━━━━━━━\u001b[0m\u001b[37m\u001b[0m \u001b[1m2s\u001b[0m 6ms/step - accuracy: 0.2002 - loss: 4.2268\n",
      "Epoch 146/750\n",
      "\u001b[1m268/268\u001b[0m \u001b[32m━━━━━━━━━━━━━━━━━━━━\u001b[0m\u001b[37m\u001b[0m \u001b[1m2s\u001b[0m 5ms/step - accuracy: 0.1975 - loss: 4.2261\n",
      "Epoch 147/750\n",
      "\u001b[1m268/268\u001b[0m \u001b[32m━━━━━━━━━━━━━━━━━━━━\u001b[0m\u001b[37m\u001b[0m \u001b[1m1s\u001b[0m 5ms/step - accuracy: 0.1991 - loss: 4.2038\n",
      "Epoch 148/750\n",
      "\u001b[1m268/268\u001b[0m \u001b[32m━━━━━━━━━━━━━━━━━━━━\u001b[0m\u001b[37m\u001b[0m \u001b[1m1s\u001b[0m 5ms/step - accuracy: 0.1958 - loss: 4.2075\n",
      "Epoch 149/750\n",
      "\u001b[1m268/268\u001b[0m \u001b[32m━━━━━━━━━━━━━━━━━━━━\u001b[0m\u001b[37m\u001b[0m \u001b[1m1s\u001b[0m 5ms/step - accuracy: 0.2050 - loss: 4.1755\n",
      "Epoch 150/750\n",
      "\u001b[1m268/268\u001b[0m \u001b[32m━━━━━━━━━━━━━━━━━━━━\u001b[0m\u001b[37m\u001b[0m \u001b[1m1s\u001b[0m 5ms/step - accuracy: 0.2060 - loss: 4.1592\n",
      "Epoch 151/750\n",
      "\u001b[1m268/268\u001b[0m \u001b[32m━━━━━━━━━━━━━━━━━━━━\u001b[0m\u001b[37m\u001b[0m \u001b[1m3s\u001b[0m 7ms/step - accuracy: 0.2067 - loss: 4.1393\n",
      "Epoch 152/750\n",
      "\u001b[1m268/268\u001b[0m \u001b[32m━━━━━━━━━━━━━━━━━━━━\u001b[0m\u001b[37m\u001b[0m \u001b[1m2s\u001b[0m 7ms/step - accuracy: 0.2087 - loss: 4.1460\n",
      "Epoch 153/750\n",
      "\u001b[1m268/268\u001b[0m \u001b[32m━━━━━━━━━━━━━━━━━━━━\u001b[0m\u001b[37m\u001b[0m \u001b[1m2s\u001b[0m 5ms/step - accuracy: 0.2140 - loss: 4.1092\n",
      "Epoch 154/750\n",
      "\u001b[1m268/268\u001b[0m \u001b[32m━━━━━━━━━━━━━━━━━━━━\u001b[0m\u001b[37m\u001b[0m \u001b[1m1s\u001b[0m 5ms/step - accuracy: 0.2191 - loss: 4.1123\n",
      "Epoch 155/750\n",
      "\u001b[1m268/268\u001b[0m \u001b[32m━━━━━━━━━━━━━━━━━━━━\u001b[0m\u001b[37m\u001b[0m \u001b[1m3s\u001b[0m 5ms/step - accuracy: 0.2155 - loss: 4.0962\n",
      "Epoch 156/750\n",
      "\u001b[1m268/268\u001b[0m \u001b[32m━━━━━━━━━━━━━━━━━━━━\u001b[0m\u001b[37m\u001b[0m \u001b[1m1s\u001b[0m 5ms/step - accuracy: 0.2180 - loss: 4.0800\n",
      "Epoch 157/750\n",
      "\u001b[1m268/268\u001b[0m \u001b[32m━━━━━━━━━━━━━━━━━━━━\u001b[0m\u001b[37m\u001b[0m \u001b[1m3s\u001b[0m 6ms/step - accuracy: 0.2183 - loss: 4.0810\n",
      "Epoch 158/750\n",
      "\u001b[1m268/268\u001b[0m \u001b[32m━━━━━━━━━━━━━━━━━━━━\u001b[0m\u001b[37m\u001b[0m \u001b[1m2s\u001b[0m 7ms/step - accuracy: 0.2200 - loss: 4.0589\n",
      "Epoch 159/750\n",
      "\u001b[1m268/268\u001b[0m \u001b[32m━━━━━━━━━━━━━━━━━━━━\u001b[0m\u001b[37m\u001b[0m \u001b[1m2s\u001b[0m 6ms/step - accuracy: 0.2197 - loss: 4.0534\n",
      "Epoch 160/750\n",
      "\u001b[1m268/268\u001b[0m \u001b[32m━━━━━━━━━━━━━━━━━━━━\u001b[0m\u001b[37m\u001b[0m \u001b[1m2s\u001b[0m 5ms/step - accuracy: 0.2219 - loss: 4.0553\n",
      "Epoch 161/750\n",
      "\u001b[1m268/268\u001b[0m \u001b[32m━━━━━━━━━━━━━━━━━━━━\u001b[0m\u001b[37m\u001b[0m \u001b[1m1s\u001b[0m 5ms/step - accuracy: 0.2232 - loss: 4.0215\n",
      "Epoch 162/750\n",
      "\u001b[1m268/268\u001b[0m \u001b[32m━━━━━━━━━━━━━━━━━━━━\u001b[0m\u001b[37m\u001b[0m \u001b[1m1s\u001b[0m 5ms/step - accuracy: 0.2273 - loss: 4.0099\n",
      "Epoch 163/750\n",
      "\u001b[1m268/268\u001b[0m \u001b[32m━━━━━━━━━━━━━━━━━━━━\u001b[0m\u001b[37m\u001b[0m \u001b[1m3s\u001b[0m 5ms/step - accuracy: 0.2239 - loss: 4.0055\n",
      "Epoch 164/750\n",
      "\u001b[1m268/268\u001b[0m \u001b[32m━━━━━━━━━━━━━━━━━━━━\u001b[0m\u001b[37m\u001b[0m \u001b[1m3s\u001b[0m 7ms/step - accuracy: 0.2381 - loss: 3.9739\n",
      "Epoch 165/750\n",
      "\u001b[1m268/268\u001b[0m \u001b[32m━━━━━━━━━━━━━━━━━━━━\u001b[0m\u001b[37m\u001b[0m \u001b[1m2s\u001b[0m 7ms/step - accuracy: 0.2311 - loss: 3.9755\n",
      "Epoch 166/750\n",
      "\u001b[1m268/268\u001b[0m \u001b[32m━━━━━━━━━━━━━━━━━━━━\u001b[0m\u001b[37m\u001b[0m \u001b[1m1s\u001b[0m 5ms/step - accuracy: 0.2335 - loss: 3.9391\n",
      "Epoch 167/750\n",
      "\u001b[1m268/268\u001b[0m \u001b[32m━━━━━━━━━━━━━━━━━━━━\u001b[0m\u001b[37m\u001b[0m \u001b[1m1s\u001b[0m 5ms/step - accuracy: 0.2364 - loss: 3.9497\n",
      "Epoch 168/750\n",
      "\u001b[1m268/268\u001b[0m \u001b[32m━━━━━━━━━━━━━━━━━━━━\u001b[0m\u001b[37m\u001b[0m \u001b[1m3s\u001b[0m 5ms/step - accuracy: 0.2372 - loss: 3.9415\n",
      "Epoch 169/750\n",
      "\u001b[1m268/268\u001b[0m \u001b[32m━━━━━━━━━━━━━━━━━━━━\u001b[0m\u001b[37m\u001b[0m \u001b[1m2s\u001b[0m 5ms/step - accuracy: 0.2376 - loss: 3.9179\n",
      "Epoch 170/750\n",
      "\u001b[1m268/268\u001b[0m \u001b[32m━━━━━━━━━━━━━━━━━━━━\u001b[0m\u001b[37m\u001b[0m \u001b[1m1s\u001b[0m 5ms/step - accuracy: 0.2438 - loss: 3.8859\n",
      "Epoch 171/750\n",
      "\u001b[1m268/268\u001b[0m \u001b[32m━━━━━━━━━━━━━━━━━━━━\u001b[0m\u001b[37m\u001b[0m \u001b[1m2s\u001b[0m 6ms/step - accuracy: 0.2422 - loss: 3.8950\n",
      "Epoch 172/750\n",
      "\u001b[1m268/268\u001b[0m \u001b[32m━━━━━━━━━━━━━━━━━━━━\u001b[0m\u001b[37m\u001b[0m \u001b[1m3s\u001b[0m 6ms/step - accuracy: 0.2490 - loss: 3.8650\n",
      "Epoch 173/750\n",
      "\u001b[1m268/268\u001b[0m \u001b[32m━━━━━━━━━━━━━━━━━━━━\u001b[0m\u001b[37m\u001b[0m \u001b[1m2s\u001b[0m 5ms/step - accuracy: 0.2378 - loss: 3.8981\n",
      "Epoch 174/750\n",
      "\u001b[1m268/268\u001b[0m \u001b[32m━━━━━━━━━━━━━━━━━━━━\u001b[0m\u001b[37m\u001b[0m \u001b[1m3s\u001b[0m 5ms/step - accuracy: 0.2487 - loss: 3.8838\n",
      "Epoch 175/750\n",
      "\u001b[1m268/268\u001b[0m \u001b[32m━━━━━━━━━━━━━━━━━━━━\u001b[0m\u001b[37m\u001b[0m \u001b[1m1s\u001b[0m 5ms/step - accuracy: 0.2486 - loss: 3.8527\n",
      "Epoch 176/750\n",
      "\u001b[1m268/268\u001b[0m \u001b[32m━━━━━━━━━━━━━━━━━━━━\u001b[0m\u001b[37m\u001b[0m \u001b[1m3s\u001b[0m 5ms/step - accuracy: 0.2486 - loss: 3.8486\n",
      "Epoch 177/750\n",
      "\u001b[1m268/268\u001b[0m \u001b[32m━━━━━━━━━━━━━━━━━━━━\u001b[0m\u001b[37m\u001b[0m \u001b[1m2s\u001b[0m 6ms/step - accuracy: 0.2543 - loss: 3.8258\n",
      "Epoch 178/750\n",
      "\u001b[1m268/268\u001b[0m \u001b[32m━━━━━━━━━━━━━━━━━━━━\u001b[0m\u001b[37m\u001b[0m \u001b[1m2s\u001b[0m 7ms/step - accuracy: 0.2538 - loss: 3.8031\n",
      "Epoch 179/750\n",
      "\u001b[1m268/268\u001b[0m \u001b[32m━━━━━━━━━━━━━━━━━━━━\u001b[0m\u001b[37m\u001b[0m \u001b[1m2s\u001b[0m 5ms/step - accuracy: 0.2628 - loss: 3.7919\n",
      "Epoch 180/750\n",
      "\u001b[1m268/268\u001b[0m \u001b[32m━━━━━━━━━━━━━━━━━━━━\u001b[0m\u001b[37m\u001b[0m \u001b[1m3s\u001b[0m 5ms/step - accuracy: 0.2599 - loss: 3.7822\n",
      "Epoch 181/750\n",
      "\u001b[1m268/268\u001b[0m \u001b[32m━━━━━━━━━━━━━━━━━━━━\u001b[0m\u001b[37m\u001b[0m \u001b[1m3s\u001b[0m 5ms/step - accuracy: 0.2540 - loss: 3.7814\n",
      "Epoch 182/750\n",
      "\u001b[1m268/268\u001b[0m \u001b[32m━━━━━━━━━━━━━━━━━━━━\u001b[0m\u001b[37m\u001b[0m \u001b[1m3s\u001b[0m 5ms/step - accuracy: 0.2621 - loss: 3.7398\n",
      "Epoch 183/750\n",
      "\u001b[1m268/268\u001b[0m \u001b[32m━━━━━━━━━━━━━━━━━━━━\u001b[0m\u001b[37m\u001b[0m \u001b[1m3s\u001b[0m 7ms/step - accuracy: 0.2659 - loss: 3.7486\n",
      "Epoch 184/750\n",
      "\u001b[1m268/268\u001b[0m \u001b[32m━━━━━━━━━━━━━━━━━━━━\u001b[0m\u001b[37m\u001b[0m \u001b[1m2s\u001b[0m 5ms/step - accuracy: 0.2686 - loss: 3.7442\n",
      "Epoch 185/750\n",
      "\u001b[1m268/268\u001b[0m \u001b[32m━━━━━━━━━━━━━━━━━━━━\u001b[0m\u001b[37m\u001b[0m \u001b[1m1s\u001b[0m 5ms/step - accuracy: 0.2690 - loss: 3.7238\n",
      "Epoch 186/750\n",
      "\u001b[1m268/268\u001b[0m \u001b[32m━━━━━━━━━━━━━━━━━━━━\u001b[0m\u001b[37m\u001b[0m \u001b[1m1s\u001b[0m 5ms/step - accuracy: 0.2700 - loss: 3.6942\n",
      "Epoch 187/750\n",
      "\u001b[1m268/268\u001b[0m \u001b[32m━━━━━━━━━━━━━━━━━━━━\u001b[0m\u001b[37m\u001b[0m \u001b[1m3s\u001b[0m 5ms/step - accuracy: 0.2707 - loss: 3.7059\n",
      "Epoch 188/750\n",
      "\u001b[1m268/268\u001b[0m \u001b[32m━━━━━━━━━━━━━━━━━━━━\u001b[0m\u001b[37m\u001b[0m \u001b[1m3s\u001b[0m 5ms/step - accuracy: 0.2734 - loss: 3.6905\n",
      "Epoch 189/750\n",
      "\u001b[1m268/268\u001b[0m \u001b[32m━━━━━━━━━━━━━━━━━━━━\u001b[0m\u001b[37m\u001b[0m \u001b[1m2s\u001b[0m 7ms/step - accuracy: 0.2694 - loss: 3.7008\n",
      "Epoch 190/750\n",
      "\u001b[1m268/268\u001b[0m \u001b[32m━━━━━━━━━━━━━━━━━━━━\u001b[0m\u001b[37m\u001b[0m \u001b[1m2s\u001b[0m 6ms/step - accuracy: 0.2774 - loss: 3.6604\n",
      "Epoch 191/750\n",
      "\u001b[1m268/268\u001b[0m \u001b[32m━━━━━━━━━━━━━━━━━━━━\u001b[0m\u001b[37m\u001b[0m \u001b[1m2s\u001b[0m 5ms/step - accuracy: 0.2774 - loss: 3.6644\n",
      "Epoch 192/750\n",
      "\u001b[1m268/268\u001b[0m \u001b[32m━━━━━━━━━━━━━━━━━━━━\u001b[0m\u001b[37m\u001b[0m \u001b[1m3s\u001b[0m 5ms/step - accuracy: 0.2760 - loss: 3.6437\n",
      "Epoch 193/750\n",
      "\u001b[1m268/268\u001b[0m \u001b[32m━━━━━━━━━━━━━━━━━━━━\u001b[0m\u001b[37m\u001b[0m \u001b[1m3s\u001b[0m 5ms/step - accuracy: 0.2841 - loss: 3.6298\n",
      "Epoch 194/750\n",
      "\u001b[1m268/268\u001b[0m \u001b[32m━━━━━━━━━━━━━━━━━━━━\u001b[0m\u001b[37m\u001b[0m \u001b[1m3s\u001b[0m 6ms/step - accuracy: 0.2742 - loss: 3.6439\n",
      "Epoch 195/750\n",
      "\u001b[1m268/268\u001b[0m \u001b[32m━━━━━━━━━━━━━━━━━━━━\u001b[0m\u001b[37m\u001b[0m \u001b[1m3s\u001b[0m 6ms/step - accuracy: 0.2853 - loss: 3.5874\n",
      "Epoch 196/750\n",
      "\u001b[1m268/268\u001b[0m \u001b[32m━━━━━━━━━━━━━━━━━━━━\u001b[0m\u001b[37m\u001b[0m \u001b[1m1s\u001b[0m 5ms/step - accuracy: 0.2828 - loss: 3.6094\n",
      "Epoch 197/750\n",
      "\u001b[1m268/268\u001b[0m \u001b[32m━━━━━━━━━━━━━━━━━━━━\u001b[0m\u001b[37m\u001b[0m \u001b[1m1s\u001b[0m 5ms/step - accuracy: 0.2849 - loss: 3.5829\n",
      "Epoch 198/750\n",
      "\u001b[1m268/268\u001b[0m \u001b[32m━━━━━━━━━━━━━━━━━━━━\u001b[0m\u001b[37m\u001b[0m \u001b[1m1s\u001b[0m 5ms/step - accuracy: 0.2910 - loss: 3.5748\n",
      "Epoch 199/750\n",
      "\u001b[1m268/268\u001b[0m \u001b[32m━━━━━━━━━━━━━━━━━━━━\u001b[0m\u001b[37m\u001b[0m \u001b[1m1s\u001b[0m 5ms/step - accuracy: 0.2869 - loss: 3.5647\n",
      "Epoch 200/750\n",
      "\u001b[1m268/268\u001b[0m \u001b[32m━━━━━━━━━━━━━━━━━━━━\u001b[0m\u001b[37m\u001b[0m \u001b[1m3s\u001b[0m 5ms/step - accuracy: 0.2930 - loss: 3.5451\n",
      "Epoch 201/750\n",
      "\u001b[1m268/268\u001b[0m \u001b[32m━━━━━━━━━━━━━━━━━━━━\u001b[0m\u001b[37m\u001b[0m \u001b[1m3s\u001b[0m 7ms/step - accuracy: 0.2943 - loss: 3.5411\n",
      "Epoch 202/750\n",
      "\u001b[1m268/268\u001b[0m \u001b[32m━━━━━━━━━━━━━━━━━━━━\u001b[0m\u001b[37m\u001b[0m \u001b[1m2s\u001b[0m 7ms/step - accuracy: 0.3008 - loss: 3.5244\n",
      "Epoch 203/750\n",
      "\u001b[1m268/268\u001b[0m \u001b[32m━━━━━━━━━━━━━━━━━━━━\u001b[0m\u001b[37m\u001b[0m \u001b[1m1s\u001b[0m 5ms/step - accuracy: 0.2979 - loss: 3.5161\n",
      "Epoch 204/750\n",
      "\u001b[1m268/268\u001b[0m \u001b[32m━━━━━━━━━━━━━━━━━━━━\u001b[0m\u001b[37m\u001b[0m \u001b[1m1s\u001b[0m 5ms/step - accuracy: 0.3016 - loss: 3.5097\n",
      "Epoch 205/750\n",
      "\u001b[1m268/268\u001b[0m \u001b[32m━━━━━━━━━━━━━━━━━━━━\u001b[0m\u001b[37m\u001b[0m \u001b[1m3s\u001b[0m 5ms/step - accuracy: 0.3027 - loss: 3.4921\n",
      "Epoch 206/750\n",
      "\u001b[1m268/268\u001b[0m \u001b[32m━━━━━━━━━━━━━━━━━━━━\u001b[0m\u001b[37m\u001b[0m \u001b[1m3s\u001b[0m 5ms/step - accuracy: 0.3047 - loss: 3.4648\n",
      "Epoch 207/750\n",
      "\u001b[1m268/268\u001b[0m \u001b[32m━━━━━━━━━━━━━━━━━━━━\u001b[0m\u001b[37m\u001b[0m \u001b[1m3s\u001b[0m 7ms/step - accuracy: 0.3001 - loss: 3.5032\n",
      "Epoch 208/750\n",
      "\u001b[1m268/268\u001b[0m \u001b[32m━━━━━━━━━━━━━━━━━━━━\u001b[0m\u001b[37m\u001b[0m \u001b[1m2s\u001b[0m 6ms/step - accuracy: 0.3093 - loss: 3.4684\n",
      "Epoch 209/750\n",
      "\u001b[1m268/268\u001b[0m \u001b[32m━━━━━━━━━━━━━━━━━━━━\u001b[0m\u001b[37m\u001b[0m \u001b[1m2s\u001b[0m 5ms/step - accuracy: 0.3084 - loss: 3.4492\n",
      "Epoch 210/750\n",
      "\u001b[1m268/268\u001b[0m \u001b[32m━━━━━━━━━━━━━━━━━━━━\u001b[0m\u001b[37m\u001b[0m \u001b[1m3s\u001b[0m 5ms/step - accuracy: 0.3118 - loss: 3.4401\n",
      "Epoch 211/750\n",
      "\u001b[1m268/268\u001b[0m \u001b[32m━━━━━━━━━━━━━━━━━━━━\u001b[0m\u001b[37m\u001b[0m \u001b[1m1s\u001b[0m 5ms/step - accuracy: 0.3045 - loss: 3.4525\n",
      "Epoch 212/750\n",
      "\u001b[1m268/268\u001b[0m \u001b[32m━━━━━━━━━━━━━━━━━━━━\u001b[0m\u001b[37m\u001b[0m \u001b[1m1s\u001b[0m 5ms/step - accuracy: 0.3129 - loss: 3.4148\n",
      "Epoch 213/750\n",
      "\u001b[1m268/268\u001b[0m \u001b[32m━━━━━━━━━━━━━━━━━━━━\u001b[0m\u001b[37m\u001b[0m \u001b[1m3s\u001b[0m 7ms/step - accuracy: 0.3158 - loss: 3.4111\n",
      "Epoch 214/750\n",
      "\u001b[1m268/268\u001b[0m \u001b[32m━━━━━━━━━━━━━━━━━━━━\u001b[0m\u001b[37m\u001b[0m \u001b[1m2s\u001b[0m 7ms/step - accuracy: 0.3162 - loss: 3.3937\n",
      "Epoch 215/750\n",
      "\u001b[1m268/268\u001b[0m \u001b[32m━━━━━━━━━━━━━━━━━━━━\u001b[0m\u001b[37m\u001b[0m \u001b[1m2s\u001b[0m 5ms/step - accuracy: 0.3116 - loss: 3.4318\n",
      "Epoch 216/750\n",
      "\u001b[1m268/268\u001b[0m \u001b[32m━━━━━━━━━━━━━━━━━━━━\u001b[0m\u001b[37m\u001b[0m \u001b[1m3s\u001b[0m 5ms/step - accuracy: 0.3147 - loss: 3.4186\n",
      "Epoch 217/750\n",
      "\u001b[1m268/268\u001b[0m \u001b[32m━━━━━━━━━━━━━━━━━━━━\u001b[0m\u001b[37m\u001b[0m \u001b[1m1s\u001b[0m 5ms/step - accuracy: 0.3227 - loss: 3.3723\n",
      "Epoch 218/750\n",
      "\u001b[1m268/268\u001b[0m \u001b[32m━━━━━━━━━━━━━━━━━━━━\u001b[0m\u001b[37m\u001b[0m \u001b[1m1s\u001b[0m 5ms/step - accuracy: 0.3269 - loss: 3.3647\n",
      "Epoch 219/750\n",
      "\u001b[1m268/268\u001b[0m \u001b[32m━━━━━━━━━━━━━━━━━━━━\u001b[0m\u001b[37m\u001b[0m \u001b[1m1s\u001b[0m 5ms/step - accuracy: 0.3259 - loss: 3.3591\n",
      "Epoch 220/750\n",
      "\u001b[1m268/268\u001b[0m \u001b[32m━━━━━━━━━━━━━━━━━━━━\u001b[0m\u001b[37m\u001b[0m \u001b[1m3s\u001b[0m 7ms/step - accuracy: 0.3269 - loss: 3.3471\n",
      "Epoch 221/750\n",
      "\u001b[1m268/268\u001b[0m \u001b[32m━━━━━━━━━━━━━━━━━━━━\u001b[0m\u001b[37m\u001b[0m \u001b[1m2s\u001b[0m 5ms/step - accuracy: 0.3259 - loss: 3.3605\n",
      "Epoch 222/750\n",
      "\u001b[1m268/268\u001b[0m \u001b[32m━━━━━━━━━━━━━━━━━━━━\u001b[0m\u001b[37m\u001b[0m \u001b[1m1s\u001b[0m 5ms/step - accuracy: 0.3287 - loss: 3.3440\n",
      "Epoch 223/750\n",
      "\u001b[1m268/268\u001b[0m \u001b[32m━━━━━━━━━━━━━━━━━━━━\u001b[0m\u001b[37m\u001b[0m \u001b[1m1s\u001b[0m 5ms/step - accuracy: 0.3294 - loss: 3.3280\n",
      "Epoch 224/750\n",
      "\u001b[1m268/268\u001b[0m \u001b[32m━━━━━━━━━━━━━━━━━━━━\u001b[0m\u001b[37m\u001b[0m \u001b[1m3s\u001b[0m 5ms/step - accuracy: 0.3342 - loss: 3.3066\n",
      "Epoch 225/750\n",
      "\u001b[1m268/268\u001b[0m \u001b[32m━━━━━━━━━━━━━━━━━━━━\u001b[0m\u001b[37m\u001b[0m \u001b[1m2s\u001b[0m 5ms/step - accuracy: 0.3362 - loss: 3.2902\n",
      "Epoch 226/750\n",
      "\u001b[1m268/268\u001b[0m \u001b[32m━━━━━━━━━━━━━━━━━━━━\u001b[0m\u001b[37m\u001b[0m \u001b[1m3s\u001b[0m 7ms/step - accuracy: 0.3391 - loss: 3.2554\n",
      "Epoch 227/750\n",
      "\u001b[1m268/268\u001b[0m \u001b[32m━━━━━━━━━━━━━━━━━━━━\u001b[0m\u001b[37m\u001b[0m \u001b[1m2s\u001b[0m 6ms/step - accuracy: 0.3362 - loss: 3.2706\n",
      "Epoch 228/750\n",
      "\u001b[1m268/268\u001b[0m \u001b[32m━━━━━━━━━━━━━━━━━━━━\u001b[0m\u001b[37m\u001b[0m \u001b[1m1s\u001b[0m 5ms/step - accuracy: 0.3438 - loss: 3.2458\n",
      "Epoch 229/750\n",
      "\u001b[1m268/268\u001b[0m \u001b[32m━━━━━━━━━━━━━━━━━━━━\u001b[0m\u001b[37m\u001b[0m \u001b[1m3s\u001b[0m 5ms/step - accuracy: 0.3471 - loss: 3.2535\n",
      "Epoch 230/750\n",
      "\u001b[1m268/268\u001b[0m \u001b[32m━━━━━━━━━━━━━━━━━━━━\u001b[0m\u001b[37m\u001b[0m \u001b[1m1s\u001b[0m 5ms/step - accuracy: 0.3389 - loss: 3.2653\n",
      "Epoch 231/750\n",
      "\u001b[1m268/268\u001b[0m \u001b[32m━━━━━━━━━━━━━━━━━━━━\u001b[0m\u001b[37m\u001b[0m \u001b[1m3s\u001b[0m 5ms/step - accuracy: 0.3487 - loss: 3.2071\n",
      "Epoch 232/750\n",
      "\u001b[1m268/268\u001b[0m \u001b[32m━━━━━━━━━━━━━━━━━━━━\u001b[0m\u001b[37m\u001b[0m \u001b[1m2s\u001b[0m 6ms/step - accuracy: 0.3462 - loss: 3.2257\n",
      "Epoch 233/750\n",
      "\u001b[1m268/268\u001b[0m \u001b[32m━━━━━━━━━━━━━━━━━━━━\u001b[0m\u001b[37m\u001b[0m \u001b[1m2s\u001b[0m 7ms/step - accuracy: 0.3483 - loss: 3.2083\n",
      "Epoch 234/750\n",
      "\u001b[1m268/268\u001b[0m \u001b[32m━━━━━━━━━━━━━━━━━━━━\u001b[0m\u001b[37m\u001b[0m \u001b[1m2s\u001b[0m 6ms/step - accuracy: 0.3490 - loss: 3.2055\n",
      "Epoch 235/750\n",
      "\u001b[1m268/268\u001b[0m \u001b[32m━━━━━━━━━━━━━━━━━━━━\u001b[0m\u001b[37m\u001b[0m \u001b[1m2s\u001b[0m 5ms/step - accuracy: 0.3599 - loss: 3.1567\n",
      "Epoch 236/750\n",
      "\u001b[1m268/268\u001b[0m \u001b[32m━━━━━━━━━━━━━━━━━━━━\u001b[0m\u001b[37m\u001b[0m \u001b[1m1s\u001b[0m 5ms/step - accuracy: 0.3538 - loss: 3.1604\n",
      "Epoch 237/750\n",
      "\u001b[1m268/268\u001b[0m \u001b[32m━━━━━━━━━━━━━━━━━━━━\u001b[0m\u001b[37m\u001b[0m \u001b[1m3s\u001b[0m 5ms/step - accuracy: 0.3539 - loss: 3.1663\n",
      "Epoch 238/750\n",
      "\u001b[1m268/268\u001b[0m \u001b[32m━━━━━━━━━━━━━━━━━━━━\u001b[0m\u001b[37m\u001b[0m \u001b[1m1s\u001b[0m 5ms/step - accuracy: 0.3533 - loss: 3.1740\n",
      "Epoch 239/750\n",
      "\u001b[1m268/268\u001b[0m \u001b[32m━━━━━━━━━━━━━━━━━━━━\u001b[0m\u001b[37m\u001b[0m \u001b[1m1s\u001b[0m 5ms/step - accuracy: 0.3606 - loss: 3.1407\n",
      "Epoch 240/750\n",
      "\u001b[1m268/268\u001b[0m \u001b[32m━━━━━━━━━━━━━━━━━━━━\u001b[0m\u001b[37m\u001b[0m \u001b[1m3s\u001b[0m 7ms/step - accuracy: 0.3643 - loss: 3.1259\n",
      "Epoch 241/750\n",
      "\u001b[1m268/268\u001b[0m \u001b[32m━━━━━━━━━━━━━━━━━━━━\u001b[0m\u001b[37m\u001b[0m \u001b[1m1s\u001b[0m 5ms/step - accuracy: 0.3678 - loss: 3.1103\n",
      "Epoch 242/750\n",
      "\u001b[1m268/268\u001b[0m \u001b[32m━━━━━━━━━━━━━━━━━━━━\u001b[0m\u001b[37m\u001b[0m \u001b[1m1s\u001b[0m 5ms/step - accuracy: 0.3665 - loss: 3.1290\n",
      "Epoch 243/750\n",
      "\u001b[1m268/268\u001b[0m \u001b[32m━━━━━━━━━━━━━━━━━━━━\u001b[0m\u001b[37m\u001b[0m \u001b[1m3s\u001b[0m 5ms/step - accuracy: 0.3630 - loss: 3.1123\n",
      "Epoch 244/750\n",
      "\u001b[1m268/268\u001b[0m \u001b[32m━━━━━━━━━━━━━━━━━━━━\u001b[0m\u001b[37m\u001b[0m \u001b[1m1s\u001b[0m 5ms/step - accuracy: 0.3634 - loss: 3.1314\n",
      "Epoch 245/750\n",
      "\u001b[1m268/268\u001b[0m \u001b[32m━━━━━━━━━━━━━━━━━━━━\u001b[0m\u001b[37m\u001b[0m \u001b[1m1s\u001b[0m 5ms/step - accuracy: 0.3687 - loss: 3.0897\n",
      "Epoch 246/750\n",
      "\u001b[1m268/268\u001b[0m \u001b[32m━━━━━━━━━━━━━━━━━━━━\u001b[0m\u001b[37m\u001b[0m \u001b[1m1s\u001b[0m 5ms/step - accuracy: 0.3753 - loss: 3.0619\n",
      "Epoch 247/750\n",
      "\u001b[1m268/268\u001b[0m \u001b[32m━━━━━━━━━━━━━━━━━━━━\u001b[0m\u001b[37m\u001b[0m \u001b[1m3s\u001b[0m 8ms/step - accuracy: 0.3794 - loss: 3.0653\n",
      "Epoch 248/750\n",
      "\u001b[1m268/268\u001b[0m \u001b[32m━━━━━━━━━━━━━━━━━━━━\u001b[0m\u001b[37m\u001b[0m \u001b[1m2s\u001b[0m 5ms/step - accuracy: 0.3715 - loss: 3.0777\n",
      "Epoch 249/750\n",
      "\u001b[1m268/268\u001b[0m \u001b[32m━━━━━━━━━━━━━━━━━━━━\u001b[0m\u001b[37m\u001b[0m \u001b[1m2s\u001b[0m 5ms/step - accuracy: 0.3760 - loss: 3.0500\n",
      "Epoch 250/750\n",
      "\u001b[1m268/268\u001b[0m \u001b[32m━━━━━━━━━━━━━━━━━━━━\u001b[0m\u001b[37m\u001b[0m \u001b[1m3s\u001b[0m 5ms/step - accuracy: 0.3747 - loss: 3.0503\n",
      "Epoch 251/750\n",
      "\u001b[1m268/268\u001b[0m \u001b[32m━━━━━━━━━━━━━━━━━━━━\u001b[0m\u001b[37m\u001b[0m \u001b[1m1s\u001b[0m 5ms/step - accuracy: 0.3767 - loss: 3.0559\n",
      "Epoch 252/750\n",
      "\u001b[1m268/268\u001b[0m \u001b[32m━━━━━━━━━━━━━━━━━━━━\u001b[0m\u001b[37m\u001b[0m \u001b[1m1s\u001b[0m 5ms/step - accuracy: 0.3849 - loss: 3.0025\n",
      "Epoch 253/750\n",
      "\u001b[1m268/268\u001b[0m \u001b[32m━━━━━━━━━━━━━━━━━━━━\u001b[0m\u001b[37m\u001b[0m \u001b[1m3s\u001b[0m 8ms/step - accuracy: 0.3793 - loss: 3.0331\n",
      "Epoch 254/750\n",
      "\u001b[1m268/268\u001b[0m \u001b[32m━━━━━━━━━━━━━━━━━━━━\u001b[0m\u001b[37m\u001b[0m \u001b[1m2s\u001b[0m 5ms/step - accuracy: 0.3774 - loss: 3.0181\n",
      "Epoch 255/750\n",
      "\u001b[1m268/268\u001b[0m \u001b[32m━━━━━━━━━━━━━━━━━━━━\u001b[0m\u001b[37m\u001b[0m \u001b[1m1s\u001b[0m 5ms/step - accuracy: 0.3829 - loss: 3.0173\n",
      "Epoch 256/750\n",
      "\u001b[1m268/268\u001b[0m \u001b[32m━━━━━━━━━━━━━━━━━━━━\u001b[0m\u001b[37m\u001b[0m \u001b[1m1s\u001b[0m 5ms/step - accuracy: 0.3914 - loss: 2.9858\n",
      "Epoch 257/750\n",
      "\u001b[1m268/268\u001b[0m \u001b[32m━━━━━━━━━━━━━━━━━━━━\u001b[0m\u001b[37m\u001b[0m \u001b[1m1s\u001b[0m 5ms/step - accuracy: 0.3874 - loss: 2.9800\n",
      "Epoch 258/750\n",
      "\u001b[1m268/268\u001b[0m \u001b[32m━━━━━━━━━━━━━━━━━━━━\u001b[0m\u001b[37m\u001b[0m \u001b[1m1s\u001b[0m 5ms/step - accuracy: 0.3892 - loss: 3.0032\n",
      "Epoch 259/750\n",
      "\u001b[1m268/268\u001b[0m \u001b[32m━━━━━━━━━━━━━━━━━━━━\u001b[0m\u001b[37m\u001b[0m \u001b[1m3s\u001b[0m 5ms/step - accuracy: 0.3985 - loss: 2.9548\n",
      "Epoch 260/750\n",
      "\u001b[1m268/268\u001b[0m \u001b[32m━━━━━━━━━━━━━━━━━━━━\u001b[0m\u001b[37m\u001b[0m \u001b[1m2s\u001b[0m 7ms/step - accuracy: 0.3925 - loss: 2.9636\n",
      "Epoch 261/750\n",
      "\u001b[1m268/268\u001b[0m \u001b[32m━━━━━━━━━━━━━━━━━━━━\u001b[0m\u001b[37m\u001b[0m \u001b[1m2s\u001b[0m 7ms/step - accuracy: 0.3928 - loss: 2.9512\n",
      "Epoch 262/750\n",
      "\u001b[1m268/268\u001b[0m \u001b[32m━━━━━━━━━━━━━━━━━━━━\u001b[0m\u001b[37m\u001b[0m \u001b[1m2s\u001b[0m 5ms/step - accuracy: 0.3938 - loss: 2.9673\n",
      "Epoch 263/750\n",
      "\u001b[1m268/268\u001b[0m \u001b[32m━━━━━━━━━━━━━━━━━━━━\u001b[0m\u001b[37m\u001b[0m \u001b[1m1s\u001b[0m 5ms/step - accuracy: 0.4038 - loss: 2.8966\n",
      "Epoch 264/750\n",
      "\u001b[1m268/268\u001b[0m \u001b[32m━━━━━━━━━━━━━━━━━━━━\u001b[0m\u001b[37m\u001b[0m \u001b[1m3s\u001b[0m 5ms/step - accuracy: 0.3976 - loss: 2.9068\n",
      "Epoch 265/750\n",
      "\u001b[1m268/268\u001b[0m \u001b[32m━━━━━━━━━━━━━━━━━━━━\u001b[0m\u001b[37m\u001b[0m \u001b[1m1s\u001b[0m 5ms/step - accuracy: 0.4015 - loss: 2.9137\n",
      "Epoch 266/750\n",
      "\u001b[1m268/268\u001b[0m \u001b[32m━━━━━━━━━━━━━━━━━━━━\u001b[0m\u001b[37m\u001b[0m \u001b[1m3s\u001b[0m 6ms/step - accuracy: 0.4077 - loss: 2.8935\n",
      "Epoch 267/750\n",
      "\u001b[1m268/268\u001b[0m \u001b[32m━━━━━━━━━━━━━━━━━━━━\u001b[0m\u001b[37m\u001b[0m \u001b[1m2s\u001b[0m 7ms/step - accuracy: 0.4087 - loss: 2.8813\n",
      "Epoch 268/750\n",
      "\u001b[1m268/268\u001b[0m \u001b[32m━━━━━━━━━━━━━━━━━━━━\u001b[0m\u001b[37m\u001b[0m \u001b[1m2s\u001b[0m 5ms/step - accuracy: 0.4055 - loss: 2.8834\n",
      "Epoch 269/750\n",
      "\u001b[1m268/268\u001b[0m \u001b[32m━━━━━━━━━━━━━━━━━━━━\u001b[0m\u001b[37m\u001b[0m \u001b[1m2s\u001b[0m 5ms/step - accuracy: 0.4060 - loss: 2.8813\n",
      "Epoch 270/750\n",
      "\u001b[1m268/268\u001b[0m \u001b[32m━━━━━━━━━━━━━━━━━━━━\u001b[0m\u001b[37m\u001b[0m \u001b[1m3s\u001b[0m 5ms/step - accuracy: 0.4100 - loss: 2.8763\n",
      "Epoch 271/750\n",
      "\u001b[1m268/268\u001b[0m \u001b[32m━━━━━━━━━━━━━━━━━━━━\u001b[0m\u001b[37m\u001b[0m \u001b[1m1s\u001b[0m 5ms/step - accuracy: 0.4115 - loss: 2.8452\n",
      "Epoch 272/750\n",
      "\u001b[1m268/268\u001b[0m \u001b[32m━━━━━━━━━━━━━━━━━━━━\u001b[0m\u001b[37m\u001b[0m \u001b[1m3s\u001b[0m 6ms/step - accuracy: 0.4101 - loss: 2.8715\n",
      "Epoch 273/750\n",
      "\u001b[1m268/268\u001b[0m \u001b[32m━━━━━━━━━━━━━━━━━━━━\u001b[0m\u001b[37m\u001b[0m \u001b[1m3s\u001b[0m 6ms/step - accuracy: 0.4140 - loss: 2.8366\n",
      "Epoch 274/750\n",
      "\u001b[1m268/268\u001b[0m \u001b[32m━━━━━━━━━━━━━━━━━━━━\u001b[0m\u001b[37m\u001b[0m \u001b[1m1s\u001b[0m 5ms/step - accuracy: 0.4163 - loss: 2.8340\n",
      "Epoch 275/750\n",
      "\u001b[1m268/268\u001b[0m \u001b[32m━━━━━━━━━━━━━━━━━━━━\u001b[0m\u001b[37m\u001b[0m \u001b[1m1s\u001b[0m 5ms/step - accuracy: 0.4108 - loss: 2.8345\n",
      "Epoch 276/750\n",
      "\u001b[1m268/268\u001b[0m \u001b[32m━━━━━━━━━━━━━━━━━━━━\u001b[0m\u001b[37m\u001b[0m \u001b[1m1s\u001b[0m 5ms/step - accuracy: 0.4162 - loss: 2.8114\n",
      "Epoch 277/750\n",
      "\u001b[1m268/268\u001b[0m \u001b[32m━━━━━━━━━━━━━━━━━━━━\u001b[0m\u001b[37m\u001b[0m \u001b[1m1s\u001b[0m 5ms/step - accuracy: 0.4184 - loss: 2.7936\n",
      "Epoch 278/750\n",
      "\u001b[1m268/268\u001b[0m \u001b[32m━━━━━━━━━━━━━━━━━━━━\u001b[0m\u001b[37m\u001b[0m \u001b[1m3s\u001b[0m 5ms/step - accuracy: 0.4188 - loss: 2.8065\n",
      "Epoch 279/750\n",
      "\u001b[1m268/268\u001b[0m \u001b[32m━━━━━━━━━━━━━━━━━━━━\u001b[0m\u001b[37m\u001b[0m \u001b[1m1s\u001b[0m 5ms/step - accuracy: 0.4200 - loss: 2.8156\n",
      "Epoch 280/750\n",
      "\u001b[1m268/268\u001b[0m \u001b[32m━━━━━━━━━━━━━━━━━━━━\u001b[0m\u001b[37m\u001b[0m \u001b[1m3s\u001b[0m 7ms/step - accuracy: 0.4222 - loss: 2.8040\n",
      "Epoch 281/750\n",
      "\u001b[1m268/268\u001b[0m \u001b[32m━━━━━━━━━━━━━━━━━━━━\u001b[0m\u001b[37m\u001b[0m \u001b[1m1s\u001b[0m 5ms/step - accuracy: 0.4220 - loss: 2.7807\n",
      "Epoch 282/750\n",
      "\u001b[1m268/268\u001b[0m \u001b[32m━━━━━━━━━━━━━━━━━━━━\u001b[0m\u001b[37m\u001b[0m \u001b[1m3s\u001b[0m 5ms/step - accuracy: 0.4248 - loss: 2.7730\n",
      "Epoch 283/750\n",
      "\u001b[1m268/268\u001b[0m \u001b[32m━━━━━━━━━━━━━━━━━━━━\u001b[0m\u001b[37m\u001b[0m \u001b[1m1s\u001b[0m 5ms/step - accuracy: 0.4335 - loss: 2.7269\n",
      "Epoch 284/750\n",
      "\u001b[1m268/268\u001b[0m \u001b[32m━━━━━━━━━━━━━━━━━━━━\u001b[0m\u001b[37m\u001b[0m \u001b[1m1s\u001b[0m 5ms/step - accuracy: 0.4300 - loss: 2.7717\n",
      "Epoch 285/750\n",
      "\u001b[1m268/268\u001b[0m \u001b[32m━━━━━━━━━━━━━━━━━━━━\u001b[0m\u001b[37m\u001b[0m \u001b[1m3s\u001b[0m 5ms/step - accuracy: 0.4327 - loss: 2.7417\n",
      "Epoch 286/750\n",
      "\u001b[1m268/268\u001b[0m \u001b[32m━━━━━━━━━━━━━━━━━━━━\u001b[0m\u001b[37m\u001b[0m \u001b[1m2s\u001b[0m 7ms/step - accuracy: 0.4335 - loss: 2.7296\n",
      "Epoch 287/750\n",
      "\u001b[1m268/268\u001b[0m \u001b[32m━━━━━━━━━━━━━━━━━━━━\u001b[0m\u001b[37m\u001b[0m \u001b[1m2s\u001b[0m 7ms/step - accuracy: 0.4368 - loss: 2.7303\n",
      "Epoch 288/750\n",
      "\u001b[1m268/268\u001b[0m \u001b[32m━━━━━━━━━━━━━━━━━━━━\u001b[0m\u001b[37m\u001b[0m \u001b[1m2s\u001b[0m 5ms/step - accuracy: 0.4374 - loss: 2.7127\n",
      "Epoch 289/750\n",
      "\u001b[1m268/268\u001b[0m \u001b[32m━━━━━━━━━━━━━━━━━━━━\u001b[0m\u001b[37m\u001b[0m \u001b[1m1s\u001b[0m 5ms/step - accuracy: 0.4387 - loss: 2.6912\n",
      "Epoch 290/750\n",
      "\u001b[1m268/268\u001b[0m \u001b[32m━━━━━━━━━━━━━━━━━━━━\u001b[0m\u001b[37m\u001b[0m \u001b[1m3s\u001b[0m 5ms/step - accuracy: 0.4373 - loss: 2.7075\n",
      "Epoch 291/750\n",
      "\u001b[1m268/268\u001b[0m \u001b[32m━━━━━━━━━━━━━━━━━━━━\u001b[0m\u001b[37m\u001b[0m \u001b[1m3s\u001b[0m 5ms/step - accuracy: 0.4369 - loss: 2.7222\n",
      "Epoch 292/750\n",
      "\u001b[1m268/268\u001b[0m \u001b[32m━━━━━━━━━━━━━━━━━━━━\u001b[0m\u001b[37m\u001b[0m \u001b[1m2s\u001b[0m 6ms/step - accuracy: 0.4462 - loss: 2.6792\n",
      "Epoch 293/750\n",
      "\u001b[1m268/268\u001b[0m \u001b[32m━━━━━━━━━━━━━━━━━━━━\u001b[0m\u001b[37m\u001b[0m \u001b[1m2s\u001b[0m 7ms/step - accuracy: 0.4472 - loss: 2.6600\n",
      "Epoch 294/750\n",
      "\u001b[1m268/268\u001b[0m \u001b[32m━━━━━━━━━━━━━━━━━━━━\u001b[0m\u001b[37m\u001b[0m \u001b[1m2s\u001b[0m 6ms/step - accuracy: 0.4418 - loss: 2.6828\n",
      "Epoch 295/750\n",
      "\u001b[1m268/268\u001b[0m \u001b[32m━━━━━━━━━━━━━━━━━━━━\u001b[0m\u001b[37m\u001b[0m \u001b[1m1s\u001b[0m 5ms/step - accuracy: 0.4475 - loss: 2.6679\n",
      "Epoch 296/750\n",
      "\u001b[1m268/268\u001b[0m \u001b[32m━━━━━━━━━━━━━━━━━━━━\u001b[0m\u001b[37m\u001b[0m \u001b[1m1s\u001b[0m 5ms/step - accuracy: 0.4503 - loss: 2.6431\n",
      "Epoch 297/750\n",
      "\u001b[1m268/268\u001b[0m \u001b[32m━━━━━━━━━━━━━━━━━━━━\u001b[0m\u001b[37m\u001b[0m \u001b[1m3s\u001b[0m 5ms/step - accuracy: 0.4508 - loss: 2.6601\n",
      "Epoch 298/750\n",
      "\u001b[1m268/268\u001b[0m \u001b[32m━━━━━━━━━━━━━━━━━━━━\u001b[0m\u001b[37m\u001b[0m \u001b[1m1s\u001b[0m 5ms/step - accuracy: 0.4573 - loss: 2.6355\n",
      "Epoch 299/750\n",
      "\u001b[1m268/268\u001b[0m \u001b[32m━━━━━━━━━━━━━━━━━━━━\u001b[0m\u001b[37m\u001b[0m \u001b[1m3s\u001b[0m 6ms/step - accuracy: 0.4575 - loss: 2.6397\n",
      "Epoch 300/750\n",
      "\u001b[1m268/268\u001b[0m \u001b[32m━━━━━━━━━━━━━━━━━━━━\u001b[0m\u001b[37m\u001b[0m \u001b[1m3s\u001b[0m 7ms/step - accuracy: 0.4551 - loss: 2.6213\n",
      "Epoch 301/750\n",
      "\u001b[1m268/268\u001b[0m \u001b[32m━━━━━━━━━━━━━━━━━━━━\u001b[0m\u001b[37m\u001b[0m \u001b[1m2s\u001b[0m 5ms/step - accuracy: 0.4627 - loss: 2.6151\n",
      "Epoch 302/750\n",
      "\u001b[1m268/268\u001b[0m \u001b[32m━━━━━━━━━━━━━━━━━━━━\u001b[0m\u001b[37m\u001b[0m \u001b[1m3s\u001b[0m 5ms/step - accuracy: 0.4631 - loss: 2.6005\n",
      "Epoch 303/750\n",
      "\u001b[1m268/268\u001b[0m \u001b[32m━━━━━━━━━━━━━━━━━━━━\u001b[0m\u001b[37m\u001b[0m \u001b[1m3s\u001b[0m 5ms/step - accuracy: 0.4630 - loss: 2.6174\n",
      "Epoch 304/750\n",
      "\u001b[1m268/268\u001b[0m \u001b[32m━━━━━━━━━━━━━━━━━━━━\u001b[0m\u001b[37m\u001b[0m \u001b[1m1s\u001b[0m 5ms/step - accuracy: 0.4602 - loss: 2.6058\n",
      "Epoch 305/750\n",
      "\u001b[1m268/268\u001b[0m \u001b[32m━━━━━━━━━━━━━━━━━━━━\u001b[0m\u001b[37m\u001b[0m \u001b[1m3s\u001b[0m 7ms/step - accuracy: 0.4643 - loss: 2.5847\n",
      "Epoch 306/750\n",
      "\u001b[1m268/268\u001b[0m \u001b[32m━━━━━━━━━━━━━━━━━━━━\u001b[0m\u001b[37m\u001b[0m \u001b[1m2s\u001b[0m 6ms/step - accuracy: 0.4577 - loss: 2.5969\n",
      "Epoch 307/750\n",
      "\u001b[1m268/268\u001b[0m \u001b[32m━━━━━━━━━━━━━━━━━━━━\u001b[0m\u001b[37m\u001b[0m \u001b[1m2s\u001b[0m 5ms/step - accuracy: 0.4673 - loss: 2.5652\n",
      "Epoch 308/750\n",
      "\u001b[1m268/268\u001b[0m \u001b[32m━━━━━━━━━━━━━━━━━━━━\u001b[0m\u001b[37m\u001b[0m \u001b[1m1s\u001b[0m 5ms/step - accuracy: 0.4696 - loss: 2.5681\n",
      "Epoch 309/750\n",
      "\u001b[1m268/268\u001b[0m \u001b[32m━━━━━━━━━━━━━━━━━━━━\u001b[0m\u001b[37m\u001b[0m \u001b[1m1s\u001b[0m 5ms/step - accuracy: 0.4688 - loss: 2.5568\n",
      "Epoch 310/750\n",
      "\u001b[1m268/268\u001b[0m \u001b[32m━━━━━━━━━━━━━━━━━━━━\u001b[0m\u001b[37m\u001b[0m \u001b[1m3s\u001b[0m 5ms/step - accuracy: 0.4695 - loss: 2.5583\n",
      "Epoch 311/750\n",
      "\u001b[1m268/268\u001b[0m \u001b[32m━━━━━━━━━━━━━━━━━━━━\u001b[0m\u001b[37m\u001b[0m \u001b[1m1s\u001b[0m 5ms/step - accuracy: 0.4761 - loss: 2.5290\n",
      "Epoch 312/750\n",
      "\u001b[1m268/268\u001b[0m \u001b[32m━━━━━━━━━━━━━━━━━━━━\u001b[0m\u001b[37m\u001b[0m \u001b[1m2s\u001b[0m 7ms/step - accuracy: 0.4713 - loss: 2.5408\n",
      "Epoch 313/750\n",
      "\u001b[1m268/268\u001b[0m \u001b[32m━━━━━━━━━━━━━━━━━━━━\u001b[0m\u001b[37m\u001b[0m \u001b[1m2s\u001b[0m 7ms/step - accuracy: 0.4786 - loss: 2.5173\n",
      "Epoch 314/750\n",
      "\u001b[1m268/268\u001b[0m \u001b[32m━━━━━━━━━━━━━━━━━━━━\u001b[0m\u001b[37m\u001b[0m \u001b[1m1s\u001b[0m 5ms/step - accuracy: 0.4732 - loss: 2.5330\n",
      "Epoch 315/750\n",
      "\u001b[1m268/268\u001b[0m \u001b[32m━━━━━━━━━━━━━━━━━━━━\u001b[0m\u001b[37m\u001b[0m \u001b[1m1s\u001b[0m 5ms/step - accuracy: 0.4778 - loss: 2.5188\n",
      "Epoch 316/750\n",
      "\u001b[1m268/268\u001b[0m \u001b[32m━━━━━━━━━━━━━━━━━━━━\u001b[0m\u001b[37m\u001b[0m \u001b[1m3s\u001b[0m 5ms/step - accuracy: 0.4821 - loss: 2.4952\n",
      "Epoch 317/750\n",
      "\u001b[1m268/268\u001b[0m \u001b[32m━━━━━━━━━━━━━━━━━━━━\u001b[0m\u001b[37m\u001b[0m \u001b[1m2s\u001b[0m 5ms/step - accuracy: 0.4784 - loss: 2.5022\n",
      "Epoch 318/750\n",
      "\u001b[1m268/268\u001b[0m \u001b[32m━━━━━━━━━━━━━━━━━━━━\u001b[0m\u001b[37m\u001b[0m \u001b[1m3s\u001b[0m 6ms/step - accuracy: 0.4850 - loss: 2.4757\n",
      "Epoch 319/750\n",
      "\u001b[1m268/268\u001b[0m \u001b[32m━━━━━━━━━━━━━━━━━━━━\u001b[0m\u001b[37m\u001b[0m \u001b[1m3s\u001b[0m 7ms/step - accuracy: 0.4816 - loss: 2.4936\n",
      "Epoch 320/750\n",
      "\u001b[1m268/268\u001b[0m \u001b[32m━━━━━━━━━━━━━━━━━━━━\u001b[0m\u001b[37m\u001b[0m \u001b[1m1s\u001b[0m 5ms/step - accuracy: 0.4841 - loss: 2.4948\n",
      "Epoch 321/750\n",
      "\u001b[1m268/268\u001b[0m \u001b[32m━━━━━━━━━━━━━━━━━━━━\u001b[0m\u001b[37m\u001b[0m \u001b[1m3s\u001b[0m 5ms/step - accuracy: 0.4878 - loss: 2.4503\n",
      "Epoch 322/750\n",
      "\u001b[1m268/268\u001b[0m \u001b[32m━━━━━━━━━━━━━━━━━━━━\u001b[0m\u001b[37m\u001b[0m \u001b[1m1s\u001b[0m 5ms/step - accuracy: 0.4895 - loss: 2.4626\n",
      "Epoch 323/750\n",
      "\u001b[1m268/268\u001b[0m \u001b[32m━━━━━━━━━━━━━━━━━━━━\u001b[0m\u001b[37m\u001b[0m \u001b[1m3s\u001b[0m 5ms/step - accuracy: 0.4787 - loss: 2.4910\n",
      "Epoch 324/750\n",
      "\u001b[1m268/268\u001b[0m \u001b[32m━━━━━━━━━━━━━━━━━━━━\u001b[0m\u001b[37m\u001b[0m \u001b[1m3s\u001b[0m 8ms/step - accuracy: 0.4897 - loss: 2.4287\n",
      "Epoch 325/750\n",
      "\u001b[1m268/268\u001b[0m \u001b[32m━━━━━━━━━━━━━━━━━━━━\u001b[0m\u001b[37m\u001b[0m \u001b[1m2s\u001b[0m 6ms/step - accuracy: 0.5011 - loss: 2.4238\n",
      "Epoch 326/750\n",
      "\u001b[1m268/268\u001b[0m \u001b[32m━━━━━━━━━━━━━━━━━━━━\u001b[0m\u001b[37m\u001b[0m \u001b[1m2s\u001b[0m 5ms/step - accuracy: 0.4867 - loss: 2.4539\n",
      "Epoch 327/750\n",
      "\u001b[1m268/268\u001b[0m \u001b[32m━━━━━━━━━━━━━━━━━━━━\u001b[0m\u001b[37m\u001b[0m \u001b[1m1s\u001b[0m 5ms/step - accuracy: 0.4946 - loss: 2.4440\n",
      "Epoch 328/750\n",
      "\u001b[1m268/268\u001b[0m \u001b[32m━━━━━━━━━━━━━━━━━━━━\u001b[0m\u001b[37m\u001b[0m \u001b[1m3s\u001b[0m 5ms/step - accuracy: 0.4920 - loss: 2.4341\n",
      "Epoch 329/750\n",
      "\u001b[1m268/268\u001b[0m \u001b[32m━━━━━━━━━━━━━━━━━━━━\u001b[0m\u001b[37m\u001b[0m \u001b[1m1s\u001b[0m 5ms/step - accuracy: 0.5024 - loss: 2.3992\n",
      "Epoch 330/750\n",
      "\u001b[1m268/268\u001b[0m \u001b[32m━━━━━━━━━━━━━━━━━━━━\u001b[0m\u001b[37m\u001b[0m \u001b[1m1s\u001b[0m 5ms/step - accuracy: 0.4985 - loss: 2.4071\n",
      "Epoch 331/750\n",
      "\u001b[1m268/268\u001b[0m \u001b[32m━━━━━━━━━━━━━━━━━━━━\u001b[0m\u001b[37m\u001b[0m \u001b[1m3s\u001b[0m 7ms/step - accuracy: 0.4964 - loss: 2.4128\n",
      "Epoch 332/750\n",
      "\u001b[1m268/268\u001b[0m \u001b[32m━━━━━━━━━━━━━━━━━━━━\u001b[0m\u001b[37m\u001b[0m \u001b[1m2s\u001b[0m 5ms/step - accuracy: 0.4981 - loss: 2.4005\n",
      "Epoch 333/750\n",
      "\u001b[1m268/268\u001b[0m \u001b[32m━━━━━━━━━━━━━━━━━━━━\u001b[0m\u001b[37m\u001b[0m \u001b[1m1s\u001b[0m 5ms/step - accuracy: 0.5005 - loss: 2.3789\n",
      "Epoch 334/750\n",
      "\u001b[1m268/268\u001b[0m \u001b[32m━━━━━━━━━━━━━━━━━━━━\u001b[0m\u001b[37m\u001b[0m \u001b[1m1s\u001b[0m 5ms/step - accuracy: 0.5074 - loss: 2.3757\n",
      "Epoch 335/750\n",
      "\u001b[1m268/268\u001b[0m \u001b[32m━━━━━━━━━━━━━━━━━━━━\u001b[0m\u001b[37m\u001b[0m \u001b[1m3s\u001b[0m 5ms/step - accuracy: 0.5158 - loss: 2.3472\n",
      "Epoch 336/750\n",
      "\u001b[1m268/268\u001b[0m \u001b[32m━━━━━━━━━━━━━━━━━━━━\u001b[0m\u001b[37m\u001b[0m \u001b[1m1s\u001b[0m 5ms/step - accuracy: 0.5143 - loss: 2.3443\n",
      "Epoch 337/750\n",
      "\u001b[1m268/268\u001b[0m \u001b[32m━━━━━━━━━━━━━━━━━━━━\u001b[0m\u001b[37m\u001b[0m \u001b[1m2s\u001b[0m 7ms/step - accuracy: 0.5109 - loss: 2.3598\n",
      "Epoch 338/750\n",
      "\u001b[1m268/268\u001b[0m \u001b[32m━━━━━━━━━━━━━━━━━━━━\u001b[0m\u001b[37m\u001b[0m \u001b[1m2s\u001b[0m 6ms/step - accuracy: 0.5100 - loss: 2.3470\n",
      "Epoch 339/750\n",
      "\u001b[1m268/268\u001b[0m \u001b[32m━━━━━━━━━━━━━━━━━━━━\u001b[0m\u001b[37m\u001b[0m \u001b[1m1s\u001b[0m 5ms/step - accuracy: 0.5076 - loss: 2.3607\n",
      "Epoch 340/750\n",
      "\u001b[1m268/268\u001b[0m \u001b[32m━━━━━━━━━━━━━━━━━━━━\u001b[0m\u001b[37m\u001b[0m \u001b[1m1s\u001b[0m 5ms/step - accuracy: 0.5180 - loss: 2.3235\n",
      "Epoch 341/750\n",
      "\u001b[1m268/268\u001b[0m \u001b[32m━━━━━━━━━━━━━━━━━━━━\u001b[0m\u001b[37m\u001b[0m \u001b[1m1s\u001b[0m 5ms/step - accuracy: 0.5156 - loss: 2.3403\n",
      "Epoch 342/750\n",
      "\u001b[1m268/268\u001b[0m \u001b[32m━━━━━━━━━━━━━━━━━━━━\u001b[0m\u001b[37m\u001b[0m \u001b[1m3s\u001b[0m 5ms/step - accuracy: 0.5130 - loss: 2.3220\n",
      "Epoch 343/750\n",
      "\u001b[1m268/268\u001b[0m \u001b[32m━━━━━━━━━━━━━━━━━━━━\u001b[0m\u001b[37m\u001b[0m \u001b[1m3s\u001b[0m 5ms/step - accuracy: 0.5231 - loss: 2.3151\n",
      "Epoch 344/750\n",
      "\u001b[1m268/268\u001b[0m \u001b[32m━━━━━━━━━━━━━━━━━━━━\u001b[0m\u001b[37m\u001b[0m \u001b[1m3s\u001b[0m 7ms/step - accuracy: 0.5253 - loss: 2.2884\n",
      "Epoch 345/750\n",
      "\u001b[1m268/268\u001b[0m \u001b[32m━━━━━━━━━━━━━━━━━━━━\u001b[0m\u001b[37m\u001b[0m \u001b[1m1s\u001b[0m 5ms/step - accuracy: 0.5233 - loss: 2.2830\n",
      "Epoch 346/750\n",
      "\u001b[1m268/268\u001b[0m \u001b[32m━━━━━━━━━━━━━━━━━━━━\u001b[0m\u001b[37m\u001b[0m \u001b[1m3s\u001b[0m 5ms/step - accuracy: 0.5256 - loss: 2.2949\n",
      "Epoch 347/750\n",
      "\u001b[1m268/268\u001b[0m \u001b[32m━━━━━━━━━━━━━━━━━━━━\u001b[0m\u001b[37m\u001b[0m \u001b[1m1s\u001b[0m 5ms/step - accuracy: 0.5226 - loss: 2.3024\n",
      "Epoch 348/750\n",
      "\u001b[1m268/268\u001b[0m \u001b[32m━━━━━━━━━━━━━━━━━━━━\u001b[0m\u001b[37m\u001b[0m \u001b[1m3s\u001b[0m 5ms/step - accuracy: 0.5304 - loss: 2.2515\n",
      "Epoch 349/750\n",
      "\u001b[1m268/268\u001b[0m \u001b[32m━━━━━━━━━━━━━━━━━━━━\u001b[0m\u001b[37m\u001b[0m \u001b[1m3s\u001b[0m 7ms/step - accuracy: 0.5367 - loss: 2.2521\n",
      "Epoch 350/750\n",
      "\u001b[1m268/268\u001b[0m \u001b[32m━━━━━━━━━━━━━━━━━━━━\u001b[0m\u001b[37m\u001b[0m \u001b[1m2s\u001b[0m 6ms/step - accuracy: 0.5302 - loss: 2.2560\n",
      "Epoch 351/750\n",
      "\u001b[1m268/268\u001b[0m \u001b[32m━━━━━━━━━━━━━━━━━━━━\u001b[0m\u001b[37m\u001b[0m \u001b[1m1s\u001b[0m 5ms/step - accuracy: 0.5271 - loss: 2.2752\n",
      "Epoch 352/750\n",
      "\u001b[1m268/268\u001b[0m \u001b[32m━━━━━━━━━━━━━━━━━━━━\u001b[0m\u001b[37m\u001b[0m \u001b[1m3s\u001b[0m 5ms/step - accuracy: 0.5277 - loss: 2.2669\n",
      "Epoch 353/750\n",
      "\u001b[1m268/268\u001b[0m \u001b[32m━━━━━━━━━━━━━━━━━━━━\u001b[0m\u001b[37m\u001b[0m \u001b[1m1s\u001b[0m 5ms/step - accuracy: 0.5270 - loss: 2.2667\n",
      "Epoch 354/750\n",
      "\u001b[1m268/268\u001b[0m \u001b[32m━━━━━━━━━━━━━━━━━━━━\u001b[0m\u001b[37m\u001b[0m \u001b[1m3s\u001b[0m 5ms/step - accuracy: 0.5349 - loss: 2.2366\n",
      "Epoch 355/750\n",
      "\u001b[1m268/268\u001b[0m \u001b[32m━━━━━━━━━━━━━━━━━━━━\u001b[0m\u001b[37m\u001b[0m \u001b[1m3s\u001b[0m 7ms/step - accuracy: 0.5359 - loss: 2.2407\n",
      "Epoch 356/750\n",
      "\u001b[1m268/268\u001b[0m \u001b[32m━━━━━━━━━━━━━━━━━━━━\u001b[0m\u001b[37m\u001b[0m \u001b[1m2s\u001b[0m 6ms/step - accuracy: 0.5314 - loss: 2.2469\n",
      "Epoch 357/750\n",
      "\u001b[1m268/268\u001b[0m \u001b[32m━━━━━━━━━━━━━━━━━━━━\u001b[0m\u001b[37m\u001b[0m \u001b[1m1s\u001b[0m 5ms/step - accuracy: 0.5383 - loss: 2.2127\n",
      "Epoch 358/750\n",
      "\u001b[1m268/268\u001b[0m \u001b[32m━━━━━━━━━━━━━━━━━━━━\u001b[0m\u001b[37m\u001b[0m \u001b[1m3s\u001b[0m 5ms/step - accuracy: 0.5389 - loss: 2.2260\n",
      "Epoch 359/750\n",
      "\u001b[1m268/268\u001b[0m \u001b[32m━━━━━━━━━━━━━━━━━━━━\u001b[0m\u001b[37m\u001b[0m \u001b[1m1s\u001b[0m 5ms/step - accuracy: 0.5405 - loss: 2.2244\n",
      "Epoch 360/750\n",
      "\u001b[1m268/268\u001b[0m \u001b[32m━━━━━━━━━━━━━━━━━━━━\u001b[0m\u001b[37m\u001b[0m \u001b[1m1s\u001b[0m 5ms/step - accuracy: 0.5388 - loss: 2.2065\n",
      "Epoch 361/750\n",
      "\u001b[1m268/268\u001b[0m \u001b[32m━━━━━━━━━━━━━━━━━━━━\u001b[0m\u001b[37m\u001b[0m \u001b[1m1s\u001b[0m 5ms/step - accuracy: 0.5398 - loss: 2.2002\n",
      "Epoch 362/750\n",
      "\u001b[1m268/268\u001b[0m \u001b[32m━━━━━━━━━━━━━━━━━━━━\u001b[0m\u001b[37m\u001b[0m \u001b[1m3s\u001b[0m 7ms/step - accuracy: 0.5415 - loss: 2.1946\n",
      "Epoch 363/750\n",
      "\u001b[1m268/268\u001b[0m \u001b[32m━━━━━━━━━━━━━━━━━━━━\u001b[0m\u001b[37m\u001b[0m \u001b[1m2s\u001b[0m 6ms/step - accuracy: 0.5508 - loss: 2.1773\n",
      "Epoch 364/750\n",
      "\u001b[1m268/268\u001b[0m \u001b[32m━━━━━━━━━━━━━━━━━━━━\u001b[0m\u001b[37m\u001b[0m \u001b[1m2s\u001b[0m 5ms/step - accuracy: 0.5427 - loss: 2.1908\n",
      "Epoch 365/750\n",
      "\u001b[1m268/268\u001b[0m \u001b[32m━━━━━━━━━━━━━━━━━━━━\u001b[0m\u001b[37m\u001b[0m \u001b[1m3s\u001b[0m 5ms/step - accuracy: 0.5492 - loss: 2.1752\n",
      "Epoch 366/750\n",
      "\u001b[1m268/268\u001b[0m \u001b[32m━━━━━━━━━━━━━━━━━━━━\u001b[0m\u001b[37m\u001b[0m \u001b[1m3s\u001b[0m 5ms/step - accuracy: 0.5547 - loss: 2.1573\n",
      "Epoch 367/750\n",
      "\u001b[1m268/268\u001b[0m \u001b[32m━━━━━━━━━━━━━━━━━━━━\u001b[0m\u001b[37m\u001b[0m \u001b[1m1s\u001b[0m 5ms/step - accuracy: 0.5474 - loss: 2.1714\n",
      "Epoch 368/750\n",
      "\u001b[1m268/268\u001b[0m \u001b[32m━━━━━━━━━━━━━━━━━━━━\u001b[0m\u001b[37m\u001b[0m \u001b[1m3s\u001b[0m 7ms/step - accuracy: 0.5539 - loss: 2.1376\n",
      "Epoch 369/750\n",
      "\u001b[1m268/268\u001b[0m \u001b[32m━━━━━━━━━━━━━━━━━━━━\u001b[0m\u001b[37m\u001b[0m \u001b[1m2s\u001b[0m 5ms/step - accuracy: 0.5550 - loss: 2.1284\n",
      "Epoch 370/750\n",
      "\u001b[1m268/268\u001b[0m \u001b[32m━━━━━━━━━━━━━━━━━━━━\u001b[0m\u001b[37m\u001b[0m \u001b[1m1s\u001b[0m 5ms/step - accuracy: 0.5577 - loss: 2.1331\n",
      "Epoch 371/750\n",
      "\u001b[1m268/268\u001b[0m \u001b[32m━━━━━━━━━━━━━━━━━━━━\u001b[0m\u001b[37m\u001b[0m \u001b[1m1s\u001b[0m 5ms/step - accuracy: 0.5539 - loss: 2.1530\n",
      "Epoch 372/750\n",
      "\u001b[1m268/268\u001b[0m \u001b[32m━━━━━━━━━━━━━━━━━━━━\u001b[0m\u001b[37m\u001b[0m \u001b[1m1s\u001b[0m 5ms/step - accuracy: 0.5571 - loss: 2.1356\n",
      "Epoch 373/750\n",
      "\u001b[1m268/268\u001b[0m \u001b[32m━━━━━━━━━━━━━━━━━━━━\u001b[0m\u001b[37m\u001b[0m \u001b[1m3s\u001b[0m 5ms/step - accuracy: 0.5600 - loss: 2.1174\n",
      "Epoch 374/750\n",
      "\u001b[1m268/268\u001b[0m \u001b[32m━━━━━━━━━━━━━━━━━━━━\u001b[0m\u001b[37m\u001b[0m \u001b[1m3s\u001b[0m 8ms/step - accuracy: 0.5600 - loss: 2.0911\n",
      "Epoch 375/750\n",
      "\u001b[1m268/268\u001b[0m \u001b[32m━━━━━━━━━━━━━━━━━━━━\u001b[0m\u001b[37m\u001b[0m \u001b[1m2s\u001b[0m 5ms/step - accuracy: 0.5556 - loss: 2.1200\n",
      "Epoch 376/750\n",
      "\u001b[1m268/268\u001b[0m \u001b[32m━━━━━━━━━━━━━━━━━━━━\u001b[0m\u001b[37m\u001b[0m \u001b[1m1s\u001b[0m 5ms/step - accuracy: 0.5555 - loss: 2.1192\n",
      "Epoch 377/750\n",
      "\u001b[1m268/268\u001b[0m \u001b[32m━━━━━━━━━━━━━━━━━━━━\u001b[0m\u001b[37m\u001b[0m \u001b[1m3s\u001b[0m 5ms/step - accuracy: 0.5689 - loss: 2.0887\n",
      "Epoch 378/750\n",
      "\u001b[1m268/268\u001b[0m \u001b[32m━━━━━━━━━━━━━━━━━━━━\u001b[0m\u001b[37m\u001b[0m \u001b[1m3s\u001b[0m 5ms/step - accuracy: 0.5663 - loss: 2.1000\n",
      "Epoch 379/750\n",
      "\u001b[1m268/268\u001b[0m \u001b[32m━━━━━━━━━━━━━━━━━━━━\u001b[0m\u001b[37m\u001b[0m \u001b[1m3s\u001b[0m 6ms/step - accuracy: 0.5661 - loss: 2.1079\n",
      "Epoch 380/750\n",
      "\u001b[1m268/268\u001b[0m \u001b[32m━━━━━━━━━━━━━━━━━━━━\u001b[0m\u001b[37m\u001b[0m \u001b[1m3s\u001b[0m 7ms/step - accuracy: 0.5650 - loss: 2.1059\n",
      "Epoch 381/750\n",
      "\u001b[1m268/268\u001b[0m \u001b[32m━━━━━━━━━━━━━━━━━━━━\u001b[0m\u001b[37m\u001b[0m \u001b[1m1s\u001b[0m 5ms/step - accuracy: 0.5711 - loss: 2.0862\n",
      "Epoch 382/750\n",
      "\u001b[1m268/268\u001b[0m \u001b[32m━━━━━━━━━━━━━━━━━━━━\u001b[0m\u001b[37m\u001b[0m \u001b[1m1s\u001b[0m 5ms/step - accuracy: 0.5701 - loss: 2.0542\n",
      "Epoch 383/750\n",
      "\u001b[1m268/268\u001b[0m \u001b[32m━━━━━━━━━━━━━━━━━━━━\u001b[0m\u001b[37m\u001b[0m \u001b[1m1s\u001b[0m 5ms/step - accuracy: 0.5731 - loss: 2.0599\n",
      "Epoch 384/750\n",
      "\u001b[1m268/268\u001b[0m \u001b[32m━━━━━━━━━━━━━━━━━━━━\u001b[0m\u001b[37m\u001b[0m \u001b[1m1s\u001b[0m 5ms/step - accuracy: 0.5733 - loss: 2.0558\n",
      "Epoch 385/750\n",
      "\u001b[1m268/268\u001b[0m \u001b[32m━━━━━━━━━━━━━━━━━━━━\u001b[0m\u001b[37m\u001b[0m \u001b[1m3s\u001b[0m 5ms/step - accuracy: 0.5770 - loss: 2.0322\n",
      "Epoch 386/750\n",
      "\u001b[1m268/268\u001b[0m \u001b[32m━━━━━━━━━━━━━━━━━━━━\u001b[0m\u001b[37m\u001b[0m \u001b[1m2s\u001b[0m 6ms/step - accuracy: 0.5736 - loss: 2.0546\n",
      "Epoch 387/750\n",
      "\u001b[1m268/268\u001b[0m \u001b[32m━━━━━━━━━━━━━━━━━━━━\u001b[0m\u001b[37m\u001b[0m \u001b[1m2s\u001b[0m 8ms/step - accuracy: 0.5806 - loss: 2.0286\n",
      "Epoch 388/750\n",
      "\u001b[1m268/268\u001b[0m \u001b[32m━━━━━━━━━━━━━━━━━━━━\u001b[0m\u001b[37m\u001b[0m \u001b[1m2s\u001b[0m 5ms/step - accuracy: 0.5806 - loss: 2.0191\n",
      "Epoch 389/750\n",
      "\u001b[1m268/268\u001b[0m \u001b[32m━━━━━━━━━━━━━━━━━━━━\u001b[0m\u001b[37m\u001b[0m \u001b[1m2s\u001b[0m 5ms/step - accuracy: 0.5831 - loss: 2.0136\n",
      "Epoch 390/750\n",
      "\u001b[1m268/268\u001b[0m \u001b[32m━━━━━━━━━━━━━━━━━━━━\u001b[0m\u001b[37m\u001b[0m \u001b[1m1s\u001b[0m 5ms/step - accuracy: 0.5799 - loss: 2.0178\n",
      "Epoch 391/750\n",
      "\u001b[1m268/268\u001b[0m \u001b[32m━━━━━━━━━━━━━━━━━━━━\u001b[0m\u001b[37m\u001b[0m \u001b[1m1s\u001b[0m 5ms/step - accuracy: 0.5791 - loss: 2.0232\n",
      "Epoch 392/750\n",
      "\u001b[1m268/268\u001b[0m \u001b[32m━━━━━━━━━━━━━━━━━━━━\u001b[0m\u001b[37m\u001b[0m \u001b[1m3s\u001b[0m 5ms/step - accuracy: 0.5850 - loss: 1.9974\n",
      "Epoch 393/750\n",
      "\u001b[1m268/268\u001b[0m \u001b[32m━━━━━━━━━━━━━━━━━━━━\u001b[0m\u001b[37m\u001b[0m \u001b[1m2s\u001b[0m 6ms/step - accuracy: 0.5819 - loss: 2.0321\n",
      "Epoch 394/750\n",
      "\u001b[1m268/268\u001b[0m \u001b[32m━━━━━━━━━━━━━━━━━━━━\u001b[0m\u001b[37m\u001b[0m \u001b[1m2s\u001b[0m 8ms/step - accuracy: 0.5815 - loss: 2.0127\n",
      "Epoch 395/750\n",
      "\u001b[1m268/268\u001b[0m \u001b[32m━━━━━━━━━━━━━━━━━━━━\u001b[0m\u001b[37m\u001b[0m \u001b[1m2s\u001b[0m 5ms/step - accuracy: 0.5855 - loss: 1.9940\n",
      "Epoch 396/750\n",
      "\u001b[1m268/268\u001b[0m \u001b[32m━━━━━━━━━━━━━━━━━━━━\u001b[0m\u001b[37m\u001b[0m \u001b[1m3s\u001b[0m 5ms/step - accuracy: 0.5903 - loss: 1.9974\n",
      "Epoch 397/750\n",
      "\u001b[1m268/268\u001b[0m \u001b[32m━━━━━━━━━━━━━━━━━━━━\u001b[0m\u001b[37m\u001b[0m \u001b[1m3s\u001b[0m 5ms/step - accuracy: 0.5863 - loss: 2.0082\n",
      "Epoch 398/750\n",
      "\u001b[1m268/268\u001b[0m \u001b[32m━━━━━━━━━━━━━━━━━━━━\u001b[0m\u001b[37m\u001b[0m \u001b[1m1s\u001b[0m 5ms/step - accuracy: 0.5910 - loss: 1.9906\n",
      "Epoch 399/750\n",
      "\u001b[1m268/268\u001b[0m \u001b[32m━━━━━━━━━━━━━━━━━━━━\u001b[0m\u001b[37m\u001b[0m \u001b[1m1s\u001b[0m 5ms/step - accuracy: 0.5947 - loss: 1.9781\n",
      "Epoch 400/750\n",
      "\u001b[1m268/268\u001b[0m \u001b[32m━━━━━━━━━━━━━━━━━━━━\u001b[0m\u001b[37m\u001b[0m \u001b[1m2s\u001b[0m 7ms/step - accuracy: 0.5873 - loss: 1.9783\n",
      "Epoch 401/750\n",
      "\u001b[1m268/268\u001b[0m \u001b[32m━━━━━━━━━━━━━━━━━━━━\u001b[0m\u001b[37m\u001b[0m \u001b[1m2s\u001b[0m 8ms/step - accuracy: 0.5914 - loss: 1.9770\n",
      "Epoch 402/750\n",
      "\u001b[1m268/268\u001b[0m \u001b[32m━━━━━━━━━━━━━━━━━━━━\u001b[0m\u001b[37m\u001b[0m \u001b[1m1s\u001b[0m 5ms/step - accuracy: 0.5939 - loss: 1.9709\n",
      "Epoch 403/750\n",
      "\u001b[1m268/268\u001b[0m \u001b[32m━━━━━━━━━━━━━━━━━━━━\u001b[0m\u001b[37m\u001b[0m \u001b[1m3s\u001b[0m 5ms/step - accuracy: 0.5878 - loss: 1.9696\n",
      "Epoch 404/750\n",
      "\u001b[1m268/268\u001b[0m \u001b[32m━━━━━━━━━━━━━━━━━━━━\u001b[0m\u001b[37m\u001b[0m \u001b[1m1s\u001b[0m 5ms/step - accuracy: 0.5989 - loss: 1.9631\n",
      "Epoch 405/750\n",
      "\u001b[1m268/268\u001b[0m \u001b[32m━━━━━━━━━━━━━━━━━━━━\u001b[0m\u001b[37m\u001b[0m \u001b[1m3s\u001b[0m 5ms/step - accuracy: 0.5991 - loss: 1.9416\n",
      "Epoch 406/750\n",
      "\u001b[1m268/268\u001b[0m \u001b[32m━━━━━━━━━━━━━━━━━━━━\u001b[0m\u001b[37m\u001b[0m \u001b[1m1s\u001b[0m 5ms/step - accuracy: 0.6013 - loss: 1.9292\n",
      "Epoch 407/750\n",
      "\u001b[1m268/268\u001b[0m \u001b[32m━━━━━━━━━━━━━━━━━━━━\u001b[0m\u001b[37m\u001b[0m \u001b[1m3s\u001b[0m 8ms/step - accuracy: 0.6011 - loss: 1.9378\n",
      "Epoch 408/750\n",
      "\u001b[1m268/268\u001b[0m \u001b[32m━━━━━━━━━━━━━━━━━━━━\u001b[0m\u001b[37m\u001b[0m \u001b[1m2s\u001b[0m 5ms/step - accuracy: 0.6061 - loss: 1.9102\n",
      "Epoch 409/750\n",
      "\u001b[1m268/268\u001b[0m \u001b[32m━━━━━━━━━━━━━━━━━━━━\u001b[0m\u001b[37m\u001b[0m \u001b[1m2s\u001b[0m 5ms/step - accuracy: 0.6045 - loss: 1.9249\n",
      "Epoch 410/750\n",
      "\u001b[1m268/268\u001b[0m \u001b[32m━━━━━━━━━━━━━━━━━━━━\u001b[0m\u001b[37m\u001b[0m \u001b[1m3s\u001b[0m 5ms/step - accuracy: 0.6059 - loss: 1.9243\n",
      "Epoch 411/750\n",
      "\u001b[1m268/268\u001b[0m \u001b[32m━━━━━━━━━━━━━━━━━━━━\u001b[0m\u001b[37m\u001b[0m \u001b[1m1s\u001b[0m 5ms/step - accuracy: 0.6071 - loss: 1.9063\n",
      "Epoch 412/750\n",
      "\u001b[1m268/268\u001b[0m \u001b[32m━━━━━━━━━━━━━━━━━━━━\u001b[0m\u001b[37m\u001b[0m \u001b[1m3s\u001b[0m 7ms/step - accuracy: 0.6157 - loss: 1.8904\n",
      "Epoch 413/750\n",
      "\u001b[1m268/268\u001b[0m \u001b[32m━━━━━━━━━━━━━━━━━━━━\u001b[0m\u001b[37m\u001b[0m \u001b[1m2s\u001b[0m 8ms/step - accuracy: 0.6125 - loss: 1.8993\n",
      "Epoch 414/750\n",
      "\u001b[1m268/268\u001b[0m \u001b[32m━━━━━━━━━━━━━━━━━━━━\u001b[0m\u001b[37m\u001b[0m \u001b[1m2s\u001b[0m 6ms/step - accuracy: 0.6101 - loss: 1.8968\n",
      "Epoch 415/750\n",
      "\u001b[1m268/268\u001b[0m \u001b[32m━━━━━━━━━━━━━━━━━━━━\u001b[0m\u001b[37m\u001b[0m \u001b[1m1s\u001b[0m 5ms/step - accuracy: 0.6127 - loss: 1.8802\n",
      "Epoch 416/750\n",
      "\u001b[1m268/268\u001b[0m \u001b[32m━━━━━━━━━━━━━━━━━━━━\u001b[0m\u001b[37m\u001b[0m \u001b[1m3s\u001b[0m 5ms/step - accuracy: 0.6155 - loss: 1.8649\n",
      "Epoch 417/750\n",
      "\u001b[1m268/268\u001b[0m \u001b[32m━━━━━━━━━━━━━━━━━━━━\u001b[0m\u001b[37m\u001b[0m \u001b[1m1s\u001b[0m 5ms/step - accuracy: 0.6146 - loss: 1.8684\n",
      "Epoch 418/750\n",
      "\u001b[1m268/268\u001b[0m \u001b[32m━━━━━━━━━━━━━━━━━━━━\u001b[0m\u001b[37m\u001b[0m \u001b[1m3s\u001b[0m 6ms/step - accuracy: 0.6178 - loss: 1.8722\n",
      "Epoch 419/750\n",
      "\u001b[1m268/268\u001b[0m \u001b[32m━━━━━━━━━━━━━━━━━━━━\u001b[0m\u001b[37m\u001b[0m \u001b[1m3s\u001b[0m 8ms/step - accuracy: 0.6221 - loss: 1.8665\n",
      "Epoch 420/750\n",
      "\u001b[1m268/268\u001b[0m \u001b[32m━━━━━━━━━━━━━━━━━━━━\u001b[0m\u001b[37m\u001b[0m \u001b[1m2s\u001b[0m 5ms/step - accuracy: 0.6138 - loss: 1.8806\n",
      "Epoch 421/750\n",
      "\u001b[1m268/268\u001b[0m \u001b[32m━━━━━━━━━━━━━━━━━━━━\u001b[0m\u001b[37m\u001b[0m \u001b[1m3s\u001b[0m 5ms/step - accuracy: 0.6169 - loss: 1.8594\n",
      "Epoch 422/750\n",
      "\u001b[1m268/268\u001b[0m \u001b[32m━━━━━━━━━━━━━━━━━━━━\u001b[0m\u001b[37m\u001b[0m \u001b[1m3s\u001b[0m 6ms/step - accuracy: 0.6171 - loss: 1.8503\n",
      "Epoch 423/750\n",
      "\u001b[1m268/268\u001b[0m \u001b[32m━━━━━━━━━━━━━━━━━━━━\u001b[0m\u001b[37m\u001b[0m \u001b[1m3s\u001b[0m 5ms/step - accuracy: 0.6208 - loss: 1.8559\n",
      "Epoch 424/750\n",
      "\u001b[1m268/268\u001b[0m \u001b[32m━━━━━━━━━━━━━━━━━━━━\u001b[0m\u001b[37m\u001b[0m \u001b[1m3s\u001b[0m 7ms/step - accuracy: 0.6186 - loss: 1.8543\n",
      "Epoch 425/750\n",
      "\u001b[1m268/268\u001b[0m \u001b[32m━━━━━━━━━━━━━━━━━━━━\u001b[0m\u001b[37m\u001b[0m \u001b[1m2s\u001b[0m 7ms/step - accuracy: 0.6155 - loss: 1.8603\n",
      "Epoch 426/750\n",
      "\u001b[1m268/268\u001b[0m \u001b[32m━━━━━━━━━━━━━━━━━━━━\u001b[0m\u001b[37m\u001b[0m \u001b[1m2s\u001b[0m 5ms/step - accuracy: 0.6246 - loss: 1.8349\n",
      "Epoch 427/750\n",
      "\u001b[1m268/268\u001b[0m \u001b[32m━━━━━━━━━━━━━━━━━━━━\u001b[0m\u001b[37m\u001b[0m \u001b[1m1s\u001b[0m 5ms/step - accuracy: 0.6250 - loss: 1.8318\n",
      "Epoch 428/750\n",
      "\u001b[1m268/268\u001b[0m \u001b[32m━━━━━━━━━━━━━━━━━━━━\u001b[0m\u001b[37m\u001b[0m \u001b[1m3s\u001b[0m 5ms/step - accuracy: 0.6268 - loss: 1.8473\n",
      "Epoch 429/750\n",
      "\u001b[1m268/268\u001b[0m \u001b[32m━━━━━━━━━━━━━━━━━━━━\u001b[0m\u001b[37m\u001b[0m \u001b[1m1s\u001b[0m 5ms/step - accuracy: 0.6277 - loss: 1.8205\n",
      "Epoch 430/750\n",
      "\u001b[1m268/268\u001b[0m \u001b[32m━━━━━━━━━━━━━━━━━━━━\u001b[0m\u001b[37m\u001b[0m \u001b[1m1s\u001b[0m 5ms/step - accuracy: 0.6279 - loss: 1.8159\n",
      "Epoch 431/750\n",
      "\u001b[1m268/268\u001b[0m \u001b[32m━━━━━━━━━━━━━━━━━━━━\u001b[0m\u001b[37m\u001b[0m \u001b[1m3s\u001b[0m 8ms/step - accuracy: 0.6311 - loss: 1.8002\n",
      "Epoch 432/750\n",
      "\u001b[1m268/268\u001b[0m \u001b[32m━━━━━━━━━━━━━━━━━━━━\u001b[0m\u001b[37m\u001b[0m \u001b[1m2s\u001b[0m 6ms/step - accuracy: 0.6280 - loss: 1.8098\n",
      "Epoch 433/750\n",
      "\u001b[1m268/268\u001b[0m \u001b[32m━━━━━━━━━━━━━━━━━━━━\u001b[0m\u001b[37m\u001b[0m \u001b[1m3s\u001b[0m 6ms/step - accuracy: 0.6411 - loss: 1.7602\n",
      "Epoch 434/750\n",
      "\u001b[1m268/268\u001b[0m \u001b[32m━━━━━━━━━━━━━━━━━━━━\u001b[0m\u001b[37m\u001b[0m \u001b[1m1s\u001b[0m 5ms/step - accuracy: 0.6337 - loss: 1.7955\n",
      "Epoch 435/750\n",
      "\u001b[1m268/268\u001b[0m \u001b[32m━━━━━━━━━━━━━━━━━━━━\u001b[0m\u001b[37m\u001b[0m \u001b[1m3s\u001b[0m 5ms/step - accuracy: 0.6390 - loss: 1.7807\n",
      "Epoch 436/750\n",
      "\u001b[1m268/268\u001b[0m \u001b[32m━━━━━━━━━━━━━━━━━━━━\u001b[0m\u001b[37m\u001b[0m \u001b[1m1s\u001b[0m 5ms/step - accuracy: 0.6391 - loss: 1.7843\n",
      "Epoch 437/750\n",
      "\u001b[1m268/268\u001b[0m \u001b[32m━━━━━━━━━━━━━━━━━━━━\u001b[0m\u001b[37m\u001b[0m \u001b[1m2s\u001b[0m 7ms/step - accuracy: 0.6429 - loss: 1.7623\n",
      "Epoch 438/750\n",
      "\u001b[1m268/268\u001b[0m \u001b[32m━━━━━━━━━━━━━━━━━━━━\u001b[0m\u001b[37m\u001b[0m \u001b[1m2s\u001b[0m 7ms/step - accuracy: 0.6307 - loss: 1.7856\n",
      "Epoch 439/750\n",
      "\u001b[1m268/268\u001b[0m \u001b[32m━━━━━━━━━━━━━━━━━━━━\u001b[0m\u001b[37m\u001b[0m \u001b[1m2s\u001b[0m 6ms/step - accuracy: 0.6475 - loss: 1.7675\n",
      "Epoch 440/750\n",
      "\u001b[1m268/268\u001b[0m \u001b[32m━━━━━━━━━━━━━━━━━━━━\u001b[0m\u001b[37m\u001b[0m \u001b[1m2s\u001b[0m 5ms/step - accuracy: 0.6426 - loss: 1.7707\n",
      "Epoch 441/750\n",
      "\u001b[1m268/268\u001b[0m \u001b[32m━━━━━━━━━━━━━━━━━━━━\u001b[0m\u001b[37m\u001b[0m \u001b[1m3s\u001b[0m 5ms/step - accuracy: 0.6440 - loss: 1.7658\n",
      "Epoch 442/750\n",
      "\u001b[1m268/268\u001b[0m \u001b[32m━━━━━━━━━━━━━━━━━━━━\u001b[0m\u001b[37m\u001b[0m \u001b[1m3s\u001b[0m 6ms/step - accuracy: 0.6456 - loss: 1.7626\n",
      "Epoch 443/750\n",
      "\u001b[1m268/268\u001b[0m \u001b[32m━━━━━━━━━━━━━━━━━━━━\u001b[0m\u001b[37m\u001b[0m \u001b[1m3s\u001b[0m 7ms/step - accuracy: 0.6457 - loss: 1.7648\n",
      "Epoch 444/750\n",
      "\u001b[1m268/268\u001b[0m \u001b[32m━━━━━━━━━━━━━━━━━━━━\u001b[0m\u001b[37m\u001b[0m \u001b[1m2s\u001b[0m 6ms/step - accuracy: 0.6416 - loss: 1.7511\n",
      "Epoch 445/750\n",
      "\u001b[1m268/268\u001b[0m \u001b[32m━━━━━━━━━━━━━━━━━━━━\u001b[0m\u001b[37m\u001b[0m \u001b[1m2s\u001b[0m 5ms/step - accuracy: 0.6413 - loss: 1.7668\n",
      "Epoch 446/750\n",
      "\u001b[1m268/268\u001b[0m \u001b[32m━━━━━━━━━━━━━━━━━━━━\u001b[0m\u001b[37m\u001b[0m \u001b[1m3s\u001b[0m 6ms/step - accuracy: 0.6507 - loss: 1.7247\n",
      "Epoch 447/750\n",
      "\u001b[1m268/268\u001b[0m \u001b[32m━━━━━━━━━━━━━━━━━━━━\u001b[0m\u001b[37m\u001b[0m \u001b[1m1s\u001b[0m 5ms/step - accuracy: 0.6456 - loss: 1.7464\n",
      "Epoch 448/750\n",
      "\u001b[1m268/268\u001b[0m \u001b[32m━━━━━━━━━━━━━━━━━━━━\u001b[0m\u001b[37m\u001b[0m \u001b[1m1s\u001b[0m 5ms/step - accuracy: 0.6520 - loss: 1.7180\n",
      "Epoch 449/750\n",
      "\u001b[1m268/268\u001b[0m \u001b[32m━━━━━━━━━━━━━━━━━━━━\u001b[0m\u001b[37m\u001b[0m \u001b[1m3s\u001b[0m 7ms/step - accuracy: 0.6535 - loss: 1.7202\n",
      "Epoch 450/750\n",
      "\u001b[1m268/268\u001b[0m \u001b[32m━━━━━━━━━━━━━━━━━━━━\u001b[0m\u001b[37m\u001b[0m \u001b[1m2s\u001b[0m 6ms/step - accuracy: 0.6491 - loss: 1.7319\n",
      "Epoch 451/750\n",
      "\u001b[1m268/268\u001b[0m \u001b[32m━━━━━━━━━━━━━━━━━━━━\u001b[0m\u001b[37m\u001b[0m \u001b[1m3s\u001b[0m 5ms/step - accuracy: 0.6573 - loss: 1.6948\n",
      "Epoch 452/750\n",
      "\u001b[1m268/268\u001b[0m \u001b[32m━━━━━━━━━━━━━━━━━━━━\u001b[0m\u001b[37m\u001b[0m \u001b[1m3s\u001b[0m 6ms/step - accuracy: 0.6557 - loss: 1.7017\n",
      "Epoch 453/750\n",
      "\u001b[1m268/268\u001b[0m \u001b[32m━━━━━━━━━━━━━━━━━━━━\u001b[0m\u001b[37m\u001b[0m \u001b[1m1s\u001b[0m 5ms/step - accuracy: 0.6556 - loss: 1.7095\n",
      "Epoch 454/750\n",
      "\u001b[1m268/268\u001b[0m \u001b[32m━━━━━━━━━━━━━━━━━━━━\u001b[0m\u001b[37m\u001b[0m \u001b[1m1s\u001b[0m 5ms/step - accuracy: 0.6603 - loss: 1.6893\n",
      "Epoch 455/750\n",
      "\u001b[1m268/268\u001b[0m \u001b[32m━━━━━━━━━━━━━━━━━━━━\u001b[0m\u001b[37m\u001b[0m \u001b[1m2s\u001b[0m 7ms/step - accuracy: 0.6640 - loss: 1.6791\n",
      "Epoch 456/750\n",
      "\u001b[1m268/268\u001b[0m \u001b[32m━━━━━━━━━━━━━━━━━━━━\u001b[0m\u001b[37m\u001b[0m \u001b[1m3s\u001b[0m 7ms/step - accuracy: 0.6531 - loss: 1.7012\n",
      "Epoch 457/750\n",
      "\u001b[1m268/268\u001b[0m \u001b[32m━━━━━━━━━━━━━━━━━━━━\u001b[0m\u001b[37m\u001b[0m \u001b[1m2s\u001b[0m 6ms/step - accuracy: 0.6626 - loss: 1.6853\n",
      "Epoch 458/750\n",
      "\u001b[1m268/268\u001b[0m \u001b[32m━━━━━━━━━━━━━━━━━━━━\u001b[0m\u001b[37m\u001b[0m \u001b[1m3s\u001b[0m 6ms/step - accuracy: 0.6623 - loss: 1.6792\n",
      "Epoch 459/750\n",
      "\u001b[1m268/268\u001b[0m \u001b[32m━━━━━━━━━━━━━━━━━━━━\u001b[0m\u001b[37m\u001b[0m \u001b[1m2s\u001b[0m 5ms/step - accuracy: 0.6641 - loss: 1.6795\n",
      "Epoch 460/750\n",
      "\u001b[1m268/268\u001b[0m \u001b[32m━━━━━━━━━━━━━━━━━━━━\u001b[0m\u001b[37m\u001b[0m \u001b[1m1s\u001b[0m 6ms/step - accuracy: 0.6612 - loss: 1.6843\n",
      "Epoch 461/750\n",
      "\u001b[1m268/268\u001b[0m \u001b[32m━━━━━━━━━━━━━━━━━━━━\u001b[0m\u001b[37m\u001b[0m \u001b[1m2s\u001b[0m 7ms/step - accuracy: 0.6645 - loss: 1.6683\n",
      "Epoch 462/750\n",
      "\u001b[1m268/268\u001b[0m \u001b[32m━━━━━━━━━━━━━━━━━━━━\u001b[0m\u001b[37m\u001b[0m \u001b[1m2s\u001b[0m 6ms/step - accuracy: 0.6677 - loss: 1.6561\n",
      "Epoch 463/750\n",
      "\u001b[1m268/268\u001b[0m \u001b[32m━━━━━━━━━━━━━━━━━━━━\u001b[0m\u001b[37m\u001b[0m \u001b[1m1s\u001b[0m 5ms/step - accuracy: 0.6680 - loss: 1.6501\n",
      "Epoch 464/750\n",
      "\u001b[1m268/268\u001b[0m \u001b[32m━━━━━━━━━━━━━━━━━━━━\u001b[0m\u001b[37m\u001b[0m \u001b[1m3s\u001b[0m 5ms/step - accuracy: 0.6686 - loss: 1.6600\n",
      "Epoch 465/750\n",
      "\u001b[1m268/268\u001b[0m \u001b[32m━━━━━━━━━━━━━━━━━━━━\u001b[0m\u001b[37m\u001b[0m \u001b[1m1s\u001b[0m 5ms/step - accuracy: 0.6705 - loss: 1.6480\n",
      "Epoch 466/750\n",
      "\u001b[1m268/268\u001b[0m \u001b[32m━━━━━━━━━━━━━━━━━━━━\u001b[0m\u001b[37m\u001b[0m \u001b[1m3s\u001b[0m 6ms/step - accuracy: 0.6813 - loss: 1.6242\n",
      "Epoch 467/750\n",
      "\u001b[1m268/268\u001b[0m \u001b[32m━━━━━━━━━━━━━━━━━━━━\u001b[0m\u001b[37m\u001b[0m \u001b[1m3s\u001b[0m 7ms/step - accuracy: 0.6692 - loss: 1.6551\n",
      "Epoch 468/750\n",
      "\u001b[1m268/268\u001b[0m \u001b[32m━━━━━━━━━━━━━━━━━━━━\u001b[0m\u001b[37m\u001b[0m \u001b[1m2s\u001b[0m 7ms/step - accuracy: 0.6780 - loss: 1.6110\n",
      "Epoch 469/750\n",
      "\u001b[1m268/268\u001b[0m \u001b[32m━━━━━━━━━━━━━━━━━━━━\u001b[0m\u001b[37m\u001b[0m \u001b[1m2s\u001b[0m 6ms/step - accuracy: 0.6812 - loss: 1.6189\n",
      "Epoch 470/750\n",
      "\u001b[1m268/268\u001b[0m \u001b[32m━━━━━━━━━━━━━━━━━━━━\u001b[0m\u001b[37m\u001b[0m \u001b[1m1s\u001b[0m 5ms/step - accuracy: 0.6768 - loss: 1.6201\n",
      "Epoch 471/750\n",
      "\u001b[1m268/268\u001b[0m \u001b[32m━━━━━━━━━━━━━━━━━━━━\u001b[0m\u001b[37m\u001b[0m \u001b[1m1s\u001b[0m 5ms/step - accuracy: 0.6760 - loss: 1.6218\n",
      "Epoch 472/750\n",
      "\u001b[1m268/268\u001b[0m \u001b[32m━━━━━━━━━━━━━━━━━━━━\u001b[0m\u001b[37m\u001b[0m \u001b[1m1s\u001b[0m 5ms/step - accuracy: 0.6734 - loss: 1.6224\n",
      "Epoch 473/750\n",
      "\u001b[1m268/268\u001b[0m \u001b[32m━━━━━━━━━━━━━━━━━━━━\u001b[0m\u001b[37m\u001b[0m \u001b[1m1s\u001b[0m 5ms/step - accuracy: 0.6796 - loss: 1.6017\n",
      "Epoch 474/750\n",
      "\u001b[1m268/268\u001b[0m \u001b[32m━━━━━━━━━━━━━━━━━━━━\u001b[0m\u001b[37m\u001b[0m \u001b[1m1s\u001b[0m 5ms/step - accuracy: 0.6786 - loss: 1.6261\n",
      "Epoch 475/750\n",
      "\u001b[1m268/268\u001b[0m \u001b[32m━━━━━━━━━━━━━━━━━━━━\u001b[0m\u001b[37m\u001b[0m \u001b[1m2s\u001b[0m 6ms/step - accuracy: 0.6770 - loss: 1.6144\n",
      "Epoch 476/750\n",
      "\u001b[1m268/268\u001b[0m \u001b[32m━━━━━━━━━━━━━━━━━━━━\u001b[0m\u001b[37m\u001b[0m \u001b[1m3s\u001b[0m 7ms/step - accuracy: 0.6776 - loss: 1.6021\n",
      "Epoch 477/750\n",
      "\u001b[1m268/268\u001b[0m \u001b[32m━━━━━━━━━━━━━━━━━━━━\u001b[0m\u001b[37m\u001b[0m \u001b[1m2s\u001b[0m 5ms/step - accuracy: 0.6922 - loss: 1.5658\n",
      "Epoch 478/750\n",
      "\u001b[1m268/268\u001b[0m \u001b[32m━━━━━━━━━━━━━━━━━━━━\u001b[0m\u001b[37m\u001b[0m \u001b[1m1s\u001b[0m 5ms/step - accuracy: 0.6787 - loss: 1.6075\n",
      "Epoch 479/750\n",
      "\u001b[1m268/268\u001b[0m \u001b[32m━━━━━━━━━━━━━━━━━━━━\u001b[0m\u001b[37m\u001b[0m \u001b[1m3s\u001b[0m 5ms/step - accuracy: 0.6867 - loss: 1.5828\n",
      "Epoch 480/750\n",
      "\u001b[1m268/268\u001b[0m \u001b[32m━━━━━━━━━━━━━━━━━━━━\u001b[0m\u001b[37m\u001b[0m \u001b[1m3s\u001b[0m 6ms/step - accuracy: 0.6755 - loss: 1.6105\n",
      "Epoch 481/750\n",
      "\u001b[1m268/268\u001b[0m \u001b[32m━━━━━━━━━━━━━━━━━━━━\u001b[0m\u001b[37m\u001b[0m \u001b[1m3s\u001b[0m 7ms/step - accuracy: 0.6800 - loss: 1.5961\n",
      "Epoch 482/750\n",
      "\u001b[1m268/268\u001b[0m \u001b[32m━━━━━━━━━━━━━━━━━━━━\u001b[0m\u001b[37m\u001b[0m \u001b[1m2s\u001b[0m 6ms/step - accuracy: 0.6892 - loss: 1.5654\n",
      "Epoch 483/750\n",
      "\u001b[1m268/268\u001b[0m \u001b[32m━━━━━━━━━━━━━━━━━━━━\u001b[0m\u001b[37m\u001b[0m \u001b[1m1s\u001b[0m 5ms/step - accuracy: 0.6812 - loss: 1.5898\n",
      "Epoch 484/750\n",
      "\u001b[1m268/268\u001b[0m \u001b[32m━━━━━━━━━━━━━━━━━━━━\u001b[0m\u001b[37m\u001b[0m \u001b[1m3s\u001b[0m 6ms/step - accuracy: 0.6962 - loss: 1.5510\n",
      "Epoch 485/750\n",
      "\u001b[1m268/268\u001b[0m \u001b[32m━━━━━━━━━━━━━━━━━━━━\u001b[0m\u001b[37m\u001b[0m \u001b[1m1s\u001b[0m 5ms/step - accuracy: 0.6869 - loss: 1.5724\n",
      "Epoch 486/750\n",
      "\u001b[1m268/268\u001b[0m \u001b[32m━━━━━━━━━━━━━━━━━━━━\u001b[0m\u001b[37m\u001b[0m \u001b[1m3s\u001b[0m 6ms/step - accuracy: 0.6875 - loss: 1.5671\n",
      "Epoch 487/750\n",
      "\u001b[1m268/268\u001b[0m \u001b[32m━━━━━━━━━━━━━━━━━━━━\u001b[0m\u001b[37m\u001b[0m \u001b[1m2s\u001b[0m 7ms/step - accuracy: 0.6914 - loss: 1.5491\n",
      "Epoch 488/750\n",
      "\u001b[1m268/268\u001b[0m \u001b[32m━━━━━━━━━━━━━━━━━━━━\u001b[0m\u001b[37m\u001b[0m \u001b[1m2s\u001b[0m 7ms/step - accuracy: 0.6941 - loss: 1.5536\n",
      "Epoch 489/750\n",
      "\u001b[1m268/268\u001b[0m \u001b[32m━━━━━━━━━━━━━━━━━━━━\u001b[0m\u001b[37m\u001b[0m \u001b[1m2s\u001b[0m 6ms/step - accuracy: 0.6880 - loss: 1.5634\n",
      "Epoch 490/750\n",
      "\u001b[1m268/268\u001b[0m \u001b[32m━━━━━━━━━━━━━━━━━━━━\u001b[0m\u001b[37m\u001b[0m \u001b[1m1s\u001b[0m 5ms/step - accuracy: 0.6908 - loss: 1.5541\n",
      "Epoch 491/750\n",
      "\u001b[1m268/268\u001b[0m \u001b[32m━━━━━━━━━━━━━━━━━━━━\u001b[0m\u001b[37m\u001b[0m \u001b[1m1s\u001b[0m 5ms/step - accuracy: 0.6957 - loss: 1.5356\n",
      "Epoch 492/750\n",
      "\u001b[1m268/268\u001b[0m \u001b[32m━━━━━━━━━━━━━━━━━━━━\u001b[0m\u001b[37m\u001b[0m \u001b[1m1s\u001b[0m 5ms/step - accuracy: 0.6928 - loss: 1.5384\n",
      "Epoch 493/750\n",
      "\u001b[1m268/268\u001b[0m \u001b[32m━━━━━━━━━━━━━━━━━━━━\u001b[0m\u001b[37m\u001b[0m \u001b[1m1s\u001b[0m 5ms/step - accuracy: 0.6943 - loss: 1.5353\n",
      "Epoch 494/750\n",
      "\u001b[1m268/268\u001b[0m \u001b[32m━━━━━━━━━━━━━━━━━━━━\u001b[0m\u001b[37m\u001b[0m \u001b[1m1s\u001b[0m 5ms/step - accuracy: 0.7021 - loss: 1.5109\n",
      "Epoch 495/750\n",
      "\u001b[1m268/268\u001b[0m \u001b[32m━━━━━━━━━━━━━━━━━━━━\u001b[0m\u001b[37m\u001b[0m \u001b[1m3s\u001b[0m 7ms/step - accuracy: 0.6952 - loss: 1.5277\n",
      "Epoch 496/750\n",
      "\u001b[1m268/268\u001b[0m \u001b[32m━━━━━━━━━━━━━━━━━━━━\u001b[0m\u001b[37m\u001b[0m \u001b[1m2s\u001b[0m 6ms/step - accuracy: 0.7024 - loss: 1.5032\n",
      "Epoch 497/750\n",
      "\u001b[1m268/268\u001b[0m \u001b[32m━━━━━━━━━━━━━━━━━━━━\u001b[0m\u001b[37m\u001b[0m \u001b[1m1s\u001b[0m 5ms/step - accuracy: 0.7005 - loss: 1.5150\n",
      "Epoch 498/750\n",
      "\u001b[1m268/268\u001b[0m \u001b[32m━━━━━━━━━━━━━━━━━━━━\u001b[0m\u001b[37m\u001b[0m \u001b[1m1s\u001b[0m 5ms/step - accuracy: 0.7027 - loss: 1.5223\n",
      "Epoch 499/750\n",
      "\u001b[1m268/268\u001b[0m \u001b[32m━━━━━━━━━━━━━━━━━━━━\u001b[0m\u001b[37m\u001b[0m \u001b[1m3s\u001b[0m 5ms/step - accuracy: 0.7067 - loss: 1.5038\n",
      "Epoch 500/750\n",
      "\u001b[1m268/268\u001b[0m \u001b[32m━━━━━━━━━━━━━━━━━━━━\u001b[0m\u001b[37m\u001b[0m \u001b[1m3s\u001b[0m 6ms/step - accuracy: 0.7013 - loss: 1.5113\n",
      "Epoch 501/750\n",
      "\u001b[1m268/268\u001b[0m \u001b[32m━━━━━━━━━━━━━━━━━━━━\u001b[0m\u001b[37m\u001b[0m \u001b[1m2s\u001b[0m 7ms/step - accuracy: 0.7072 - loss: 1.4818\n",
      "Epoch 502/750\n",
      "\u001b[1m268/268\u001b[0m \u001b[32m━━━━━━━━━━━━━━━━━━━━\u001b[0m\u001b[37m\u001b[0m \u001b[1m2s\u001b[0m 6ms/step - accuracy: 0.7053 - loss: 1.5041\n",
      "Epoch 503/750\n",
      "\u001b[1m268/268\u001b[0m \u001b[32m━━━━━━━━━━━━━━━━━━━━\u001b[0m\u001b[37m\u001b[0m \u001b[1m1s\u001b[0m 5ms/step - accuracy: 0.7063 - loss: 1.4775\n",
      "Epoch 504/750\n",
      "\u001b[1m268/268\u001b[0m \u001b[32m━━━━━━━━━━━━━━━━━━━━\u001b[0m\u001b[37m\u001b[0m \u001b[1m3s\u001b[0m 5ms/step - accuracy: 0.7073 - loss: 1.4961\n",
      "Epoch 505/750\n",
      "\u001b[1m268/268\u001b[0m \u001b[32m━━━━━━━━━━━━━━━━━━━━\u001b[0m\u001b[37m\u001b[0m \u001b[1m3s\u001b[0m 5ms/step - accuracy: 0.7132 - loss: 1.4794\n",
      "Epoch 506/750\n",
      "\u001b[1m268/268\u001b[0m \u001b[32m━━━━━━━━━━━━━━━━━━━━\u001b[0m\u001b[37m\u001b[0m \u001b[1m1s\u001b[0m 5ms/step - accuracy: 0.7058 - loss: 1.5010\n",
      "Epoch 507/750\n",
      "\u001b[1m268/268\u001b[0m \u001b[32m━━━━━━━━━━━━━━━━━━━━\u001b[0m\u001b[37m\u001b[0m \u001b[1m3s\u001b[0m 7ms/step - accuracy: 0.7149 - loss: 1.4661\n",
      "Epoch 508/750\n",
      "\u001b[1m268/268\u001b[0m \u001b[32m━━━━━━━━━━━━━━━━━━━━\u001b[0m\u001b[37m\u001b[0m \u001b[1m2s\u001b[0m 6ms/step - accuracy: 0.7106 - loss: 1.4786\n",
      "Epoch 509/750\n",
      "\u001b[1m268/268\u001b[0m \u001b[32m━━━━━━━━━━━━━━━━━━━━\u001b[0m\u001b[37m\u001b[0m \u001b[1m1s\u001b[0m 5ms/step - accuracy: 0.7160 - loss: 1.4474\n",
      "Epoch 510/750\n",
      "\u001b[1m268/268\u001b[0m \u001b[32m━━━━━━━━━━━━━━━━━━━━\u001b[0m\u001b[37m\u001b[0m \u001b[1m1s\u001b[0m 5ms/step - accuracy: 0.7131 - loss: 1.4867\n",
      "Epoch 511/750\n",
      "\u001b[1m268/268\u001b[0m \u001b[32m━━━━━━━━━━━━━━━━━━━━\u001b[0m\u001b[37m\u001b[0m \u001b[1m3s\u001b[0m 6ms/step - accuracy: 0.7168 - loss: 1.4489\n",
      "Epoch 512/750\n",
      "\u001b[1m268/268\u001b[0m \u001b[32m━━━━━━━━━━━━━━━━━━━━\u001b[0m\u001b[37m\u001b[0m \u001b[1m2s\u001b[0m 5ms/step - accuracy: 0.7077 - loss: 1.4650\n",
      "Epoch 513/750\n",
      "\u001b[1m268/268\u001b[0m \u001b[32m━━━━━━━━━━━━━━━━━━━━\u001b[0m\u001b[37m\u001b[0m \u001b[1m3s\u001b[0m 8ms/step - accuracy: 0.7156 - loss: 1.4576\n",
      "Epoch 514/750\n",
      "\u001b[1m268/268\u001b[0m \u001b[32m━━━━━━━━━━━━━━━━━━━━\u001b[0m\u001b[37m\u001b[0m \u001b[1m2s\u001b[0m 5ms/step - accuracy: 0.7161 - loss: 1.4550\n",
      "Epoch 515/750\n",
      "\u001b[1m268/268\u001b[0m \u001b[32m━━━━━━━━━━━━━━━━━━━━\u001b[0m\u001b[37m\u001b[0m \u001b[1m3s\u001b[0m 5ms/step - accuracy: 0.7148 - loss: 1.4459\n",
      "Epoch 516/750\n",
      "\u001b[1m268/268\u001b[0m \u001b[32m━━━━━━━━━━━━━━━━━━━━\u001b[0m\u001b[37m\u001b[0m \u001b[1m1s\u001b[0m 5ms/step - accuracy: 0.7222 - loss: 1.4361\n",
      "Epoch 517/750\n",
      "\u001b[1m268/268\u001b[0m \u001b[32m━━━━━━━━━━━━━━━━━━━━\u001b[0m\u001b[37m\u001b[0m \u001b[1m1s\u001b[0m 5ms/step - accuracy: 0.7189 - loss: 1.4389\n",
      "Epoch 518/750\n",
      "\u001b[1m268/268\u001b[0m \u001b[32m━━━━━━━━━━━━━━━━━━━━\u001b[0m\u001b[37m\u001b[0m \u001b[1m3s\u001b[0m 5ms/step - accuracy: 0.7134 - loss: 1.4630\n",
      "Epoch 519/750\n",
      "\u001b[1m268/268\u001b[0m \u001b[32m━━━━━━━━━━━━━━━━━━━━\u001b[0m\u001b[37m\u001b[0m \u001b[1m3s\u001b[0m 8ms/step - accuracy: 0.7244 - loss: 1.4243\n",
      "Epoch 520/750\n",
      "\u001b[1m268/268\u001b[0m \u001b[32m━━━━━━━━━━━━━━━━━━━━\u001b[0m\u001b[37m\u001b[0m \u001b[1m2s\u001b[0m 6ms/step - accuracy: 0.7243 - loss: 1.4241\n",
      "Epoch 521/750\n",
      "\u001b[1m268/268\u001b[0m \u001b[32m━━━━━━━━━━━━━━━━━━━━\u001b[0m\u001b[37m\u001b[0m \u001b[1m2s\u001b[0m 5ms/step - accuracy: 0.7212 - loss: 1.4291\n",
      "Epoch 522/750\n",
      "\u001b[1m268/268\u001b[0m \u001b[32m━━━━━━━━━━━━━━━━━━━━\u001b[0m\u001b[37m\u001b[0m \u001b[1m1s\u001b[0m 5ms/step - accuracy: 0.7256 - loss: 1.4113\n",
      "Epoch 523/750\n",
      "\u001b[1m268/268\u001b[0m \u001b[32m━━━━━━━━━━━━━━━━━━━━\u001b[0m\u001b[37m\u001b[0m \u001b[1m1s\u001b[0m 5ms/step - accuracy: 0.7235 - loss: 1.4227\n",
      "Epoch 524/750\n",
      "\u001b[1m268/268\u001b[0m \u001b[32m━━━━━━━━━━━━━━━━━━━━\u001b[0m\u001b[37m\u001b[0m \u001b[1m1s\u001b[0m 5ms/step - accuracy: 0.7269 - loss: 1.4103\n",
      "Epoch 525/750\n",
      "\u001b[1m268/268\u001b[0m \u001b[32m━━━━━━━━━━━━━━━━━━━━\u001b[0m\u001b[37m\u001b[0m \u001b[1m1s\u001b[0m 5ms/step - accuracy: 0.7270 - loss: 1.4082\n",
      "Epoch 526/750\n",
      "\u001b[1m268/268\u001b[0m \u001b[32m━━━━━━━━━━━━━━━━━━━━\u001b[0m\u001b[37m\u001b[0m \u001b[1m2s\u001b[0m 7ms/step - accuracy: 0.7233 - loss: 1.4120\n",
      "Epoch 527/750\n",
      "\u001b[1m268/268\u001b[0m \u001b[32m━━━━━━━━━━━━━━━━━━━━\u001b[0m\u001b[37m\u001b[0m \u001b[1m2s\u001b[0m 7ms/step - accuracy: 0.7209 - loss: 1.4197\n",
      "Epoch 528/750\n",
      "\u001b[1m268/268\u001b[0m \u001b[32m━━━━━━━━━━━━━━━━━━━━\u001b[0m\u001b[37m\u001b[0m \u001b[1m1s\u001b[0m 5ms/step - accuracy: 0.7331 - loss: 1.3917\n",
      "Epoch 529/750\n",
      "\u001b[1m268/268\u001b[0m \u001b[32m━━━━━━━━━━━━━━━━━━━━\u001b[0m\u001b[37m\u001b[0m \u001b[1m3s\u001b[0m 5ms/step - accuracy: 0.7242 - loss: 1.3940\n",
      "Epoch 530/750\n",
      "\u001b[1m268/268\u001b[0m \u001b[32m━━━━━━━━━━━━━━━━━━━━\u001b[0m\u001b[37m\u001b[0m \u001b[1m1s\u001b[0m 5ms/step - accuracy: 0.7328 - loss: 1.3750\n",
      "Epoch 531/750\n",
      "\u001b[1m268/268\u001b[0m \u001b[32m━━━━━━━━━━━━━━━━━━━━\u001b[0m\u001b[37m\u001b[0m \u001b[1m3s\u001b[0m 5ms/step - accuracy: 0.7296 - loss: 1.3944\n",
      "Epoch 532/750\n",
      "\u001b[1m268/268\u001b[0m \u001b[32m━━━━━━━━━━━━━━━━━━━━\u001b[0m\u001b[37m\u001b[0m \u001b[1m2s\u001b[0m 6ms/step - accuracy: 0.7346 - loss: 1.3707\n",
      "Epoch 533/750\n",
      "\u001b[1m268/268\u001b[0m \u001b[32m━━━━━━━━━━━━━━━━━━━━\u001b[0m\u001b[37m\u001b[0m \u001b[1m3s\u001b[0m 7ms/step - accuracy: 0.7308 - loss: 1.3929\n",
      "Epoch 534/750\n",
      "\u001b[1m268/268\u001b[0m \u001b[32m━━━━━━━━━━━━━━━━━━━━\u001b[0m\u001b[37m\u001b[0m \u001b[1m2s\u001b[0m 5ms/step - accuracy: 0.7328 - loss: 1.3747\n",
      "Epoch 535/750\n",
      "\u001b[1m268/268\u001b[0m \u001b[32m━━━━━━━━━━━━━━━━━━━━\u001b[0m\u001b[37m\u001b[0m \u001b[1m3s\u001b[0m 5ms/step - accuracy: 0.7397 - loss: 1.3618\n",
      "Epoch 536/750\n",
      "\u001b[1m268/268\u001b[0m \u001b[32m━━━━━━━━━━━━━━━━━━━━\u001b[0m\u001b[37m\u001b[0m \u001b[1m1s\u001b[0m 5ms/step - accuracy: 0.7331 - loss: 1.3742\n",
      "Epoch 537/750\n",
      "\u001b[1m268/268\u001b[0m \u001b[32m━━━━━━━━━━━━━━━━━━━━\u001b[0m\u001b[37m\u001b[0m \u001b[1m1s\u001b[0m 5ms/step - accuracy: 0.7414 - loss: 1.3400\n",
      "Epoch 538/750\n",
      "\u001b[1m268/268\u001b[0m \u001b[32m━━━━━━━━━━━━━━━━━━━━\u001b[0m\u001b[37m\u001b[0m \u001b[1m3s\u001b[0m 6ms/step - accuracy: 0.7416 - loss: 1.3489\n",
      "Epoch 539/750\n",
      "\u001b[1m268/268\u001b[0m \u001b[32m━━━━━━━━━━━━━━━━━━━━\u001b[0m\u001b[37m\u001b[0m \u001b[1m3s\u001b[0m 7ms/step - accuracy: 0.7296 - loss: 1.3902\n",
      "Epoch 540/750\n",
      "\u001b[1m268/268\u001b[0m \u001b[32m━━━━━━━━━━━━━━━━━━━━\u001b[0m\u001b[37m\u001b[0m \u001b[1m2s\u001b[0m 5ms/step - accuracy: 0.7380 - loss: 1.3586\n",
      "Epoch 541/750\n",
      "\u001b[1m268/268\u001b[0m \u001b[32m━━━━━━━━━━━━━━━━━━━━\u001b[0m\u001b[37m\u001b[0m \u001b[1m3s\u001b[0m 5ms/step - accuracy: 0.7385 - loss: 1.3504\n",
      "Epoch 542/750\n",
      "\u001b[1m268/268\u001b[0m \u001b[32m━━━━━━━━━━━━━━━━━━━━\u001b[0m\u001b[37m\u001b[0m \u001b[1m1s\u001b[0m 5ms/step - accuracy: 0.7418 - loss: 1.3366\n",
      "Epoch 543/750\n",
      "\u001b[1m268/268\u001b[0m \u001b[32m━━━━━━━━━━━━━━━━━━━━\u001b[0m\u001b[37m\u001b[0m \u001b[1m3s\u001b[0m 5ms/step - accuracy: 0.7444 - loss: 1.3365\n",
      "Epoch 544/750\n",
      "\u001b[1m268/268\u001b[0m \u001b[32m━━━━━━━━━━━━━━━━━━━━\u001b[0m\u001b[37m\u001b[0m \u001b[1m2s\u001b[0m 7ms/step - accuracy: 0.7382 - loss: 1.3393\n",
      "Epoch 545/750\n",
      "\u001b[1m268/268\u001b[0m \u001b[32m━━━━━━━━━━━━━━━━━━━━\u001b[0m\u001b[37m\u001b[0m \u001b[1m3s\u001b[0m 7ms/step - accuracy: 0.7408 - loss: 1.3414\n",
      "Epoch 546/750\n",
      "\u001b[1m268/268\u001b[0m \u001b[32m━━━━━━━━━━━━━━━━━━━━\u001b[0m\u001b[37m\u001b[0m \u001b[1m2s\u001b[0m 5ms/step - accuracy: 0.7455 - loss: 1.3241\n",
      "Epoch 547/750\n",
      "\u001b[1m268/268\u001b[0m \u001b[32m━━━━━━━━━━━━━━━━━━━━\u001b[0m\u001b[37m\u001b[0m \u001b[1m1s\u001b[0m 5ms/step - accuracy: 0.7460 - loss: 1.3245\n",
      "Epoch 548/750\n",
      "\u001b[1m268/268\u001b[0m \u001b[32m━━━━━━━━━━━━━━━━━━━━\u001b[0m\u001b[37m\u001b[0m \u001b[1m3s\u001b[0m 5ms/step - accuracy: 0.7469 - loss: 1.3299\n",
      "Epoch 549/750\n",
      "\u001b[1m268/268\u001b[0m \u001b[32m━━━━━━━━━━━━━━━━━━━━\u001b[0m\u001b[37m\u001b[0m \u001b[1m1s\u001b[0m 5ms/step - accuracy: 0.7381 - loss: 1.3495\n",
      "Epoch 550/750\n",
      "\u001b[1m268/268\u001b[0m \u001b[32m━━━━━━━━━━━━━━━━━━━━\u001b[0m\u001b[37m\u001b[0m \u001b[1m3s\u001b[0m 7ms/step - accuracy: 0.7479 - loss: 1.3209\n",
      "Epoch 551/750\n",
      "\u001b[1m268/268\u001b[0m \u001b[32m━━━━━━━━━━━━━━━━━━━━\u001b[0m\u001b[37m\u001b[0m \u001b[1m2s\u001b[0m 8ms/step - accuracy: 0.7442 - loss: 1.3206\n",
      "Epoch 552/750\n",
      "\u001b[1m268/268\u001b[0m \u001b[32m━━━━━━━━━━━━━━━━━━━━\u001b[0m\u001b[37m\u001b[0m \u001b[1m2s\u001b[0m 5ms/step - accuracy: 0.7507 - loss: 1.3024\n",
      "Epoch 553/750\n",
      "\u001b[1m268/268\u001b[0m \u001b[32m━━━━━━━━━━━━━━━━━━━━\u001b[0m\u001b[37m\u001b[0m \u001b[1m1s\u001b[0m 5ms/step - accuracy: 0.7510 - loss: 1.2979\n",
      "Epoch 554/750\n",
      "\u001b[1m268/268\u001b[0m \u001b[32m━━━━━━━━━━━━━━━━━━━━\u001b[0m\u001b[37m\u001b[0m \u001b[1m3s\u001b[0m 6ms/step - accuracy: 0.7458 - loss: 1.3199\n",
      "Epoch 555/750\n",
      "\u001b[1m268/268\u001b[0m \u001b[32m━━━━━━━━━━━━━━━━━━━━\u001b[0m\u001b[37m\u001b[0m \u001b[1m1s\u001b[0m 5ms/step - accuracy: 0.7498 - loss: 1.3085\n",
      "Epoch 556/750\n",
      "\u001b[1m268/268\u001b[0m \u001b[32m━━━━━━━━━━━━━━━━━━━━\u001b[0m\u001b[37m\u001b[0m \u001b[1m1s\u001b[0m 5ms/step - accuracy: 0.7523 - loss: 1.3000\n",
      "Epoch 557/750\n",
      "\u001b[1m268/268\u001b[0m \u001b[32m━━━━━━━━━━━━━━━━━━━━\u001b[0m\u001b[37m\u001b[0m \u001b[1m3s\u001b[0m 8ms/step - accuracy: 0.7523 - loss: 1.2958\n",
      "Epoch 558/750\n",
      "\u001b[1m268/268\u001b[0m \u001b[32m━━━━━━━━━━━━━━━━━━━━\u001b[0m\u001b[37m\u001b[0m \u001b[1m2s\u001b[0m 8ms/step - accuracy: 0.7571 - loss: 1.2967\n",
      "Epoch 559/750\n",
      "\u001b[1m268/268\u001b[0m \u001b[32m━━━━━━━━━━━━━━━━━━━━\u001b[0m\u001b[37m\u001b[0m \u001b[1m1s\u001b[0m 5ms/step - accuracy: 0.7503 - loss: 1.3027\n",
      "Epoch 560/750\n",
      "\u001b[1m268/268\u001b[0m \u001b[32m━━━━━━━━━━━━━━━━━━━━\u001b[0m\u001b[37m\u001b[0m \u001b[1m3s\u001b[0m 5ms/step - accuracy: 0.7534 - loss: 1.2905\n",
      "Epoch 561/750\n",
      "\u001b[1m268/268\u001b[0m \u001b[32m━━━━━━━━━━━━━━━━━━━━\u001b[0m\u001b[37m\u001b[0m \u001b[1m3s\u001b[0m 5ms/step - accuracy: 0.7526 - loss: 1.2907\n",
      "Epoch 562/750\n",
      "\u001b[1m268/268\u001b[0m \u001b[32m━━━━━━━━━━━━━━━━━━━━\u001b[0m\u001b[37m\u001b[0m \u001b[1m1s\u001b[0m 5ms/step - accuracy: 0.7566 - loss: 1.2822\n",
      "Epoch 563/750\n",
      "\u001b[1m268/268\u001b[0m \u001b[32m━━━━━━━━━━━━━━━━━━━━\u001b[0m\u001b[37m\u001b[0m \u001b[1m3s\u001b[0m 7ms/step - accuracy: 0.7523 - loss: 1.2953\n",
      "Epoch 564/750\n",
      "\u001b[1m268/268\u001b[0m \u001b[32m━━━━━━━━━━━━━━━━━━━━\u001b[0m\u001b[37m\u001b[0m \u001b[1m2s\u001b[0m 7ms/step - accuracy: 0.7578 - loss: 1.2751\n",
      "Epoch 565/750\n",
      "\u001b[1m268/268\u001b[0m \u001b[32m━━━━━━━━━━━━━━━━━━━━\u001b[0m\u001b[37m\u001b[0m \u001b[1m1s\u001b[0m 5ms/step - accuracy: 0.7528 - loss: 1.2851\n",
      "Epoch 566/750\n",
      "\u001b[1m268/268\u001b[0m \u001b[32m━━━━━━━━━━━━━━━━━━━━\u001b[0m\u001b[37m\u001b[0m \u001b[1m3s\u001b[0m 5ms/step - accuracy: 0.7574 - loss: 1.2789\n",
      "Epoch 567/750\n",
      "\u001b[1m268/268\u001b[0m \u001b[32m━━━━━━━━━━━━━━━━━━━━\u001b[0m\u001b[37m\u001b[0m \u001b[1m1s\u001b[0m 5ms/step - accuracy: 0.7549 - loss: 1.2831\n",
      "Epoch 568/750\n",
      "\u001b[1m268/268\u001b[0m \u001b[32m━━━━━━━━━━━━━━━━━━━━\u001b[0m\u001b[37m\u001b[0m \u001b[1m3s\u001b[0m 5ms/step - accuracy: 0.7628 - loss: 1.2530\n",
      "Epoch 569/750\n",
      "\u001b[1m268/268\u001b[0m \u001b[32m━━━━━━━━━━━━━━━━━━━━\u001b[0m\u001b[37m\u001b[0m \u001b[1m2s\u001b[0m 6ms/step - accuracy: 0.7588 - loss: 1.2672\n",
      "Epoch 570/750\n",
      "\u001b[1m268/268\u001b[0m \u001b[32m━━━━━━━━━━━━━━━━━━━━\u001b[0m\u001b[37m\u001b[0m \u001b[1m2s\u001b[0m 8ms/step - accuracy: 0.7686 - loss: 1.2369\n",
      "Epoch 571/750\n",
      "\u001b[1m268/268\u001b[0m \u001b[32m━━━━━━━━━━━━━━━━━━━━\u001b[0m\u001b[37m\u001b[0m \u001b[1m2s\u001b[0m 6ms/step - accuracy: 0.7649 - loss: 1.2369\n",
      "Epoch 572/750\n",
      "\u001b[1m268/268\u001b[0m \u001b[32m━━━━━━━━━━━━━━━━━━━━\u001b[0m\u001b[37m\u001b[0m \u001b[1m1s\u001b[0m 5ms/step - accuracy: 0.7626 - loss: 1.2480\n",
      "Epoch 573/750\n",
      "\u001b[1m268/268\u001b[0m \u001b[32m━━━━━━━━━━━━━━━━━━━━\u001b[0m\u001b[37m\u001b[0m \u001b[1m3s\u001b[0m 5ms/step - accuracy: 0.7660 - loss: 1.2409\n",
      "Epoch 574/750\n",
      "\u001b[1m268/268\u001b[0m \u001b[32m━━━━━━━━━━━━━━━━━━━━\u001b[0m\u001b[37m\u001b[0m \u001b[1m2s\u001b[0m 5ms/step - accuracy: 0.7673 - loss: 1.2309\n",
      "Epoch 575/750\n",
      "\u001b[1m268/268\u001b[0m \u001b[32m━━━━━━━━━━━━━━━━━━━━\u001b[0m\u001b[37m\u001b[0m \u001b[1m3s\u001b[0m 6ms/step - accuracy: 0.7669 - loss: 1.2335\n",
      "Epoch 576/750\n",
      "\u001b[1m268/268\u001b[0m \u001b[32m━━━━━━━━━━━━━━━━━━━━\u001b[0m\u001b[37m\u001b[0m \u001b[1m2s\u001b[0m 8ms/step - accuracy: 0.7648 - loss: 1.2313\n",
      "Epoch 577/750\n",
      "\u001b[1m268/268\u001b[0m \u001b[32m━━━━━━━━━━━━━━━━━━━━\u001b[0m\u001b[37m\u001b[0m \u001b[1m2s\u001b[0m 6ms/step - accuracy: 0.7740 - loss: 1.2134\n",
      "Epoch 578/750\n",
      "\u001b[1m268/268\u001b[0m \u001b[32m━━━━━━━━━━━━━━━━━━━━\u001b[0m\u001b[37m\u001b[0m \u001b[1m2s\u001b[0m 5ms/step - accuracy: 0.7602 - loss: 1.2418\n",
      "Epoch 579/750\n",
      "\u001b[1m268/268\u001b[0m \u001b[32m━━━━━━━━━━━━━━━━━━━━\u001b[0m\u001b[37m\u001b[0m \u001b[1m3s\u001b[0m 5ms/step - accuracy: 0.7687 - loss: 1.2419\n",
      "Epoch 580/750\n",
      "\u001b[1m268/268\u001b[0m \u001b[32m━━━━━━━━━━━━━━━━━━━━\u001b[0m\u001b[37m\u001b[0m \u001b[1m2s\u001b[0m 5ms/step - accuracy: 0.7691 - loss: 1.2362\n",
      "Epoch 581/750\n",
      "\u001b[1m268/268\u001b[0m \u001b[32m━━━━━━━━━━━━━━━━━━━━\u001b[0m\u001b[37m\u001b[0m \u001b[1m3s\u001b[0m 7ms/step - accuracy: 0.7667 - loss: 1.2294\n",
      "Epoch 582/750\n",
      "\u001b[1m268/268\u001b[0m \u001b[32m━━━━━━━━━━━━━━━━━━━━\u001b[0m\u001b[37m\u001b[0m \u001b[1m2s\u001b[0m 7ms/step - accuracy: 0.7654 - loss: 1.2271\n",
      "Epoch 583/750\n",
      "\u001b[1m268/268\u001b[0m \u001b[32m━━━━━━━━━━━━━━━━━━━━\u001b[0m\u001b[37m\u001b[0m \u001b[1m1s\u001b[0m 5ms/step - accuracy: 0.7684 - loss: 1.2164\n",
      "Epoch 584/750\n",
      "\u001b[1m268/268\u001b[0m \u001b[32m━━━━━━━━━━━━━━━━━━━━\u001b[0m\u001b[37m\u001b[0m \u001b[1m3s\u001b[0m 5ms/step - accuracy: 0.7691 - loss: 1.2237\n",
      "Epoch 585/750\n",
      "\u001b[1m268/268\u001b[0m \u001b[32m━━━━━━━━━━━━━━━━━━━━\u001b[0m\u001b[37m\u001b[0m \u001b[1m2s\u001b[0m 5ms/step - accuracy: 0.7739 - loss: 1.2100\n",
      "Epoch 586/750\n",
      "\u001b[1m268/268\u001b[0m \u001b[32m━━━━━━━━━━━━━━━━━━━━\u001b[0m\u001b[37m\u001b[0m \u001b[1m3s\u001b[0m 5ms/step - accuracy: 0.7759 - loss: 1.2045\n",
      "Epoch 587/750\n",
      "\u001b[1m268/268\u001b[0m \u001b[32m━━━━━━━━━━━━━━━━━━━━\u001b[0m\u001b[37m\u001b[0m \u001b[1m2s\u001b[0m 8ms/step - accuracy: 0.7734 - loss: 1.2128\n",
      "Epoch 588/750\n",
      "\u001b[1m268/268\u001b[0m \u001b[32m━━━━━━━━━━━━━━━━━━━━\u001b[0m\u001b[37m\u001b[0m \u001b[1m2s\u001b[0m 7ms/step - accuracy: 0.7698 - loss: 1.2114\n",
      "Epoch 589/750\n",
      "\u001b[1m268/268\u001b[0m \u001b[32m━━━━━━━━━━━━━━━━━━━━\u001b[0m\u001b[37m\u001b[0m \u001b[1m2s\u001b[0m 5ms/step - accuracy: 0.7742 - loss: 1.1902\n",
      "Epoch 590/750\n",
      "\u001b[1m268/268\u001b[0m \u001b[32m━━━━━━━━━━━━━━━━━━━━\u001b[0m\u001b[37m\u001b[0m \u001b[1m2s\u001b[0m 5ms/step - accuracy: 0.7782 - loss: 1.1935\n",
      "Epoch 591/750\n",
      "\u001b[1m268/268\u001b[0m \u001b[32m━━━━━━━━━━━━━━━━━━━━\u001b[0m\u001b[37m\u001b[0m \u001b[1m3s\u001b[0m 6ms/step - accuracy: 0.7848 - loss: 1.1756\n",
      "Epoch 592/750\n",
      "\u001b[1m268/268\u001b[0m \u001b[32m━━━━━━━━━━━━━━━━━━━━\u001b[0m\u001b[37m\u001b[0m \u001b[1m2s\u001b[0m 5ms/step - accuracy: 0.7822 - loss: 1.1798\n",
      "Epoch 593/750\n",
      "\u001b[1m268/268\u001b[0m \u001b[32m━━━━━━━━━━━━━━━━━━━━\u001b[0m\u001b[37m\u001b[0m \u001b[1m3s\u001b[0m 8ms/step - accuracy: 0.7790 - loss: 1.1805\n",
      "Epoch 594/750\n",
      "\u001b[1m268/268\u001b[0m \u001b[32m━━━━━━━━━━━━━━━━━━━━\u001b[0m\u001b[37m\u001b[0m \u001b[1m2s\u001b[0m 6ms/step - accuracy: 0.7824 - loss: 1.1642\n",
      "Epoch 595/750\n",
      "\u001b[1m268/268\u001b[0m \u001b[32m━━━━━━━━━━━━━━━━━━━━\u001b[0m\u001b[37m\u001b[0m \u001b[1m1s\u001b[0m 5ms/step - accuracy: 0.7767 - loss: 1.1758\n",
      "Epoch 596/750\n",
      "\u001b[1m268/268\u001b[0m \u001b[32m━━━━━━━━━━━━━━━━━━━━\u001b[0m\u001b[37m\u001b[0m \u001b[1m3s\u001b[0m 5ms/step - accuracy: 0.7776 - loss: 1.1922\n",
      "Epoch 597/750\n",
      "\u001b[1m268/268\u001b[0m \u001b[32m━━━━━━━━━━━━━━━━━━━━\u001b[0m\u001b[37m\u001b[0m \u001b[1m3s\u001b[0m 5ms/step - accuracy: 0.7799 - loss: 1.1799\n",
      "Epoch 598/750\n",
      "\u001b[1m268/268\u001b[0m \u001b[32m━━━━━━━━━━━━━━━━━━━━\u001b[0m\u001b[37m\u001b[0m \u001b[1m1s\u001b[0m 5ms/step - accuracy: 0.7822 - loss: 1.1551\n",
      "Epoch 599/750\n",
      "\u001b[1m268/268\u001b[0m \u001b[32m━━━━━━━━━━━━━━━━━━━━\u001b[0m\u001b[37m\u001b[0m \u001b[1m2s\u001b[0m 7ms/step - accuracy: 0.7853 - loss: 1.1505\n",
      "Epoch 600/750\n",
      "\u001b[1m268/268\u001b[0m \u001b[32m━━━━━━━━━━━━━━━━━━━━\u001b[0m\u001b[37m\u001b[0m \u001b[1m2s\u001b[0m 8ms/step - accuracy: 0.7818 - loss: 1.1564\n",
      "Epoch 601/750\n",
      "\u001b[1m268/268\u001b[0m \u001b[32m━━━━━━━━━━━━━━━━━━━━\u001b[0m\u001b[37m\u001b[0m \u001b[1m2s\u001b[0m 6ms/step - accuracy: 0.7803 - loss: 1.1697\n",
      "Epoch 602/750\n",
      "\u001b[1m268/268\u001b[0m \u001b[32m━━━━━━━━━━━━━━━━━━━━\u001b[0m\u001b[37m\u001b[0m \u001b[1m1s\u001b[0m 5ms/step - accuracy: 0.7865 - loss: 1.1344\n",
      "Epoch 603/750\n",
      "\u001b[1m268/268\u001b[0m \u001b[32m━━━━━━━━━━━━━━━━━━━━\u001b[0m\u001b[37m\u001b[0m \u001b[1m1s\u001b[0m 5ms/step - accuracy: 0.7849 - loss: 1.1503\n",
      "Epoch 604/750\n",
      "\u001b[1m268/268\u001b[0m \u001b[32m━━━━━━━━━━━━━━━━━━━━\u001b[0m\u001b[37m\u001b[0m \u001b[1m3s\u001b[0m 5ms/step - accuracy: 0.7847 - loss: 1.1541\n",
      "Epoch 605/750\n",
      "\u001b[1m268/268\u001b[0m \u001b[32m━━━━━━━━━━━━━━━━━━━━\u001b[0m\u001b[37m\u001b[0m \u001b[1m3s\u001b[0m 5ms/step - accuracy: 0.7858 - loss: 1.1369\n",
      "Epoch 606/750\n",
      "\u001b[1m268/268\u001b[0m \u001b[32m━━━━━━━━━━━━━━━━━━━━\u001b[0m\u001b[37m\u001b[0m \u001b[1m3s\u001b[0m 8ms/step - accuracy: 0.7885 - loss: 1.1465\n",
      "Epoch 607/750\n",
      "\u001b[1m268/268\u001b[0m \u001b[32m━━━━━━━━━━━━━━━━━━━━\u001b[0m\u001b[37m\u001b[0m \u001b[1m2s\u001b[0m 6ms/step - accuracy: 0.7823 - loss: 1.1608\n",
      "Epoch 608/750\n",
      "\u001b[1m268/268\u001b[0m \u001b[32m━━━━━━━━━━━━━━━━━━━━\u001b[0m\u001b[37m\u001b[0m \u001b[1m2s\u001b[0m 5ms/step - accuracy: 0.7857 - loss: 1.1446\n",
      "Epoch 609/750\n",
      "\u001b[1m268/268\u001b[0m \u001b[32m━━━━━━━━━━━━━━━━━━━━\u001b[0m\u001b[37m\u001b[0m \u001b[1m3s\u001b[0m 6ms/step - accuracy: 0.7876 - loss: 1.1460\n",
      "Epoch 610/750\n",
      "\u001b[1m268/268\u001b[0m \u001b[32m━━━━━━━━━━━━━━━━━━━━\u001b[0m\u001b[37m\u001b[0m \u001b[1m1s\u001b[0m 5ms/step - accuracy: 0.7865 - loss: 1.1412\n",
      "Epoch 611/750\n",
      "\u001b[1m268/268\u001b[0m \u001b[32m━━━━━━━━━━━━━━━━━━━━\u001b[0m\u001b[37m\u001b[0m \u001b[1m1s\u001b[0m 5ms/step - accuracy: 0.7899 - loss: 1.1257\n",
      "Epoch 612/750\n",
      "\u001b[1m268/268\u001b[0m \u001b[32m━━━━━━━━━━━━━━━━━━━━\u001b[0m\u001b[37m\u001b[0m \u001b[1m2s\u001b[0m 6ms/step - accuracy: 0.7880 - loss: 1.1305\n",
      "Epoch 613/750\n",
      "\u001b[1m268/268\u001b[0m \u001b[32m━━━━━━━━━━━━━━━━━━━━\u001b[0m\u001b[37m\u001b[0m \u001b[1m2s\u001b[0m 8ms/step - accuracy: 0.7930 - loss: 1.1208\n",
      "Epoch 614/750\n",
      "\u001b[1m268/268\u001b[0m \u001b[32m━━━━━━━━━━━━━━━━━━━━\u001b[0m\u001b[37m\u001b[0m \u001b[1m2s\u001b[0m 6ms/step - accuracy: 0.7937 - loss: 1.1209\n",
      "Epoch 615/750\n",
      "\u001b[1m268/268\u001b[0m \u001b[32m━━━━━━━━━━━━━━━━━━━━\u001b[0m\u001b[37m\u001b[0m \u001b[1m1s\u001b[0m 5ms/step - accuracy: 0.7921 - loss: 1.1338\n",
      "Epoch 616/750\n",
      "\u001b[1m268/268\u001b[0m \u001b[32m━━━━━━━━━━━━━━━━━━━━\u001b[0m\u001b[37m\u001b[0m \u001b[1m1s\u001b[0m 5ms/step - accuracy: 0.7917 - loss: 1.1151\n",
      "Epoch 617/750\n",
      "\u001b[1m268/268\u001b[0m \u001b[32m━━━━━━━━━━━━━━━━━━━━\u001b[0m\u001b[37m\u001b[0m \u001b[1m3s\u001b[0m 5ms/step - accuracy: 0.7974 - loss: 1.1076\n",
      "Epoch 618/750\n",
      "\u001b[1m268/268\u001b[0m \u001b[32m━━━━━━━━━━━━━━━━━━━━\u001b[0m\u001b[37m\u001b[0m \u001b[1m1s\u001b[0m 5ms/step - accuracy: 0.7945 - loss: 1.0996\n",
      "Epoch 619/750\n",
      "\u001b[1m268/268\u001b[0m \u001b[32m━━━━━━━━━━━━━━━━━━━━\u001b[0m\u001b[37m\u001b[0m \u001b[1m3s\u001b[0m 7ms/step - accuracy: 0.8023 - loss: 1.0777\n",
      "Epoch 620/750\n",
      "\u001b[1m268/268\u001b[0m \u001b[32m━━━━━━━━━━━━━━━━━━━━\u001b[0m\u001b[37m\u001b[0m \u001b[1m2s\u001b[0m 8ms/step - accuracy: 0.7912 - loss: 1.1124\n",
      "Epoch 621/750\n",
      "\u001b[1m268/268\u001b[0m \u001b[32m━━━━━━━━━━━━━━━━━━━━\u001b[0m\u001b[37m\u001b[0m \u001b[1m2s\u001b[0m 5ms/step - accuracy: 0.7987 - loss: 1.1058\n",
      "Epoch 622/750\n",
      "\u001b[1m268/268\u001b[0m \u001b[32m━━━━━━━━━━━━━━━━━━━━\u001b[0m\u001b[37m\u001b[0m \u001b[1m1s\u001b[0m 5ms/step - accuracy: 0.7954 - loss: 1.1132\n",
      "Epoch 623/750\n",
      "\u001b[1m268/268\u001b[0m \u001b[32m━━━━━━━━━━━━━━━━━━━━\u001b[0m\u001b[37m\u001b[0m \u001b[1m3s\u001b[0m 5ms/step - accuracy: 0.7962 - loss: 1.1036\n",
      "Epoch 624/750\n",
      "\u001b[1m268/268\u001b[0m \u001b[32m━━━━━━━━━━━━━━━━━━━━\u001b[0m\u001b[37m\u001b[0m \u001b[1m3s\u001b[0m 5ms/step - accuracy: 0.7972 - loss: 1.0825\n",
      "Epoch 625/750\n",
      "\u001b[1m268/268\u001b[0m \u001b[32m━━━━━━━━━━━━━━━━━━━━\u001b[0m\u001b[37m\u001b[0m \u001b[1m1s\u001b[0m 5ms/step - accuracy: 0.8023 - loss: 1.0902\n",
      "Epoch 626/750\n",
      "\u001b[1m268/268\u001b[0m \u001b[32m━━━━━━━━━━━━━━━━━━━━\u001b[0m\u001b[37m\u001b[0m \u001b[1m2s\u001b[0m 8ms/step - accuracy: 0.8020 - loss: 1.0808\n",
      "Epoch 627/750\n",
      "\u001b[1m268/268\u001b[0m \u001b[32m━━━━━━━━━━━━━━━━━━━━\u001b[0m\u001b[37m\u001b[0m \u001b[1m2s\u001b[0m 7ms/step - accuracy: 0.7958 - loss: 1.1038\n",
      "Epoch 628/750\n",
      "\u001b[1m268/268\u001b[0m \u001b[32m━━━━━━━━━━━━━━━━━━━━\u001b[0m\u001b[37m\u001b[0m \u001b[1m2s\u001b[0m 5ms/step - accuracy: 0.8030 - loss: 1.0820\n",
      "Epoch 629/750\n",
      "\u001b[1m268/268\u001b[0m \u001b[32m━━━━━━━━━━━━━━━━━━━━\u001b[0m\u001b[37m\u001b[0m \u001b[1m3s\u001b[0m 5ms/step - accuracy: 0.7991 - loss: 1.0999\n",
      "Epoch 630/750\n",
      "\u001b[1m268/268\u001b[0m \u001b[32m━━━━━━━━━━━━━━━━━━━━\u001b[0m\u001b[37m\u001b[0m \u001b[1m3s\u001b[0m 5ms/step - accuracy: 0.7996 - loss: 1.0879\n",
      "Epoch 631/750\n",
      "\u001b[1m268/268\u001b[0m \u001b[32m━━━━━━━━━━━━━━━━━━━━\u001b[0m\u001b[37m\u001b[0m \u001b[1m1s\u001b[0m 5ms/step - accuracy: 0.8010 - loss: 1.0750\n",
      "Epoch 632/750\n",
      "\u001b[1m268/268\u001b[0m \u001b[32m━━━━━━━━━━━━━━━━━━━━\u001b[0m\u001b[37m\u001b[0m \u001b[1m3s\u001b[0m 8ms/step - accuracy: 0.8035 - loss: 1.0723\n",
      "Epoch 633/750\n",
      "\u001b[1m268/268\u001b[0m \u001b[32m━━━━━━━━━━━━━━━━━━━━\u001b[0m\u001b[37m\u001b[0m \u001b[1m2s\u001b[0m 5ms/step - accuracy: 0.8013 - loss: 1.0727\n",
      "Epoch 634/750\n",
      "\u001b[1m268/268\u001b[0m \u001b[32m━━━━━━━━━━━━━━━━━━━━\u001b[0m\u001b[37m\u001b[0m \u001b[1m1s\u001b[0m 5ms/step - accuracy: 0.7988 - loss: 1.0772\n",
      "Epoch 635/750\n",
      "\u001b[1m268/268\u001b[0m \u001b[32m━━━━━━━━━━━━━━━━━━━━\u001b[0m\u001b[37m\u001b[0m \u001b[1m1s\u001b[0m 5ms/step - accuracy: 0.8021 - loss: 1.0707\n",
      "Epoch 636/750\n",
      "\u001b[1m268/268\u001b[0m \u001b[32m━━━━━━━━━━━━━━━━━━━━\u001b[0m\u001b[37m\u001b[0m \u001b[1m1s\u001b[0m 5ms/step - accuracy: 0.8049 - loss: 1.0721\n",
      "Epoch 637/750\n",
      "\u001b[1m268/268\u001b[0m \u001b[32m━━━━━━━━━━━━━━━━━━━━\u001b[0m\u001b[37m\u001b[0m \u001b[1m3s\u001b[0m 5ms/step - accuracy: 0.8025 - loss: 1.0765\n",
      "Epoch 638/750\n",
      "\u001b[1m268/268\u001b[0m \u001b[32m━━━━━━━━━━━━━━━━━━━━\u001b[0m\u001b[37m\u001b[0m \u001b[1m2s\u001b[0m 6ms/step - accuracy: 0.8046 - loss: 1.0597\n",
      "Epoch 639/750\n",
      "\u001b[1m268/268\u001b[0m \u001b[32m━━━━━━━━━━━━━━━━━━━━\u001b[0m\u001b[37m\u001b[0m \u001b[1m2s\u001b[0m 8ms/step - accuracy: 0.8007 - loss: 1.0596\n",
      "Epoch 640/750\n",
      "\u001b[1m268/268\u001b[0m \u001b[32m━━━━━━━━━━━━━━━━━━━━\u001b[0m\u001b[37m\u001b[0m \u001b[1m2s\u001b[0m 6ms/step - accuracy: 0.8035 - loss: 1.0583\n",
      "Epoch 641/750\n",
      "\u001b[1m268/268\u001b[0m \u001b[32m━━━━━━━━━━━━━━━━━━━━\u001b[0m\u001b[37m\u001b[0m \u001b[1m1s\u001b[0m 5ms/step - accuracy: 0.8093 - loss: 1.0496\n",
      "Epoch 642/750\n",
      "\u001b[1m268/268\u001b[0m \u001b[32m━━━━━━━━━━━━━━━━━━━━\u001b[0m\u001b[37m\u001b[0m \u001b[1m1s\u001b[0m 5ms/step - accuracy: 0.8045 - loss: 1.0680\n",
      "Epoch 643/750\n",
      "\u001b[1m268/268\u001b[0m \u001b[32m━━━━━━━━━━━━━━━━━━━━\u001b[0m\u001b[37m\u001b[0m \u001b[1m1s\u001b[0m 5ms/step - accuracy: 0.8066 - loss: 1.0427\n",
      "Epoch 644/750\n",
      "\u001b[1m268/268\u001b[0m \u001b[32m━━━━━━━━━━━━━━━━━━━━\u001b[0m\u001b[37m\u001b[0m \u001b[1m1s\u001b[0m 5ms/step - accuracy: 0.8076 - loss: 1.0436\n",
      "Epoch 645/750\n",
      "\u001b[1m268/268\u001b[0m \u001b[32m━━━━━━━━━━━━━━━━━━━━\u001b[0m\u001b[37m\u001b[0m \u001b[1m1s\u001b[0m 5ms/step - accuracy: 0.8043 - loss: 1.0447\n",
      "Epoch 646/750\n",
      "\u001b[1m268/268\u001b[0m \u001b[32m━━━━━━━━━━━━━━━━━━━━\u001b[0m\u001b[37m\u001b[0m \u001b[1m1s\u001b[0m 5ms/step - accuracy: 0.8091 - loss: 1.0485\n",
      "Epoch 647/750\n",
      "\u001b[1m268/268\u001b[0m \u001b[32m━━━━━━━━━━━━━━━━━━━━\u001b[0m\u001b[37m\u001b[0m \u001b[1m3s\u001b[0m 8ms/step - accuracy: 0.8039 - loss: 1.0467\n",
      "Epoch 648/750\n",
      "\u001b[1m268/268\u001b[0m \u001b[32m━━━━━━━━━━━━━━━━━━━━\u001b[0m\u001b[37m\u001b[0m \u001b[1m1s\u001b[0m 5ms/step - accuracy: 0.8169 - loss: 1.0247\n",
      "Epoch 649/750\n",
      "\u001b[1m268/268\u001b[0m \u001b[32m━━━━━━━━━━━━━━━━━━━━\u001b[0m\u001b[37m\u001b[0m \u001b[1m1s\u001b[0m 5ms/step - accuracy: 0.8116 - loss: 1.0301\n",
      "Epoch 650/750\n",
      "\u001b[1m268/268\u001b[0m \u001b[32m━━━━━━━━━━━━━━━━━━━━\u001b[0m\u001b[37m\u001b[0m \u001b[1m3s\u001b[0m 5ms/step - accuracy: 0.8147 - loss: 1.0105\n",
      "Epoch 651/750\n",
      "\u001b[1m268/268\u001b[0m \u001b[32m━━━━━━━━━━━━━━━━━━━━\u001b[0m\u001b[37m\u001b[0m \u001b[1m3s\u001b[0m 5ms/step - accuracy: 0.8136 - loss: 1.0293\n",
      "Epoch 652/750\n",
      "\u001b[1m268/268\u001b[0m \u001b[32m━━━━━━━━━━━━━━━━━━━━\u001b[0m\u001b[37m\u001b[0m \u001b[1m1s\u001b[0m 5ms/step - accuracy: 0.8153 - loss: 1.0493\n",
      "Epoch 653/750\n",
      "\u001b[1m268/268\u001b[0m \u001b[32m━━━━━━━━━━━━━━━━━━━━\u001b[0m\u001b[37m\u001b[0m \u001b[1m3s\u001b[0m 8ms/step - accuracy: 0.8148 - loss: 1.0219\n",
      "Epoch 654/750\n",
      "\u001b[1m268/268\u001b[0m \u001b[32m━━━━━━━━━━━━━━━━━━━━\u001b[0m\u001b[37m\u001b[0m \u001b[1m1s\u001b[0m 5ms/step - accuracy: 0.8102 - loss: 1.0384\n",
      "Epoch 655/750\n",
      "\u001b[1m268/268\u001b[0m \u001b[32m━━━━━━━━━━━━━━━━━━━━\u001b[0m\u001b[37m\u001b[0m \u001b[1m1s\u001b[0m 5ms/step - accuracy: 0.8131 - loss: 1.0378\n",
      "Epoch 656/750\n",
      "\u001b[1m268/268\u001b[0m \u001b[32m━━━━━━━━━━━━━━━━━━━━\u001b[0m\u001b[37m\u001b[0m \u001b[1m1s\u001b[0m 5ms/step - accuracy: 0.8128 - loss: 1.0113\n",
      "Epoch 657/750\n",
      "\u001b[1m268/268\u001b[0m \u001b[32m━━━━━━━━━━━━━━━━━━━━\u001b[0m\u001b[37m\u001b[0m \u001b[1m1s\u001b[0m 5ms/step - accuracy: 0.8165 - loss: 1.0177\n",
      "Epoch 658/750\n",
      "\u001b[1m268/268\u001b[0m \u001b[32m━━━━━━━━━━━━━━━━━━━━\u001b[0m\u001b[37m\u001b[0m \u001b[1m3s\u001b[0m 5ms/step - accuracy: 0.8197 - loss: 0.9957\n",
      "Epoch 659/750\n",
      "\u001b[1m268/268\u001b[0m \u001b[32m━━━━━━━━━━━━━━━━━━━━\u001b[0m\u001b[37m\u001b[0m \u001b[1m3s\u001b[0m 8ms/step - accuracy: 0.8153 - loss: 1.0157\n",
      "Epoch 660/750\n",
      "\u001b[1m268/268\u001b[0m \u001b[32m━━━━━━━━━━━━━━━━━━━━\u001b[0m\u001b[37m\u001b[0m \u001b[1m2s\u001b[0m 7ms/step - accuracy: 0.8187 - loss: 1.0084\n",
      "Epoch 661/750\n",
      "\u001b[1m268/268\u001b[0m \u001b[32m━━━━━━━━━━━━━━━━━━━━\u001b[0m\u001b[37m\u001b[0m \u001b[1m2s\u001b[0m 5ms/step - accuracy: 0.8196 - loss: 0.9901\n",
      "Epoch 662/750\n",
      "\u001b[1m268/268\u001b[0m \u001b[32m━━━━━━━━━━━━━━━━━━━━\u001b[0m\u001b[37m\u001b[0m \u001b[1m3s\u001b[0m 5ms/step - accuracy: 0.8183 - loss: 0.9986\n",
      "Epoch 663/750\n",
      "\u001b[1m268/268\u001b[0m \u001b[32m━━━━━━━━━━━━━━━━━━━━\u001b[0m\u001b[37m\u001b[0m \u001b[1m3s\u001b[0m 6ms/step - accuracy: 0.8148 - loss: 1.0063\n",
      "Epoch 664/750\n",
      "\u001b[1m268/268\u001b[0m \u001b[32m━━━━━━━━━━━━━━━━━━━━\u001b[0m\u001b[37m\u001b[0m \u001b[1m3s\u001b[0m 6ms/step - accuracy: 0.8164 - loss: 1.0006\n",
      "Epoch 665/750\n",
      "\u001b[1m268/268\u001b[0m \u001b[32m━━━━━━━━━━━━━━━━━━━━\u001b[0m\u001b[37m\u001b[0m \u001b[1m3s\u001b[0m 8ms/step - accuracy: 0.8137 - loss: 1.0085\n",
      "Epoch 666/750\n",
      "\u001b[1m268/268\u001b[0m \u001b[32m━━━━━━━━━━━━━━━━━━━━\u001b[0m\u001b[37m\u001b[0m \u001b[1m1s\u001b[0m 5ms/step - accuracy: 0.8218 - loss: 0.9935\n",
      "Epoch 667/750\n",
      "\u001b[1m268/268\u001b[0m \u001b[32m━━━━━━━━━━━━━━━━━━━━\u001b[0m\u001b[37m\u001b[0m \u001b[1m3s\u001b[0m 6ms/step - accuracy: 0.8193 - loss: 0.9911\n",
      "Epoch 668/750\n",
      "\u001b[1m268/268\u001b[0m \u001b[32m━━━━━━━━━━━━━━━━━━━━\u001b[0m\u001b[37m\u001b[0m \u001b[1m1s\u001b[0m 5ms/step - accuracy: 0.8217 - loss: 0.9761\n",
      "Epoch 669/750\n",
      "\u001b[1m268/268\u001b[0m \u001b[32m━━━━━━━━━━━━━━━━━━━━\u001b[0m\u001b[37m\u001b[0m \u001b[1m3s\u001b[0m 6ms/step - accuracy: 0.8248 - loss: 0.9773\n",
      "Epoch 670/750\n",
      "\u001b[1m268/268\u001b[0m \u001b[32m━━━━━━━━━━━━━━━━━━━━\u001b[0m\u001b[37m\u001b[0m \u001b[1m3s\u001b[0m 8ms/step - accuracy: 0.8182 - loss: 0.9843\n",
      "Epoch 671/750\n",
      "\u001b[1m268/268\u001b[0m \u001b[32m━━━━━━━━━━━━━━━━━━━━\u001b[0m\u001b[37m\u001b[0m \u001b[1m2s\u001b[0m 8ms/step - accuracy: 0.8206 - loss: 0.9828\n",
      "Epoch 672/750\n",
      "\u001b[1m268/268\u001b[0m \u001b[32m━━━━━━━━━━━━━━━━━━━━\u001b[0m\u001b[37m\u001b[0m \u001b[1m2s\u001b[0m 6ms/step - accuracy: 0.8212 - loss: 0.9814\n",
      "Epoch 673/750\n",
      "\u001b[1m268/268\u001b[0m \u001b[32m━━━━━━━━━━━━━━━━━━━━\u001b[0m\u001b[37m\u001b[0m \u001b[1m1s\u001b[0m 5ms/step - accuracy: 0.8239 - loss: 0.9712\n",
      "Epoch 674/750\n",
      "\u001b[1m268/268\u001b[0m \u001b[32m━━━━━━━━━━━━━━━━━━━━\u001b[0m\u001b[37m\u001b[0m \u001b[1m1s\u001b[0m 5ms/step - accuracy: 0.8197 - loss: 0.9921\n",
      "Epoch 675/750\n",
      "\u001b[1m268/268\u001b[0m \u001b[32m━━━━━━━━━━━━━━━━━━━━\u001b[0m\u001b[37m\u001b[0m \u001b[1m1s\u001b[0m 5ms/step - accuracy: 0.8227 - loss: 0.9751\n",
      "Epoch 676/750\n",
      "\u001b[1m268/268\u001b[0m \u001b[32m━━━━━━━━━━━━━━━━━━━━\u001b[0m\u001b[37m\u001b[0m \u001b[1m1s\u001b[0m 5ms/step - accuracy: 0.8229 - loss: 0.9643\n",
      "Epoch 677/750\n",
      "\u001b[1m268/268\u001b[0m \u001b[32m━━━━━━━━━━━━━━━━━━━━\u001b[0m\u001b[37m\u001b[0m \u001b[1m1s\u001b[0m 5ms/step - accuracy: 0.8242 - loss: 0.9705\n",
      "Epoch 678/750\n",
      "\u001b[1m268/268\u001b[0m \u001b[32m━━━━━━━━━━━━━━━━━━━━\u001b[0m\u001b[37m\u001b[0m \u001b[1m3s\u001b[0m 8ms/step - accuracy: 0.8192 - loss: 0.9760\n",
      "Epoch 679/750\n",
      "\u001b[1m268/268\u001b[0m \u001b[32m━━━━━━━━━━━━━━━━━━━━\u001b[0m\u001b[37m\u001b[0m \u001b[1m2s\u001b[0m 6ms/step - accuracy: 0.8234 - loss: 0.9606\n",
      "Epoch 680/750\n",
      "\u001b[1m268/268\u001b[0m \u001b[32m━━━━━━━━━━━━━━━━━━━━\u001b[0m\u001b[37m\u001b[0m \u001b[1m1s\u001b[0m 5ms/step - accuracy: 0.8218 - loss: 0.9785\n",
      "Epoch 681/750\n",
      "\u001b[1m268/268\u001b[0m \u001b[32m━━━━━━━━━━━━━━━━━━━━\u001b[0m\u001b[37m\u001b[0m \u001b[1m1s\u001b[0m 5ms/step - accuracy: 0.8328 - loss: 0.9437\n",
      "Epoch 682/750\n",
      "\u001b[1m268/268\u001b[0m \u001b[32m━━━━━━━━━━━━━━━━━━━━\u001b[0m\u001b[37m\u001b[0m \u001b[1m3s\u001b[0m 5ms/step - accuracy: 0.8301 - loss: 0.9523\n",
      "Epoch 683/750\n",
      "\u001b[1m268/268\u001b[0m \u001b[32m━━━━━━━━━━━━━━━━━━━━\u001b[0m\u001b[37m\u001b[0m \u001b[1m3s\u001b[0m 5ms/step - accuracy: 0.8307 - loss: 0.9458\n",
      "Epoch 684/750\n",
      "\u001b[1m268/268\u001b[0m \u001b[32m━━━━━━━━━━━━━━━━━━━━\u001b[0m\u001b[37m\u001b[0m \u001b[1m2s\u001b[0m 8ms/step - accuracy: 0.8249 - loss: 0.9595\n",
      "Epoch 685/750\n",
      "\u001b[1m268/268\u001b[0m \u001b[32m━━━━━━━━━━━━━━━━━━━━\u001b[0m\u001b[37m\u001b[0m \u001b[1m2s\u001b[0m 7ms/step - accuracy: 0.8264 - loss: 0.9454\n",
      "Epoch 686/750\n",
      "\u001b[1m268/268\u001b[0m \u001b[32m━━━━━━━━━━━━━━━━━━━━\u001b[0m\u001b[37m\u001b[0m \u001b[1m2s\u001b[0m 5ms/step - accuracy: 0.8342 - loss: 0.9203\n",
      "Epoch 687/750\n",
      "\u001b[1m268/268\u001b[0m \u001b[32m━━━━━━━━━━━━━━━━━━━━\u001b[0m\u001b[37m\u001b[0m \u001b[1m3s\u001b[0m 5ms/step - accuracy: 0.8278 - loss: 0.9489\n",
      "Epoch 688/750\n",
      "\u001b[1m268/268\u001b[0m \u001b[32m━━━━━━━━━━━━━━━━━━━━\u001b[0m\u001b[37m\u001b[0m \u001b[1m3s\u001b[0m 5ms/step - accuracy: 0.8289 - loss: 0.9388\n",
      "Epoch 689/750\n",
      "\u001b[1m268/268\u001b[0m \u001b[32m━━━━━━━━━━━━━━━━━━━━\u001b[0m\u001b[37m\u001b[0m \u001b[1m1s\u001b[0m 5ms/step - accuracy: 0.8284 - loss: 0.9500\n",
      "Epoch 690/750\n",
      "\u001b[1m268/268\u001b[0m \u001b[32m━━━━━━━━━━━━━━━━━━━━\u001b[0m\u001b[37m\u001b[0m \u001b[1m2s\u001b[0m 6ms/step - accuracy: 0.8298 - loss: 0.9443\n",
      "Epoch 691/750\n",
      "\u001b[1m268/268\u001b[0m \u001b[32m━━━━━━━━━━━━━━━━━━━━\u001b[0m\u001b[37m\u001b[0m \u001b[1m3s\u001b[0m 7ms/step - accuracy: 0.8290 - loss: 0.9305\n",
      "Epoch 692/750\n",
      "\u001b[1m268/268\u001b[0m \u001b[32m━━━━━━━━━━━━━━━━━━━━\u001b[0m\u001b[37m\u001b[0m \u001b[1m1s\u001b[0m 5ms/step - accuracy: 0.8357 - loss: 0.9274\n",
      "Epoch 693/750\n",
      "\u001b[1m268/268\u001b[0m \u001b[32m━━━━━━━━━━━━━━━━━━━━\u001b[0m\u001b[37m\u001b[0m \u001b[1m1s\u001b[0m 5ms/step - accuracy: 0.8329 - loss: 0.9265\n",
      "Epoch 694/750\n",
      "\u001b[1m268/268\u001b[0m \u001b[32m━━━━━━━━━━━━━━━━━━━━\u001b[0m\u001b[37m\u001b[0m \u001b[1m3s\u001b[0m 5ms/step - accuracy: 0.8307 - loss: 0.9250\n",
      "Epoch 695/750\n",
      "\u001b[1m268/268\u001b[0m \u001b[32m━━━━━━━━━━━━━━━━━━━━\u001b[0m\u001b[37m\u001b[0m \u001b[1m3s\u001b[0m 6ms/step - accuracy: 0.8273 - loss: 0.9386\n",
      "Epoch 696/750\n",
      "\u001b[1m268/268\u001b[0m \u001b[32m━━━━━━━━━━━━━━━━━━━━\u001b[0m\u001b[37m\u001b[0m \u001b[1m2s\u001b[0m 6ms/step - accuracy: 0.8352 - loss: 0.9242\n",
      "Epoch 697/750\n",
      "\u001b[1m268/268\u001b[0m \u001b[32m━━━━━━━━━━━━━━━━━━━━\u001b[0m\u001b[37m\u001b[0m \u001b[1m3s\u001b[0m 7ms/step - accuracy: 0.8371 - loss: 0.9179\n",
      "Epoch 698/750\n",
      "\u001b[1m268/268\u001b[0m \u001b[32m━━━━━━━━━━━━━━━━━━━━\u001b[0m\u001b[37m\u001b[0m \u001b[1m2s\u001b[0m 6ms/step - accuracy: 0.8311 - loss: 0.9316\n",
      "Epoch 699/750\n",
      "\u001b[1m268/268\u001b[0m \u001b[32m━━━━━━━━━━━━━━━━━━━━\u001b[0m\u001b[37m\u001b[0m \u001b[1m2s\u001b[0m 5ms/step - accuracy: 0.8367 - loss: 0.9129\n",
      "Epoch 700/750\n",
      "\u001b[1m268/268\u001b[0m \u001b[32m━━━━━━━━━━━━━━━━━━━━\u001b[0m\u001b[37m\u001b[0m \u001b[1m3s\u001b[0m 6ms/step - accuracy: 0.8321 - loss: 0.9405\n",
      "Epoch 701/750\n",
      "\u001b[1m268/268\u001b[0m \u001b[32m━━━━━━━━━━━━━━━━━━━━\u001b[0m\u001b[37m\u001b[0m \u001b[1m2s\u001b[0m 5ms/step - accuracy: 0.8372 - loss: 0.9061\n",
      "Epoch 702/750\n",
      "\u001b[1m268/268\u001b[0m \u001b[32m━━━━━━━━━━━━━━━━━━━━\u001b[0m\u001b[37m\u001b[0m \u001b[1m2s\u001b[0m 7ms/step - accuracy: 0.8365 - loss: 0.9116\n",
      "Epoch 703/750\n",
      "\u001b[1m268/268\u001b[0m \u001b[32m━━━━━━━━━━━━━━━━━━━━\u001b[0m\u001b[37m\u001b[0m \u001b[1m2s\u001b[0m 8ms/step - accuracy: 0.8437 - loss: 0.8904\n",
      "Epoch 704/750\n",
      "\u001b[1m268/268\u001b[0m \u001b[32m━━━━━━━━━━━━━━━━━━━━\u001b[0m\u001b[37m\u001b[0m \u001b[1m2s\u001b[0m 6ms/step - accuracy: 0.8375 - loss: 0.9157\n",
      "Epoch 705/750\n",
      "\u001b[1m268/268\u001b[0m \u001b[32m━━━━━━━━━━━━━━━━━━━━\u001b[0m\u001b[37m\u001b[0m \u001b[1m3s\u001b[0m 6ms/step - accuracy: 0.8405 - loss: 0.8951\n",
      "Epoch 706/750\n",
      "\u001b[1m268/268\u001b[0m \u001b[32m━━━━━━━━━━━━━━━━━━━━\u001b[0m\u001b[37m\u001b[0m \u001b[1m3s\u001b[0m 6ms/step - accuracy: 0.8346 - loss: 0.9079\n",
      "Epoch 707/750\n",
      "\u001b[1m268/268\u001b[0m \u001b[32m━━━━━━━━━━━━━━━━━━━━\u001b[0m\u001b[37m\u001b[0m \u001b[1m2s\u001b[0m 5ms/step - accuracy: 0.8386 - loss: 0.8954\n",
      "Epoch 708/750\n",
      "\u001b[1m268/268\u001b[0m \u001b[32m━━━━━━━━━━━━━━━━━━━━\u001b[0m\u001b[37m\u001b[0m \u001b[1m2s\u001b[0m 7ms/step - accuracy: 0.8425 - loss: 0.8891\n",
      "Epoch 709/750\n",
      "\u001b[1m268/268\u001b[0m \u001b[32m━━━━━━━━━━━━━━━━━━━━\u001b[0m\u001b[37m\u001b[0m \u001b[1m2s\u001b[0m 8ms/step - accuracy: 0.8428 - loss: 0.8822\n",
      "Epoch 710/750\n",
      "\u001b[1m268/268\u001b[0m \u001b[32m━━━━━━━━━━━━━━━━━━━━\u001b[0m\u001b[37m\u001b[0m \u001b[1m2s\u001b[0m 6ms/step - accuracy: 0.8464 - loss: 0.8866\n",
      "Epoch 711/750\n",
      "\u001b[1m268/268\u001b[0m \u001b[32m━━━━━━━━━━━━━━━━━━━━\u001b[0m\u001b[37m\u001b[0m \u001b[1m2s\u001b[0m 6ms/step - accuracy: 0.8468 - loss: 0.8702\n",
      "Epoch 712/750\n",
      "\u001b[1m268/268\u001b[0m \u001b[32m━━━━━━━━━━━━━━━━━━━━\u001b[0m\u001b[37m\u001b[0m \u001b[1m2s\u001b[0m 6ms/step - accuracy: 0.8412 - loss: 0.8910\n",
      "Epoch 713/750\n",
      "\u001b[1m268/268\u001b[0m \u001b[32m━━━━━━━━━━━━━━━━━━━━\u001b[0m\u001b[37m\u001b[0m \u001b[1m2s\u001b[0m 5ms/step - accuracy: 0.8420 - loss: 0.8777\n",
      "Epoch 714/750\n",
      "\u001b[1m268/268\u001b[0m \u001b[32m━━━━━━━━━━━━━━━━━━━━\u001b[0m\u001b[37m\u001b[0m \u001b[1m1s\u001b[0m 5ms/step - accuracy: 0.8470 - loss: 0.8627\n",
      "Epoch 715/750\n",
      "\u001b[1m268/268\u001b[0m \u001b[32m━━━━━━━━━━━━━━━━━━━━\u001b[0m\u001b[37m\u001b[0m \u001b[1m2s\u001b[0m 6ms/step - accuracy: 0.8435 - loss: 0.8809\n",
      "Epoch 716/750\n",
      "\u001b[1m268/268\u001b[0m \u001b[32m━━━━━━━━━━━━━━━━━━━━\u001b[0m\u001b[37m\u001b[0m \u001b[1m2s\u001b[0m 8ms/step - accuracy: 0.8458 - loss: 0.8839\n",
      "Epoch 717/750\n",
      "\u001b[1m268/268\u001b[0m \u001b[32m━━━━━━━━━━━━━━━━━━━━\u001b[0m\u001b[37m\u001b[0m \u001b[1m2s\u001b[0m 6ms/step - accuracy: 0.8468 - loss: 0.8653\n",
      "Epoch 718/750\n",
      "\u001b[1m268/268\u001b[0m \u001b[32m━━━━━━━━━━━━━━━━━━━━\u001b[0m\u001b[37m\u001b[0m \u001b[1m2s\u001b[0m 5ms/step - accuracy: 0.8382 - loss: 0.8794\n",
      "Epoch 719/750\n",
      "\u001b[1m268/268\u001b[0m \u001b[32m━━━━━━━━━━━━━━━━━━━━\u001b[0m\u001b[37m\u001b[0m \u001b[1m3s\u001b[0m 6ms/step - accuracy: 0.8419 - loss: 0.8847\n",
      "Epoch 720/750\n",
      "\u001b[1m268/268\u001b[0m \u001b[32m━━━━━━━━━━━━━━━━━━━━\u001b[0m\u001b[37m\u001b[0m \u001b[1m3s\u001b[0m 5ms/step - accuracy: 0.8434 - loss: 0.8705\n",
      "Epoch 721/750\n",
      "\u001b[1m268/268\u001b[0m \u001b[32m━━━━━━━━━━━━━━━━━━━━\u001b[0m\u001b[37m\u001b[0m \u001b[1m2s\u001b[0m 6ms/step - accuracy: 0.8420 - loss: 0.8834\n",
      "Epoch 722/750\n",
      "\u001b[1m268/268\u001b[0m \u001b[32m━━━━━━━━━━━━━━━━━━━━\u001b[0m\u001b[37m\u001b[0m \u001b[1m2s\u001b[0m 8ms/step - accuracy: 0.8486 - loss: 0.8676\n",
      "Epoch 723/750\n",
      "\u001b[1m268/268\u001b[0m \u001b[32m━━━━━━━━━━━━━━━━━━━━\u001b[0m\u001b[37m\u001b[0m \u001b[1m2s\u001b[0m 6ms/step - accuracy: 0.8471 - loss: 0.8630\n",
      "Epoch 724/750\n",
      "\u001b[1m268/268\u001b[0m \u001b[32m━━━━━━━━━━━━━━━━━━━━\u001b[0m\u001b[37m\u001b[0m \u001b[1m2s\u001b[0m 5ms/step - accuracy: 0.8423 - loss: 0.8754\n",
      "Epoch 725/750\n",
      "\u001b[1m268/268\u001b[0m \u001b[32m━━━━━━━━━━━━━━━━━━━━\u001b[0m\u001b[37m\u001b[0m \u001b[1m1s\u001b[0m 5ms/step - accuracy: 0.8485 - loss: 0.8624\n",
      "Epoch 726/750\n",
      "\u001b[1m268/268\u001b[0m \u001b[32m━━━━━━━━━━━━━━━━━━━━\u001b[0m\u001b[37m\u001b[0m \u001b[1m3s\u001b[0m 6ms/step - accuracy: 0.8477 - loss: 0.8595\n",
      "Epoch 727/750\n",
      "\u001b[1m268/268\u001b[0m \u001b[32m━━━━━━━━━━━━━━━━━━━━\u001b[0m\u001b[37m\u001b[0m \u001b[1m1s\u001b[0m 5ms/step - accuracy: 0.8519 - loss: 0.8583\n",
      "Epoch 728/750\n",
      "\u001b[1m268/268\u001b[0m \u001b[32m━━━━━━━━━━━━━━━━━━━━\u001b[0m\u001b[37m\u001b[0m \u001b[1m3s\u001b[0m 9ms/step - accuracy: 0.8496 - loss: 0.8535\n",
      "Epoch 729/750\n",
      "\u001b[1m268/268\u001b[0m \u001b[32m━━━━━━━━━━━━━━━━━━━━\u001b[0m\u001b[37m\u001b[0m \u001b[1m2s\u001b[0m 6ms/step - accuracy: 0.8506 - loss: 0.8474\n",
      "Epoch 730/750\n",
      "\u001b[1m268/268\u001b[0m \u001b[32m━━━━━━━━━━━━━━━━━━━━\u001b[0m\u001b[37m\u001b[0m \u001b[1m1s\u001b[0m 5ms/step - accuracy: 0.8522 - loss: 0.8476\n",
      "Epoch 731/750\n",
      "\u001b[1m268/268\u001b[0m \u001b[32m━━━━━━━━━━━━━━━━━━━━\u001b[0m\u001b[37m\u001b[0m \u001b[1m1s\u001b[0m 5ms/step - accuracy: 0.8541 - loss: 0.8538\n",
      "Epoch 732/750\n",
      "\u001b[1m268/268\u001b[0m \u001b[32m━━━━━━━━━━━━━━━━━━━━\u001b[0m\u001b[37m\u001b[0m \u001b[1m1s\u001b[0m 5ms/step - accuracy: 0.8513 - loss: 0.8534\n",
      "Epoch 733/750\n",
      "\u001b[1m268/268\u001b[0m \u001b[32m━━━━━━━━━━━━━━━━━━━━\u001b[0m\u001b[37m\u001b[0m \u001b[1m3s\u001b[0m 6ms/step - accuracy: 0.8539 - loss: 0.8334\n",
      "Epoch 734/750\n",
      "\u001b[1m268/268\u001b[0m \u001b[32m━━━━━━━━━━━━━━━━━━━━\u001b[0m\u001b[37m\u001b[0m \u001b[1m1s\u001b[0m 5ms/step - accuracy: 0.8493 - loss: 0.8489\n",
      "Epoch 735/750\n",
      "\u001b[1m268/268\u001b[0m \u001b[32m━━━━━━━━━━━━━━━━━━━━\u001b[0m\u001b[37m\u001b[0m \u001b[1m3s\u001b[0m 8ms/step - accuracy: 0.8563 - loss: 0.8307\n",
      "Epoch 736/750\n",
      "\u001b[1m268/268\u001b[0m \u001b[32m━━━━━━━━━━━━━━━━━━━━\u001b[0m\u001b[37m\u001b[0m \u001b[1m2s\u001b[0m 6ms/step - accuracy: 0.8533 - loss: 0.8281\n",
      "Epoch 737/750\n",
      "\u001b[1m268/268\u001b[0m \u001b[32m━━━━━━━━━━━━━━━━━━━━\u001b[0m\u001b[37m\u001b[0m \u001b[1m1s\u001b[0m 5ms/step - accuracy: 0.8537 - loss: 0.8335\n",
      "Epoch 738/750\n",
      "\u001b[1m268/268\u001b[0m \u001b[32m━━━━━━━━━━━━━━━━━━━━\u001b[0m\u001b[37m\u001b[0m \u001b[1m1s\u001b[0m 5ms/step - accuracy: 0.8582 - loss: 0.8284\n",
      "Epoch 739/750\n",
      "\u001b[1m268/268\u001b[0m \u001b[32m━━━━━━━━━━━━━━━━━━━━\u001b[0m\u001b[37m\u001b[0m \u001b[1m1s\u001b[0m 5ms/step - accuracy: 0.8537 - loss: 0.8224\n",
      "Epoch 740/750\n",
      "\u001b[1m268/268\u001b[0m \u001b[32m━━━━━━━━━━━━━━━━━━━━\u001b[0m\u001b[37m\u001b[0m \u001b[1m3s\u001b[0m 6ms/step - accuracy: 0.8530 - loss: 0.8328\n",
      "Epoch 741/750\n",
      "\u001b[1m268/268\u001b[0m \u001b[32m━━━━━━━━━━━━━━━━━━━━\u001b[0m\u001b[37m\u001b[0m \u001b[1m2s\u001b[0m 6ms/step - accuracy: 0.8488 - loss: 0.8351\n",
      "Epoch 742/750\n",
      "\u001b[1m268/268\u001b[0m \u001b[32m━━━━━━━━━━━━━━━━━━━━\u001b[0m\u001b[37m\u001b[0m \u001b[1m3s\u001b[0m 7ms/step - accuracy: 0.8526 - loss: 0.8358\n",
      "Epoch 743/750\n",
      "\u001b[1m268/268\u001b[0m \u001b[32m━━━━━━━━━━━━━━━━━━━━\u001b[0m\u001b[37m\u001b[0m \u001b[1m1s\u001b[0m 5ms/step - accuracy: 0.8586 - loss: 0.8098\n",
      "Epoch 744/750\n",
      "\u001b[1m268/268\u001b[0m \u001b[32m━━━━━━━━━━━━━━━━━━━━\u001b[0m\u001b[37m\u001b[0m \u001b[1m3s\u001b[0m 5ms/step - accuracy: 0.8533 - loss: 0.8373\n",
      "Epoch 745/750\n",
      "\u001b[1m268/268\u001b[0m \u001b[32m━━━━━━━━━━━━━━━━━━━━\u001b[0m\u001b[37m\u001b[0m \u001b[1m1s\u001b[0m 5ms/step - accuracy: 0.8565 - loss: 0.8080\n",
      "Epoch 746/750\n",
      "\u001b[1m268/268\u001b[0m \u001b[32m━━━━━━━━━━━━━━━━━━━━\u001b[0m\u001b[37m\u001b[0m \u001b[1m3s\u001b[0m 6ms/step - accuracy: 0.8574 - loss: 0.8053\n",
      "Epoch 747/750\n",
      "\u001b[1m268/268\u001b[0m \u001b[32m━━━━━━━━━━━━━━━━━━━━\u001b[0m\u001b[37m\u001b[0m \u001b[1m2s\u001b[0m 6ms/step - accuracy: 0.8552 - loss: 0.8212\n",
      "Epoch 748/750\n",
      "\u001b[1m268/268\u001b[0m \u001b[32m━━━━━━━━━━━━━━━━━━━━\u001b[0m\u001b[37m\u001b[0m \u001b[1m2s\u001b[0m 8ms/step - accuracy: 0.8568 - loss: 0.8222\n",
      "Epoch 749/750\n",
      "\u001b[1m268/268\u001b[0m \u001b[32m━━━━━━━━━━━━━━━━━━━━\u001b[0m\u001b[37m\u001b[0m \u001b[1m2s\u001b[0m 6ms/step - accuracy: 0.8568 - loss: 0.8102\n",
      "Epoch 750/750\n",
      "\u001b[1m268/268\u001b[0m \u001b[32m━━━━━━━━━━━━━━━━━━━━\u001b[0m\u001b[37m\u001b[0m \u001b[1m2s\u001b[0m 5ms/step - accuracy: 0.8536 - loss: 0.8147\n"
     ]
    },
    {
     "ename": "ValueError",
     "evalue": "The filename must end in `.weights.h5`. Received: filepath=NWP_model_16.h5",
     "output_type": "error",
     "traceback": [
      "\u001b[0;31m---------------------------------------------------------------------------\u001b[0m",
      "\u001b[0;31mValueError\u001b[0m                                Traceback (most recent call last)",
      "\u001b[0;32m<ipython-input-29-b84a0eb7b647>\u001b[0m in \u001b[0;36m<cell line: 0>\u001b[0;34m()\u001b[0m\n\u001b[1;32m     11\u001b[0m             shuffle=True)\n\u001b[1;32m     12\u001b[0m \u001b[0;31m# saving the trained weights\u001b[0m\u001b[0;34m\u001b[0m\u001b[0;34m\u001b[0m\u001b[0m\n\u001b[0;32m---> 13\u001b[0;31m \u001b[0mmodel\u001b[0m\u001b[0;34m.\u001b[0m\u001b[0msave_weights\u001b[0m\u001b[0;34m(\u001b[0m\u001b[0mmodel_file\u001b[0m\u001b[0;34m)\u001b[0m\u001b[0;34m\u001b[0m\u001b[0;34m\u001b[0m\u001b[0m\n\u001b[0m",
      "\u001b[0;32m/usr/local/lib/python3.11/dist-packages/keras/src/utils/traceback_utils.py\u001b[0m in \u001b[0;36merror_handler\u001b[0;34m(*args, **kwargs)\u001b[0m\n\u001b[1;32m    120\u001b[0m             \u001b[0;31m# To get the full stack trace, call:\u001b[0m\u001b[0;34m\u001b[0m\u001b[0;34m\u001b[0m\u001b[0m\n\u001b[1;32m    121\u001b[0m             \u001b[0;31m# `keras.config.disable_traceback_filtering()`\u001b[0m\u001b[0;34m\u001b[0m\u001b[0;34m\u001b[0m\u001b[0m\n\u001b[0;32m--> 122\u001b[0;31m             \u001b[0;32mraise\u001b[0m \u001b[0me\u001b[0m\u001b[0;34m.\u001b[0m\u001b[0mwith_traceback\u001b[0m\u001b[0;34m(\u001b[0m\u001b[0mfiltered_tb\u001b[0m\u001b[0;34m)\u001b[0m \u001b[0;32mfrom\u001b[0m \u001b[0;32mNone\u001b[0m\u001b[0;34m\u001b[0m\u001b[0;34m\u001b[0m\u001b[0m\n\u001b[0m\u001b[1;32m    123\u001b[0m         \u001b[0;32mfinally\u001b[0m\u001b[0;34m:\u001b[0m\u001b[0;34m\u001b[0m\u001b[0;34m\u001b[0m\u001b[0m\n\u001b[1;32m    124\u001b[0m             \u001b[0;32mdel\u001b[0m \u001b[0mfiltered_tb\u001b[0m\u001b[0;34m\u001b[0m\u001b[0;34m\u001b[0m\u001b[0m\n",
      "\u001b[0;32m/usr/local/lib/python3.11/dist-packages/keras/src/saving/saving_api.py\u001b[0m in \u001b[0;36msave_weights\u001b[0;34m(model, filepath, overwrite, **kwargs)\u001b[0m\n\u001b[1;32m    222\u001b[0m \u001b[0;32mdef\u001b[0m \u001b[0msave_weights\u001b[0m\u001b[0;34m(\u001b[0m\u001b[0mmodel\u001b[0m\u001b[0;34m,\u001b[0m \u001b[0mfilepath\u001b[0m\u001b[0;34m,\u001b[0m \u001b[0moverwrite\u001b[0m\u001b[0;34m=\u001b[0m\u001b[0;32mTrue\u001b[0m\u001b[0;34m,\u001b[0m \u001b[0;34m**\u001b[0m\u001b[0mkwargs\u001b[0m\u001b[0;34m)\u001b[0m\u001b[0;34m:\u001b[0m\u001b[0;34m\u001b[0m\u001b[0;34m\u001b[0m\u001b[0m\n\u001b[1;32m    223\u001b[0m     \u001b[0;32mif\u001b[0m \u001b[0;32mnot\u001b[0m \u001b[0mstr\u001b[0m\u001b[0;34m(\u001b[0m\u001b[0mfilepath\u001b[0m\u001b[0;34m)\u001b[0m\u001b[0;34m.\u001b[0m\u001b[0mendswith\u001b[0m\u001b[0;34m(\u001b[0m\u001b[0;34m\".weights.h5\"\u001b[0m\u001b[0;34m)\u001b[0m\u001b[0;34m:\u001b[0m\u001b[0;34m\u001b[0m\u001b[0;34m\u001b[0m\u001b[0m\n\u001b[0;32m--> 224\u001b[0;31m         raise ValueError(\n\u001b[0m\u001b[1;32m    225\u001b[0m             \u001b[0;34m\"The filename must end in `.weights.h5`. \"\u001b[0m\u001b[0;34m\u001b[0m\u001b[0;34m\u001b[0m\u001b[0m\n\u001b[1;32m    226\u001b[0m             \u001b[0;34mf\"Received: filepath={filepath}\"\u001b[0m\u001b[0;34m\u001b[0m\u001b[0;34m\u001b[0m\u001b[0m\n",
      "\u001b[0;31mValueError\u001b[0m: The filename must end in `.weights.h5`. Received: filepath=NWP_model_16.h5"
     ]
    }
   ],
   "source": [
    "train = False\n",
    "if(train):\n",
    "  # training the model\n",
    "\n",
    "  batch_size = 64\n",
    "  epochs = 750\n",
    "  #epochs = 150\n",
    "  history = model.fit(x=X,y=Y,\n",
    "            epochs=epochs,\n",
    "            batch_size = batch_size,\n",
    "            shuffle=True)"
   ]
  },
  {
   "cell_type": "code",
   "execution_count": 30,
   "metadata": {
    "executionInfo": {
     "elapsed": 27,
     "status": "ok",
     "timestamp": 1745667786527,
     "user": {
      "displayName": "LINDA STALIDZANE",
      "userId": "15461164945673796910"
     },
     "user_tz": -120
    },
    "id": "kW6f4eww58e2"
   },
   "outputs": [],
   "source": [
    "model_file = 'NWP_model_16.weights.h5'\n",
    "# saving the trained weights\n",
    "model.save_weights(model_file)"
   ]
  },
  {
   "cell_type": "markdown",
   "metadata": {
    "id": "vC6tA1UrPudV"
   },
   "source": [
    "# **After an intial phase where only the loss improved, not the accuracy, suddenly the accuracy started to increase**\n",
    "* ## That's typical on *memory* phenomena\n",
    "* ## Increase the number of training epochs, since we did not attain a loss plateau, and also the size of the hidden state\n",
    "\n",
    "  * 10 units, 650 epochs\n",
    "    * accuracy: 0.4804 - loss: 2.4598\n",
    "  * 16 units, 750 epochs\n",
    "    * accuracy: 0.8536 - loss: 0.8147"
   ]
  },
  {
   "cell_type": "markdown",
   "metadata": {
    "id": "ueny07f6Xbzv"
   },
   "source": [
    "# **We could even train a bit more the same model, but the loss seems satured**\n",
    "* ## To improve the performance we need to increase the hidden state size"
   ]
  },
  {
   "cell_type": "markdown",
   "metadata": {
    "id": "wmaRCEoqOKzC"
   },
   "source": [
    "# **We now want to use the model**\n",
    "> * ## the function `prepare_input` assumes we feed it with a text containing 5 words, and it will split it\n",
    "> * ## Then it create the numeric 3D format to feed the model"
   ]
  },
  {
   "cell_type": "code",
   "execution_count": 13,
   "metadata": {
    "executionInfo": {
     "elapsed": 4,
     "status": "ok",
     "timestamp": 1745669030946,
     "user": {
      "displayName": "LINDA STALIDZANE",
      "userId": "15461164945673796910"
     },
     "user_tz": -120
    },
    "id": "trdFfP3eWlA0"
   },
   "outputs": [],
   "source": [
    "# transorm the input \"text\" in one sample formed by its words.\n",
    "#   \"text\" should contain NPREV_WORDS words\n",
    "def prepare_input(text, NPREV_WORDS, tot_uniq_words, word_dict):\n",
    "    x = np.zeros((1, NPREV_WORDS, tot_uniq_words))\n",
    "    for t, word in enumerate(text.split()):\n",
    "        word = word.lower()\n",
    "        if word not in word_dict:\n",
    "          print(f\"word:{word} not in dictionary!\")\n",
    "          exit()\n",
    "        # stop when number of time steps reached\n",
    "        if t >= NPREV_WORDS:\n",
    "          break\n",
    "        else:\n",
    "          x[0, t, word_dict[word]] = 1\n",
    "    return x"
   ]
  },
  {
   "cell_type": "markdown",
   "metadata": {
    "id": "YYC440TKO5Ob"
   },
   "source": [
    "# **Then we want to invoke the model to get the predicted next word**\n",
    "> * ## `predict_completion` does it"
   ]
  },
  {
   "cell_type": "code",
   "execution_count": 36,
   "metadata": {
    "colab": {
     "base_uri": "https://localhost:8080/"
    },
    "executionInfo": {
     "elapsed": 220,
     "status": "ok",
     "timestamp": 1745670870926,
     "user": {
      "displayName": "LINDA STALIDZANE",
      "userId": "15461164945673796910"
     },
     "user_tz": -120
    },
    "id": "8vn4v1bNPCXa",
    "outputId": "5cdd1a1b-a01d-491f-a4ea-ad751e09a7a9"
   },
   "outputs": [
    {
     "name": "stdout",
     "output_type": "stream",
     "text": [
      "use\n",
      "of\n",
      "anyone\n",
      "['this', 'ebook', 'is', 'for', 'the', 'use', 'of', 'anyone', 'anywhere']\n"
     ]
    }
   ],
   "source": [
    "# input text to be predicted, the dictionary of words on which the model has\n",
    "# been trained\n",
    "index_to_word = {i: w for w, i in unique_word_index.items()}\n",
    "def predict_completion(model, text, NPREV_WORDS, tot_uniq_words, unique_word_index, index_to_word):\n",
    "    original_text = text\n",
    "    generated = text\n",
    "    next_word = ''\n",
    "    x = prepare_input(text, NPREV_WORDS, tot_uniq_words, unique_word_index)\n",
    "    preds = model.predict(x, verbose=0)[0]\n",
    "    #print(f\"preds.shape:{preds.shape}\")\n",
    "    # taking next word as the one with maximum probability\n",
    "    #  should be extracted\n",
    "    next_index = np.argmax(preds)\n",
    "    next_word = index_to_word[int(next_index)]\n",
    "    # next_word = list(word_dict.keys())[list(word_dict.values()).index(next_index)]\n",
    "    return next_word\n",
    "\n",
    "test = \"This eBook is for the\"\n",
    "print(predict_completion(model, test, NPREV_WORDS, tot_uniq_words, unique_word_index, index_to_word))\n",
    "test = \"eBook is for the use\"\n",
    "print(predict_completion(model, test, NPREV_WORDS, tot_uniq_words, unique_word_index, index_to_word))\n",
    "test = \"is for the use of\"\n",
    "print(predict_completion(model, test, NPREV_WORDS, tot_uniq_words, unique_word_index, index_to_word))\n",
    "print(words[11:20])"
   ]
  },
  {
   "cell_type": "markdown",
   "metadata": {
    "id": "ZW3gnR584vdP"
   },
   "source": [
    "# **USING THE MODEL TO RECONTRUCT A TEXT**"
   ]
  },
  {
   "cell_type": "code",
   "execution_count": 38,
   "metadata": {
    "colab": {
     "base_uri": "https://localhost:8080/"
    },
    "executionInfo": {
     "elapsed": 3296,
     "status": "ok",
     "timestamp": 1745670889713,
     "user": {
      "displayName": "LINDA STALIDZANE",
      "userId": "15461164945673796910"
     },
     "user_tz": -120
    },
    "id": "Tyv4HNF84uyP",
    "outputId": "0e02d913-f11c-41a6-83a1-d33971c0c6fa"
   },
   "outputs": [
    {
     "name": "stdout",
     "output_type": "stream",
     "text": [
      "initial text: she is always the woman\n",
      "real text:['i', 'have', 'seldom', 'heard', 'him', 'mention', 'her', 'under', 'any', 'other', 'name', 'in', 'his', 'eyes', 'she', 'eclipses', 'and', 'predominates', 'the', 'whole', 'of', 'her', 'sex', 'it', 'was', 'not', 'that', 'he', 'felt', 'any', 'emotion', 'akin', 'to', 'love', 'for', 'irene', 'adler', 'all', 'emotions', 'and', 'that', 'one', 'particularly', 'were', 'abhorrent', 'to', 'his', 'cold', 'precise', 'but']\n",
      "recon_text:['i', 'have', 'seldom', 'heard', 'him', 'mention', 'her', 'under', 'any', 'other', 'assistant', 'that', 'a', 'eyes', 'is', 'has', 'and', 'predominates', 'the', 'whole', 'of', 'her', 'sex', 'it', 'was', 'not', 'that', 'he', 'shall', 'an', 'emotion', 'akin', 'to', 'love', 'for', 'irene', 'adler', 'all', 'emotions', 'and', 'that', 'one', 'woman', 'were', 'abhorrent', 'to', 'his', 'one', 'precise', 'but']\n"
     ]
    }
   ],
   "source": [
    "# number of words to recontstuct\n",
    "recon_len = 50\n",
    "ini = 190\n",
    "\n",
    "test = words[ini:ini+NPREV_WORDS]\n",
    "# concatenate string list into a text separated\n",
    "test_text = \" \".join(test)\n",
    "print(f\"initial text: {test_text}\")\n",
    "recon_text = []\n",
    "# recontructing text with the predicted words in sequence, then compare with the true text\n",
    "for i in range(recon_len):\n",
    "  recon_text.append(str(predict_completion(model, test_text, NPREV_WORDS, tot_uniq_words, unique_word_index, index_to_word)))\n",
    "  test[:NPREV_WORDS-1] = test[1:NPREV_WORDS]\n",
    "  test[NPREV_WORDS-1] = words[ini+i+NPREV_WORDS]\n",
    "  test_text = \" \".join(test)\n",
    "\n",
    "\n",
    "print(f\"real text:{words[ini+NPREV_WORDS:ini+recon_len+NPREV_WORDS]}\")\n",
    "print(f\"recon_text:{recon_text}\")"
   ]
  },
  {
   "cell_type": "markdown",
   "metadata": {
    "id": "zR1c47I4WkhD"
   },
   "source": [
    "# **The quality of predictions is not so good**\n",
    "* ## An error soon is propagated forever\n",
    "* ## Need to better tune the model and increase the model size"
   ]
  },
  {
   "cell_type": "code",
   "execution_count": null,
   "metadata": {
    "id": "8V1vpKIvvn4k"
   },
   "outputs": [],
   "source": [
    "drive.flush_and_unmount()"
   ]
  },
  {
   "cell_type": "markdown",
   "metadata": {
    "id": "4a2ee3zms_7f"
   },
   "source": [
    "# **EXERCISE**\n",
    " * ## After having tuned a better model, even running the same fit() without reinitialing the model, try to call the prediction_completion method in a loop scanning the whole text, and computing fraction of correct prediction\n",
    " * ## Repeat the experiment by varying NPREV_WORDS, e.g., to 3 and to 7, to check whether the model predictive capabilities change  "
   ]
  },
  {
   "cell_type": "code",
   "execution_count": 39,
   "metadata": {
    "colab": {
     "base_uri": "https://localhost:8080/",
     "height": 452
    },
    "executionInfo": {
     "elapsed": 392936,
     "status": "error",
     "timestamp": 1745671292971,
     "user": {
      "displayName": "LINDA STALIDZANE",
      "userId": "15461164945673796910"
     },
     "user_tz": -120
    },
    "id": "nlC-j2Ym0XfW",
    "outputId": "59a2b7c9-8ce0-4e36-9f30-b2d5147135dc"
   },
   "outputs": [
    {
     "name": "stdout",
     "output_type": "stream",
     "text": [
      "Progress: 0/17104\n",
      "Progress: 1000/17104\n",
      "Progress: 2000/17104\n",
      "Progress: 3000/17104\n",
      "Progress: 4000/17104\n",
      "Progress: 5000/17104\n"
     ]
    },
    {
     "ename": "KeyboardInterrupt",
     "evalue": "",
     "output_type": "error",
     "traceback": [
      "\u001b[0;31m---------------------------------------------------------------------------\u001b[0m",
      "\u001b[0;31mKeyboardInterrupt\u001b[0m                         Traceback (most recent call last)",
      "\u001b[0;32m<ipython-input-39-b2e5d53388d9>\u001b[0m in \u001b[0;36m<cell line: 0>\u001b[0;34m()\u001b[0m\n\u001b[1;32m      9\u001b[0m     \u001b[0mtrue_next_word\u001b[0m \u001b[0;34m=\u001b[0m \u001b[0mwords\u001b[0m\u001b[0;34m[\u001b[0m\u001b[0mi\u001b[0m \u001b[0;34m+\u001b[0m \u001b[0mNPREV_WORDS\u001b[0m\u001b[0;34m]\u001b[0m\u001b[0;34m\u001b[0m\u001b[0;34m\u001b[0m\u001b[0m\n\u001b[1;32m     10\u001b[0m \u001b[0;34m\u001b[0m\u001b[0m\n\u001b[0;32m---> 11\u001b[0;31m     \u001b[0mpred_word\u001b[0m \u001b[0;34m=\u001b[0m \u001b[0mpredict_completion\u001b[0m\u001b[0;34m(\u001b[0m\u001b[0mmodel\u001b[0m\u001b[0;34m,\u001b[0m \u001b[0minput_seq\u001b[0m\u001b[0;34m,\u001b[0m \u001b[0mNPREV_WORDS\u001b[0m\u001b[0;34m,\u001b[0m \u001b[0mtot_uniq_words\u001b[0m\u001b[0;34m,\u001b[0m \u001b[0munique_word_index\u001b[0m\u001b[0;34m,\u001b[0m \u001b[0mindex_to_word\u001b[0m\u001b[0;34m)\u001b[0m\u001b[0;34m\u001b[0m\u001b[0;34m\u001b[0m\u001b[0m\n\u001b[0m\u001b[1;32m     12\u001b[0m \u001b[0;34m\u001b[0m\u001b[0m\n\u001b[1;32m     13\u001b[0m     \u001b[0;32mif\u001b[0m \u001b[0mpred_word\u001b[0m \u001b[0;34m==\u001b[0m \u001b[0mtrue_next_word\u001b[0m\u001b[0;34m:\u001b[0m\u001b[0;34m\u001b[0m\u001b[0;34m\u001b[0m\u001b[0m\n",
      "\u001b[0;32m<ipython-input-36-bd03e51a1436>\u001b[0m in \u001b[0;36mpredict_completion\u001b[0;34m(model, text, NPREV_WORDS, tot_uniq_words, unique_word_index, index_to_word)\u001b[0m\n\u001b[1;32m      7\u001b[0m     \u001b[0mnext_word\u001b[0m \u001b[0;34m=\u001b[0m \u001b[0;34m''\u001b[0m\u001b[0;34m\u001b[0m\u001b[0;34m\u001b[0m\u001b[0m\n\u001b[1;32m      8\u001b[0m     \u001b[0mx\u001b[0m \u001b[0;34m=\u001b[0m \u001b[0mprepare_input\u001b[0m\u001b[0;34m(\u001b[0m\u001b[0mtext\u001b[0m\u001b[0;34m,\u001b[0m \u001b[0mNPREV_WORDS\u001b[0m\u001b[0;34m,\u001b[0m \u001b[0mtot_uniq_words\u001b[0m\u001b[0;34m,\u001b[0m \u001b[0munique_word_index\u001b[0m\u001b[0;34m)\u001b[0m\u001b[0;34m\u001b[0m\u001b[0;34m\u001b[0m\u001b[0m\n\u001b[0;32m----> 9\u001b[0;31m     \u001b[0mpreds\u001b[0m \u001b[0;34m=\u001b[0m \u001b[0mmodel\u001b[0m\u001b[0;34m.\u001b[0m\u001b[0mpredict\u001b[0m\u001b[0;34m(\u001b[0m\u001b[0mx\u001b[0m\u001b[0;34m,\u001b[0m \u001b[0mverbose\u001b[0m\u001b[0;34m=\u001b[0m\u001b[0;36m0\u001b[0m\u001b[0;34m)\u001b[0m\u001b[0;34m[\u001b[0m\u001b[0;36m0\u001b[0m\u001b[0;34m]\u001b[0m\u001b[0;34m\u001b[0m\u001b[0;34m\u001b[0m\u001b[0m\n\u001b[0m\u001b[1;32m     10\u001b[0m     \u001b[0;31m#print(f\"preds.shape:{preds.shape}\")\u001b[0m\u001b[0;34m\u001b[0m\u001b[0;34m\u001b[0m\u001b[0m\n\u001b[1;32m     11\u001b[0m     \u001b[0;31m# taking next word as the one with maximum probability\u001b[0m\u001b[0;34m\u001b[0m\u001b[0;34m\u001b[0m\u001b[0m\n",
      "\u001b[0;32m/usr/local/lib/python3.11/dist-packages/keras/src/utils/traceback_utils.py\u001b[0m in \u001b[0;36merror_handler\u001b[0;34m(*args, **kwargs)\u001b[0m\n\u001b[1;32m    115\u001b[0m         \u001b[0mfiltered_tb\u001b[0m \u001b[0;34m=\u001b[0m \u001b[0;32mNone\u001b[0m\u001b[0;34m\u001b[0m\u001b[0;34m\u001b[0m\u001b[0m\n\u001b[1;32m    116\u001b[0m         \u001b[0;32mtry\u001b[0m\u001b[0;34m:\u001b[0m\u001b[0;34m\u001b[0m\u001b[0;34m\u001b[0m\u001b[0m\n\u001b[0;32m--> 117\u001b[0;31m             \u001b[0;32mreturn\u001b[0m \u001b[0mfn\u001b[0m\u001b[0;34m(\u001b[0m\u001b[0;34m*\u001b[0m\u001b[0margs\u001b[0m\u001b[0;34m,\u001b[0m \u001b[0;34m**\u001b[0m\u001b[0mkwargs\u001b[0m\u001b[0;34m)\u001b[0m\u001b[0;34m\u001b[0m\u001b[0;34m\u001b[0m\u001b[0m\n\u001b[0m\u001b[1;32m    118\u001b[0m         \u001b[0;32mexcept\u001b[0m \u001b[0mException\u001b[0m \u001b[0;32mas\u001b[0m \u001b[0me\u001b[0m\u001b[0;34m:\u001b[0m\u001b[0;34m\u001b[0m\u001b[0;34m\u001b[0m\u001b[0m\n\u001b[1;32m    119\u001b[0m             \u001b[0mfiltered_tb\u001b[0m \u001b[0;34m=\u001b[0m \u001b[0m_process_traceback_frames\u001b[0m\u001b[0;34m(\u001b[0m\u001b[0me\u001b[0m\u001b[0;34m.\u001b[0m\u001b[0m__traceback__\u001b[0m\u001b[0;34m)\u001b[0m\u001b[0;34m\u001b[0m\u001b[0;34m\u001b[0m\u001b[0m\n",
      "\u001b[0;32m/usr/local/lib/python3.11/dist-packages/keras/src/backend/tensorflow/trainer.py\u001b[0m in \u001b[0;36mpredict\u001b[0;34m(self, x, batch_size, verbose, steps, callbacks)\u001b[0m\n\u001b[1;32m    557\u001b[0m         \u001b[0moutputs\u001b[0m \u001b[0;34m=\u001b[0m \u001b[0;32mNone\u001b[0m\u001b[0;34m\u001b[0m\u001b[0;34m\u001b[0m\u001b[0m\n\u001b[1;32m    558\u001b[0m         \u001b[0;32mwith\u001b[0m \u001b[0mepoch_iterator\u001b[0m\u001b[0;34m.\u001b[0m\u001b[0mcatch_stop_iteration\u001b[0m\u001b[0;34m(\u001b[0m\u001b[0;34m)\u001b[0m\u001b[0;34m:\u001b[0m\u001b[0;34m\u001b[0m\u001b[0;34m\u001b[0m\u001b[0m\n\u001b[0;32m--> 559\u001b[0;31m             \u001b[0;32mfor\u001b[0m \u001b[0mstep\u001b[0m\u001b[0;34m,\u001b[0m \u001b[0miterator\u001b[0m \u001b[0;32min\u001b[0m \u001b[0mepoch_iterator\u001b[0m\u001b[0;34m:\u001b[0m\u001b[0;34m\u001b[0m\u001b[0;34m\u001b[0m\u001b[0m\n\u001b[0m\u001b[1;32m    560\u001b[0m                 \u001b[0mcallbacks\u001b[0m\u001b[0;34m.\u001b[0m\u001b[0mon_predict_batch_begin\u001b[0m\u001b[0;34m(\u001b[0m\u001b[0mstep\u001b[0m\u001b[0;34m)\u001b[0m\u001b[0;34m\u001b[0m\u001b[0;34m\u001b[0m\u001b[0m\n\u001b[1;32m    561\u001b[0m                 \u001b[0mdata\u001b[0m \u001b[0;34m=\u001b[0m \u001b[0mget_data\u001b[0m\u001b[0;34m(\u001b[0m\u001b[0miterator\u001b[0m\u001b[0;34m)\u001b[0m\u001b[0;34m\u001b[0m\u001b[0;34m\u001b[0m\u001b[0m\n",
      "\u001b[0;32m/usr/local/lib/python3.11/dist-packages/keras/src/backend/tensorflow/trainer.py\u001b[0m in \u001b[0;36m__next__\u001b[0;34m(self)\u001b[0m\n\u001b[1;32m    734\u001b[0m \u001b[0;34m\u001b[0m\u001b[0m\n\u001b[1;32m    735\u001b[0m     \u001b[0;32mdef\u001b[0m \u001b[0m__next__\u001b[0m\u001b[0;34m(\u001b[0m\u001b[0mself\u001b[0m\u001b[0;34m)\u001b[0m\u001b[0;34m:\u001b[0m\u001b[0;34m\u001b[0m\u001b[0;34m\u001b[0m\u001b[0m\n\u001b[0;32m--> 736\u001b[0;31m         \u001b[0;32mreturn\u001b[0m \u001b[0mnext\u001b[0m\u001b[0;34m(\u001b[0m\u001b[0mself\u001b[0m\u001b[0;34m.\u001b[0m\u001b[0m_epoch_iterator\u001b[0m\u001b[0;34m)\u001b[0m\u001b[0;34m\u001b[0m\u001b[0;34m\u001b[0m\u001b[0m\n\u001b[0m\u001b[1;32m    737\u001b[0m \u001b[0;34m\u001b[0m\u001b[0m\n\u001b[1;32m    738\u001b[0m     \u001b[0;34m@\u001b[0m\u001b[0mcontextlib\u001b[0m\u001b[0;34m.\u001b[0m\u001b[0mcontextmanager\u001b[0m\u001b[0;34m\u001b[0m\u001b[0;34m\u001b[0m\u001b[0m\n",
      "\u001b[0;32m/usr/local/lib/python3.11/dist-packages/keras/src/trainers/epoch_iterator.py\u001b[0m in \u001b[0;36m_enumerate_iterator\u001b[0;34m(self)\u001b[0m\n\u001b[1;32m    110\u001b[0m                 \u001b[0;32myield\u001b[0m \u001b[0mstep\u001b[0m\u001b[0;34m,\u001b[0m \u001b[0mself\u001b[0m\u001b[0;34m.\u001b[0m\u001b[0m_current_iterator\u001b[0m\u001b[0;34m\u001b[0m\u001b[0;34m\u001b[0m\u001b[0m\n\u001b[1;32m    111\u001b[0m             \u001b[0;32mif\u001b[0m \u001b[0mself\u001b[0m\u001b[0;34m.\u001b[0m\u001b[0m_num_batches\u001b[0m \u001b[0;32mand\u001b[0m \u001b[0mself\u001b[0m\u001b[0;34m.\u001b[0m\u001b[0m_steps_seen\u001b[0m \u001b[0;34m>=\u001b[0m \u001b[0mself\u001b[0m\u001b[0;34m.\u001b[0m\u001b[0m_num_batches\u001b[0m\u001b[0;34m:\u001b[0m\u001b[0;34m\u001b[0m\u001b[0;34m\u001b[0m\u001b[0m\n\u001b[0;32m--> 112\u001b[0;31m                 \u001b[0mself\u001b[0m\u001b[0;34m.\u001b[0m\u001b[0m_current_iterator\u001b[0m \u001b[0;34m=\u001b[0m \u001b[0miter\u001b[0m\u001b[0;34m(\u001b[0m\u001b[0mself\u001b[0m\u001b[0;34m.\u001b[0m\u001b[0m_get_iterator\u001b[0m\u001b[0;34m(\u001b[0m\u001b[0;34m)\u001b[0m\u001b[0;34m)\u001b[0m\u001b[0;34m\u001b[0m\u001b[0;34m\u001b[0m\u001b[0m\n\u001b[0m\u001b[1;32m    113\u001b[0m                 \u001b[0mself\u001b[0m\u001b[0;34m.\u001b[0m\u001b[0m_steps_seen\u001b[0m \u001b[0;34m=\u001b[0m \u001b[0;36m0\u001b[0m\u001b[0;34m\u001b[0m\u001b[0;34m\u001b[0m\u001b[0m\n\u001b[1;32m    114\u001b[0m         \u001b[0;32melse\u001b[0m\u001b[0;34m:\u001b[0m\u001b[0;34m\u001b[0m\u001b[0;34m\u001b[0m\u001b[0m\n",
      "\u001b[0;32m/usr/local/lib/python3.11/dist-packages/tensorflow/python/data/ops/dataset_ops.py\u001b[0m in \u001b[0;36m__iter__\u001b[0;34m(self)\u001b[0m\n\u001b[1;32m    499\u001b[0m     \u001b[0;32mif\u001b[0m \u001b[0mcontext\u001b[0m\u001b[0;34m.\u001b[0m\u001b[0mexecuting_eagerly\u001b[0m\u001b[0;34m(\u001b[0m\u001b[0;34m)\u001b[0m \u001b[0;32mor\u001b[0m \u001b[0mops\u001b[0m\u001b[0;34m.\u001b[0m\u001b[0minside_function\u001b[0m\u001b[0;34m(\u001b[0m\u001b[0;34m)\u001b[0m\u001b[0;34m:\u001b[0m\u001b[0;34m\u001b[0m\u001b[0;34m\u001b[0m\u001b[0m\n\u001b[1;32m    500\u001b[0m       \u001b[0;32mwith\u001b[0m \u001b[0mops\u001b[0m\u001b[0;34m.\u001b[0m\u001b[0mcolocate_with\u001b[0m\u001b[0;34m(\u001b[0m\u001b[0mself\u001b[0m\u001b[0;34m.\u001b[0m\u001b[0m_variant_tensor\u001b[0m\u001b[0;34m)\u001b[0m\u001b[0;34m:\u001b[0m\u001b[0;34m\u001b[0m\u001b[0;34m\u001b[0m\u001b[0m\n\u001b[0;32m--> 501\u001b[0;31m         \u001b[0;32mreturn\u001b[0m \u001b[0miterator_ops\u001b[0m\u001b[0;34m.\u001b[0m\u001b[0mOwnedIterator\u001b[0m\u001b[0;34m(\u001b[0m\u001b[0mself\u001b[0m\u001b[0;34m)\u001b[0m\u001b[0;34m\u001b[0m\u001b[0;34m\u001b[0m\u001b[0m\n\u001b[0m\u001b[1;32m    502\u001b[0m     \u001b[0;32melse\u001b[0m\u001b[0;34m:\u001b[0m\u001b[0;34m\u001b[0m\u001b[0;34m\u001b[0m\u001b[0m\n\u001b[1;32m    503\u001b[0m       raise RuntimeError(\"`tf.data.Dataset` only supports Python-style \"\n",
      "\u001b[0;32m/usr/local/lib/python3.11/dist-packages/tensorflow/python/data/ops/iterator_ops.py\u001b[0m in \u001b[0;36m__init__\u001b[0;34m(self, dataset, components, element_spec)\u001b[0m\n\u001b[1;32m    707\u001b[0m             \u001b[0;34m\"When `dataset` is provided, `element_spec` and `components` must \"\u001b[0m\u001b[0;34m\u001b[0m\u001b[0;34m\u001b[0m\u001b[0m\n\u001b[1;32m    708\u001b[0m             \"not be specified.\")\n\u001b[0;32m--> 709\u001b[0;31m       \u001b[0mself\u001b[0m\u001b[0;34m.\u001b[0m\u001b[0m_create_iterator\u001b[0m\u001b[0;34m(\u001b[0m\u001b[0mdataset\u001b[0m\u001b[0;34m)\u001b[0m\u001b[0;34m\u001b[0m\u001b[0;34m\u001b[0m\u001b[0m\n\u001b[0m\u001b[1;32m    710\u001b[0m \u001b[0;34m\u001b[0m\u001b[0m\n\u001b[1;32m    711\u001b[0m     \u001b[0mself\u001b[0m\u001b[0;34m.\u001b[0m\u001b[0m_get_next_call_count\u001b[0m \u001b[0;34m=\u001b[0m \u001b[0;36m0\u001b[0m\u001b[0;34m\u001b[0m\u001b[0;34m\u001b[0m\u001b[0m\n",
      "\u001b[0;32m/usr/local/lib/python3.11/dist-packages/tensorflow/python/data/ops/iterator_ops.py\u001b[0m in \u001b[0;36m_create_iterator\u001b[0;34m(self, dataset)\u001b[0m\n\u001b[1;32m    746\u001b[0m             self._flat_output_types)\n\u001b[1;32m    747\u001b[0m         \u001b[0mself\u001b[0m\u001b[0;34m.\u001b[0m\u001b[0m_iterator_resource\u001b[0m\u001b[0;34m.\u001b[0m\u001b[0mop\u001b[0m\u001b[0;34m.\u001b[0m\u001b[0mexperimental_set_type\u001b[0m\u001b[0;34m(\u001b[0m\u001b[0mfulltype\u001b[0m\u001b[0;34m)\u001b[0m\u001b[0;34m\u001b[0m\u001b[0;34m\u001b[0m\u001b[0m\n\u001b[0;32m--> 748\u001b[0;31m       \u001b[0mgen_dataset_ops\u001b[0m\u001b[0;34m.\u001b[0m\u001b[0mmake_iterator\u001b[0m\u001b[0;34m(\u001b[0m\u001b[0mds_variant\u001b[0m\u001b[0;34m,\u001b[0m \u001b[0mself\u001b[0m\u001b[0;34m.\u001b[0m\u001b[0m_iterator_resource\u001b[0m\u001b[0;34m)\u001b[0m\u001b[0;34m\u001b[0m\u001b[0;34m\u001b[0m\u001b[0m\n\u001b[0m\u001b[1;32m    749\u001b[0m \u001b[0;34m\u001b[0m\u001b[0m\n\u001b[1;32m    750\u001b[0m   \u001b[0;32mdef\u001b[0m \u001b[0m__iter__\u001b[0m\u001b[0;34m(\u001b[0m\u001b[0mself\u001b[0m\u001b[0;34m)\u001b[0m\u001b[0;34m:\u001b[0m\u001b[0;34m\u001b[0m\u001b[0;34m\u001b[0m\u001b[0m\n",
      "\u001b[0;32m/usr/local/lib/python3.11/dist-packages/tensorflow/python/ops/gen_dataset_ops.py\u001b[0m in \u001b[0;36mmake_iterator\u001b[0;34m(dataset, iterator, name)\u001b[0m\n\u001b[1;32m   3476\u001b[0m   \u001b[0;32mif\u001b[0m \u001b[0mtld\u001b[0m\u001b[0;34m.\u001b[0m\u001b[0mis_eager\u001b[0m\u001b[0;34m:\u001b[0m\u001b[0;34m\u001b[0m\u001b[0;34m\u001b[0m\u001b[0m\n\u001b[1;32m   3477\u001b[0m     \u001b[0;32mtry\u001b[0m\u001b[0;34m:\u001b[0m\u001b[0;34m\u001b[0m\u001b[0;34m\u001b[0m\u001b[0m\n\u001b[0;32m-> 3478\u001b[0;31m       _result = pywrap_tfe.TFE_Py_FastPathExecute(\n\u001b[0m\u001b[1;32m   3479\u001b[0m         _ctx, \"MakeIterator\", name, dataset, iterator)\n\u001b[1;32m   3480\u001b[0m       \u001b[0;32mreturn\u001b[0m \u001b[0m_result\u001b[0m\u001b[0;34m\u001b[0m\u001b[0;34m\u001b[0m\u001b[0m\n",
      "\u001b[0;31mKeyboardInterrupt\u001b[0m: "
     ]
    }
   ],
   "source": [
    "correct_predictions = 0\n",
    "total_predictions = 0\n",
    "\n",
    "for i in range(len(words) - NPREV_WORDS):\n",
    "    input_seq = \" \".join(words[i:i + NPREV_WORDS])\n",
    "    true_next_word = words[i + NPREV_WORDS]\n",
    "\n",
    "    pred_word = predict_completion(model, input_seq, NPREV_WORDS, tot_uniq_words, unique_word_index, index_to_word)\n",
    "\n",
    "    if pred_word == true_next_word:\n",
    "        correct_predictions += 1\n",
    "    total_predictions += 1\n",
    "\n",
    "accuracy = correct_predictions / total_predictions\n",
    "print(f\"Accuracy over the text: {accuracy:.4f}\")\n"
   ]
  },
  {
   "cell_type": "code",
   "execution_count": null,
   "metadata": {
    "colab": {
     "base_uri": "https://localhost:8080/"
    },
    "executionInfo": {
     "elapsed": 1512,
     "status": "ok",
     "timestamp": 1745671377327,
     "user": {
      "displayName": "LINDA STALIDZANE",
      "userId": "15461164945673796910"
     },
     "user_tz": -120
    },
    "id": "Qw0qSASmHhcQ",
    "outputId": "68629547-55c2-454a-d642-07957127464c"
   },
   "outputs": [
    {
     "name": "stdout",
     "output_type": "stream",
     "text": [
      "Predicting in batch...\n",
      "\u001b[1m134/134\u001b[0m \u001b[32m━━━━━━━━━━━━━━━━━━━━\u001b[0m\u001b[37m\u001b[0m \u001b[1m0s\u001b[0m 3ms/step\n",
      "\n",
      " Final Accuracy (5 words) over the full text: 0.8602\n"
     ]
    }
   ],
   "source": [
    "X_eval = np.zeros((len(words) - NPREV_WORDS, NPREV_WORDS, tot_uniq_words), dtype=bool)\n",
    "\n",
    "for i in range(len(words) - NPREV_WORDS):\n",
    "    seq = words[i:i + NPREV_WORDS]\n",
    "    for j, word in enumerate(seq):\n",
    "        if word in unique_word_index:\n",
    "            X_eval[i, j, unique_word_index[word]] = 1\n",
    "        else:\n",
    "            print(f\"Warning: Word '{word}' not found in dictionary. Skipping.\")  # optional warning\n",
    "\n",
    "# Predict all at once\n",
    "print(\"Predicting in batch...\")\n",
    "Y_pred = model.predict(X_eval, batch_size=128, verbose=1)\n",
    "\n",
    "# Evaluate accuracy\n",
    "correct_predictions = 0\n",
    "\n",
    "for i in range(len(words) - NPREV_WORDS):\n",
    "    true_word = words[i + NPREV_WORDS]\n",
    "    pred_index = np.argmax(Y_pred[i])\n",
    "    pred_word = index_to_word.get(int(pred_index), None)  # Safe lookup\n",
    "\n",
    "    if pred_word == true_word:\n",
    "        correct_predictions += 1\n",
    "\n",
    "accuracy = correct_predictions / (len(words) - NPREV_WORDS)\n",
    "print(f\"\\n Final Accuracy (5 words) over the full text: {accuracy:.4f}\")\n"
   ]
  },
  {
   "cell_type": "markdown",
   "metadata": {
    "id": "kbg7p4lSDvsq"
   },
   "source": [
    "16 units, 5 words : Accuracy over the text: 0.8602"
   ]
  },
  {
   "cell_type": "code",
   "execution_count": 42,
   "metadata": {
    "colab": {
     "base_uri": "https://localhost:8080/",
     "height": 281
    },
    "executionInfo": {
     "elapsed": 870,
     "status": "ok",
     "timestamp": 1745671392204,
     "user": {
      "displayName": "LINDA STALIDZANE",
      "userId": "15461164945673796910"
     },
     "user_tz": -120
    },
    "id": "Ib19iM8cDzKT",
    "outputId": "d21af68b-1e40-4913-e722-e61938bbc752"
   },
   "outputs": [
    {
     "name": "stderr",
     "output_type": "stream",
     "text": [
      "/usr/local/lib/python3.11/dist-packages/keras/src/layers/rnn/rnn.py:200: UserWarning: Do not pass an `input_shape`/`input_dim` argument to a layer. When using Sequential models, prefer using an `Input(shape)` object as the first layer in the model instead.\n",
      "  super().__init__(**kwargs)\n"
     ]
    },
    {
     "data": {
      "text/html": [
       "<pre style=\"white-space:pre;overflow-x:auto;line-height:normal;font-family:Menlo,'DejaVu Sans Mono',consolas,'Courier New',monospace\"><span style=\"font-weight: bold\">Model: \"sequential_1\"</span>\n",
       "</pre>\n"
      ],
      "text/plain": [
       "\u001b[1mModel: \"sequential_1\"\u001b[0m\n"
      ]
     },
     "metadata": {},
     "output_type": "display_data"
    },
    {
     "data": {
      "text/html": [
       "<pre style=\"white-space:pre;overflow-x:auto;line-height:normal;font-family:Menlo,'DejaVu Sans Mono',consolas,'Courier New',monospace\">┏━━━━━━━━━━━━━━━━━━━━━━━━━━━━━━━━━┳━━━━━━━━━━━━━━━━━━━━━━━━┳━━━━━━━━━━━━━━━┓\n",
       "┃<span style=\"font-weight: bold\"> Layer (type)                    </span>┃<span style=\"font-weight: bold\"> Output Shape           </span>┃<span style=\"font-weight: bold\">       Param # </span>┃\n",
       "┡━━━━━━━━━━━━━━━━━━━━━━━━━━━━━━━━━╇━━━━━━━━━━━━━━━━━━━━━━━━╇━━━━━━━━━━━━━━━┩\n",
       "│ lstm_1 (<span style=\"color: #0087ff; text-decoration-color: #0087ff\">LSTM</span>)                   │ (<span style=\"color: #00d7ff; text-decoration-color: #00d7ff\">None</span>, <span style=\"color: #00af00; text-decoration-color: #00af00\">16</span>)             │       <span style=\"color: #00af00; text-decoration-color: #00af00\">194,432</span> │\n",
       "├─────────────────────────────────┼────────────────────────┼───────────────┤\n",
       "│ dense_1 (<span style=\"color: #0087ff; text-decoration-color: #0087ff\">Dense</span>)                 │ (<span style=\"color: #00d7ff; text-decoration-color: #00d7ff\">None</span>, <span style=\"color: #00af00; text-decoration-color: #00af00\">3021</span>)           │        <span style=\"color: #00af00; text-decoration-color: #00af00\">51,357</span> │\n",
       "└─────────────────────────────────┴────────────────────────┴───────────────┘\n",
       "</pre>\n"
      ],
      "text/plain": [
       "┏━━━━━━━━━━━━━━━━━━━━━━━━━━━━━━━━━┳━━━━━━━━━━━━━━━━━━━━━━━━┳━━━━━━━━━━━━━━━┓\n",
       "┃\u001b[1m \u001b[0m\u001b[1mLayer (type)                   \u001b[0m\u001b[1m \u001b[0m┃\u001b[1m \u001b[0m\u001b[1mOutput Shape          \u001b[0m\u001b[1m \u001b[0m┃\u001b[1m \u001b[0m\u001b[1m      Param #\u001b[0m\u001b[1m \u001b[0m┃\n",
       "┡━━━━━━━━━━━━━━━━━━━━━━━━━━━━━━━━━╇━━━━━━━━━━━━━━━━━━━━━━━━╇━━━━━━━━━━━━━━━┩\n",
       "│ lstm_1 (\u001b[38;5;33mLSTM\u001b[0m)                   │ (\u001b[38;5;45mNone\u001b[0m, \u001b[38;5;34m16\u001b[0m)             │       \u001b[38;5;34m194,432\u001b[0m │\n",
       "├─────────────────────────────────┼────────────────────────┼───────────────┤\n",
       "│ dense_1 (\u001b[38;5;33mDense\u001b[0m)                 │ (\u001b[38;5;45mNone\u001b[0m, \u001b[38;5;34m3021\u001b[0m)           │        \u001b[38;5;34m51,357\u001b[0m │\n",
       "└─────────────────────────────────┴────────────────────────┴───────────────┘\n"
      ]
     },
     "metadata": {},
     "output_type": "display_data"
    },
    {
     "data": {
      "text/html": [
       "<pre style=\"white-space:pre;overflow-x:auto;line-height:normal;font-family:Menlo,'DejaVu Sans Mono',consolas,'Courier New',monospace\"><span style=\"font-weight: bold\"> Total params: </span><span style=\"color: #00af00; text-decoration-color: #00af00\">245,789</span> (960.11 KB)\n",
       "</pre>\n"
      ],
      "text/plain": [
       "\u001b[1m Total params: \u001b[0m\u001b[38;5;34m245,789\u001b[0m (960.11 KB)\n"
      ]
     },
     "metadata": {},
     "output_type": "display_data"
    },
    {
     "data": {
      "text/html": [
       "<pre style=\"white-space:pre;overflow-x:auto;line-height:normal;font-family:Menlo,'DejaVu Sans Mono',consolas,'Courier New',monospace\"><span style=\"font-weight: bold\"> Trainable params: </span><span style=\"color: #00af00; text-decoration-color: #00af00\">245,789</span> (960.11 KB)\n",
       "</pre>\n"
      ],
      "text/plain": [
       "\u001b[1m Trainable params: \u001b[0m\u001b[38;5;34m245,789\u001b[0m (960.11 KB)\n"
      ]
     },
     "metadata": {},
     "output_type": "display_data"
    },
    {
     "data": {
      "text/html": [
       "<pre style=\"white-space:pre;overflow-x:auto;line-height:normal;font-family:Menlo,'DejaVu Sans Mono',consolas,'Courier New',monospace\"><span style=\"font-weight: bold\"> Non-trainable params: </span><span style=\"color: #00af00; text-decoration-color: #00af00\">0</span> (0.00 B)\n",
       "</pre>\n"
      ],
      "text/plain": [
       "\u001b[1m Non-trainable params: \u001b[0m\u001b[38;5;34m0\u001b[0m (0.00 B)\n"
      ]
     },
     "metadata": {},
     "output_type": "display_data"
    },
    {
     "name": "stdout",
     "output_type": "stream",
     "text": [
      "None\n",
      "file exists, loading\n"
     ]
    }
   ],
   "source": [
    "model_3 = Sequential()\n",
    "model_3.add(LSTM(units=16, input_shape=(3, tot_uniq_words)))\n",
    "model_3.add(Dense(tot_uniq_words, activation='softmax'))\n",
    "print(model_3.summary())\n",
    "model_file = \"NWP_model_16_nprev_3.h5\"\n",
    "\n",
    "model_3.load_weights(model_file)\n",
    "print(\"file exists, loading\")\n",
    "model_3.compile(optimizer=tf.keras.optimizers.Adam(learning_rate=5*10**-4),\n",
    "                loss='categorical_crossentropy',\n",
    "                metrics=['accuracy'])"
   ]
  },
  {
   "cell_type": "code",
   "execution_count": 43,
   "metadata": {
    "colab": {
     "base_uri": "https://localhost:8080/"
    },
    "executionInfo": {
     "elapsed": 1224,
     "status": "ok",
     "timestamp": 1745671417359,
     "user": {
      "displayName": "LINDA STALIDZANE",
      "userId": "15461164945673796910"
     },
     "user_tz": -120
    },
    "id": "Ul_BvmHWH1Y_",
    "outputId": "f8e7725b-07b9-4bed-f193-a931ee08ab6e"
   },
   "outputs": [
    {
     "name": "stdout",
     "output_type": "stream",
     "text": [
      "Predicting in batch...\n",
      "\u001b[1m134/134\u001b[0m \u001b[32m━━━━━━━━━━━━━━━━━━━━\u001b[0m\u001b[37m\u001b[0m \u001b[1m0s\u001b[0m 3ms/step\n",
      "\n",
      " Final Accuracy over the full text: 0.0568\n"
     ]
    }
   ],
   "source": [
    "NPREV_WORDS = 3\n",
    "X_eval = np.zeros((len(words) - NPREV_WORDS, NPREV_WORDS, tot_uniq_words), dtype=bool)\n",
    "\n",
    "for i in range(len(words) - NPREV_WORDS):\n",
    "    seq = words[i:i + NPREV_WORDS]\n",
    "    for j, word in enumerate(seq):\n",
    "        if word in unique_word_index:\n",
    "            X_eval[i, j, unique_word_index[word]] = 1\n",
    "        else:\n",
    "            print(f\"Warning: Word '{word}' not found in dictionary. Skipping.\")  # optional warning\n",
    "\n",
    "# Predict all at once\n",
    "print(\"Predicting in batch...\")\n",
    "Y_pred = model.predict(X_eval, batch_size=128, verbose=1)\n",
    "\n",
    "# Evaluate accuracy\n",
    "correct_predictions = 0\n",
    "\n",
    "for i in range(len(words) - NPREV_WORDS):\n",
    "    true_word = words[i + NPREV_WORDS]\n",
    "    pred_index = np.argmax(Y_pred[i])\n",
    "    pred_word = index_to_word.get(int(pred_index), None)  # Safe lookup\n",
    "\n",
    "    if pred_word == true_word:\n",
    "        correct_predictions += 1\n",
    "\n",
    "accuracy = correct_predictions / (len(words) - NPREV_WORDS)\n",
    "print(f\"\\n Final Accuracy over the full text: {accuracy:.4f}\")\n"
   ]
  },
  {
   "cell_type": "code",
   "execution_count": 45,
   "metadata": {
    "colab": {
     "base_uri": "https://localhost:8080/",
     "height": 281
    },
    "executionInfo": {
     "elapsed": 697,
     "status": "ok",
     "timestamp": 1745671467369,
     "user": {
      "displayName": "LINDA STALIDZANE",
      "userId": "15461164945673796910"
     },
     "user_tz": -120
    },
    "id": "W6Xhwb6THCpi",
    "outputId": "259dbac6-f25d-496b-89bf-0ffa34b73716"
   },
   "outputs": [
    {
     "name": "stderr",
     "output_type": "stream",
     "text": [
      "/usr/local/lib/python3.11/dist-packages/keras/src/layers/rnn/rnn.py:200: UserWarning: Do not pass an `input_shape`/`input_dim` argument to a layer. When using Sequential models, prefer using an `Input(shape)` object as the first layer in the model instead.\n",
      "  super().__init__(**kwargs)\n"
     ]
    },
    {
     "data": {
      "text/html": [
       "<pre style=\"white-space:pre;overflow-x:auto;line-height:normal;font-family:Menlo,'DejaVu Sans Mono',consolas,'Courier New',monospace\"><span style=\"font-weight: bold\">Model: \"sequential_2\"</span>\n",
       "</pre>\n"
      ],
      "text/plain": [
       "\u001b[1mModel: \"sequential_2\"\u001b[0m\n"
      ]
     },
     "metadata": {},
     "output_type": "display_data"
    },
    {
     "data": {
      "text/html": [
       "<pre style=\"white-space:pre;overflow-x:auto;line-height:normal;font-family:Menlo,'DejaVu Sans Mono',consolas,'Courier New',monospace\">┏━━━━━━━━━━━━━━━━━━━━━━━━━━━━━━━━━┳━━━━━━━━━━━━━━━━━━━━━━━━┳━━━━━━━━━━━━━━━┓\n",
       "┃<span style=\"font-weight: bold\"> Layer (type)                    </span>┃<span style=\"font-weight: bold\"> Output Shape           </span>┃<span style=\"font-weight: bold\">       Param # </span>┃\n",
       "┡━━━━━━━━━━━━━━━━━━━━━━━━━━━━━━━━━╇━━━━━━━━━━━━━━━━━━━━━━━━╇━━━━━━━━━━━━━━━┩\n",
       "│ lstm_2 (<span style=\"color: #0087ff; text-decoration-color: #0087ff\">LSTM</span>)                   │ (<span style=\"color: #00d7ff; text-decoration-color: #00d7ff\">None</span>, <span style=\"color: #00af00; text-decoration-color: #00af00\">16</span>)             │       <span style=\"color: #00af00; text-decoration-color: #00af00\">194,432</span> │\n",
       "├─────────────────────────────────┼────────────────────────┼───────────────┤\n",
       "│ dense_2 (<span style=\"color: #0087ff; text-decoration-color: #0087ff\">Dense</span>)                 │ (<span style=\"color: #00d7ff; text-decoration-color: #00d7ff\">None</span>, <span style=\"color: #00af00; text-decoration-color: #00af00\">3021</span>)           │        <span style=\"color: #00af00; text-decoration-color: #00af00\">51,357</span> │\n",
       "└─────────────────────────────────┴────────────────────────┴───────────────┘\n",
       "</pre>\n"
      ],
      "text/plain": [
       "┏━━━━━━━━━━━━━━━━━━━━━━━━━━━━━━━━━┳━━━━━━━━━━━━━━━━━━━━━━━━┳━━━━━━━━━━━━━━━┓\n",
       "┃\u001b[1m \u001b[0m\u001b[1mLayer (type)                   \u001b[0m\u001b[1m \u001b[0m┃\u001b[1m \u001b[0m\u001b[1mOutput Shape          \u001b[0m\u001b[1m \u001b[0m┃\u001b[1m \u001b[0m\u001b[1m      Param #\u001b[0m\u001b[1m \u001b[0m┃\n",
       "┡━━━━━━━━━━━━━━━━━━━━━━━━━━━━━━━━━╇━━━━━━━━━━━━━━━━━━━━━━━━╇━━━━━━━━━━━━━━━┩\n",
       "│ lstm_2 (\u001b[38;5;33mLSTM\u001b[0m)                   │ (\u001b[38;5;45mNone\u001b[0m, \u001b[38;5;34m16\u001b[0m)             │       \u001b[38;5;34m194,432\u001b[0m │\n",
       "├─────────────────────────────────┼────────────────────────┼───────────────┤\n",
       "│ dense_2 (\u001b[38;5;33mDense\u001b[0m)                 │ (\u001b[38;5;45mNone\u001b[0m, \u001b[38;5;34m3021\u001b[0m)           │        \u001b[38;5;34m51,357\u001b[0m │\n",
       "└─────────────────────────────────┴────────────────────────┴───────────────┘\n"
      ]
     },
     "metadata": {},
     "output_type": "display_data"
    },
    {
     "data": {
      "text/html": [
       "<pre style=\"white-space:pre;overflow-x:auto;line-height:normal;font-family:Menlo,'DejaVu Sans Mono',consolas,'Courier New',monospace\"><span style=\"font-weight: bold\"> Total params: </span><span style=\"color: #00af00; text-decoration-color: #00af00\">245,789</span> (960.11 KB)\n",
       "</pre>\n"
      ],
      "text/plain": [
       "\u001b[1m Total params: \u001b[0m\u001b[38;5;34m245,789\u001b[0m (960.11 KB)\n"
      ]
     },
     "metadata": {},
     "output_type": "display_data"
    },
    {
     "data": {
      "text/html": [
       "<pre style=\"white-space:pre;overflow-x:auto;line-height:normal;font-family:Menlo,'DejaVu Sans Mono',consolas,'Courier New',monospace\"><span style=\"font-weight: bold\"> Trainable params: </span><span style=\"color: #00af00; text-decoration-color: #00af00\">245,789</span> (960.11 KB)\n",
       "</pre>\n"
      ],
      "text/plain": [
       "\u001b[1m Trainable params: \u001b[0m\u001b[38;5;34m245,789\u001b[0m (960.11 KB)\n"
      ]
     },
     "metadata": {},
     "output_type": "display_data"
    },
    {
     "data": {
      "text/html": [
       "<pre style=\"white-space:pre;overflow-x:auto;line-height:normal;font-family:Menlo,'DejaVu Sans Mono',consolas,'Courier New',monospace\"><span style=\"font-weight: bold\"> Non-trainable params: </span><span style=\"color: #00af00; text-decoration-color: #00af00\">0</span> (0.00 B)\n",
       "</pre>\n"
      ],
      "text/plain": [
       "\u001b[1m Non-trainable params: \u001b[0m\u001b[38;5;34m0\u001b[0m (0.00 B)\n"
      ]
     },
     "metadata": {},
     "output_type": "display_data"
    },
    {
     "name": "stdout",
     "output_type": "stream",
     "text": [
      "None\n",
      "file exists, loading\n"
     ]
    }
   ],
   "source": [
    "model_7 = Sequential()\n",
    "model_7.add(LSTM(units=16, input_shape=(3, tot_uniq_words)))\n",
    "model_7.add(Dense(tot_uniq_words, activation='softmax'))\n",
    "print(model_7.summary())\n",
    "model_file = \"NWP_model_16_nprev_7.h5\"\n",
    "model_7.load_weights(model_file)\n",
    "print(\"file exists, loading\")\n",
    "model_7.compile(optimizer=tf.keras.optimizers.Adam(learning_rate=5*10**-4),\n",
    "                loss='categorical_crossentropy',\n",
    "                metrics=['accuracy'])"
   ]
  },
  {
   "cell_type": "code",
   "execution_count": 46,
   "metadata": {
    "colab": {
     "base_uri": "https://localhost:8080/"
    },
    "executionInfo": {
     "elapsed": 2251,
     "status": "ok",
     "timestamp": 1745671472483,
     "user": {
      "displayName": "LINDA STALIDZANE",
      "userId": "15461164945673796910"
     },
     "user_tz": -120
    },
    "id": "V_8eMHpPIAWd",
    "outputId": "b1739d88-a344-4082-f7a8-7b9166e4dd40"
   },
   "outputs": [
    {
     "name": "stdout",
     "output_type": "stream",
     "text": [
      "Predicting in batch...\n",
      "\u001b[1m134/134\u001b[0m \u001b[32m━━━━━━━━━━━━━━━━━━━━\u001b[0m\u001b[37m\u001b[0m \u001b[1m1s\u001b[0m 5ms/step\n",
      "\n",
      " Final Accuracy (7 words) over the full text: 0.0705\n"
     ]
    }
   ],
   "source": [
    "NPREV_WORDS = 7\n",
    "X_eval = np.zeros((len(words) - NPREV_WORDS, NPREV_WORDS, tot_uniq_words), dtype=bool)\n",
    "\n",
    "for i in range(len(words) - NPREV_WORDS):\n",
    "    seq = words[i:i + NPREV_WORDS]\n",
    "    for j, word in enumerate(seq):\n",
    "        if word in unique_word_index:\n",
    "            X_eval[i, j, unique_word_index[word]] = 1\n",
    "        else:\n",
    "            print(f\"Warning: Word '{word}' not found in dictionary. Skipping.\")  # optional warning\n",
    "\n",
    "# Predict all at once\n",
    "print(\"Predicting in batch...\")\n",
    "Y_pred = model.predict(X_eval, batch_size=128, verbose=1)\n",
    "\n",
    "# Evaluate accuracy\n",
    "correct_predictions = 0\n",
    "\n",
    "for i in range(len(words) - NPREV_WORDS):\n",
    "    true_word = words[i + NPREV_WORDS]\n",
    "    pred_index = np.argmax(Y_pred[i])\n",
    "    pred_word = index_to_word.get(int(pred_index), None)  # Safe lookup\n",
    "\n",
    "    if pred_word == true_word:\n",
    "        correct_predictions += 1\n",
    "\n",
    "accuracy = correct_predictions / (len(words) - NPREV_WORDS)\n",
    "print(f\"\\n Final Accuracy (7 words) over the full text: {accuracy:.4f}\")\n"
   ]
  },
  {
   "cell_type": "markdown",
   "metadata": {
    "id": "Tv4uSJZIIOvR"
   },
   "source": [
    "## Final results:\n",
    "\n",
    "* With 5 words: 0.8602\n",
    "\n",
    "* With 3 words: 0.0568\n",
    "\n",
    "* With 7 words:0.0705"
   ]
  }
 ],
 "metadata": {
  "accelerator": "GPU",
  "colab": {
   "provenance": []
  },
  "gpuClass": "standard",
  "kernelspec": {
   "display_name": "Python 3",
   "name": "python3"
  },
  "language_info": {
   "name": "python"
  }
 },
 "nbformat": 4,
 "nbformat_minor": 0
}
