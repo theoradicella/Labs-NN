{
  "cells": [
    {
      "cell_type": "markdown",
      "metadata": {
        "id": "qoGaLibe1ie1"
      },
      "source": [
        "## IMPORTS\n",
        "\n"
      ]
    },
    {
      "cell_type": "markdown",
      "metadata": {
        "id": "piNoIgaM1obo"
      },
      "source": [
        "To improve readability and organization, I've placed all necessary installations and imports at the beginning of the notebook, making the code easier to follow."
      ]
    },
    {
      "cell_type": "code",
      "execution_count": null,
      "metadata": {
        "id": "WuVTc01W2QBg",
        "colab": {
          "base_uri": "https://localhost:8080/"
        },
        "outputId": "0734161c-25f0-4928-8adc-fdaeb802c13c"
      },
      "outputs": [
        {
          "output_type": "stream",
          "name": "stdout",
          "text": [
            "Requirement already satisfied: keras-tuner in /usr/local/lib/python3.11/dist-packages (1.4.7)\n",
            "Requirement already satisfied: keras in /usr/local/lib/python3.11/dist-packages (from keras-tuner) (3.8.0)\n",
            "Requirement already satisfied: packaging in /usr/local/lib/python3.11/dist-packages (from keras-tuner) (24.2)\n",
            "Requirement already satisfied: requests in /usr/local/lib/python3.11/dist-packages (from keras-tuner) (2.32.3)\n",
            "Requirement already satisfied: kt-legacy in /usr/local/lib/python3.11/dist-packages (from keras-tuner) (1.0.5)\n",
            "Requirement already satisfied: absl-py in /usr/local/lib/python3.11/dist-packages (from keras->keras-tuner) (1.4.0)\n",
            "Requirement already satisfied: numpy in /usr/local/lib/python3.11/dist-packages (from keras->keras-tuner) (2.0.2)\n",
            "Requirement already satisfied: rich in /usr/local/lib/python3.11/dist-packages (from keras->keras-tuner) (13.9.4)\n",
            "Requirement already satisfied: namex in /usr/local/lib/python3.11/dist-packages (from keras->keras-tuner) (0.1.0)\n",
            "Requirement already satisfied: h5py in /usr/local/lib/python3.11/dist-packages (from keras->keras-tuner) (3.14.0)\n",
            "Requirement already satisfied: optree in /usr/local/lib/python3.11/dist-packages (from keras->keras-tuner) (0.16.0)\n",
            "Requirement already satisfied: ml-dtypes in /usr/local/lib/python3.11/dist-packages (from keras->keras-tuner) (0.4.1)\n",
            "Requirement already satisfied: charset-normalizer<4,>=2 in /usr/local/lib/python3.11/dist-packages (from requests->keras-tuner) (3.4.2)\n",
            "Requirement already satisfied: idna<4,>=2.5 in /usr/local/lib/python3.11/dist-packages (from requests->keras-tuner) (3.10)\n",
            "Requirement already satisfied: urllib3<3,>=1.21.1 in /usr/local/lib/python3.11/dist-packages (from requests->keras-tuner) (2.4.0)\n",
            "Requirement already satisfied: certifi>=2017.4.17 in /usr/local/lib/python3.11/dist-packages (from requests->keras-tuner) (2025.6.15)\n",
            "Requirement already satisfied: typing-extensions>=4.6.0 in /usr/local/lib/python3.11/dist-packages (from optree->keras->keras-tuner) (4.14.0)\n",
            "Requirement already satisfied: markdown-it-py>=2.2.0 in /usr/local/lib/python3.11/dist-packages (from rich->keras->keras-tuner) (3.0.0)\n",
            "Requirement already satisfied: pygments<3.0.0,>=2.13.0 in /usr/local/lib/python3.11/dist-packages (from rich->keras->keras-tuner) (2.19.2)\n",
            "Requirement already satisfied: mdurl~=0.1 in /usr/local/lib/python3.11/dist-packages (from markdown-it-py>=2.2.0->rich->keras->keras-tuner) (0.1.2)\n"
          ]
        }
      ],
      "source": [
        "!pip install keras-tuner"
      ]
    },
    {
      "cell_type": "code",
      "execution_count": null,
      "metadata": {
        "id": "zEiXJZuN1hz7"
      },
      "outputs": [],
      "source": [
        "import numpy as np\n",
        "import pandas as pd\n",
        "import tensorflow as tf\n",
        "\n",
        "import matplotlib.pyplot as plt\n",
        "import seaborn as sns\n",
        "\n",
        "from tensorflow.keras.models import Model\n",
        "from tensorflow.keras.preprocessing.text import Tokenizer\n",
        "from tensorflow.keras.preprocessing.sequence import pad_sequences\n",
        "from tensorflow.keras import regularizers\n",
        "from tensorflow.keras import initializers\n",
        "\n",
        "from tensorflow.keras.layers import (\n",
        "    Input, Embedding, GRU, Dense, Dropout,\n",
        "    Concatenate, BatchNormalization, Activation\n",
        ")\n",
        "import keras_tuner as kt\n",
        "\n",
        "from sklearn.model_selection import train_test_split\n",
        "from sklearn.metrics import confusion_matrix, classification_report\n",
        "from sklearn.preprocessing import MinMaxScaler\n",
        "from sklearn.model_selection import StratifiedKFold"
      ]
    },
    {
      "cell_type": "markdown",
      "metadata": {
        "id": "SHRT9LElAIRu"
      },
      "source": [
        "# INTRODUCTION"
      ]
    },
    {
      "cell_type": "markdown",
      "metadata": {
        "id": "i_S_n5gIDEg6"
      },
      "source": [
        "Before diving into the model architecture and preprocessing, we begin with a brief **data inspection** to better understand the structure and characteristics of the dataset.  \n",
        "This includes checking column names, data types, missing values, and unique values per feature. This step is essential to guide preprocessing choices and avoid common pitfalls.\n",
        "\n",
        "The dataset used in this notebook is hosted on a **public GitHub repository** and will be downloaded directly using `curl` to ensure reproducibility.\n"
      ]
    },
    {
      "cell_type": "code",
      "execution_count": null,
      "metadata": {
        "id": "HMzkDxR49App",
        "colab": {
          "base_uri": "https://localhost:8080/"
        },
        "outputId": "9272b7ab-8908-4d33-82ab-d869ff85e53a"
      },
      "outputs": [
        {
          "output_type": "stream",
          "name": "stdout",
          "text": [
            "  % Total    % Received % Xferd  Average Speed   Time    Time     Time  Current\n",
            "                                 Dload  Upload   Total   Spent    Left  Speed\n",
            "100 3310k  100 3310k    0     0  9784k      0 --:--:-- --:--:-- --:--:-- 9766k\n"
          ]
        }
      ],
      "source": [
        "!curl -o input_data.pkl https://raw.githubusercontent.com/theoradicella/deep-learning/main/input_data.pkl"
      ]
    },
    {
      "cell_type": "code",
      "execution_count": null,
      "metadata": {
        "id": "-pQj_m--GCOI",
        "colab": {
          "base_uri": "https://localhost:8080/",
          "height": 625
        },
        "outputId": "9e1dc050-a83a-4505-efee-7a75ddbc93fe"
      },
      "outputs": [
        {
          "output_type": "execute_result",
          "data": {
            "text/plain": [
              "                                           Hotel_Address Review_Date  \\\n",
              "88526  Scarsdale Scarsdale Place Kensington Kensingto...    5/2/2017   \n",
              "42019  53 53 59 Kilburn High Road Maida Vale London C...    8/4/2016   \n",
              "80574  Pelai Pelai 28 Ciutat Vella 08002 Barcelona Spain  11/17/2016   \n",
              "27131  3 3 Place du G n ral Koenig 17th arr 75017 Par...    2/4/2016   \n",
              "63857  Epping Epping Forest 30 Oak Hill London IG8 9N...   7/27/2016   \n",
              "\n",
              "       Average_Score                              Hotel_Name  \\\n",
              "88526            8.1  Copthorne Tara Hotel London Kensington   \n",
              "42019            7.1  BEST WESTERN Maitrise Hotel Maida Vale   \n",
              "80574            8.6                 Catalonia Ramblas 4 Sup   \n",
              "27131            7.1              Hyatt Regency Paris Etoile   \n",
              "63857            7.5         Best Western PLUS Epping Forest   \n",
              "\n",
              "      Reviewer_Nationality  Hotel_number_reviews  Reviewer_number_reviews  \\\n",
              "88526      United Kingdom                   7105                        2   \n",
              "42019      United Kingdom                   1877                        8   \n",
              "80574      United Kingdom                   4276                        2   \n",
              "27131      United Kingdom                   3973                        3   \n",
              "63857      United Kingdom                    587                        7   \n",
              "\n",
              "       Review_Score                                             Review  \\\n",
              "88526           6.7   Expensive room rate that didn t include parki...   \n",
              "42019           5.8   Bedroom in the basement No windows Very small...   \n",
              "80574           6.3                 Room ready for a makeover Location   \n",
              "27131           5.8   Firstly the lady at the check in desk was qui...   \n",
              "63857           3.3   Not being able to park my vehicle due to the ...   \n",
              "\n",
              "      Review_Type  \n",
              "88526  Bad_review  \n",
              "42019  Bad_review  \n",
              "80574  Bad_review  \n",
              "27131  Bad_review  \n",
              "63857  Bad_review  "
            ],
            "text/html": [
              "\n",
              "  <div id=\"df-3aeba64e-5c2d-46c7-8615-83a931708ea3\" class=\"colab-df-container\">\n",
              "    <div>\n",
              "<style scoped>\n",
              "    .dataframe tbody tr th:only-of-type {\n",
              "        vertical-align: middle;\n",
              "    }\n",
              "\n",
              "    .dataframe tbody tr th {\n",
              "        vertical-align: top;\n",
              "    }\n",
              "\n",
              "    .dataframe thead th {\n",
              "        text-align: right;\n",
              "    }\n",
              "</style>\n",
              "<table border=\"1\" class=\"dataframe\">\n",
              "  <thead>\n",
              "    <tr style=\"text-align: right;\">\n",
              "      <th></th>\n",
              "      <th>Hotel_Address</th>\n",
              "      <th>Review_Date</th>\n",
              "      <th>Average_Score</th>\n",
              "      <th>Hotel_Name</th>\n",
              "      <th>Reviewer_Nationality</th>\n",
              "      <th>Hotel_number_reviews</th>\n",
              "      <th>Reviewer_number_reviews</th>\n",
              "      <th>Review_Score</th>\n",
              "      <th>Review</th>\n",
              "      <th>Review_Type</th>\n",
              "    </tr>\n",
              "  </thead>\n",
              "  <tbody>\n",
              "    <tr>\n",
              "      <th>88526</th>\n",
              "      <td>Scarsdale Scarsdale Place Kensington Kensingto...</td>\n",
              "      <td>5/2/2017</td>\n",
              "      <td>8.1</td>\n",
              "      <td>Copthorne Tara Hotel London Kensington</td>\n",
              "      <td>United Kingdom</td>\n",
              "      <td>7105</td>\n",
              "      <td>2</td>\n",
              "      <td>6.7</td>\n",
              "      <td>Expensive room rate that didn t include parki...</td>\n",
              "      <td>Bad_review</td>\n",
              "    </tr>\n",
              "    <tr>\n",
              "      <th>42019</th>\n",
              "      <td>53 53 59 Kilburn High Road Maida Vale London C...</td>\n",
              "      <td>8/4/2016</td>\n",
              "      <td>7.1</td>\n",
              "      <td>BEST WESTERN Maitrise Hotel Maida Vale</td>\n",
              "      <td>United Kingdom</td>\n",
              "      <td>1877</td>\n",
              "      <td>8</td>\n",
              "      <td>5.8</td>\n",
              "      <td>Bedroom in the basement No windows Very small...</td>\n",
              "      <td>Bad_review</td>\n",
              "    </tr>\n",
              "    <tr>\n",
              "      <th>80574</th>\n",
              "      <td>Pelai Pelai 28 Ciutat Vella 08002 Barcelona Spain</td>\n",
              "      <td>11/17/2016</td>\n",
              "      <td>8.6</td>\n",
              "      <td>Catalonia Ramblas 4 Sup</td>\n",
              "      <td>United Kingdom</td>\n",
              "      <td>4276</td>\n",
              "      <td>2</td>\n",
              "      <td>6.3</td>\n",
              "      <td>Room ready for a makeover Location</td>\n",
              "      <td>Bad_review</td>\n",
              "    </tr>\n",
              "    <tr>\n",
              "      <th>27131</th>\n",
              "      <td>3 3 Place du G n ral Koenig 17th arr 75017 Par...</td>\n",
              "      <td>2/4/2016</td>\n",
              "      <td>7.1</td>\n",
              "      <td>Hyatt Regency Paris Etoile</td>\n",
              "      <td>United Kingdom</td>\n",
              "      <td>3973</td>\n",
              "      <td>3</td>\n",
              "      <td>5.8</td>\n",
              "      <td>Firstly the lady at the check in desk was qui...</td>\n",
              "      <td>Bad_review</td>\n",
              "    </tr>\n",
              "    <tr>\n",
              "      <th>63857</th>\n",
              "      <td>Epping Epping Forest 30 Oak Hill London IG8 9N...</td>\n",
              "      <td>7/27/2016</td>\n",
              "      <td>7.5</td>\n",
              "      <td>Best Western PLUS Epping Forest</td>\n",
              "      <td>United Kingdom</td>\n",
              "      <td>587</td>\n",
              "      <td>7</td>\n",
              "      <td>3.3</td>\n",
              "      <td>Not being able to park my vehicle due to the ...</td>\n",
              "      <td>Bad_review</td>\n",
              "    </tr>\n",
              "  </tbody>\n",
              "</table>\n",
              "</div>\n",
              "    <div class=\"colab-df-buttons\">\n",
              "\n",
              "  <div class=\"colab-df-container\">\n",
              "    <button class=\"colab-df-convert\" onclick=\"convertToInteractive('df-3aeba64e-5c2d-46c7-8615-83a931708ea3')\"\n",
              "            title=\"Convert this dataframe to an interactive table.\"\n",
              "            style=\"display:none;\">\n",
              "\n",
              "  <svg xmlns=\"http://www.w3.org/2000/svg\" height=\"24px\" viewBox=\"0 -960 960 960\">\n",
              "    <path d=\"M120-120v-720h720v720H120Zm60-500h600v-160H180v160Zm220 220h160v-160H400v160Zm0 220h160v-160H400v160ZM180-400h160v-160H180v160Zm440 0h160v-160H620v160ZM180-180h160v-160H180v160Zm440 0h160v-160H620v160Z\"/>\n",
              "  </svg>\n",
              "    </button>\n",
              "\n",
              "  <style>\n",
              "    .colab-df-container {\n",
              "      display:flex;\n",
              "      gap: 12px;\n",
              "    }\n",
              "\n",
              "    .colab-df-convert {\n",
              "      background-color: #E8F0FE;\n",
              "      border: none;\n",
              "      border-radius: 50%;\n",
              "      cursor: pointer;\n",
              "      display: none;\n",
              "      fill: #1967D2;\n",
              "      height: 32px;\n",
              "      padding: 0 0 0 0;\n",
              "      width: 32px;\n",
              "    }\n",
              "\n",
              "    .colab-df-convert:hover {\n",
              "      background-color: #E2EBFA;\n",
              "      box-shadow: 0px 1px 2px rgba(60, 64, 67, 0.3), 0px 1px 3px 1px rgba(60, 64, 67, 0.15);\n",
              "      fill: #174EA6;\n",
              "    }\n",
              "\n",
              "    .colab-df-buttons div {\n",
              "      margin-bottom: 4px;\n",
              "    }\n",
              "\n",
              "    [theme=dark] .colab-df-convert {\n",
              "      background-color: #3B4455;\n",
              "      fill: #D2E3FC;\n",
              "    }\n",
              "\n",
              "    [theme=dark] .colab-df-convert:hover {\n",
              "      background-color: #434B5C;\n",
              "      box-shadow: 0px 1px 3px 1px rgba(0, 0, 0, 0.15);\n",
              "      filter: drop-shadow(0px 1px 2px rgba(0, 0, 0, 0.3));\n",
              "      fill: #FFFFFF;\n",
              "    }\n",
              "  </style>\n",
              "\n",
              "    <script>\n",
              "      const buttonEl =\n",
              "        document.querySelector('#df-3aeba64e-5c2d-46c7-8615-83a931708ea3 button.colab-df-convert');\n",
              "      buttonEl.style.display =\n",
              "        google.colab.kernel.accessAllowed ? 'block' : 'none';\n",
              "\n",
              "      async function convertToInteractive(key) {\n",
              "        const element = document.querySelector('#df-3aeba64e-5c2d-46c7-8615-83a931708ea3');\n",
              "        const dataTable =\n",
              "          await google.colab.kernel.invokeFunction('convertToInteractive',\n",
              "                                                    [key], {});\n",
              "        if (!dataTable) return;\n",
              "\n",
              "        const docLinkHtml = 'Like what you see? Visit the ' +\n",
              "          '<a target=\"_blank\" href=https://colab.research.google.com/notebooks/data_table.ipynb>data table notebook</a>'\n",
              "          + ' to learn more about interactive tables.';\n",
              "        element.innerHTML = '';\n",
              "        dataTable['output_type'] = 'display_data';\n",
              "        await google.colab.output.renderOutput(dataTable, element);\n",
              "        const docLink = document.createElement('div');\n",
              "        docLink.innerHTML = docLinkHtml;\n",
              "        element.appendChild(docLink);\n",
              "      }\n",
              "    </script>\n",
              "  </div>\n",
              "\n",
              "\n",
              "    <div id=\"df-d360ab5c-c221-43f1-a2d2-ba1d1d7249e9\">\n",
              "      <button class=\"colab-df-quickchart\" onclick=\"quickchart('df-d360ab5c-c221-43f1-a2d2-ba1d1d7249e9')\"\n",
              "                title=\"Suggest charts\"\n",
              "                style=\"display:none;\">\n",
              "\n",
              "<svg xmlns=\"http://www.w3.org/2000/svg\" height=\"24px\"viewBox=\"0 0 24 24\"\n",
              "     width=\"24px\">\n",
              "    <g>\n",
              "        <path d=\"M19 3H5c-1.1 0-2 .9-2 2v14c0 1.1.9 2 2 2h14c1.1 0 2-.9 2-2V5c0-1.1-.9-2-2-2zM9 17H7v-7h2v7zm4 0h-2V7h2v10zm4 0h-2v-4h2v4z\"/>\n",
              "    </g>\n",
              "</svg>\n",
              "      </button>\n",
              "\n",
              "<style>\n",
              "  .colab-df-quickchart {\n",
              "      --bg-color: #E8F0FE;\n",
              "      --fill-color: #1967D2;\n",
              "      --hover-bg-color: #E2EBFA;\n",
              "      --hover-fill-color: #174EA6;\n",
              "      --disabled-fill-color: #AAA;\n",
              "      --disabled-bg-color: #DDD;\n",
              "  }\n",
              "\n",
              "  [theme=dark] .colab-df-quickchart {\n",
              "      --bg-color: #3B4455;\n",
              "      --fill-color: #D2E3FC;\n",
              "      --hover-bg-color: #434B5C;\n",
              "      --hover-fill-color: #FFFFFF;\n",
              "      --disabled-bg-color: #3B4455;\n",
              "      --disabled-fill-color: #666;\n",
              "  }\n",
              "\n",
              "  .colab-df-quickchart {\n",
              "    background-color: var(--bg-color);\n",
              "    border: none;\n",
              "    border-radius: 50%;\n",
              "    cursor: pointer;\n",
              "    display: none;\n",
              "    fill: var(--fill-color);\n",
              "    height: 32px;\n",
              "    padding: 0;\n",
              "    width: 32px;\n",
              "  }\n",
              "\n",
              "  .colab-df-quickchart:hover {\n",
              "    background-color: var(--hover-bg-color);\n",
              "    box-shadow: 0 1px 2px rgba(60, 64, 67, 0.3), 0 1px 3px 1px rgba(60, 64, 67, 0.15);\n",
              "    fill: var(--button-hover-fill-color);\n",
              "  }\n",
              "\n",
              "  .colab-df-quickchart-complete:disabled,\n",
              "  .colab-df-quickchart-complete:disabled:hover {\n",
              "    background-color: var(--disabled-bg-color);\n",
              "    fill: var(--disabled-fill-color);\n",
              "    box-shadow: none;\n",
              "  }\n",
              "\n",
              "  .colab-df-spinner {\n",
              "    border: 2px solid var(--fill-color);\n",
              "    border-color: transparent;\n",
              "    border-bottom-color: var(--fill-color);\n",
              "    animation:\n",
              "      spin 1s steps(1) infinite;\n",
              "  }\n",
              "\n",
              "  @keyframes spin {\n",
              "    0% {\n",
              "      border-color: transparent;\n",
              "      border-bottom-color: var(--fill-color);\n",
              "      border-left-color: var(--fill-color);\n",
              "    }\n",
              "    20% {\n",
              "      border-color: transparent;\n",
              "      border-left-color: var(--fill-color);\n",
              "      border-top-color: var(--fill-color);\n",
              "    }\n",
              "    30% {\n",
              "      border-color: transparent;\n",
              "      border-left-color: var(--fill-color);\n",
              "      border-top-color: var(--fill-color);\n",
              "      border-right-color: var(--fill-color);\n",
              "    }\n",
              "    40% {\n",
              "      border-color: transparent;\n",
              "      border-right-color: var(--fill-color);\n",
              "      border-top-color: var(--fill-color);\n",
              "    }\n",
              "    60% {\n",
              "      border-color: transparent;\n",
              "      border-right-color: var(--fill-color);\n",
              "    }\n",
              "    80% {\n",
              "      border-color: transparent;\n",
              "      border-right-color: var(--fill-color);\n",
              "      border-bottom-color: var(--fill-color);\n",
              "    }\n",
              "    90% {\n",
              "      border-color: transparent;\n",
              "      border-bottom-color: var(--fill-color);\n",
              "    }\n",
              "  }\n",
              "</style>\n",
              "\n",
              "      <script>\n",
              "        async function quickchart(key) {\n",
              "          const quickchartButtonEl =\n",
              "            document.querySelector('#' + key + ' button');\n",
              "          quickchartButtonEl.disabled = true;  // To prevent multiple clicks.\n",
              "          quickchartButtonEl.classList.add('colab-df-spinner');\n",
              "          try {\n",
              "            const charts = await google.colab.kernel.invokeFunction(\n",
              "                'suggestCharts', [key], {});\n",
              "          } catch (error) {\n",
              "            console.error('Error during call to suggestCharts:', error);\n",
              "          }\n",
              "          quickchartButtonEl.classList.remove('colab-df-spinner');\n",
              "          quickchartButtonEl.classList.add('colab-df-quickchart-complete');\n",
              "        }\n",
              "        (() => {\n",
              "          let quickchartButtonEl =\n",
              "            document.querySelector('#df-d360ab5c-c221-43f1-a2d2-ba1d1d7249e9 button');\n",
              "          quickchartButtonEl.style.display =\n",
              "            google.colab.kernel.accessAllowed ? 'block' : 'none';\n",
              "        })();\n",
              "      </script>\n",
              "    </div>\n",
              "\n",
              "    </div>\n",
              "  </div>\n"
            ],
            "application/vnd.google.colaboratory.intrinsic+json": {
              "type": "dataframe",
              "variable_name": "data",
              "summary": "{\n  \"name\": \"data\",\n  \"rows\": 13772,\n  \"fields\": [\n    {\n      \"column\": \"Hotel_Address\",\n      \"properties\": {\n        \"dtype\": \"category\",\n        \"num_unique_values\": 1367,\n        \"samples\": [\n          \"Avenida Avenida Diagonal 201 Sant Mart 08018 Barcelona Spain\",\n          \"Singerstra Singerstra e 3 01 Innere Stadt 1010 Vienna Austria\",\n          \"14 14 16 Craven Hill Lancaster Gate Westminster Borough London W2 3DU UK\"\n        ],\n        \"semantic_type\": \"\",\n        \"description\": \"\"\n      }\n    },\n    {\n      \"column\": \"Review_Date\",\n      \"properties\": {\n        \"dtype\": \"object\",\n        \"num_unique_values\": 730,\n        \"samples\": [\n          \"4/26/2017\",\n          \"11/11/2016\",\n          \"5/20/2016\"\n        ],\n        \"semantic_type\": \"\",\n        \"description\": \"\"\n      }\n    },\n    {\n      \"column\": \"Average_Score\",\n      \"properties\": {\n        \"dtype\": \"number\",\n        \"std\": 0.5828092400191714,\n        \"min\": 5.2,\n        \"max\": 9.6,\n        \"num_unique_values\": 33,\n        \"samples\": [\n          5.2,\n          8.8,\n          6.8\n        ],\n        \"semantic_type\": \"\",\n        \"description\": \"\"\n      }\n    },\n    {\n      \"column\": \"Hotel_Name\",\n      \"properties\": {\n        \"dtype\": \"category\",\n        \"num_unique_values\": 1366,\n        \"samples\": [\n          \"The Guesthouse Vienna\",\n          \"Chambiges Elys es\",\n          \"La Suite West Hyde Park\"\n        ],\n        \"semantic_type\": \"\",\n        \"description\": \"\"\n      }\n    },\n    {\n      \"column\": \"Reviewer_Nationality\",\n      \"properties\": {\n        \"dtype\": \"category\",\n        \"num_unique_values\": 148,\n        \"samples\": [\n          \" Moldova \",\n          \" Jersey \",\n          \" Rwanda \"\n        ],\n        \"semantic_type\": \"\",\n        \"description\": \"\"\n      }\n    },\n    {\n      \"column\": \"Hotel_number_reviews\",\n      \"properties\": {\n        \"dtype\": \"number\",\n        \"std\": 2388,\n        \"min\": 43,\n        \"max\": 16670,\n        \"num_unique_values\": 1085,\n        \"samples\": [\n          1744,\n          1018,\n          851\n        ],\n        \"semantic_type\": \"\",\n        \"description\": \"\"\n      }\n    },\n    {\n      \"column\": \"Reviewer_number_reviews\",\n      \"properties\": {\n        \"dtype\": \"number\",\n        \"std\": 10,\n        \"min\": 1,\n        \"max\": 211,\n        \"num_unique_values\": 94,\n        \"samples\": [\n          31,\n          17,\n          56\n        ],\n        \"semantic_type\": \"\",\n        \"description\": \"\"\n      }\n    },\n    {\n      \"column\": \"Review_Score\",\n      \"properties\": {\n        \"dtype\": \"number\",\n        \"std\": 2.059654194003901,\n        \"min\": 2.5,\n        \"max\": 10.0,\n        \"num_unique_values\": 34,\n        \"samples\": [\n          5.5,\n          6.9,\n          7.5\n        ],\n        \"semantic_type\": \"\",\n        \"description\": \"\"\n      }\n    },\n    {\n      \"column\": \"Review\",\n      \"properties\": {\n        \"dtype\": \"string\",\n        \"num_unique_values\": 13076,\n        \"samples\": [\n          \" Clean smart\",\n          \" nothing great location\",\n          \" The design of the room the comfort\"\n        ],\n        \"semantic_type\": \"\",\n        \"description\": \"\"\n      }\n    },\n    {\n      \"column\": \"Review_Type\",\n      \"properties\": {\n        \"dtype\": \"category\",\n        \"num_unique_values\": 2,\n        \"samples\": [\n          \"Good_review\",\n          \"Bad_review\"\n        ],\n        \"semantic_type\": \"\",\n        \"description\": \"\"\n      }\n    }\n  ]\n}"
            }
          },
          "metadata": {},
          "execution_count": 30
        }
      ],
      "source": [
        "data = pd.read_pickle(\"input_data.pkl\")\n",
        "\n",
        "data.head()"
      ]
    },
    {
      "cell_type": "code",
      "execution_count": null,
      "metadata": {
        "id": "caR65Fh8_HI8",
        "colab": {
          "base_uri": "https://localhost:8080/"
        },
        "outputId": "6b0ee28c-1d01-4113-8284-f6aa5223cccf"
      },
      "outputs": [
        {
          "output_type": "stream",
          "name": "stdout",
          "text": [
            "<class 'pandas.core.frame.DataFrame'>\n",
            "Index: 13772 entries, 88526 to 61379\n",
            "Data columns (total 10 columns):\n",
            " #   Column                   Non-Null Count  Dtype  \n",
            "---  ------                   --------------  -----  \n",
            " 0   Hotel_Address            13772 non-null  object \n",
            " 1   Review_Date              13772 non-null  object \n",
            " 2   Average_Score            13772 non-null  float64\n",
            " 3   Hotel_Name               13772 non-null  object \n",
            " 4   Reviewer_Nationality     13772 non-null  object \n",
            " 5   Hotel_number_reviews     13772 non-null  int64  \n",
            " 6   Reviewer_number_reviews  13772 non-null  int64  \n",
            " 7   Review_Score             13772 non-null  float64\n",
            " 8   Review                   13772 non-null  object \n",
            " 9   Review_Type              13772 non-null  object \n",
            "dtypes: float64(2), int64(2), object(6)\n",
            "memory usage: 1.7+ MB\n"
          ]
        }
      ],
      "source": [
        "data.info()"
      ]
    },
    {
      "cell_type": "code",
      "execution_count": null,
      "metadata": {
        "id": "WexDofxV_caq",
        "colab": {
          "base_uri": "https://localhost:8080/",
          "height": 398
        },
        "outputId": "5414164a-383c-4157-fa21-a39a1355b804"
      },
      "outputs": [
        {
          "output_type": "execute_result",
          "data": {
            "text/plain": [
              "Hotel_Address               1367\n",
              "Review_Date                  730\n",
              "Average_Score                 33\n",
              "Hotel_Name                  1366\n",
              "Reviewer_Nationality         148\n",
              "Hotel_number_reviews        1085\n",
              "Reviewer_number_reviews       94\n",
              "Review_Score                  34\n",
              "Review                     13076\n",
              "Review_Type                    2\n",
              "dtype: int64"
            ],
            "text/html": [
              "<div>\n",
              "<style scoped>\n",
              "    .dataframe tbody tr th:only-of-type {\n",
              "        vertical-align: middle;\n",
              "    }\n",
              "\n",
              "    .dataframe tbody tr th {\n",
              "        vertical-align: top;\n",
              "    }\n",
              "\n",
              "    .dataframe thead th {\n",
              "        text-align: right;\n",
              "    }\n",
              "</style>\n",
              "<table border=\"1\" class=\"dataframe\">\n",
              "  <thead>\n",
              "    <tr style=\"text-align: right;\">\n",
              "      <th></th>\n",
              "      <th>0</th>\n",
              "    </tr>\n",
              "  </thead>\n",
              "  <tbody>\n",
              "    <tr>\n",
              "      <th>Hotel_Address</th>\n",
              "      <td>1367</td>\n",
              "    </tr>\n",
              "    <tr>\n",
              "      <th>Review_Date</th>\n",
              "      <td>730</td>\n",
              "    </tr>\n",
              "    <tr>\n",
              "      <th>Average_Score</th>\n",
              "      <td>33</td>\n",
              "    </tr>\n",
              "    <tr>\n",
              "      <th>Hotel_Name</th>\n",
              "      <td>1366</td>\n",
              "    </tr>\n",
              "    <tr>\n",
              "      <th>Reviewer_Nationality</th>\n",
              "      <td>148</td>\n",
              "    </tr>\n",
              "    <tr>\n",
              "      <th>Hotel_number_reviews</th>\n",
              "      <td>1085</td>\n",
              "    </tr>\n",
              "    <tr>\n",
              "      <th>Reviewer_number_reviews</th>\n",
              "      <td>94</td>\n",
              "    </tr>\n",
              "    <tr>\n",
              "      <th>Review_Score</th>\n",
              "      <td>34</td>\n",
              "    </tr>\n",
              "    <tr>\n",
              "      <th>Review</th>\n",
              "      <td>13076</td>\n",
              "    </tr>\n",
              "    <tr>\n",
              "      <th>Review_Type</th>\n",
              "      <td>2</td>\n",
              "    </tr>\n",
              "  </tbody>\n",
              "</table>\n",
              "</div><br><label><b>dtype:</b> int64</label>"
            ]
          },
          "metadata": {},
          "execution_count": 32
        }
      ],
      "source": [
        "data.nunique() # see amount of unique values for each column"
      ]
    },
    {
      "cell_type": "markdown",
      "metadata": {
        "id": "JZkQXztKFxO4"
      },
      "source": [
        "Although this was initially overlooked in the written exam, we start by **double-checking** whether including `Review_Score` as an input feature might introduce **data leakage**. Since `Review_Score` and `Review_Type` are conceptually and statistically linked (e.g., a higher score likely means a good review), we'll compute their **correlation** and visualize their distributions before proceeding with preprocessing.\n",
        "\n",
        "This step will ensure that our model remains fair and doesn’t inadvertently learn the labels from a directly correlated feature.\n"
      ]
    },
    {
      "cell_type": "code",
      "execution_count": null,
      "metadata": {
        "id": "pvjuadWWATPQ",
        "colab": {
          "base_uri": "https://localhost:8080/",
          "height": 481
        },
        "outputId": "49edff94-8809-408c-e981-57bd8f2e143a"
      },
      "outputs": [
        {
          "output_type": "display_data",
          "data": {
            "text/plain": [
              "<Figure size 1400x500 with 2 Axes>"
            ],
            "image/png": "[encoded data removed]"
          },
          "metadata": {}
        }
      ],
      "source": [
        "# Create a 1-row, 2-column subplot\n",
        "fig, axes = plt.subplots(1, 2, figsize=(14, 5))\n",
        "\n",
        "# Boxplot: Review Score by Review Type\n",
        "sns.boxplot(x=\"Review_Type\", y=\"Review_Score\", data=data, ax=axes[0])\n",
        "axes[0].set_title(\"Boxplot: Review Score by Review Type\")\n",
        "\n",
        "# Histogram: Review Score Distribution\n",
        "sns.histplot(data=data, x=\"Review_Score\", hue=\"Review_Type\", bins=30, kde=True, ax=axes[1])\n",
        "axes[1].set_title(\"Histogram: Review Score Distribution by Type\")\n",
        "\n",
        "# Improve layout\n",
        "plt.tight_layout()\n",
        "plt.show()"
      ]
    },
    {
      "cell_type": "code",
      "execution_count": null,
      "metadata": {
        "id": "M-e3zU_6_zkb",
        "colab": {
          "base_uri": "https://localhost:8080/"
        },
        "outputId": "99e3abff-e09e-40fc-8fa5-8747d7072f15"
      },
      "outputs": [
        {
          "output_type": "stream",
          "name": "stdout",
          "text": [
            "Correlation between Review Score and Review Type: 0.8622800389522722\n"
          ]
        }
      ],
      "source": [
        "# Binarize the labels\n",
        "data[\"Review_Type\"] = data[\"Review_Type\"].map({\"Good_review\": 1, \"Bad_review\": 0})\n",
        "\n",
        "# Check correlation\n",
        "correlation = data[\"Review_Score\"].corr(data[\"Review_Type\"])\n",
        "print(\"Correlation between Review Score and Review Type:\", correlation)"
      ]
    },
    {
      "cell_type": "markdown",
      "metadata": {
        "id": "gbVauAPjLLs_"
      },
      "source": [
        "## **CHANGE**\n",
        "I analyzed the relationship between `Review_Score` and `Review_Type` using a boxplot, a histogram, and by computing their correlation. The correlation was very high (0.86), and the visualizations showed that reviews with a score above 7 were consistently labeled as “good.” This suggests that `Review_Type` is directly based on `Review_Score`. To avoid label leakage and reduce the input dimensionality by one, I will exclude `Review_Score` from the model inputs.\n"
      ]
    },
    {
      "cell_type": "markdown",
      "metadata": {
        "id": "2rRD3BOXFq9T"
      },
      "source": [
        "# 2A - PREPROCESSING\n"
      ]
    },
    {
      "cell_type": "markdown",
      "metadata": {
        "id": "3jkr8fOOJ2Dr"
      },
      "source": [
        "In this section, we prepare the dataset for training by implementing the preprocessing pipeline described in the written exam.  \n",
        "The steps are as follows:\n",
        "\n",
        "- We drop the `Review_Score` column due to its high correlation with the label, and we also drop the `Average_Score` column since it was **not mentioned** in the exam assignment and is not required for our task.\n",
        "\n",
        "- The label `Review_Type` was already binarized (0 = Bad, 1 = Good) during correlation analysis. Here, we separate it from the input features as well as the `Review` text for future split and transformation.\n",
        "\n",
        "- We **one-hot encode** categorical features such as `Hotel_Name`, `Hotel_Address`, and `Reviewer_Nationality`.\n",
        "\n",
        "- The `Review_Date` is decomposed into three new features: **day**, **month**, and **year**, each of which is later scaled using **MinMax normalization**.\n",
        "\n",
        "- We perform a **train-test split**, using 80% of the data for training and 20% for testing. The split is stratified by `Review_Type` to preserve the label distribution in both sets. This split is done before fitting any transformers, to prevent data leakage during preprocessing.\n",
        "\n",
        "- Numeric features like `Hotel_number_reviews` and `Reviewer_number_reviews` are also scaled using **MinMax scaling** to bring them into a consistent range.\n",
        "\n",
        "- The `Review` text is tokenized into integer sequences using a vocabulary-based tokenizer, and each sequence is padded to a fixed length of 400 tokens. This padding is used here to illustrate the expected input shape and preprocessing flow, but the final sequence length will be tuned later during hyperparameter optimization. We will not vectorize the text at this stage — instead, it will be passed into an Embedding layer in the model, as described in the written exam."
      ]
    },
    {
      "cell_type": "code",
      "execution_count": null,
      "metadata": {
        "id": "pacJwPLhNGjy"
      },
      "outputs": [],
      "source": [
        "X = data.drop(columns=[\"Review_Score\", \"Average_Score\", \"Review_Type\"])\n",
        "\n",
        "# Separate the target label (already binarized earlier for correlation analysis)\n",
        "y = data[\"Review_Type\"]\n",
        "\n",
        "# Separate the text for proper split and transformation\n",
        "X_text_raw = X[\"Review\"].values\n",
        "\n",
        "# Drop the original Review column from structured input\n",
        "X.drop(columns=[\"Review\"], inplace=True)"
      ]
    },
    {
      "cell_type": "code",
      "execution_count": null,
      "metadata": {
        "id": "vPpbPV0gPoAG"
      },
      "outputs": [],
      "source": [
        "# One-hot encode Hotel_Name, Hotel_Address, Reviewer_Nationality\n",
        "X = pd.get_dummies(X, columns=[\"Hotel_Name\", \"Hotel_Address\", \"Reviewer_Nationality\"], drop_first=True)"
      ]
    },
    {
      "cell_type": "code",
      "execution_count": null,
      "metadata": {
        "id": "beBGz_4wPxUa"
      },
      "outputs": [],
      "source": [
        "# Convert Review_Date and extract year, month, day\n",
        "X[\"Review_Date\"] = pd.to_datetime(X[\"Review_Date\"], errors='coerce')\n",
        "X[\"Review_Year\"] = X[\"Review_Date\"].dt.year\n",
        "X[\"Review_Month\"] = X[\"Review_Date\"].dt.month\n",
        "X[\"Review_Day\"] = X[\"Review_Date\"].dt.day\n",
        "\n",
        "# Drop the original Review_Date column\n",
        "X.drop(columns=[\"Review_Date\"], inplace=True)"
      ]
    },
    {
      "cell_type": "code",
      "execution_count": null,
      "metadata": {
        "id": "xZ5klKxv7v70",
        "colab": {
          "base_uri": "https://localhost:8080/"
        },
        "outputId": "3fcd83d7-31b5-4ddc-971b-75c3a3f5834e"
      },
      "outputs": [
        {
          "output_type": "stream",
          "name": "stdout",
          "text": [
            "Train size : 11017\n",
            "Test  size : 2755\n"
          ]
        }
      ],
      "source": [
        "# ── Train/Test split (stratified, 20% test) ───────────────────\n",
        "(X_text_train, X_text_test,\n",
        " X_features_train, X_features_test,\n",
        " y_train, y_test) = train_test_split(\n",
        "    X_text_raw,\n",
        "    X,\n",
        "    y,\n",
        "    test_size=0.20,\n",
        "    stratify=y,\n",
        "    random_state=42\n",
        ")\n",
        "\n",
        "print(f\"Train size : {len(y_train)}\")\n",
        "print(f\"Test  size : {len(y_test)}\")"
      ]
    },
    {
      "cell_type": "code",
      "execution_count": null,
      "metadata": {
        "id": "JNKh16h0g_VY"
      },
      "outputs": [],
      "source": [
        "# MinMax scaling for date components\n",
        "date_scaler = MinMaxScaler()\n",
        "\n",
        "# Fit-transform the training dataset\n",
        "X_features_train[[\"Review_Year\", \"Review_Month\", \"Review_Day\"]] = date_scaler.fit_transform(\n",
        "    X_features_train[[\"Review_Year\", \"Review_Month\", \"Review_Day\"]]\n",
        ")\n",
        "# Transform the test dataset\n",
        "X_features_test[[\"Review_Year\", \"Review_Month\", \"Review_Day\"]] = date_scaler.transform(\n",
        "    X_features_test[[\"Review_Year\", \"Review_Month\", \"Review_Day\"]]\n",
        ")\n",
        "\n",
        "# MinMax scale Hotel_Review_Count and Reviewer_Review_Count\n",
        "numeric_scaler = MinMaxScaler()\n",
        "\n",
        "# Fit-transform the training dataset\n",
        "X_features_train[[\"Hotel_number_reviews\", \"Reviewer_number_reviews\"]] = numeric_scaler.fit_transform(\n",
        "    X_features_train[[\"Hotel_number_reviews\", \"Reviewer_number_reviews\"]]\n",
        ")\n",
        "\n",
        "# Transform the test dataset\n",
        "X_features_test[[\"Hotel_number_reviews\", \"Reviewer_number_reviews\"]] = numeric_scaler.transform(\n",
        "    X_features_test[[\"Hotel_number_reviews\", \"Reviewer_number_reviews\"]]\n",
        ")"
      ]
    },
    {
      "cell_type": "code",
      "execution_count": null,
      "metadata": {
        "id": "6qn2J8zxiyMg",
        "colab": {
          "base_uri": "https://localhost:8080/"
        },
        "outputId": "a74cac6d-a1fc-48c2-c090-b2180c88156b"
      },
      "outputs": [
        {
          "output_type": "stream",
          "name": "stdout",
          "text": [
            "Vocabulary size: 10779\n"
          ]
        }
      ],
      "source": [
        "# Tokenize Review text\n",
        "tokenizer = Tokenizer(oov_token=\"<OOV>\")\n",
        "tokenizer.fit_on_texts(X_text_train)\n",
        "\n",
        "vocab_size = len(tokenizer.word_index) + 1 # +1 for the padding token\n",
        "print(\"Vocabulary size:\", vocab_size)\n",
        "\n",
        "# I will need to prepare the text multiple times later, thus I defined this helper function\n",
        "def prepare_text_input(texts, tokenizer, sequence_length):\n",
        "    sequences = tokenizer.texts_to_sequences(texts)\n",
        "    return pad_sequences(sequences, maxlen=sequence_length, padding='post', truncating='post')\n",
        "\n",
        "X_text_padded = prepare_text_input(X_text_train, tokenizer, 400)"
      ]
    },
    {
      "cell_type": "markdown",
      "metadata": {
        "id": "0uWaUT1ZjrXZ"
      },
      "source": [
        "# 2B - INPUT SHAPES"
      ]
    },
    {
      "cell_type": "markdown",
      "metadata": {
        "id": "JW_NhAeSlZAQ"
      },
      "source": [
        "At this stage, the review text is represented as a sequence of integers of shape `(sequence_length,)`. The transformation into dense vectors of shape `(sequence_length, embedding_dim)` will occur within the model via an Embedding layer, as planned in the written exam."
      ]
    },
    {
      "cell_type": "code",
      "execution_count": null,
      "metadata": {
        "id": "gvFtC0MajtUy",
        "colab": {
          "base_uri": "https://localhost:8080/"
        },
        "outputId": "af8c9f06-fee4-45a1-87b2-8bf58a393836"
      },
      "outputs": [
        {
          "output_type": "stream",
          "name": "stdout",
          "text": [
            "Shape of one tokenized text input: (400,)\n",
            "Shape of one embedded text input: (400, 64)\n"
          ]
        }
      ],
      "source": [
        "# Check the shape of one instance from each input branch\n",
        "print(\"Shape of one tokenized text input:\", X_text_padded[0].shape)\n",
        "\n",
        "# Later, after the embedding layer we will get shape (sequence_length, embedding_dimension)\n",
        "embedding_dim = 64\n",
        "embedded_sample = Embedding(vocab_size, embedding_dim)(X_text_padded[0]) # <- Just to show the shape\n",
        "\n",
        "print(\"Shape of one embedded text input:\", embedded_sample.shape)"
      ]
    },
    {
      "cell_type": "markdown",
      "metadata": {
        "id": "9zmFGlKOl1mq"
      },
      "source": [
        "## **CORRECTION**\n",
        "\n",
        "In the written exam, the structured input was said to consist of 9 fields. However, this overlooked the fact that one-hot encoding of categorical features increases dimensionality, and a few necessary adjustments further affected the final input shape:\n",
        "\n",
        "- The feature `Review_Score` was removed to prevent label leakage, which reduced the input dimensionality by one.\n",
        "- Additionally, the categorical features `Hotel_Name`, `Hotel_Address`, and `Reviewer_Nationality` were one-hot encoded. This significantly increased the number of structured input features, as each unique category value creates a separate binary column.\n",
        "\n",
        "As a result, the final structured input vector has a shape of `(N,)`, where `N` is greater than 9 and depends on the cardinality of the encoded categorical features, in this case `2883`.\n"
      ]
    },
    {
      "cell_type": "code",
      "execution_count": null,
      "metadata": {
        "id": "vg9HllUzj3Cx",
        "colab": {
          "base_uri": "https://localhost:8080/"
        },
        "outputId": "9a0730ae-1c5c-4519-e79e-ae2e9b92b834"
      },
      "outputs": [
        {
          "output_type": "stream",
          "name": "stdout",
          "text": [
            "Shape of one structured input (feature vector): (2883,)\n"
          ]
        }
      ],
      "source": [
        "print(\"Shape of one structured input (feature vector):\", X.iloc[0].shape)"
      ]
    },
    {
      "cell_type": "markdown",
      "metadata": {
        "id": "DgrWbySEnbRm"
      },
      "source": [
        "# 3,4,5 - OUTPUT, LOSS, MODEL CONFIGURATION"
      ]
    },
    {
      "cell_type": "markdown",
      "metadata": {
        "id": "mh-bidFoFRXG"
      },
      "source": [
        " I chose to use `Keras Tuner` - [documentation](https://keras.io/keras_tuner/) - because it integrates smoothly with Keras and allows for clean separation of concerns by encapsulating model construction and hyperparameter definitions within a dedicated `HyperModel` class - [documentation](https://keras.io/keras_tuner/api/hypermodels/). This keeps the code organized and modular while enabling automated hyperparameter search.\n",
        "\n",
        " The cell below defines `build_model`, the function that Keras Tuner will call every trial to construct and compile a fresh model instance with a specific set of sampled hyperparameters.\n",
        "\n",
        " This function also specifies which hyperparameters to tune, defines the full neural network architecture—including input branches, dropout, batch normalization, output layer, activations, etc.— as well as the loss function and optimizer, all according to the written exam instructions.\n",
        "\n",
        " To comply with the exam requirement that the notebook must run within a few minutes, I intentionally restricted the hyperparameter search space to a minimal set of values. This ensures faster tuning while still demonstrating the full model workflow."
      ]
    },
    {
      "cell_type": "code",
      "execution_count": null,
      "metadata": {
        "id": "VairF7gs2zgH"
      },
      "outputs": [],
      "source": [
        "def build_model(hp, *, vocab_size, features_dimension):\n",
        "    # ── Build Tunable Hyperparameters\n",
        "    learning_rate     = hp.Choice(\"learning_rate\", [1e-3])\n",
        "    embedding_dim     = hp.Choice(\"embedding_dim\", [64, 128])\n",
        "    sequence_length   = hp.Choice(\"sequence_length\", [250])\n",
        "\n",
        "    num_rnn_layers    = hp.Choice(\"num_rnn_layers\", [1])\n",
        "    rnn_units         = hp.Choice(\"rnn_units\", [64])\n",
        "\n",
        "    num_dense_layers  = hp.Choice(\"num_dense_layers\", [1, 2])\n",
        "    dense_units       = hp.Choice(\"dense_units\", [64])\n",
        "\n",
        "    dropout_rate      = hp.Choice(\"dropout\", [0.1])\n",
        "    l2_strength       = hp.Choice(\"l2\", [0.007])\n",
        "    hp.Choice(\"epochs\", [6])\n",
        "    hp.Choice(\"batch_size\", [32])\n",
        "\n",
        "    # ── Text branch ──────────────────────────────────────────\n",
        "    input_text = Input(shape=(sequence_length,), name=\"text_input\")\n",
        "    x_text     = Embedding(vocab_size, embedding_dim)(input_text)\n",
        "\n",
        "    for i in range(num_rnn_layers):\n",
        "        x_text = GRU(\n",
        "            rnn_units,\n",
        "            return_sequences=(i < num_rnn_layers - 1) # Only return sequences if not the last GRU layer\n",
        "        )(x_text)\n",
        "\n",
        "    # ── Features Branch ──────────────────────────────────────\n",
        "    input_features = Input(shape=(features_dimension,), name=\"features_input\")\n",
        "    x_features     = Dense(64, kernel_initializer=initializers.HeUniform(), kernel_regularizer=regularizers.l2(l2_strength))(input_features)\n",
        "    x_features     = BatchNormalization()(x_features)\n",
        "    x_features     = Activation(\"relu\")(x_features)\n",
        "    x_features     = Dropout(dropout_rate)(x_features)\n",
        "\n",
        "    # ── Concatenation of inputs ──────────────────────────────\n",
        "    x = Concatenate()([x_text, x_features])\n",
        "\n",
        "    # ── Dense block with BN -> ReLU -> Dropout ───────────────\n",
        "    for _ in range(num_dense_layers):\n",
        "        x = Dense(dense_units, kernel_initializer=initializers.HeUniform(), kernel_regularizer=regularizers.l2(l2_strength))(x)\n",
        "        x = BatchNormalization()(x)\n",
        "        x = Activation(\"relu\")(x)\n",
        "        x = Dropout(dropout_rate)(x)\n",
        "\n",
        "    # ── Output layer + sigmoid activation ────────────────────\n",
        "    output_layer = Dense(1, activation=\"sigmoid\")(x)\n",
        "\n",
        "    model = Model([input_text, input_features], output_layer)\n",
        "    # ── BCE as Loss + Adam optimizer  ────────────────────────\n",
        "    model.compile(\n",
        "        optimizer=tf.keras.optimizers.Adam(learning_rate),\n",
        "        loss=\"binary_crossentropy\",\n",
        "        metrics=[\"accuracy\"]\n",
        "    )\n",
        "    return model"
      ]
    },
    {
      "cell_type": "markdown",
      "metadata": {
        "id": "6drtP6UXvUDI"
      },
      "source": [
        "# 6 - MODEL EVALUATION"
      ]
    },
    {
      "cell_type": "markdown",
      "metadata": {
        "id": "8bvpNb1vjc4j"
      },
      "source": [
        "In this section, we perform hyperparameter tuning of our RNN model using Keras Tuner with a custom `HyperModel` class, followed by 2-fold cross-validation to evaluate stability (kept low so the notebook runs in a few minutes as requested; more folds would be better in practice). We then train a final model on the entire training set using the best hyperparameters, evaluate on the test set, and visualize performance with learning curves and a confusion matrix.\n",
        "\n",
        "First we define a custom `RNNHyperModel` with a build method to create RNN models using sampled hyperparameters and a fit method to handle training with validation splits."
      ]
    },
    {
      "cell_type": "code",
      "execution_count": null,
      "metadata": {
        "id": "2fBcl4WU3-LB"
      },
      "outputs": [],
      "source": [
        "class RNNHyperModel(kt.HyperModel):\n",
        "    def __init__(\n",
        "            self,\n",
        "            raw_reviews,\n",
        "            features,\n",
        "            labels,\n",
        "            tokenizer,\n",
        "            fixed_hp=None\n",
        "        ):\n",
        "\n",
        "        self.reviews   = raw_reviews\n",
        "        self.features  = features\n",
        "        self.labels    = labels\n",
        "        self.tokenizer = tokenizer\n",
        "        self.fixed_hp  = fixed_hp or {}\n",
        "\n",
        "    def build(self, hp):\n",
        "        # Override any tunable hp with a fixed value if provided\n",
        "        for k, v in self.fixed_hp.items():\n",
        "            hp.values[k] = v\n",
        "\n",
        "        # Build the model (needs vocabulary size & features dimension)\n",
        "        model = build_model(\n",
        "            hp,\n",
        "            vocab_size = len(self.tokenizer.word_index) + 1, # +1 because of the padding token\n",
        "            features_dimension = self.features.shape[1]\n",
        "        )\n",
        "\n",
        "        # Save hyperparameters so we can reuse them during fit\n",
        "        self.current_hp = hp\n",
        "        return model\n",
        "\n",
        "    def fit(self, hp, model, *args, **kwargs):\n",
        "        sequence_length = hp.get(\"sequence_length\")\n",
        "        epochs          = hp.get(\"epochs\")\n",
        "        batch_size      = hp.get(\"batch_size\")\n",
        "\n",
        "        X_text = prepare_text_input(self.reviews, self.tokenizer, sequence_length)\n",
        "\n",
        "        # Split the data into training and validation sets\n",
        "        val_split = 0.15\n",
        "        val_size  = int(len(X_text) * val_split)\n",
        "        X_text_train     = X_text[ :-val_size]\n",
        "        X_text_val       = X_text[-val_size:]\n",
        "        X_features_train = self.features[ :-val_size]\n",
        "        X_features_val   = self.features[-val_size:]\n",
        "        y_train          = self.labels[ :-val_size]\n",
        "        y_val            = self.labels[-val_size:]\n",
        "\n",
        "        return model.fit(\n",
        "            x = {\"text_input\": X_text_train, \"features_input\": X_features_train},\n",
        "            y = y_train,\n",
        "            validation_data=({\"text_input\": X_text_val, \"features_input\": X_features_val}, y_val),\n",
        "            epochs = epochs,\n",
        "            batch_size = batch_size,\n",
        "            verbose = 1\n",
        "        )"
      ]
    },
    {
      "cell_type": "markdown",
      "metadata": {
        "id": "q5MMJsw3jc4n"
      },
      "source": [
        "We instantiate and run a `RandomSearch` tuner to find the best hyperparameters for our RNN model."
      ]
    },
    {
      "cell_type": "code",
      "execution_count": null,
      "metadata": {
        "colab": {
          "base_uri": "https://localhost:8080/"
        },
        "id": "eMXJHrl04BkL",
        "outputId": "e364899d-3b14-4722-bffe-858808fea9f4"
      },
      "outputs": [
        {
          "output_type": "stream",
          "name": "stdout",
          "text": [
            "Trial 4 Complete [00h 00m 39s]\n",
            "val_accuracy: 0.9049636721611023\n",
            "\n",
            "Best val_accuracy So Far: 0.9122276306152344\n",
            "Total elapsed time: 00h 03m 00s\n",
            "Results summary\n",
            "Results in keras_tuner/RNN_tuning\n",
            "Showing 10 best trials\n",
            "Objective(name=\"val_accuracy\", direction=\"max\")\n",
            "\n",
            "Trial 1 summary\n",
            "Hyperparameters:\n",
            "learning_rate: 0.001\n",
            "embedding_dim: 128\n",
            "sequence_length: 250\n",
            "num_rnn_layers: 1\n",
            "rnn_units: 64\n",
            "num_dense_layers: 1\n",
            "dense_units: 64\n",
            "dropout: 0.1\n",
            "l2: 0.007\n",
            "epochs: 6\n",
            "batch_size: 32\n",
            "Score: 0.9122276306152344\n",
            "\n",
            "Trial 3 summary\n",
            "Hyperparameters:\n",
            "learning_rate: 0.001\n",
            "embedding_dim: 64\n",
            "sequence_length: 250\n",
            "num_rnn_layers: 1\n",
            "rnn_units: 64\n",
            "num_dense_layers: 1\n",
            "dense_units: 64\n",
            "dropout: 0.1\n",
            "l2: 0.007\n",
            "epochs: 6\n",
            "batch_size: 32\n",
            "Score: 0.9049636721611023\n",
            "\n",
            "Trial 2 summary\n",
            "Hyperparameters:\n",
            "learning_rate: 0.001\n",
            "embedding_dim: 128\n",
            "sequence_length: 250\n",
            "num_rnn_layers: 1\n",
            "rnn_units: 64\n",
            "num_dense_layers: 2\n",
            "dense_units: 64\n",
            "dropout: 0.1\n",
            "l2: 0.007\n",
            "epochs: 6\n",
            "batch_size: 32\n",
            "Score: 0.9019370675086975\n",
            "\n",
            "Trial 0 summary\n",
            "Hyperparameters:\n",
            "learning_rate: 0.001\n",
            "embedding_dim: 64\n",
            "sequence_length: 250\n",
            "num_rnn_layers: 1\n",
            "rnn_units: 64\n",
            "num_dense_layers: 2\n",
            "dense_units: 64\n",
            "dropout: 0.1\n",
            "l2: 0.007\n",
            "epochs: 6\n",
            "batch_size: 32\n",
            "Score: 0.8995157480239868\n"
          ]
        }
      ],
      "source": [
        "# ── Instantiate & run the tuner ───────────────────\n",
        "tuner = kt.RandomSearch(\n",
        "    hypermodel = RNNHyperModel(\n",
        "        raw_reviews   = X_text_train,\n",
        "        features      = X_features_train,\n",
        "        labels        = y_train,\n",
        "        tokenizer     = tokenizer\n",
        "    ),\n",
        "    objective=\"val_accuracy\",\n",
        "    max_trials=4,\n",
        "    directory=\"keras_tuner\",\n",
        "    project_name=\"RNN_tuning\",\n",
        "    overwrite=True\n",
        ")\n",
        "\n",
        "tuner.search()\n",
        "tuner.results_summary()"
      ]
    },
    {
      "cell_type": "markdown",
      "metadata": {
        "id": "V-9Qkcjfjc4o"
      },
      "source": [
        "We retrieve the best hyperparameters from the tuner and rebuild the model with them. Then, we perform 2-fold cross-validation to evaluate model stability using these best hyperparameters."
      ]
    },
    {
      "cell_type": "code",
      "execution_count": null,
      "metadata": {
        "id": "2nKpZaORZxBK"
      },
      "outputs": [],
      "source": [
        "best_hp    = tuner.get_best_hyperparameters(1)[0]  # best params\n",
        "best_model = tuner.hypermodel.build(best_hp)       # re-create model with best params"
      ]
    },
    {
      "cell_type": "markdown",
      "metadata": {
        "id": "LlL0q4mtjc4q"
      },
      "source": [
        "While performing the cross-validation we save the histories so that we can later use them to plot the learning curves for each fold."
      ]
    },
    {
      "cell_type": "code",
      "execution_count": null,
      "metadata": {
        "id": "sHMWdWIBjc4q",
        "colab": {
          "base_uri": "https://localhost:8080/"
        },
        "outputId": "8370fafe-e4c8-457b-9377-8161bd99708d"
      },
      "outputs": [
        {
          "output_type": "stream",
          "name": "stdout",
          "text": [
            "\n",
            "── Fold 1 ──\n",
            "Epoch 1/6\n",
            "\u001b[1m173/173\u001b[0m \u001b[32m━━━━━━━━━━━━━━━━━━━━\u001b[0m\u001b[37m\u001b[0m \u001b[1m7s\u001b[0m 25ms/step - accuracy: 0.5260 - loss: 1.7132 - val_accuracy: 0.5088 - val_loss: 1.2806\n",
            "Epoch 2/6\n",
            "\u001b[1m173/173\u001b[0m \u001b[32m━━━━━━━━━━━━━━━━━━━━\u001b[0m\u001b[37m\u001b[0m \u001b[1m4s\u001b[0m 21ms/step - accuracy: 0.7233 - loss: 0.9391 - val_accuracy: 0.5384 - val_loss: 0.9882\n",
            "Epoch 3/6\n",
            "\u001b[1m173/173\u001b[0m \u001b[32m━━━━━━━━━━━━━━━━━━━━\u001b[0m\u001b[37m\u001b[0m \u001b[1m4s\u001b[0m 21ms/step - accuracy: 0.7508 - loss: 0.8078 - val_accuracy: 0.5801 - val_loss: 0.9353\n",
            "Epoch 4/6\n",
            "\u001b[1m173/173\u001b[0m \u001b[32m━━━━━━━━━━━━━━━━━━━━\u001b[0m\u001b[37m\u001b[0m \u001b[1m5s\u001b[0m 21ms/step - accuracy: 0.7831 - loss: 0.7315 - val_accuracy: 0.5869 - val_loss: 0.9506\n",
            "Epoch 5/6\n",
            "\u001b[1m173/173\u001b[0m \u001b[32m━━━━━━━━━━━━━━━━━━━━\u001b[0m\u001b[37m\u001b[0m \u001b[1m3s\u001b[0m 19ms/step - accuracy: 0.7714 - loss: 0.6866 - val_accuracy: 0.5422 - val_loss: 1.0785\n",
            "Epoch 6/6\n",
            "\u001b[1m173/173\u001b[0m \u001b[32m━━━━━━━━━━━━━━━━━━━━\u001b[0m\u001b[37m\u001b[0m \u001b[1m3s\u001b[0m 19ms/step - accuracy: 0.7992 - loss: 0.6605 - val_accuracy: 0.5620 - val_loss: 1.0214\n",
            "\n",
            "── Fold 2 ──\n",
            "Epoch 1/6\n",
            "\u001b[1m173/173\u001b[0m \u001b[32m━━━━━━━━━━━━━━━━━━━━\u001b[0m\u001b[37m\u001b[0m \u001b[1m6s\u001b[0m 22ms/step - accuracy: 0.5417 - loss: 1.6991 - val_accuracy: 0.5002 - val_loss: 1.2080\n",
            "Epoch 2/6\n",
            "\u001b[1m173/173\u001b[0m \u001b[32m━━━━━━━━━━━━━━━━━━━━\u001b[0m\u001b[37m\u001b[0m \u001b[1m5s\u001b[0m 22ms/step - accuracy: 0.7056 - loss: 0.9641 - val_accuracy: 0.5407 - val_loss: 1.0045\n",
            "Epoch 3/6\n",
            "\u001b[1m173/173\u001b[0m \u001b[32m━━━━━━━━━━━━━━━━━━━━\u001b[0m\u001b[37m\u001b[0m \u001b[1m4s\u001b[0m 22ms/step - accuracy: 0.7527 - loss: 0.8173 - val_accuracy: 0.5517 - val_loss: 0.9796\n",
            "Epoch 4/6\n",
            "\u001b[1m173/173\u001b[0m \u001b[32m━━━━━━━━━━━━━━━━━━━━\u001b[0m\u001b[37m\u001b[0m \u001b[1m3s\u001b[0m 19ms/step - accuracy: 0.7768 - loss: 0.7439 - val_accuracy: 0.5862 - val_loss: 0.9577\n",
            "Epoch 5/6\n",
            "\u001b[1m173/173\u001b[0m \u001b[32m━━━━━━━━━━━━━━━━━━━━\u001b[0m\u001b[37m\u001b[0m \u001b[1m6s\u001b[0m 25ms/step - accuracy: 0.8851 - loss: 0.5229 - val_accuracy: 0.7529 - val_loss: 0.6654\n",
            "Epoch 6/6\n",
            "\u001b[1m173/173\u001b[0m \u001b[32m━━━━━━━━━━━━━━━━━━━━\u001b[0m\u001b[37m\u001b[0m \u001b[1m5s\u001b[0m 21ms/step - accuracy: 0.9606 - loss: 0.2880 - val_accuracy: 0.8911 - val_loss: 0.4629\n"
          ]
        }
      ],
      "source": [
        "# Convert to NumPy arrays with correct dtype\n",
        "X_features_train = np.array(X_features_train, dtype=np.int32)\n",
        "y_train = np.array(y_train, dtype=np.int32)\n",
        "\n",
        "kf = StratifiedKFold(n_splits=2, shuffle=True, random_state=42)\n",
        "\n",
        "histories = []\n",
        "\n",
        "for fold, (train_idx, val_idx) in enumerate(kf.split(X_text_train, y_train), start=1):\n",
        "    print(f\"\\n── Fold {fold} ──\")\n",
        "\n",
        "    # Build a fresh model for each fold\n",
        "    model = tuner.hypermodel.build(best_hp)\n",
        "\n",
        "    # Prepare text again (tokenized input from original reviews)\n",
        "    X_text_all = prepare_text_input(X_text_train, tokenizer, best_hp.get(\"sequence_length\"))\n",
        "\n",
        "    X_text_fold_train = X_text_all[train_idx]\n",
        "    X_text_fold_val   = X_text_all[val_idx]\n",
        "\n",
        "    X_feat_fold_train = X_features_train[train_idx]\n",
        "    X_feat_fold_val   = X_features_train[val_idx]\n",
        "\n",
        "    y_fold_train = y_train[train_idx]\n",
        "    y_fold_val   = y_train[val_idx]\n",
        "\n",
        "    # Train\n",
        "    history = model.fit(\n",
        "        x={\"text_input\": X_text_fold_train, \"features_input\": X_feat_fold_train},\n",
        "        y=y_fold_train,\n",
        "        validation_data=({\"text_input\": X_text_fold_val, \"features_input\": X_feat_fold_val}, y_fold_val),\n",
        "        epochs=best_hp.get(\"epochs\"),\n",
        "        batch_size=best_hp.get(\"batch_size\"),\n",
        "        verbose=1\n",
        "    )\n",
        "    histories.append(history)"
      ]
    },
    {
      "cell_type": "markdown",
      "metadata": {
        "id": "50JFjZM6jc45"
      },
      "source": [
        "Here we plot the learning curves for each fold to visualize how training and validation accuracy evolve over epochs, helping us assess learning progress and potential overfitting during cross-validation."
      ]
    },
    {
      "cell_type": "code",
      "execution_count": null,
      "metadata": {
        "id": "qwhyP0fzjc45",
        "colab": {
          "base_uri": "https://localhost:8080/",
          "height": 577
        },
        "outputId": "e08ea699-51cb-4eac-f602-379f74879a1b"
      },
      "outputs": [
        {
          "output_type": "display_data",
          "data": {
            "text/plain": [
              "<Figure size 1400x600 with 2 Axes>"
            ],
            "image/png": "[encoded data removed]"
          },
          "metadata": {}
        }
      ],
      "source": [
        "fig, axes = plt.subplots(1, 2, figsize=(14, 6), sharey=True)\n",
        "\n",
        "for i, history in enumerate(histories):\n",
        "    ax = axes[i]\n",
        "    ax.plot(history.history[\"accuracy\"], label=\"Train\")\n",
        "    ax.plot(history.history[\"val_accuracy\"], label=\"Val\", linestyle=\"--\")\n",
        "    ax.set_title(f\"Fold {i + 1}\")\n",
        "    ax.set_xlabel(\"Epochs\")\n",
        "    ax.set_ylabel(\"Accuracy\")\n",
        "    ax.grid(True)\n",
        "    ax.legend()\n",
        "\n",
        "fig.suptitle(\"Learning Curves per Fold\", fontsize=16)\n",
        "plt.tight_layout(rect=[0, 0, 1, 0.95])\n",
        "plt.show()"
      ]
    },
    {
      "cell_type": "markdown",
      "metadata": {
        "id": "0MX0pbV7jc46"
      },
      "source": [
        "The learning curves look stable, showing a trend of improving accuracy with some mild acceptable overfitting, but more epochs would be needed to draw firmer conclusions or assess significant overfitting or underfitting.\n",
        "\n",
        "We now prepare the full training set and train a final model using the best hyperparameters found during tuning."
      ]
    },
    {
      "cell_type": "code",
      "execution_count": null,
      "metadata": {
        "id": "DdyDiZZ-jc46",
        "colab": {
          "base_uri": "https://localhost:8080/"
        },
        "outputId": "3a1aabea-83c0-42b6-efa4-79f314c7cb7b"
      },
      "outputs": [
        {
          "output_type": "stream",
          "name": "stdout",
          "text": [
            "Epoch 1/6\n",
            "\u001b[1m345/345\u001b[0m \u001b[32m━━━━━━━━━━━━━━━━━━━━\u001b[0m\u001b[37m\u001b[0m \u001b[1m9s\u001b[0m 15ms/step - accuracy: 0.5743 - loss: 1.4699\n",
            "Epoch 2/6\n",
            "\u001b[1m345/345\u001b[0m \u001b[32m━━━━━━━━━━━━━━━━━━━━\u001b[0m\u001b[37m\u001b[0m \u001b[1m5s\u001b[0m 13ms/step - accuracy: 0.9144 - loss: 0.4500\n",
            "Epoch 3/6\n",
            "\u001b[1m345/345\u001b[0m \u001b[32m━━━━━━━━━━━━━━━━━━━━\u001b[0m\u001b[37m\u001b[0m \u001b[1m5s\u001b[0m 15ms/step - accuracy: 0.9417 - loss: 0.2673\n",
            "Epoch 4/6\n",
            "\u001b[1m345/345\u001b[0m \u001b[32m━━━━━━━━━━━━━━━━━━━━\u001b[0m\u001b[37m\u001b[0m \u001b[1m10s\u001b[0m 15ms/step - accuracy: 0.9572 - loss: 0.1834\n",
            "Epoch 5/6\n",
            "\u001b[1m345/345\u001b[0m \u001b[32m━━━━━━━━━━━━━━━━━━━━\u001b[0m\u001b[37m\u001b[0m \u001b[1m5s\u001b[0m 13ms/step - accuracy: 0.9639 - loss: 0.1607\n",
            "Epoch 6/6\n",
            "\u001b[1m345/345\u001b[0m \u001b[32m━━━━━━━━━━━━━━━━━━━━\u001b[0m\u001b[37m\u001b[0m \u001b[1m5s\u001b[0m 13ms/step - accuracy: 0.9626 - loss: 0.1506\n"
          ]
        },
        {
          "output_type": "execute_result",
          "data": {
            "text/plain": [
              "<keras.src.callbacks.history.History at 0x793e4230f410>"
            ]
          },
          "metadata": {},
          "execution_count": 49
        }
      ],
      "source": [
        "# Prepare final train set\n",
        "X_text_train_input = prepare_text_input(X_text_train, tokenizer, best_hp.get(\"sequence_length\"))\n",
        "\n",
        "final_model = tuner.hypermodel.build(best_hp)\n",
        "final_model.fit(\n",
        "    x={\"text_input\": X_text_train_input, \"features_input\": X_features_train},\n",
        "    y=y_train,\n",
        "    epochs=best_hp.get(\"epochs\"),\n",
        "    batch_size=best_hp.get(\"batch_size\"),\n",
        "    verbose=1\n",
        ")"
      ]
    },
    {
      "cell_type": "markdown",
      "metadata": {
        "id": "VEOsoT5ajc46"
      },
      "source": [
        "We evaluate the final model on the test set, generate predictions, and visualize results with a confusion matrix and a classification report."
      ]
    },
    {
      "cell_type": "code",
      "execution_count": null,
      "metadata": {
        "id": "Z4JGHFHNjc47",
        "colab": {
          "base_uri": "https://localhost:8080/"
        },
        "outputId": "43830274-b32f-4a8d-91e2-9c498dc2f8cc"
      },
      "outputs": [
        {
          "output_type": "stream",
          "name": "stdout",
          "text": [
            "\u001b[1m87/87\u001b[0m \u001b[32m━━━━━━━━━━━━━━━━━━━━\u001b[0m\u001b[37m\u001b[0m \u001b[1m1s\u001b[0m 9ms/step\n"
          ]
        }
      ],
      "source": [
        "# Prepare test data\n",
        "X_text_test = prepare_text_input(X_text_test, tokenizer, best_hp.get(\"sequence_length\"))\n",
        "X_text_test = np.array(X_text_test, dtype=np.int32)\n",
        "X_features_test = np.array(X_features_test, dtype=np.float32)\n",
        "y_test = np.array(y_test, dtype=np.float32)\n",
        "\n",
        "# Predict\n",
        "y_test_pred_probs = final_model.predict({\"text_input\": X_text_test, \"features_input\": X_features_test})\n",
        "y_test_pred = (y_test_pred_probs >= 0.5).astype(int)"
      ]
    },
    {
      "cell_type": "code",
      "execution_count": null,
      "metadata": {
        "id": "7I83RX2Vjc47",
        "colab": {
          "base_uri": "https://localhost:8080/",
          "height": 487
        },
        "outputId": "c860c637-2d2c-4916-e5b9-97664d0e12b0"
      },
      "outputs": [
        {
          "output_type": "display_data",
          "data": {
            "text/plain": [
              "<Figure size 640x480 with 2 Axes>"
            ],
            "image/png": "[encoded data removed]"
          },
          "metadata": {}
        }
      ],
      "source": [
        "cm = confusion_matrix(y_test, y_test_pred)\n",
        "\n",
        "sns.heatmap(cm, annot=True, fmt='d', cmap='Blues')\n",
        "plt.xlabel(\"Predicted\")\n",
        "plt.ylabel(\"Actual\")\n",
        "plt.title(\"Confusion Matrix on Test Set\")\n",
        "plt.tight_layout()\n",
        "plt.show()"
      ]
    },
    {
      "cell_type": "code",
      "execution_count": null,
      "metadata": {
        "id": "lZWIGCUXjc48",
        "colab": {
          "base_uri": "https://localhost:8080/"
        },
        "outputId": "9535ff9c-39d3-4381-ff3b-3e42bcedba98"
      },
      "outputs": [
        {
          "output_type": "stream",
          "name": "stdout",
          "text": [
            "Classification Report:\n",
            "\n",
            "              precision    recall  f1-score   support\n",
            "\n",
            "         0.0     0.9369    0.8614    0.8975      1378\n",
            "         1.0     0.8716    0.9419    0.9054      1377\n",
            "\n",
            "    accuracy                         0.9016      2755\n",
            "   macro avg     0.9042    0.9016    0.9015      2755\n",
            "weighted avg     0.9043    0.9016    0.9015      2755\n",
            "\n"
          ]
        }
      ],
      "source": [
        "print(\"Classification Report:\\n\")\n",
        "print(classification_report(y_test, y_test_pred, digits=4))"
      ]
    }
  ],
  "metadata": {
    "accelerator": "GPU",
    "colab": {
      "gpuType": "T4",
      "provenance": [],
      "collapsed_sections": [
        "SHRT9LElAIRu",
        "2rRD3BOXFq9T",
        "0uWaUT1ZjrXZ"
      ]
    },
    "kernelspec": {
      "display_name": "Python 3",
      "name": "python3"
    },
    "language_info": {
      "codemirror_mode": {
        "name": "ipython",
        "version": 3
      },
      "file_extension": ".py",
      "mimetype": "text/x-python",
      "name": "python",
      "nbconvert_exporter": "python",
      "pygments_lexer": "ipython3",
      "version": "3.11.11"
    }
  },
  "nbformat": 4,
  "nbformat_minor": 0
}