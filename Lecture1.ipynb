{
  "nbformat": 4,
  "nbformat_minor": 0,
  "metadata": {
    "colab": {
      "provenance": [],
      "gpuType": "T4"
    },
    "kernelspec": {
      "name": "python3",
      "display_name": "Python 3"
    },
    "language_info": {
      "name": "python"
    },
    "accelerator": "GPU"
  },
  "cells": [
    {
      "cell_type": "markdown",
      "source": [
        "\n",
        "# Google Colab\n",
        "* Google Colab is a web-based iPython Notebook service for interactive coding\n",
        "\n",
        "* It is a version of the popular\n",
        "Jupyter Notebook within the Google suite of tools\n",
        " * Colab is becoming a popular tool for quick prototyping and visualization\n",
        "\n",
        "* It’s free, requires no setup, comes preinstalled with many packages\n",
        "\n",
        "* It offers free access to Nvidia GPUs\n",
        "\n",
        "* We just need a google account!\n",
        "\n",
        " * However, **resource are limited**: notebooks can run for at most 12 hours, depending on availability and your usage patterns\n",
        "\n",
        "* DeepNote, you have used in the first module, so far does not support GPU computing\n",
        "\n",
        "* Several online tutorial, see e.g., [https://www.tutorialspoint.com/google_colab/google_colab_tutorial.pdf](https://https://www.tutorialspoint.com/google_colab/google_colab_tutorial.pdf)\n"
      ],
      "metadata": {
        "id": "_gVZpq3w25iq"
      }
    },
    {
      "cell_type": "markdown",
      "source": [
        "# Create a Colab notebook\n",
        "* The easiest way to create a Colab notebook is to enter in our Google drive, then follow **New-> More -> Google Colaboratory**\n",
        " * Alternately, connect to [https://colab.research.google.com](https://colab.research.google.com) **-> New notebook**\n",
        "\n",
        "* Then to utilize free GPU we have to follow **Runtime-> Change runtime type->GPU**  \n",
        "\n",
        "* Doing this will restart the session, so make sure you change to the desired runtime before executing any code\n",
        "\n",
        "* Verifying the GPU is correctly assigned\n",
        "\n",
        "```\n",
        "import torch\n",
        "torch.cuda.is_available()\n",
        "```\n",
        "\n",
        "* This outputs **True** if running with GPU"
      ],
      "metadata": {
        "id": "nPeCMCwM8qqC"
      }
    },
    {
      "cell_type": "code",
      "source": [
        "import torch\n",
        "torch.cuda.is_available()"
      ],
      "metadata": {
        "id": "5SLE24rwAk7o",
        "colab": {
          "base_uri": "https://localhost:8080/"
        },
        "outputId": "813e48e2-e08b-4cc9-a8e7-d4a1671ffed8"
      },
      "execution_count": 1,
      "outputs": [
        {
          "output_type": "execute_result",
          "data": {
            "text/plain": [
              "True"
            ]
          },
          "metadata": {},
          "execution_count": 1
        }
      ]
    },
    {
      "cell_type": "markdown",
      "source": [
        "# Sharing a Colab notebook\n",
        "* As with other Google Apps, Colab Notebooks can be shared\n",
        "*  Look for the “share” button in the top right-hand corner of the window\n",
        "\n",
        "* Google Colab documents can also be shared in Google Drive, just you do with other types of documents."
      ],
      "metadata": {
        "id": "KqeI9ohlA8Ma"
      }
    },
    {
      "cell_type": "markdown",
      "source": [
        "# Mount the personal drive\n",
        "* One advantage of using Google Colab is that connection with other google services such as **Google Drive** is simple\n",
        "\n",
        "* By mounting google drive, you can read your drive data and save working files permanently\n",
        "\n",
        "* To mount the gdrive we need to run the following code, log in to the google account and copy the authentication code to the input box to finish the process\n",
        "\n",
        "```\n",
        "from google.colab import drive\n",
        "drive.mount('/content/gdrive')\n",
        "```\n",
        "* Each time we run it then we need to authorize the access in the pop-up window\n",
        "\n",
        "* You’ll see this when you’ve successfully mounted your drive\n",
        "\n",
        "``` Mounted at /content/gdrive ```\n"
      ],
      "metadata": {
        "id": "Qb52ZHB3_CX8"
      }
    },
    {
      "cell_type": "code",
      "source": [
        "from google.colab import drive\n",
        "drive.mount('/content/gdrive', force_remount=True)"
      ],
      "metadata": {
        "id": "wRSCz-W7PUbm",
        "colab": {
          "base_uri": "https://localhost:8080/"
        },
        "outputId": "600ef81c-e418-401b-ed81-a1411e758834"
      },
      "execution_count": 2,
      "outputs": [
        {
          "output_type": "stream",
          "name": "stdout",
          "text": [
            "Mounted at /content/gdrive\n"
          ]
        }
      ]
    },
    {
      "cell_type": "markdown",
      "source": [
        "* From now on, you can use the drive like in UNIX terminal, just prepose a **%** or a **!** before the command\n",
        "\n",
        "* To move to main folder of your drive type\n",
        "```\n",
        "%cd gdrive/MyDrive\n",
        "```"
      ],
      "metadata": {
        "id": "zf92QnjF3vRH"
      }
    },
    {
      "cell_type": "code",
      "source": [
        "%ls\n",
        "%pwd"
      ],
      "metadata": {
        "id": "1M6a3Ux2Llui",
        "colab": {
          "base_uri": "https://localhost:8080/",
          "height": 53
        },
        "outputId": "bbf53277-402f-4ec8-b630-f7e8185fb898"
      },
      "execution_count": 3,
      "outputs": [
        {
          "output_type": "stream",
          "name": "stdout",
          "text": [
            "\u001b[0m\u001b[01;34mgdrive\u001b[0m/  \u001b[01;34msample_data\u001b[0m/\n"
          ]
        },
        {
          "output_type": "execute_result",
          "data": {
            "text/plain": [
              "'/content'"
            ],
            "application/vnd.google.colaboratory.intrinsic+json": {
              "type": "string"
            }
          },
          "metadata": {},
          "execution_count": 3
        }
      ]
    },
    {
      "cell_type": "code",
      "source": [
        "%cd gdrive/MyDrive/MLNDNN/Notebooks/Lecture1/"
      ],
      "metadata": {
        "id": "iu5a1J3zRrnY",
        "colab": {
          "base_uri": "https://localhost:8080/"
        },
        "outputId": "a323c199-1e5b-4947-d879-3fe9062580e3"
      },
      "execution_count": 4,
      "outputs": [
        {
          "output_type": "stream",
          "name": "stdout",
          "text": [
            "/content/gdrive/MyDrive/MLNDNN/Notebooks/Lecture1\n"
          ]
        }
      ]
    },
    {
      "cell_type": "code",
      "source": [
        "%ls"
      ],
      "metadata": {
        "id": "MgA-bckvSaTl",
        "colab": {
          "base_uri": "https://localhost:8080/"
        },
        "outputId": "f9d3eb53-5bcc-4543-ff39-6bdccd562ddc"
      },
      "execution_count": 5,
      "outputs": [
        {
          "output_type": "stream",
          "name": "stdout",
          "text": [
            "\u001b[0m\u001b[01;34mdata\u001b[0m/  Lecture1.ipynb  Lesson1_init.ipynb\n"
          ]
        }
      ]
    },
    {
      "cell_type": "markdown",
      "source": [
        "# Drive Structure\n",
        "It is possible to see the files in the drive by clicking the botton **files** on the left panel\n",
        "\n",
        "![filestructure.png](data:image/png;base64,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)\n"
      ],
      "metadata": {
        "id": "Yq1h-WZjElaC"
      }
    },
    {
      "cell_type": "markdown",
      "source": [
        "# WARM UP: Implementing the Perceptron\n",
        "* Let's create the Perceptron class\n"
      ],
      "metadata": {
        "id": "-uf4Tfmv6rKb"
      }
    },
    {
      "cell_type": "markdown",
      "source": [
        "# Evaluating performance\n",
        "* ### We will be using the accuracy score\n",
        "* ### We import it from sklearn.metrics"
      ],
      "metadata": {
        "id": "J4SDhYOeHG4b"
      }
    },
    {
      "cell_type": "code",
      "source": [
        "from sklearn.metrics import accuracy_score"
      ],
      "metadata": {
        "id": "Qqcdh1zvHJKG"
      },
      "execution_count": 6,
      "outputs": []
    },
    {
      "cell_type": "code",
      "source": [
        "import numpy as np\n",
        "\n",
        "class Perceptron:\n",
        "    def __init__(self, eta):\n",
        "        self.w = None\n",
        "        self.b = None\n",
        "        self.eta = eta\n",
        "\n",
        "\n",
        "    # heaviside (step) activation function\n",
        "    def activation(self, z):\n",
        "        return np.heaviside(z, 1) # haviside(z), 1 is the value for z=0\n",
        "\n",
        "    #  training Perceptron\n",
        "    def fit(self, X, y, epochs, performance_criterion):\n",
        "        n_features = X.shape[1]\n",
        "        # Initializing weights and bias\n",
        "        #self.w = np.zeros((n_features))\n",
        "        self.w = np.random.rand(n_features)\n",
        "        self.b = 0\n",
        "        z  = y_pred = np.zeros(X.shape[0])\n",
        "\n",
        "\n",
        "        # Iterating until the number of epochs\n",
        "        for epoch in range(epochs):\n",
        "            change=0\n",
        "            for i in range(X.shape[0]):\n",
        "                y_old = y_pred[i]\n",
        "                z[i] = np.dot(X[i], self.w) + self.b # Computing the dot product and adding the bias\n",
        "                y_pred[i] = self.activation(z[i]) # Passing through an activation function\n",
        "                if y_old != y_pred[i]:\n",
        "                    change += 1\n",
        "                #Updating weights and bias using the error\n",
        "                self.w = self.w + self.eta * (y[i] - y_pred[i]) * X[i]\n",
        "                self.b = self.b + self.eta * (y[i] - y_pred[i])\n",
        "            print(f\"\\t epoch:{epoch}, accuracy:{performance_criterion(y, y_pred)}\")\n",
        "            if not change:\n",
        "                print(f\"No state changes, algorithm converged\")\n",
        "                break\n",
        "\n",
        "\n",
        "\n",
        "    def predict(self, X):\n",
        "        z = np.dot(X, self.w) + self.b\n",
        "        return self.activation(z)\n",
        "\n",
        "    def get_params(self):\n",
        "      return self.w, self.b\n"
      ],
      "metadata": {
        "id": "LepfWzo8EEmh"
      },
      "execution_count": 7,
      "outputs": []
    },
    {
      "cell_type": "markdown",
      "source": [
        "# Now we classify the Iris dataset"
      ],
      "metadata": {
        "id": "nN7itR8T_f3v"
      }
    },
    {
      "cell_type": "code",
      "source": [
        "from sklearn.datasets import load_iris, load_wine\n",
        "iris = load_iris()"
      ],
      "metadata": {
        "id": "TurUb4MZBHv7"
      },
      "execution_count": 8,
      "outputs": []
    },
    {
      "cell_type": "code",
      "source": [
        "iris.feature_names"
      ],
      "metadata": {
        "id": "aAdnIZ9zBOhZ",
        "colab": {
          "base_uri": "https://localhost:8080/"
        },
        "outputId": "962e6677-fd3c-45d3-d80f-fa99a336d518"
      },
      "execution_count": 9,
      "outputs": [
        {
          "output_type": "execute_result",
          "data": {
            "text/plain": [
              "['sepal length (cm)',\n",
              " 'sepal width (cm)',\n",
              " 'petal length (cm)',\n",
              " 'petal width (cm)']"
            ]
          },
          "metadata": {},
          "execution_count": 9
        }
      ]
    },
    {
      "cell_type": "code",
      "source": [
        "iris.target_names"
      ],
      "metadata": {
        "id": "aatxRYc1BdEX",
        "colab": {
          "base_uri": "https://localhost:8080/"
        },
        "outputId": "af916d98-ce2c-4077-919e-d1618d09930f"
      },
      "execution_count": 10,
      "outputs": [
        {
          "output_type": "execute_result",
          "data": {
            "text/plain": [
              "array(['setosa', 'versicolor', 'virginica'], dtype='<U10')"
            ]
          },
          "metadata": {},
          "execution_count": 10
        }
      ]
    },
    {
      "cell_type": "code",
      "source": [
        "iris.data.shape"
      ],
      "metadata": {
        "id": "XI-nRC0jB-KQ",
        "colab": {
          "base_uri": "https://localhost:8080/"
        },
        "outputId": "5c6495e9-d6fc-46af-d666-d8a025fdc77b"
      },
      "execution_count": 11,
      "outputs": [
        {
          "output_type": "execute_result",
          "data": {
            "text/plain": [
              "(150, 4)"
            ]
          },
          "metadata": {},
          "execution_count": 11
        }
      ]
    },
    {
      "cell_type": "code",
      "source": [
        "iris.target"
      ],
      "metadata": {
        "id": "vnXLpeq7DWew",
        "colab": {
          "base_uri": "https://localhost:8080/"
        },
        "outputId": "896e7463-8e98-45fe-a24e-7045a88e8ae0"
      },
      "execution_count": 12,
      "outputs": [
        {
          "output_type": "execute_result",
          "data": {
            "text/plain": [
              "array([0, 0, 0, 0, 0, 0, 0, 0, 0, 0, 0, 0, 0, 0, 0, 0, 0, 0, 0, 0, 0, 0,\n",
              "       0, 0, 0, 0, 0, 0, 0, 0, 0, 0, 0, 0, 0, 0, 0, 0, 0, 0, 0, 0, 0, 0,\n",
              "       0, 0, 0, 0, 0, 0, 1, 1, 1, 1, 1, 1, 1, 1, 1, 1, 1, 1, 1, 1, 1, 1,\n",
              "       1, 1, 1, 1, 1, 1, 1, 1, 1, 1, 1, 1, 1, 1, 1, 1, 1, 1, 1, 1, 1, 1,\n",
              "       1, 1, 1, 1, 1, 1, 1, 1, 1, 1, 1, 1, 2, 2, 2, 2, 2, 2, 2, 2, 2, 2,\n",
              "       2, 2, 2, 2, 2, 2, 2, 2, 2, 2, 2, 2, 2, 2, 2, 2, 2, 2, 2, 2, 2, 2,\n",
              "       2, 2, 2, 2, 2, 2, 2, 2, 2, 2, 2, 2, 2, 2, 2, 2, 2, 2])"
            ]
          },
          "metadata": {},
          "execution_count": 12
        }
      ]
    },
    {
      "cell_type": "code",
      "source": [
        "#X = iris.data # all columns\n",
        "X = iris.data[:, (0,1)] # two features\n",
        "y = (iris.target == 0).astype(int) # we classify setosa against all\n",
        "y"
      ],
      "metadata": {
        "id": "LAnRHWiqCnDb",
        "colab": {
          "base_uri": "https://localhost:8080/"
        },
        "outputId": "4a3f4e1f-74d4-46da-e5e4-e2e253930b15"
      },
      "execution_count": 13,
      "outputs": [
        {
          "output_type": "execute_result",
          "data": {
            "text/plain": [
              "array([1, 1, 1, 1, 1, 1, 1, 1, 1, 1, 1, 1, 1, 1, 1, 1, 1, 1, 1, 1, 1, 1,\n",
              "       1, 1, 1, 1, 1, 1, 1, 1, 1, 1, 1, 1, 1, 1, 1, 1, 1, 1, 1, 1, 1, 1,\n",
              "       1, 1, 1, 1, 1, 1, 0, 0, 0, 0, 0, 0, 0, 0, 0, 0, 0, 0, 0, 0, 0, 0,\n",
              "       0, 0, 0, 0, 0, 0, 0, 0, 0, 0, 0, 0, 0, 0, 0, 0, 0, 0, 0, 0, 0, 0,\n",
              "       0, 0, 0, 0, 0, 0, 0, 0, 0, 0, 0, 0, 0, 0, 0, 0, 0, 0, 0, 0, 0, 0,\n",
              "       0, 0, 0, 0, 0, 0, 0, 0, 0, 0, 0, 0, 0, 0, 0, 0, 0, 0, 0, 0, 0, 0,\n",
              "       0, 0, 0, 0, 0, 0, 0, 0, 0, 0, 0, 0, 0, 0, 0, 0, 0, 0])"
            ]
          },
          "metadata": {},
          "execution_count": 13
        }
      ]
    },
    {
      "cell_type": "markdown",
      "source": [
        "# Split data in Train and test set and normalize"
      ],
      "metadata": {
        "id": "rNCw_7-KFnyz"
      }
    },
    {
      "cell_type": "code",
      "source": [
        "from sklearn.model_selection import train_test_split\n",
        "from sklearn.preprocessing import StandardScaler\n",
        "\n",
        "scaler = StandardScaler()\n",
        "X_train, X_test, y_train, y_test = train_test_split(X,y,test_size=0.1,\n",
        "                                                    shuffle=True, stratify=y)\n",
        "X_train = scaler.fit_transform(X_train)\n",
        "X_test = scaler.transform(X_test)"
      ],
      "metadata": {
        "id": "wH1EHwWVFrtt"
      },
      "execution_count": 14,
      "outputs": []
    },
    {
      "cell_type": "markdown",
      "source": [
        "# Fit the perceptron on train data"
      ],
      "metadata": {
        "id": "fGLr1hWaGmQQ"
      }
    },
    {
      "cell_type": "code",
      "source": [
        "seed = 42\n",
        "np.random.seed(seed=seed)\n",
        "model = Perceptron(0.01)\n",
        "w, b = model.get_params()\n",
        "print(f\"model weights:{w}, model bias:{b}\")\n",
        "model.fit(X_train, y_train, epochs=10,\n",
        "          performance_criterion=accuracy_score)\n",
        "\n",
        "w, b = model.get_params()\n",
        "print(f\"model weights:{w}, model bias:{b}\")\n",
        "y_train_predicted = model.predict(X_train)\n",
        "y_test_predicted = model.predict(X_test)"
      ],
      "metadata": {
        "id": "4XbRgJ1KGqvB",
        "colab": {
          "base_uri": "https://localhost:8080/"
        },
        "outputId": "6dd8ccea-12aa-47a5-de1e-1a10315940f3"
      },
      "execution_count": 15,
      "outputs": [
        {
          "output_type": "stream",
          "name": "stdout",
          "text": [
            "model weights:None, model bias:None\n",
            "\t epoch:0, accuracy:0.7333333333333333\n",
            "\t epoch:1, accuracy:0.8666666666666667\n",
            "\t epoch:2, accuracy:0.9259259259259259\n",
            "\t epoch:3, accuracy:0.9777777777777777\n",
            "\t epoch:4, accuracy:0.9851851851851852\n",
            "\t epoch:5, accuracy:0.9851851851851852\n",
            "No state changes, algorithm converged\n",
            "model weights:[-0.43733945  0.51115247], model bias:-0.2700000000000001\n"
          ]
        }
      ]
    },
    {
      "cell_type": "markdown",
      "source": [
        "# Let's compute the final training and the testing accuracy"
      ],
      "metadata": {
        "id": "zeGCx9FLbQBY"
      }
    },
    {
      "cell_type": "code",
      "source": [
        "# train accuracy\n",
        "print(f\"train accuracy:{accuracy_score(y_train, y_train_predicted)}\")\n",
        "print(f\"test accuracy:{accuracy_score(y_test, y_test_predicted)}\")"
      ],
      "metadata": {
        "colab": {
          "base_uri": "https://localhost:8080/"
        },
        "id": "Gk-lcpWbbWCZ",
        "outputId": "293a8e46-cc56-4002-e4a9-5fe5a2424ba2"
      },
      "execution_count": 16,
      "outputs": [
        {
          "output_type": "stream",
          "name": "stdout",
          "text": [
            "train accuracy:0.9851851851851852\n",
            "test accuracy:1.0\n"
          ]
        }
      ]
    },
    {
      "cell_type": "markdown",
      "source": [
        "# **Better way to estimate the generalization error**: Cross-validation\n",
        "\n"
      ],
      "metadata": {
        "id": "gyyEXUtoCRIy"
      }
    },
    {
      "cell_type": "code",
      "source": [
        "from sklearn.model_selection import train_test_split, cross_val_score, cross_val_predict, StratifiedKFold\n",
        "kf = StratifiedKFold(n_splits=5)\n",
        "acc = []\n",
        "fold=1\n",
        "for train_idx, test_idx in kf.split(X, y):\n",
        "    print(f\"fold:{fold}\")\n",
        "    X_train, y_train = X[train_idx,:], y[train_idx]\n",
        "    np.random.seed(seed=seed)\n",
        "    model = Perceptron(0.01)\n",
        "    X_train = scaler.fit_transform(X_train)\n",
        "    model.fit(X_train, y_train, epochs=10,\n",
        "              performance_criterion=accuracy_score)\n",
        "    #print(f\"\\tmodel.w:{model.w}\")\n",
        "    X_test, y_test = X[test_idx,:], y[test_idx]\n",
        "    X_test = scaler.transform(X_test)\n",
        "    y_test_pred = model.predict(X_test)\n",
        "    accuracy = accuracy_score(y_test, y_test_pred)\n",
        "    print(f\"test accuracy fold:{accuracy}\\n\")\n",
        "    acc.append(accuracy)\n",
        "    fold+=1\n",
        "\n",
        "print(f\"mean accuracy:{np.mean(acc)}, sdt accuracy:{np.std(acc)}\")"
      ],
      "metadata": {
        "id": "vhB1kMW2CMIn",
        "colab": {
          "base_uri": "https://localhost:8080/"
        },
        "outputId": "905806f7-91e4-40bb-c231-a101b88e5474"
      },
      "execution_count": 17,
      "outputs": [
        {
          "output_type": "stream",
          "name": "stdout",
          "text": [
            "fold:1\n",
            "\t epoch:0, accuracy:0.7333333333333333\n",
            "\t epoch:1, accuracy:0.85\n",
            "\t epoch:2, accuracy:0.9083333333333333\n",
            "\t epoch:3, accuracy:0.9583333333333334\n",
            "\t epoch:4, accuracy:0.975\n",
            "\t epoch:5, accuracy:0.9833333333333333\n",
            "\t epoch:6, accuracy:0.9833333333333333\n",
            "No state changes, algorithm converged\n",
            "test accuracy fold:1.0\n",
            "\n",
            "fold:2\n",
            "\t epoch:0, accuracy:0.7083333333333334\n",
            "\t epoch:1, accuracy:0.8416666666666667\n",
            "\t epoch:2, accuracy:0.9166666666666666\n",
            "\t epoch:3, accuracy:0.975\n",
            "\t epoch:4, accuracy:0.975\n",
            "No state changes, algorithm converged\n",
            "test accuracy fold:0.9666666666666667\n",
            "\n",
            "fold:3\n",
            "\t epoch:0, accuracy:0.7166666666666667\n",
            "\t epoch:1, accuracy:0.8333333333333334\n",
            "\t epoch:2, accuracy:0.9333333333333333\n",
            "\t epoch:3, accuracy:0.9583333333333334\n",
            "\t epoch:4, accuracy:0.975\n",
            "\t epoch:5, accuracy:0.9833333333333333\n",
            "\t epoch:6, accuracy:0.9833333333333333\n",
            "No state changes, algorithm converged\n",
            "test accuracy fold:1.0\n",
            "\n",
            "fold:4\n",
            "\t epoch:0, accuracy:0.7083333333333334\n",
            "\t epoch:1, accuracy:0.8583333333333333\n",
            "\t epoch:2, accuracy:0.9166666666666666\n",
            "\t epoch:3, accuracy:0.9666666666666667\n",
            "\t epoch:4, accuracy:0.975\n",
            "\t epoch:5, accuracy:0.9833333333333333\n",
            "\t epoch:6, accuracy:0.9833333333333333\n",
            "No state changes, algorithm converged\n",
            "test accuracy fold:1.0\n",
            "\n",
            "fold:5\n",
            "\t epoch:0, accuracy:0.7333333333333333\n",
            "\t epoch:1, accuracy:0.8666666666666667\n",
            "\t epoch:2, accuracy:0.9333333333333333\n",
            "\t epoch:3, accuracy:0.95\n",
            "\t epoch:4, accuracy:0.9833333333333333\n",
            "\t epoch:5, accuracy:0.9916666666666667\n",
            "\t epoch:6, accuracy:0.9916666666666667\n",
            "No state changes, algorithm converged\n",
            "test accuracy fold:0.9333333333333333\n",
            "\n",
            "mean accuracy:0.9800000000000001, sdt accuracy:0.02666666666666666\n"
          ]
        }
      ]
    },
    {
      "cell_type": "markdown",
      "source": [
        "# Exercise\n",
        "* ### Load the wine dataset and train and evaluate a Perceptron in CV setting.\n",
        "* ### If needed tune the learning rate and the number of epochs\n",
        "## **Wine dataset: Characteristics:**\n",
        "* #### Number of Instances: 178 (quite balanced across three classes)\n",
        "* #### Number of Attributes: 13 numeric\n",
        "* #### Predict the first class against the other ones"
      ],
      "metadata": {
        "id": "Y1L2NGPNaJQE"
      }
    },
    {
      "cell_type": "code",
      "source": [
        "from sklearn.datasets import load_wine\n",
        "wine = load_wine()\n",
        "print(f\"wine.data.shape:{wine.data.shape}\")\n",
        "print(f\"wine.feature_names:{wine.feature_names}\")\n",
        "print(f\"wine.target_names:{wine.target_names}\")\n",
        "print(f\"wine.target:{wine.target}\")\n",
        "print(f\"class_0:{np.sum(wine.target==0)}\")\n",
        "print(f\"class_1:{np.sum(wine.target==1)}\")\n",
        "print(f\"class_2:{np.sum(wine.target==2)}\")"
      ],
      "metadata": {
        "colab": {
          "base_uri": "https://localhost:8080/"
        },
        "id": "jlBAWmJQZ6xq",
        "outputId": "8bdcac57-7640-4aeb-811b-1d41a42f2bde"
      },
      "execution_count": 24,
      "outputs": [
        {
          "output_type": "stream",
          "name": "stdout",
          "text": [
            "wine.data.shape:(178, 13)\n",
            "wine.feature_names:['alcohol', 'malic_acid', 'ash', 'alcalinity_of_ash', 'magnesium', 'total_phenols', 'flavanoids', 'nonflavanoid_phenols', 'proanthocyanins', 'color_intensity', 'hue', 'od280/od315_of_diluted_wines', 'proline']\n",
            "wine.target_names:['class_0' 'class_1' 'class_2']\n",
            "wine.target:[0 0 0 0 0 0 0 0 0 0 0 0 0 0 0 0 0 0 0 0 0 0 0 0 0 0 0 0 0 0 0 0 0 0 0 0 0\n",
            " 0 0 0 0 0 0 0 0 0 0 0 0 0 0 0 0 0 0 0 0 0 0 1 1 1 1 1 1 1 1 1 1 1 1 1 1 1\n",
            " 1 1 1 1 1 1 1 1 1 1 1 1 1 1 1 1 1 1 1 1 1 1 1 1 1 1 1 1 1 1 1 1 1 1 1 1 1\n",
            " 1 1 1 1 1 1 1 1 1 1 1 1 1 1 1 1 1 1 1 2 2 2 2 2 2 2 2 2 2 2 2 2 2 2 2 2 2\n",
            " 2 2 2 2 2 2 2 2 2 2 2 2 2 2 2 2 2 2 2 2 2 2 2 2 2 2 2 2 2 2]\n",
            "class_0:59\n",
            "class_1:71\n",
            "class_2:48\n"
          ]
        }
      ]
    },
    {
      "cell_type": "code",
      "source": [
        "X = wine.data # two features\n",
        "y = (wine.target == 0).astype(int) # we classify type 0 against all"
      ],
      "metadata": {
        "id": "4uVnPuhdhYlN"
      },
      "execution_count": 25,
      "outputs": []
    },
    {
      "cell_type": "code",
      "source": [
        "from sklearn.model_selection import train_test_split, cross_val_score, cross_val_predict, StratifiedKFold\n",
        "np.random.seed(seed=seed)\n",
        "kf = StratifiedKFold(n_splits=5)\n",
        "acc = []\n",
        "fold=1\n",
        "for train_idx, test_idx in kf.split(X, y):\n",
        "    print(f\"fold:{fold}\")\n",
        "    X_train, y_train = X[train_idx,:], y[train_idx]\n",
        "    np.random.seed(seed=seed)\n",
        "    model = Perceptron(0.01)\n",
        "    X_train = scaler.fit_transform(X_train)\n",
        "    model.fit(X_train, y_train, epochs=10,\n",
        "              performance_criterion=accuracy_score)\n",
        "    #print(f\"\\tmodel.w:{model.w}\")\n",
        "    X_test, y_test = X[test_idx,:], y[test_idx]\n",
        "    X_test = scaler.transform(X_test)\n",
        "    y_test_pred = model.predict(X_test)\n",
        "    accuracy = accuracy_score(y_test, y_test_pred)\n",
        "    print(f\"test accuracy fold:{accuracy}\\n\")\n",
        "    acc.append(accuracy)\n",
        "    fold+=1\n",
        "\n",
        "print(f\"mean accuracy:{np.mean(acc)}, sdt accuracy:{np.std(acc)}\")"
      ],
      "metadata": {
        "colab": {
          "base_uri": "https://localhost:8080/"
        },
        "id": "Jy2kpA-oeydB",
        "outputId": "63f0dd6d-6c96-4e02-f322-9bcfeaff2191"
      },
      "execution_count": 26,
      "outputs": [
        {
          "output_type": "stream",
          "name": "stdout",
          "text": [
            "fold:1\n",
            "\t epoch:0, accuracy:0.7887323943661971\n",
            "\t epoch:1, accuracy:0.8732394366197183\n",
            "\t epoch:2, accuracy:0.9366197183098591\n",
            "\t epoch:3, accuracy:0.971830985915493\n",
            "\t epoch:4, accuracy:0.9647887323943662\n",
            "\t epoch:5, accuracy:0.9788732394366197\n",
            "\t epoch:6, accuracy:0.9859154929577465\n",
            "\t epoch:7, accuracy:0.9859154929577465\n",
            "\t epoch:8, accuracy:1.0\n",
            "\t epoch:9, accuracy:1.0\n",
            "No state changes, algorithm converged\n",
            "test accuracy fold:0.9444444444444444\n",
            "\n",
            "fold:2\n",
            "\t epoch:0, accuracy:0.7676056338028169\n",
            "\t epoch:1, accuracy:0.8732394366197183\n",
            "\t epoch:2, accuracy:0.9507042253521126\n",
            "\t epoch:3, accuracy:0.9647887323943662\n",
            "\t epoch:4, accuracy:0.971830985915493\n",
            "\t epoch:5, accuracy:0.9788732394366197\n",
            "\t epoch:6, accuracy:0.9859154929577465\n",
            "\t epoch:7, accuracy:0.9859154929577465\n",
            "No state changes, algorithm converged\n",
            "test accuracy fold:0.9722222222222222\n",
            "\n",
            "fold:3\n",
            "\t epoch:0, accuracy:0.795774647887324\n",
            "\t epoch:1, accuracy:0.8943661971830986\n",
            "\t epoch:2, accuracy:0.9436619718309859\n",
            "\t epoch:3, accuracy:0.9436619718309859\n",
            "No state changes, algorithm converged\n",
            "test accuracy fold:0.9166666666666666\n",
            "\n",
            "fold:4\n",
            "\t epoch:0, accuracy:0.7972027972027972\n",
            "\t epoch:1, accuracy:0.8741258741258742\n",
            "\t epoch:2, accuracy:0.951048951048951\n",
            "\t epoch:3, accuracy:0.972027972027972\n",
            "\t epoch:4, accuracy:0.972027972027972\n",
            "No state changes, algorithm converged\n",
            "test accuracy fold:0.9714285714285714\n",
            "\n",
            "fold:5\n",
            "\t epoch:0, accuracy:0.8041958041958042\n",
            "\t epoch:1, accuracy:0.8951048951048951\n",
            "\t epoch:2, accuracy:0.9440559440559441\n",
            "\t epoch:3, accuracy:0.958041958041958\n",
            "\t epoch:4, accuracy:0.972027972027972\n",
            "\t epoch:5, accuracy:0.972027972027972\n",
            "No state changes, algorithm converged\n",
            "test accuracy fold:0.6857142857142857\n",
            "\n",
            "mean accuracy:0.8980952380952381, sdt accuracy:0.10814009744416293\n"
          ]
        }
      ]
    },
    {
      "cell_type": "markdown",
      "source": [
        "## Let's try a higher value for the learning rate, and a smaller one. In the last case, we also increase the number of epochs, since the convergence can get slower"
      ],
      "metadata": {
        "id": "6Gy2LNf7B6f4"
      }
    },
    {
      "cell_type": "code",
      "source": [
        "from sklearn.model_selection import train_test_split, cross_val_score, cross_val_predict, StratifiedKFold\n",
        "np.random.seed(seed=seed)\n",
        "kf = StratifiedKFold(n_splits=5)\n",
        "acc = []\n",
        "fold=1\n",
        "for train_idx, test_idx in kf.split(X, y):\n",
        "    print(f\"fold:{fold}\")\n",
        "    X_train, y_train = X[train_idx,:], y[train_idx]\n",
        "    np.random.seed(seed=seed)\n",
        "    model = Perceptron(0.05)\n",
        "    X_train = scaler.fit_transform(X_train)\n",
        "    model.fit(X_train, y_train, epochs=10,\n",
        "              performance_criterion=accuracy_score)\n",
        "    #print(f\"\\tmodel.w:{model.w}\")\n",
        "    X_test, y_test = X[test_idx,:], y[test_idx]\n",
        "    X_test = scaler.transform(X_test)\n",
        "    y_test_pred = model.predict(X_test)\n",
        "    accuracy = accuracy_score(y_test, y_test_pred)\n",
        "    print(f\"test accuracy fold:{accuracy}\\n\")\n",
        "    acc.append(accuracy)\n",
        "    fold+=1\n",
        "\n",
        "print(f\"mean accuracy:{np.mean(acc)}, sdt accuracy:{np.std(acc)}\")"
      ],
      "metadata": {
        "colab": {
          "base_uri": "https://localhost:8080/"
        },
        "outputId": "3228e4d4-cf55-49be-df46-e39d4ab7542f",
        "id": "EM9wSsh1B3zu"
      },
      "execution_count": 27,
      "outputs": [
        {
          "output_type": "stream",
          "name": "stdout",
          "text": [
            "fold:1\n",
            "\t epoch:0, accuracy:0.9084507042253521\n",
            "\t epoch:1, accuracy:0.971830985915493\n",
            "\t epoch:2, accuracy:0.9929577464788732\n",
            "\t epoch:3, accuracy:1.0\n",
            "\t epoch:4, accuracy:1.0\n",
            "No state changes, algorithm converged\n",
            "test accuracy fold:0.9444444444444444\n",
            "\n",
            "fold:2\n",
            "\t epoch:0, accuracy:0.8943661971830986\n",
            "\t epoch:1, accuracy:0.9859154929577465\n",
            "\t epoch:2, accuracy:0.9859154929577465\n",
            "\t epoch:3, accuracy:0.9929577464788732\n",
            "\t epoch:4, accuracy:1.0\n",
            "\t epoch:5, accuracy:1.0\n",
            "No state changes, algorithm converged\n",
            "test accuracy fold:1.0\n",
            "\n",
            "fold:3\n",
            "\t epoch:0, accuracy:0.9014084507042254\n",
            "\t epoch:1, accuracy:0.9859154929577465\n",
            "\t epoch:2, accuracy:0.9859154929577465\n",
            "\t epoch:3, accuracy:0.9929577464788732\n",
            "\t epoch:4, accuracy:1.0\n",
            "\t epoch:5, accuracy:1.0\n",
            "No state changes, algorithm converged\n",
            "test accuracy fold:1.0\n",
            "\n",
            "fold:4\n",
            "\t epoch:0, accuracy:0.9020979020979021\n",
            "\t epoch:1, accuracy:0.986013986013986\n",
            "\t epoch:2, accuracy:1.0\n",
            "\t epoch:3, accuracy:1.0\n",
            "No state changes, algorithm converged\n",
            "test accuracy fold:1.0\n",
            "\n",
            "fold:5\n",
            "\t epoch:0, accuracy:0.8881118881118881\n",
            "\t epoch:1, accuracy:0.972027972027972\n",
            "\t epoch:2, accuracy:0.993006993006993\n",
            "\t epoch:3, accuracy:1.0\n",
            "\t epoch:4, accuracy:1.0\n",
            "No state changes, algorithm converged\n",
            "test accuracy fold:0.9428571428571428\n",
            "\n",
            "mean accuracy:0.9774603174603176, sdt accuracy:0.02760992368909068\n"
          ]
        }
      ]
    },
    {
      "cell_type": "markdown",
      "source": [
        "## ... And a smaller one\n",
        " * ### at the same time, since the convergence could get slower, we also increase the maximim number of epochs"
      ],
      "metadata": {
        "id": "ZJ5PVvvbMxSE"
      }
    },
    {
      "cell_type": "code",
      "source": [
        "np.random.seed(seed=seed)\n",
        "from sklearn.model_selection import train_test_split, cross_val_score, cross_val_predict, StratifiedKFold\n",
        "kf = StratifiedKFold(n_splits=5)\n",
        "acc = []\n",
        "fold=1\n",
        "for train_idx, test_idx in kf.split(X, y):\n",
        "    print(f\"fold:{fold}\")\n",
        "    X_train, y_train = X[train_idx,:], y[train_idx]\n",
        "    np.random.seed(seed=seed)\n",
        "    model = Perceptron(0.005)\n",
        "    X_train = scaler.fit_transform(X_train)\n",
        "    model.fit(X_train, y_train, epochs=15,\n",
        "              performance_criterion=accuracy_score)\n",
        "    #print(f\"\\tmodel.w:{model.w}\")\n",
        "    X_test, y_test = X[test_idx,:], y[test_idx]\n",
        "    X_test = scaler.transform(X_test)\n",
        "    y_test_pred = model.predict(X_test)\n",
        "    accuracy = accuracy_score(y_test, y_test_pred)\n",
        "    print(f\"test accuracy fold:{accuracy}\\n\")\n",
        "    acc.append(accuracy)\n",
        "    fold+=1\n",
        "\n",
        "print(f\"mean accuracy:{np.mean(acc)}, sdt accuracy:{np.std(acc)}\")"
      ],
      "metadata": {
        "colab": {
          "base_uri": "https://localhost:8080/"
        },
        "outputId": "9cecb56c-30d1-44bb-edb0-5a07eefd881a",
        "id": "UlE7pauPEcwL"
      },
      "execution_count": 28,
      "outputs": [
        {
          "output_type": "stream",
          "name": "stdout",
          "text": [
            "fold:1\n",
            "\t epoch:0, accuracy:0.7535211267605634\n",
            "\t epoch:1, accuracy:0.823943661971831\n",
            "\t epoch:2, accuracy:0.8591549295774648\n",
            "\t epoch:3, accuracy:0.8943661971830986\n",
            "\t epoch:4, accuracy:0.9295774647887324\n",
            "\t epoch:5, accuracy:0.9507042253521126\n",
            "\t epoch:6, accuracy:0.971830985915493\n",
            "\t epoch:7, accuracy:0.9647887323943662\n",
            "\t epoch:8, accuracy:0.971830985915493\n",
            "\t epoch:9, accuracy:0.9788732394366197\n",
            "\t epoch:10, accuracy:0.9859154929577465\n",
            "\t epoch:11, accuracy:0.9788732394366197\n",
            "\t epoch:12, accuracy:0.9859154929577465\n",
            "\t epoch:13, accuracy:0.9859154929577465\n",
            "No state changes, algorithm converged\n",
            "test accuracy fold:0.9444444444444444\n",
            "\n",
            "fold:2\n",
            "\t epoch:0, accuracy:0.7183098591549296\n",
            "\t epoch:1, accuracy:0.823943661971831\n",
            "\t epoch:2, accuracy:0.8591549295774648\n",
            "\t epoch:3, accuracy:0.9014084507042254\n",
            "\t epoch:4, accuracy:0.9436619718309859\n",
            "\t epoch:5, accuracy:0.9647887323943662\n",
            "\t epoch:6, accuracy:0.9577464788732394\n",
            "\t epoch:7, accuracy:0.971830985915493\n",
            "\t epoch:8, accuracy:0.9647887323943662\n",
            "\t epoch:9, accuracy:0.9647887323943662\n",
            "No state changes, algorithm converged\n",
            "test accuracy fold:0.9722222222222222\n",
            "\n",
            "fold:3\n",
            "\t epoch:0, accuracy:0.7394366197183099\n",
            "\t epoch:1, accuracy:0.852112676056338\n",
            "\t epoch:2, accuracy:0.8873239436619719\n",
            "\t epoch:3, accuracy:0.9084507042253521\n",
            "\t epoch:4, accuracy:0.9366197183098591\n",
            "\t epoch:5, accuracy:0.9436619718309859\n",
            "\t epoch:6, accuracy:0.9507042253521126\n",
            "\t epoch:7, accuracy:0.9577464788732394\n",
            "\t epoch:8, accuracy:0.971830985915493\n",
            "\t epoch:9, accuracy:0.971830985915493\n",
            "No state changes, algorithm converged\n",
            "test accuracy fold:0.9444444444444444\n",
            "\n",
            "fold:4\n",
            "\t epoch:0, accuracy:0.7552447552447552\n",
            "\t epoch:1, accuracy:0.8181818181818182\n",
            "\t epoch:2, accuracy:0.8601398601398601\n",
            "\t epoch:3, accuracy:0.916083916083916\n",
            "\t epoch:4, accuracy:0.9370629370629371\n",
            "\t epoch:5, accuracy:0.958041958041958\n",
            "\t epoch:6, accuracy:0.972027972027972\n",
            "\t epoch:7, accuracy:0.972027972027972\n",
            "No state changes, algorithm converged\n",
            "test accuracy fold:0.9714285714285714\n",
            "\n",
            "fold:5\n",
            "\t epoch:0, accuracy:0.7692307692307693\n",
            "\t epoch:1, accuracy:0.8391608391608392\n",
            "\t epoch:2, accuracy:0.8881118881118881\n",
            "\t epoch:3, accuracy:0.9090909090909091\n",
            "\t epoch:4, accuracy:0.9370629370629371\n",
            "\t epoch:5, accuracy:0.958041958041958\n",
            "\t epoch:6, accuracy:0.958041958041958\n",
            "No state changes, algorithm converged\n",
            "test accuracy fold:0.6\n",
            "\n",
            "mean accuracy:0.8865079365079364, sdt accuracy:0.14377658265282553\n"
          ]
        }
      ]
    },
    {
      "cell_type": "markdown",
      "source": [
        "# Unmount the Drive\n",
        "* To umìnmount our drive, for instance to use it in another notebook, tyoe  \n",
        "```\n",
        "drive.flush_and_unmount()\n",
        "```"
      ],
      "metadata": {
        "id": "c-HlxqitO6Ek"
      }
    },
    {
      "cell_type": "code",
      "source": [
        "drive.flush_and_unmount()"
      ],
      "metadata": {
        "id": "hY9NzRLAPHQ0",
        "colab": {
          "base_uri": "https://localhost:8080/"
        },
        "outputId": "00cba131-7f0a-442b-f6b3-2b04aff94aaf"
      },
      "execution_count": 29,
      "outputs": [
        {
          "output_type": "stream",
          "name": "stdout",
          "text": [
            "Drive not mounted, so nothing to flush and unmount.\n"
          ]
        }
      ]
    }
  ]
}