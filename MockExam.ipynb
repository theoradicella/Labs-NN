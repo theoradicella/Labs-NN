{
 "cells": [
  {
   "cell_type": "markdown",
   "id": "a49a9b14",
   "metadata": {},
   "source": [
    "## Mock Exam - Exercise"
   ]
  },
  {
   "cell_type": "markdown",
   "id": "4f9458cd",
   "metadata": {},
   "source": [
    "\n",
    " *  You are given a set of around 17k RGB images of size $150\\times 150$  with 3 input channels.\n",
    "    *  Images belongs to 6 classes, numbered from 0 to 5\n",
    "    *  Around 14k and 3k images form the train and the test set, respectively\n",
    "      *  Training classes are more or less balanced (around 2.3k samples per class)\n",
    "\n",
    "* Design a deep neural network to predict the class of the images, providing:\n",
    "\n",
    "1.  MODEL: Which architecture do you consider the most appropriate for this task, and WHY;\n",
    "2.  INPUT:\n",
    "   *  Which input fields would you retain/use and why;\n",
    "   *  How to (if) preprocess input data;\n",
    "   *  Which is, after the preprocessing step, the input of the model, its shape, and how is it represented;\n",
    "3. OUTPUT: How would you design the output layer and why. What is its shape;\n",
    "4. LOSS: Which loss function would you use to train your model and why;\n",
    "5. MODEL CONFIGURATION:\n",
    "   *  Model composition (composition of layers, regardless their number, or their dimension, which can be object of tuning)\n",
    "   *  Which activation functions would you use;\n",
    "   *  How (if) would you regularize/initialize your model\n",
    "   *  On which hyperparameters would you perform the model selection (just list the most relevant ones in your opinion)\n",
    "6.  MODEL EVALUATION: How would you assess (in which setting) the generalization capabilities of the model on unseen data?\n",
    "\n",
    "- Motivate the choices you made.\n",
    "- Work in groups of 4/5 colleagues\n",
    "- Remind to put in the document the Surname, Name, Number of any student in the group\n",
    "- Write down into a pdf file your solution, following the numbering above and answering each point separately. Upload it to the web site course assignment \"Mock Exam\""
   ]
  },
  {
   "cell_type": "markdown",
   "id": "3c79109b",
   "metadata": {},
   "source": [
    "## Mock exam - Dicussion"
   ]
  },
  {
   "cell_type": "markdown",
   "id": "cf4a5fb5",
   "metadata": {},
   "source": [
    "# **Mock Exam Discussion**\n",
    "> ## Received 10 exams, good participation in general\n",
    "> ## In general appropriate answers, some of you very good. In the following I am goind to add some details point by point.\n",
    "\n",
    " * # You are given a set of around 17k RGB images of size $150\\times 150$  with 3 input channels belonging.\n",
    "    * ## Images belongs to 6 classes, numbered from 0 to 5\n",
    "    * ## Around 14k and 3k images form the train and the test set, respectively\n",
    "      * ### Training classes are more or less balanced (around 2.3k samples per class)\n",
    "\n",
    "* # **Design a deep neural network to predict the class of the images, providing**:\n",
    "\n",
    "1. # MODEL: Which architecture do you consider the most appropriate for this task, and WHY;\n",
    "> * ### *Here we need to say why using the architecture selected. Done by most of you*\n",
    "> * ### \"... because it is well-suited for this task\" *is not a good answer. Clearly state what your architecture is able to do that other architecture would not.*\n",
    "> * ### *Here in general normalizing or augmenting images could be considered. Not mandatory since we have quite enough images.*\n",
    "> * ### *don't answer with an literature architecture  like VGG, no need to be so specific. Likely in next lectures we will talk about transfer learning,. psecifically*\n",
    "2. # INPUT:\n",
    "   * ## Which input fields would you retain/use and why;\n",
    "   * ## How to (if) preprocess input data;\n",
    "   * ## Which is, after the preprocessing step, the input of the model, its shape, and how is it represented;\n",
    "> * ### *Here minind to specify any tranformation to be applied: e.g., labels are kept as is, or transformed (for instance in one-hot vectors)*   \n",
    "3. # OUTPUT: How would you design the output layer and why. What is its shape;\n",
    "> ### *You got it, a softmax dense layer for multi-class classification was the best choice.*\n",
    "\n",
    "4. # LOSS: Which loss function would you use to train your model and why;\n",
    "> ### *Here we need to detect the problem type, and accordingly define the loss tied up with the design of the output layer.*\n",
    "> ### *If more possibililities are available (see today lab), choose just one, trying to motivate.*\n",
    "5. # MODEL CONFIGURATION:\n",
    "   * ## Model composition (composition of layers, regardless their number, or their dimension, which can be object of tuning)\n",
    "   * ## Which activation functions would you use;\n",
    "   * ## How (if) would you regularize/initialize your model\n",
    "   * ## On which hyperparameters would you perform the model selection (just list the most relevant ones in your opinion)\n",
    "\n",
    "6. # MODEL EVALUATION: How would you assess (in which setting) the generalization capabilities of the model on unseen data?\n",
    ">  ### *In this case data are already split into train and test sets, but however remind to always mention on which data you would assess generalization capabilities and on which data you would perform the model selection.*\n",
    ">  ### *Some of you wrote \"perform a cross validation on the test set\". Pay attention, it does not make sense*.\n",
    "> ### *In this case, we already have an held out test set, so cross validation could make sense only on training set for selecting best model configuration*.\n",
    "#- **Motivate the choices you made.**\n",
    "#- **Work in groups of 4/5 colleagues**\n",
    "#- **Remind to put in the document the Surname, Name, Number of any student in the group**\n",
    "#- **Write down into a pdf file your solution, following the numbering above and answering each point separately. Upload it to the web site course assignment \"Mock Exam\"**\n",
    " * # You have time till Saturday 13th to upload it"
   ]
  },
  {
   "cell_type": "markdown",
   "id": "f1527bed",
   "metadata": {},
   "source": []
  }
 ],
 "metadata": {
  "language_info": {
   "name": "python"
  }
 },
 "nbformat": 4,
 "nbformat_minor": 5
}
